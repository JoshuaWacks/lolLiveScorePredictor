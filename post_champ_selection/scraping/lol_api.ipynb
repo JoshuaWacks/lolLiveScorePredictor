{
 "cells": [
  {
   "cell_type": "code",
   "execution_count": 2,
   "metadata": {},
   "outputs": [],
   "source": [
    "import requests"
   ]
  },
  {
   "cell_type": "code",
   "execution_count": 1,
   "metadata": {},
   "outputs": [],
   "source": [
    "API_KAY = 'RGAPI-396b3317-4846-43c3-abf5-e2fb46f9a7b3'"
   ]
  },
  {
   "cell_type": "markdown",
   "metadata": {},
   "source": [
    "{\n",
    "    \"gameId\": \"111997906552170321\",\n",
    "    \"selectedTab\": \"stats\",\n",
    "    \"tabList\": [\n",
    "        \"stats\",\n",
    "        \"items\",\n",
    "        \"abilities\",\n",
    "        \"runes\"\n",
    "    ],\n",
    "    \"hideForSmall\": false,\n",
    "    \"watchType\": \"vod\",\n",
    "    \"children\": []\n",
    "}"
   ]
  }
 ],
 "metadata": {
  "kernelspec": {
   "display_name": "predictorEnv",
   "language": "python",
   "name": "python3"
  },
  "language_info": {
   "codemirror_mode": {
    "name": "ipython",
    "version": 3
   },
   "file_extension": ".py",
   "mimetype": "text/x-python",
   "name": "python",
   "nbconvert_exporter": "python",
   "pygments_lexer": "ipython3",
   "version": "3.11.9"
  }
 },
 "nbformat": 4,
 "nbformat_minor": 2
}
