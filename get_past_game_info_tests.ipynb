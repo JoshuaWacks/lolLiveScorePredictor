{
 "cells": [
  {
   "cell_type": "code",
   "execution_count": 1,
   "metadata": {},
   "outputs": [],
   "source": [
    "import requests\n",
    "\n",
    "import requests \n",
    "from bs4 import BeautifulSoup \n",
    "\n",
    "from selenium import webdriver  \n",
    "from selenium.webdriver.common.by import By \n",
    "from selenium.webdriver.common.keys import Keys\n",
    "import time"
   ]
  },
  {
   "cell_type": "code",
   "execution_count": 2,
   "metadata": {},
   "outputs": [],
   "source": [
    "LIVE_GAME_URL = \"https://lolesports.com/vod/111997906552170320/1/03L5lXts9wQ\""
   ]
  },
  {
   "cell_type": "code",
   "execution_count": 3,
   "metadata": {},
   "outputs": [],
   "source": [
    "driver = webdriver.Edge()\n",
    "driver.get(LIVE_GAME_URL)\n"
   ]
  },
  {
   "cell_type": "code",
   "execution_count": 4,
   "metadata": {},
   "outputs": [],
   "source": [
    "# driver.implicitly_wait(3)"
   ]
  },
  {
   "cell_type": "code",
   "execution_count": 5,
   "metadata": {},
   "outputs": [
    {
     "name": "stdout",
     "output_type": "stream",
     "text": [
      "<selenium.webdriver.remote.webelement.WebElement (session=\"a3462474ac7a7c1dce0bbbf9c93fdc8b\", element=\"f.0CDAA4C6EF58FFDE90A86738ED1D80D0.d.EF4AE7A513855A6C89685DD647873D46.e.12\")>\n"
     ]
    }
   ],
   "source": [
    "time.sleep(1)\n",
    "video = driver.find_element(By.ID,'video-player-youtube')\n",
    "print(video)\n",
    "# video.send_keys(Keys.SPACE) #hits space\n",
    "video.click()"
   ]
  },
  {
   "cell_type": "code",
   "execution_count": 6,
   "metadata": {},
   "outputs": [],
   "source": [
    "video.send_keys(Keys.ARROW_RIGHT)\n",
    "video.click()"
   ]
  },
  {
   "cell_type": "code",
   "execution_count": 35,
   "metadata": {},
   "outputs": [
    {
     "data": {
      "text/plain": [
       "'G2 BrokenBlade\\n1\\n0 / 0 / 0\\n0\\n0\\nG2 Yike\\n1\\n0 / 0 / 0\\n0\\n0\\nG2 Caps\\n1\\n0 / 0 / 0\\n0\\n0\\nG2 Hans Sama\\n1\\n0 / 0 / 0\\n0\\n0\\nG2 Mikyx\\n1\\n0 / 0 / 0\\n0\\n0\\nFNC Oscarinin\\n1\\n0 / 0 / 0\\n0\\n0\\nFNC Razork\\n1\\n0 / 0 / 0\\n0\\n0\\nFNC Humanoid\\n1\\n0 / 0 / 0\\n0\\n0\\nFNC Noah\\n1\\n0 / 0 / 0\\n0\\n0\\nFNC Jun\\n1\\n0 / 0 / 0\\n0\\n0'"
      ]
     },
     "execution_count": 35,
     "metadata": {},
     "output_type": "execute_result"
    }
   ],
   "source": [
    "StatsTeamsPlayers = driver.find_element(By.CLASS_NAME,'StatsTeamsPlayers')\n",
    "StatsTeamsPlayers.text"
   ]
  },
  {
   "cell_type": "code",
   "execution_count": 46,
   "metadata": {},
   "outputs": [
    {
     "data": {
      "text/plain": [
       "'G2 BrokenBlade\\n1\\n0 / 0 / 0\\n0\\n0\\nG2 Yike\\n1\\n0 / 0 / 0\\n0\\n0\\nG2 Caps\\n1\\n0 / 0 / 0\\n0\\n0\\nG2 Hans Sama\\n1\\n0 / 0 / 0\\n0\\n0\\nG2 Mikyx\\n1\\n0 / 0 / 0\\n0\\n0'"
      ]
     },
     "execution_count": 46,
     "metadata": {},
     "output_type": "execute_result"
    }
   ],
   "source": [
    "blue_team = StatsTeamsPlayers.find_element(By.CLASS_NAME, 'blue-team')\n",
    "blue_team.text"
   ]
  },
  {
   "cell_type": "code",
   "execution_count": 49,
   "metadata": {},
   "outputs": [
    {
     "data": {
      "text/plain": [
       "[<selenium.webdriver.remote.webelement.WebElement (session=\"a3462474ac7a7c1dce0bbbf9c93fdc8b\", element=\"f.0CDAA4C6EF58FFDE90A86738ED1D80D0.d.EF4AE7A513855A6C89685DD647873D46.e.639\")>,\n",
       " <selenium.webdriver.remote.webelement.WebElement (session=\"a3462474ac7a7c1dce0bbbf9c93fdc8b\", element=\"f.0CDAA4C6EF58FFDE90A86738ED1D80D0.d.EF4AE7A513855A6C89685DD647873D46.e.642\")>,\n",
       " <selenium.webdriver.remote.webelement.WebElement (session=\"a3462474ac7a7c1dce0bbbf9c93fdc8b\", element=\"f.0CDAA4C6EF58FFDE90A86738ED1D80D0.d.EF4AE7A513855A6C89685DD647873D46.e.645\")>,\n",
       " <selenium.webdriver.remote.webelement.WebElement (session=\"a3462474ac7a7c1dce0bbbf9c93fdc8b\", element=\"f.0CDAA4C6EF58FFDE90A86738ED1D80D0.d.EF4AE7A513855A6C89685DD647873D46.e.648\")>,\n",
       " <selenium.webdriver.remote.webelement.WebElement (session=\"a3462474ac7a7c1dce0bbbf9c93fdc8b\", element=\"f.0CDAA4C6EF58FFDE90A86738ED1D80D0.d.EF4AE7A513855A6C89685DD647873D46.e.651\")>,\n",
       " <selenium.webdriver.remote.webelement.WebElement (session=\"a3462474ac7a7c1dce0bbbf9c93fdc8b\", element=\"f.0CDAA4C6EF58FFDE90A86738ED1D80D0.d.EF4AE7A513855A6C89685DD647873D46.e.654\")>,\n",
       " <selenium.webdriver.remote.webelement.WebElement (session=\"a3462474ac7a7c1dce0bbbf9c93fdc8b\", element=\"f.0CDAA4C6EF58FFDE90A86738ED1D80D0.d.EF4AE7A513855A6C89685DD647873D46.e.657\")>,\n",
       " <selenium.webdriver.remote.webelement.WebElement (session=\"a3462474ac7a7c1dce0bbbf9c93fdc8b\", element=\"f.0CDAA4C6EF58FFDE90A86738ED1D80D0.d.EF4AE7A513855A6C89685DD647873D46.e.660\")>,\n",
       " <selenium.webdriver.remote.webelement.WebElement (session=\"a3462474ac7a7c1dce0bbbf9c93fdc8b\", element=\"f.0CDAA4C6EF58FFDE90A86738ED1D80D0.d.EF4AE7A513855A6C89685DD647873D46.e.663\")>,\n",
       " <selenium.webdriver.remote.webelement.WebElement (session=\"a3462474ac7a7c1dce0bbbf9c93fdc8b\", element=\"f.0CDAA4C6EF58FFDE90A86738ED1D80D0.d.EF4AE7A513855A6C89685DD647873D46.e.666\")>]"
      ]
     },
     "execution_count": 49,
     "metadata": {},
     "output_type": "execute_result"
    }
   ],
   "source": [
    "names = StatsTeamsPlayers.find_elements(By.CLASS_NAME, 'name')\n",
    "names"
   ]
  },
  {
   "cell_type": "code",
   "execution_count": 52,
   "metadata": {},
   "outputs": [],
   "source": [
    "names[0].click()"
   ]
  },
  {
   "cell_type": "code",
   "execution_count": 66,
   "metadata": {},
   "outputs": [
    {
     "data": {
      "text/plain": [
       "'G2 BrokenBlade\\nSION–TOP\\n1\\n0 / 0 / 0\\nK / D / A\\n0\\nGOLD EARNED\\n0\\nMINION KILLS (CS)\\n0%\\nKILL PARTICIPATION\\n0%\\nCHAMPION DAMAGE SHARE\\n0\\nWARDS PLACED\\n0\\nWARDS DESTROYED\\n0\\nAttack Damage\\n0\\nAbility Power\\n0\\nAttack Speed\\n0\\nLife Steal\\n0\\nArmor\\n0\\nMagic Resistance'"
      ]
     },
     "execution_count": 66,
     "metadata": {},
     "output_type": "execute_result"
    }
   ],
   "source": [
    "StatsMatchup  = driver.find_element(By.CLASS_NAME, 'StatsMatchup ')\n",
    "StatsMatchup.text"
   ]
  },
  {
   "cell_type": "code",
   "execution_count": 71,
   "metadata": {},
   "outputs": [],
   "source": [
    "tab_items = StatsMatchup.find_element(By.CLASS_NAME, 'items')"
   ]
  },
  {
   "cell_type": "code",
   "execution_count": 73,
   "metadata": {},
   "outputs": [],
   "source": [
    "tab_items.click()"
   ]
  },
  {
   "cell_type": "code",
   "execution_count": 76,
   "metadata": {},
   "outputs": [
    {
     "data": {
      "text/plain": [
       "\"Bami's Cinder\\n1000 G\\nDoran's Shield\\n450 G\\nCloth Armor\\n300 G\\nRefillable Potion\\n150 G\\n2\\nControl Ward\\n75 G\""
      ]
     },
     "execution_count": 76,
     "metadata": {},
     "output_type": "execute_result"
    }
   ],
   "source": [
    "item_info  = driver.find_element(By.CLASS_NAME, 'info ')\n",
    "item_info.text"
   ]
  },
  {
   "cell_type": "code",
   "execution_count": 79,
   "metadata": {},
   "outputs": [],
   "source": [
    "tab_abilities = StatsMatchup.find_element(By.CLASS_NAME, 'abilities')"
   ]
  },
  {
   "cell_type": "code",
   "execution_count": 80,
   "metadata": {},
   "outputs": [],
   "source": [
    "tab_abilities.click()"
   ]
  },
  {
   "cell_type": "code",
   "execution_count": 81,
   "metadata": {},
   "outputs": [
    {
     "data": {
      "text/plain": [
       "'Q\\n\\nW\\n\\nE\\n\\nR\\n\\n1\\nQ\\nW\\nE\\nR\\n2\\nQ\\nW\\nE\\nR\\n3\\nQ\\nW\\nE\\nR\\n4\\nQ\\nW\\nE\\nR\\n5\\nQ\\nW\\nE\\nR\\n6\\nQ\\nW\\nE\\nR'"
      ]
     },
     "execution_count": 81,
     "metadata": {},
     "output_type": "execute_result"
    }
   ],
   "source": [
    "abilities_info  = driver.find_element(By.CLASS_NAME, 'info ')\n",
    "abilities_info.text"
   ]
  },
  {
   "cell_type": "code",
   "execution_count": 30,
   "metadata": {},
   "outputs": [
    {
     "data": {
      "text/plain": [
       "'DRAGONS\\n0\\nGOLD\\n0\\n0\\n0\\n0\\n0\\n0\\n0\\n0\\n0'"
      ]
     },
     "execution_count": 30,
     "metadata": {},
     "output_type": "execute_result"
    }
   ],
   "source": [
    "StatsTeamsSummary = driver.find_element(By.CLASS_NAME,'StatsTeamsSummary')\n",
    "StatsTeamsSummary.text"
   ]
  },
  {
   "cell_type": "code",
   "execution_count": 37,
   "metadata": {},
   "outputs": [
    {
     "ename": "NoSuchElementException",
     "evalue": "Message: no such element: Unable to locate element: {\"method\":\"css selector\",\"selector\":\".StatsMatchup hidden\"}\n  (Session info: MicrosoftEdge=124.0.2478.51); For documentation on this error, please visit: https://www.selenium.dev/documentation/webdriver/troubleshooting/errors#no-such-element-exception\nStacktrace:\n\tGetHandleVerifier [0x00007FF60230E4E2+63026]\n\tMicrosoft::Applications::Events::ILogConfiguration::operator* [0x00007FF6022A0FA2+213730]\n\t(No symbol) [0x00007FF6020CE7A7]\n\t(No symbol) [0x00007FF6021155EE]\n\t(No symbol) [0x00007FF6021156D6]\n\t(No symbol) [0x00007FF602150717]\n\t(No symbol) [0x00007FF602134F1F]\n\t(No symbol) [0x00007FF60210AE17]\n\t(No symbol) [0x00007FF60214E313]\n\t(No symbol) [0x00007FF602134B43]\n\t(No symbol) [0x00007FF60210A33E]\n\t(No symbol) [0x00007FF6021094EC]\n\t(No symbol) [0x00007FF602109EF1]\n\tMicrosoft::Applications::Events::EventProperty::to_string [0x00007FF6024B5B94+1026500]\n\t(No symbol) [0x00007FF60217F29C]\n\tMicrosoft::Applications::Events::EventProperty::~EventProperty [0x00007FF60221BD3C+34028]\n\tMicrosoft::Applications::Events::EventProperty::~EventProperty [0x00007FF602214525+3285]\n\tMicrosoft::Applications::Events::EventProperty::to_string [0x00007FF6024B4B55+1022341]\n\tMicrosoft::Applications::Events::ILogConfiguration::operator* [0x00007FF6022A9A61+249249]\n\tMicrosoft::Applications::Events::ILogConfiguration::operator* [0x00007FF6022A54E4+231460]\n\tMicrosoft::Applications::Events::ILogConfiguration::operator* [0x00007FF6022A561B+231771]\n\tMicrosoft::Applications::Events::ILogConfiguration::operator* [0x00007FF60229B245+189829]\n\tBaseThreadInitThunk [0x00007FF9F2B7257D+29]\n\tRtlUserThreadStart [0x00007FF9F378AA48+40]\n",
     "output_type": "error",
     "traceback": [
      "\u001b[1;31m---------------------------------------------------------------------------\u001b[0m",
      "\u001b[1;31mNoSuchElementException\u001b[0m                    Traceback (most recent call last)",
      "Cell \u001b[1;32mIn[37], line 1\u001b[0m\n\u001b[1;32m----> 1\u001b[0m statsTeams \u001b[38;5;241m=\u001b[39m driver\u001b[38;5;241m.\u001b[39mfind_element(By\u001b[38;5;241m.\u001b[39mCLASS_NAME,\u001b[38;5;124m'\u001b[39m\u001b[38;5;124mStatsMatchup hidden\u001b[39m\u001b[38;5;124m'\u001b[39m)\n\u001b[0;32m      2\u001b[0m statsTeams\u001b[38;5;241m.\u001b[39mtext\n",
      "File \u001b[1;32mc:\\Users\\joshu\\anaconda3\\envs\\predictorEnv\\Lib\\site-packages\\selenium\\webdriver\\remote\\webdriver.py:741\u001b[0m, in \u001b[0;36mWebDriver.find_element\u001b[1;34m(self, by, value)\u001b[0m\n\u001b[0;32m    738\u001b[0m     by \u001b[38;5;241m=\u001b[39m By\u001b[38;5;241m.\u001b[39mCSS_SELECTOR\n\u001b[0;32m    739\u001b[0m     value \u001b[38;5;241m=\u001b[39m \u001b[38;5;124mf\u001b[39m\u001b[38;5;124m'\u001b[39m\u001b[38;5;124m[name=\u001b[39m\u001b[38;5;124m\"\u001b[39m\u001b[38;5;132;01m{\u001b[39;00mvalue\u001b[38;5;132;01m}\u001b[39;00m\u001b[38;5;124m\"\u001b[39m\u001b[38;5;124m]\u001b[39m\u001b[38;5;124m'\u001b[39m\n\u001b[1;32m--> 741\u001b[0m \u001b[38;5;28;01mreturn\u001b[39;00m \u001b[38;5;28mself\u001b[39m\u001b[38;5;241m.\u001b[39mexecute(Command\u001b[38;5;241m.\u001b[39mFIND_ELEMENT, {\u001b[38;5;124m\"\u001b[39m\u001b[38;5;124musing\u001b[39m\u001b[38;5;124m\"\u001b[39m: by, \u001b[38;5;124m\"\u001b[39m\u001b[38;5;124mvalue\u001b[39m\u001b[38;5;124m\"\u001b[39m: value})[\u001b[38;5;124m\"\u001b[39m\u001b[38;5;124mvalue\u001b[39m\u001b[38;5;124m\"\u001b[39m]\n",
      "File \u001b[1;32mc:\\Users\\joshu\\anaconda3\\envs\\predictorEnv\\Lib\\site-packages\\selenium\\webdriver\\remote\\webdriver.py:347\u001b[0m, in \u001b[0;36mWebDriver.execute\u001b[1;34m(self, driver_command, params)\u001b[0m\n\u001b[0;32m    345\u001b[0m response \u001b[38;5;241m=\u001b[39m \u001b[38;5;28mself\u001b[39m\u001b[38;5;241m.\u001b[39mcommand_executor\u001b[38;5;241m.\u001b[39mexecute(driver_command, params)\n\u001b[0;32m    346\u001b[0m \u001b[38;5;28;01mif\u001b[39;00m response:\n\u001b[1;32m--> 347\u001b[0m     \u001b[38;5;28mself\u001b[39m\u001b[38;5;241m.\u001b[39merror_handler\u001b[38;5;241m.\u001b[39mcheck_response(response)\n\u001b[0;32m    348\u001b[0m     response[\u001b[38;5;124m\"\u001b[39m\u001b[38;5;124mvalue\u001b[39m\u001b[38;5;124m\"\u001b[39m] \u001b[38;5;241m=\u001b[39m \u001b[38;5;28mself\u001b[39m\u001b[38;5;241m.\u001b[39m_unwrap_value(response\u001b[38;5;241m.\u001b[39mget(\u001b[38;5;124m\"\u001b[39m\u001b[38;5;124mvalue\u001b[39m\u001b[38;5;124m\"\u001b[39m, \u001b[38;5;28;01mNone\u001b[39;00m))\n\u001b[0;32m    349\u001b[0m     \u001b[38;5;28;01mreturn\u001b[39;00m response\n",
      "File \u001b[1;32mc:\\Users\\joshu\\anaconda3\\envs\\predictorEnv\\Lib\\site-packages\\selenium\\webdriver\\remote\\errorhandler.py:229\u001b[0m, in \u001b[0;36mErrorHandler.check_response\u001b[1;34m(self, response)\u001b[0m\n\u001b[0;32m    227\u001b[0m         alert_text \u001b[38;5;241m=\u001b[39m value[\u001b[38;5;124m\"\u001b[39m\u001b[38;5;124malert\u001b[39m\u001b[38;5;124m\"\u001b[39m]\u001b[38;5;241m.\u001b[39mget(\u001b[38;5;124m\"\u001b[39m\u001b[38;5;124mtext\u001b[39m\u001b[38;5;124m\"\u001b[39m)\n\u001b[0;32m    228\u001b[0m     \u001b[38;5;28;01mraise\u001b[39;00m exception_class(message, screen, stacktrace, alert_text)  \u001b[38;5;66;03m# type: ignore[call-arg]  # mypy is not smart enough here\u001b[39;00m\n\u001b[1;32m--> 229\u001b[0m \u001b[38;5;28;01mraise\u001b[39;00m exception_class(message, screen, stacktrace)\n",
      "\u001b[1;31mNoSuchElementException\u001b[0m: Message: no such element: Unable to locate element: {\"method\":\"css selector\",\"selector\":\".StatsMatchup hidden\"}\n  (Session info: MicrosoftEdge=124.0.2478.51); For documentation on this error, please visit: https://www.selenium.dev/documentation/webdriver/troubleshooting/errors#no-such-element-exception\nStacktrace:\n\tGetHandleVerifier [0x00007FF60230E4E2+63026]\n\tMicrosoft::Applications::Events::ILogConfiguration::operator* [0x00007FF6022A0FA2+213730]\n\t(No symbol) [0x00007FF6020CE7A7]\n\t(No symbol) [0x00007FF6021155EE]\n\t(No symbol) [0x00007FF6021156D6]\n\t(No symbol) [0x00007FF602150717]\n\t(No symbol) [0x00007FF602134F1F]\n\t(No symbol) [0x00007FF60210AE17]\n\t(No symbol) [0x00007FF60214E313]\n\t(No symbol) [0x00007FF602134B43]\n\t(No symbol) [0x00007FF60210A33E]\n\t(No symbol) [0x00007FF6021094EC]\n\t(No symbol) [0x00007FF602109EF1]\n\tMicrosoft::Applications::Events::EventProperty::to_string [0x00007FF6024B5B94+1026500]\n\t(No symbol) [0x00007FF60217F29C]\n\tMicrosoft::Applications::Events::EventProperty::~EventProperty [0x00007FF60221BD3C+34028]\n\tMicrosoft::Applications::Events::EventProperty::~EventProperty [0x00007FF602214525+3285]\n\tMicrosoft::Applications::Events::EventProperty::to_string [0x00007FF6024B4B55+1022341]\n\tMicrosoft::Applications::Events::ILogConfiguration::operator* [0x00007FF6022A9A61+249249]\n\tMicrosoft::Applications::Events::ILogConfiguration::operator* [0x00007FF6022A54E4+231460]\n\tMicrosoft::Applications::Events::ILogConfiguration::operator* [0x00007FF6022A561B+231771]\n\tMicrosoft::Applications::Events::ILogConfiguration::operator* [0x00007FF60229B245+189829]\n\tBaseThreadInitThunk [0x00007FF9F2B7257D+29]\n\tRtlUserThreadStart [0x00007FF9F378AA48+40]\n"
     ]
    }
   ],
   "source": [
    "statsTeams = driver.find_element(By.CLASS_NAME,'StatsMatchup hidden')\n",
    "statsTeams.text"
   ]
  },
  {
   "cell_type": "code",
   "execution_count": 36,
   "metadata": {},
   "outputs": [
    {
     "ename": "NoSuchElementException",
     "evalue": "Message: no such element: Unable to locate element: {\"method\":\"css selector\",\"selector\":\".statsTeams\"}\n  (Session info: MicrosoftEdge=124.0.2478.51); For documentation on this error, please visit: https://www.selenium.dev/documentation/webdriver/troubleshooting/errors#no-such-element-exception\nStacktrace:\n\tGetHandleVerifier [0x00007FF60230E4E2+63026]\n\tMicrosoft::Applications::Events::ILogConfiguration::operator* [0x00007FF6022A0FA2+213730]\n\t(No symbol) [0x00007FF6020CE7A7]\n\t(No symbol) [0x00007FF6021155EE]\n\t(No symbol) [0x00007FF6021156D6]\n\t(No symbol) [0x00007FF602150717]\n\t(No symbol) [0x00007FF602134F1F]\n\t(No symbol) [0x00007FF60210AE17]\n\t(No symbol) [0x00007FF60214E313]\n\t(No symbol) [0x00007FF602134B43]\n\t(No symbol) [0x00007FF60210A33E]\n\t(No symbol) [0x00007FF6021094EC]\n\t(No symbol) [0x00007FF602109EF1]\n\tMicrosoft::Applications::Events::EventProperty::to_string [0x00007FF6024B5B94+1026500]\n\t(No symbol) [0x00007FF60217F29C]\n\tMicrosoft::Applications::Events::EventProperty::~EventProperty [0x00007FF60221BD3C+34028]\n\tMicrosoft::Applications::Events::EventProperty::~EventProperty [0x00007FF602214525+3285]\n\tMicrosoft::Applications::Events::EventProperty::to_string [0x00007FF6024B4B55+1022341]\n\tMicrosoft::Applications::Events::ILogConfiguration::operator* [0x00007FF6022A9A61+249249]\n\tMicrosoft::Applications::Events::ILogConfiguration::operator* [0x00007FF6022A54E4+231460]\n\tMicrosoft::Applications::Events::ILogConfiguration::operator* [0x00007FF6022A561B+231771]\n\tMicrosoft::Applications::Events::ILogConfiguration::operator* [0x00007FF60229B245+189829]\n\tBaseThreadInitThunk [0x00007FF9F2B7257D+29]\n\tRtlUserThreadStart [0x00007FF9F378AA48+40]\n",
     "output_type": "error",
     "traceback": [
      "\u001b[1;31m---------------------------------------------------------------------------\u001b[0m",
      "\u001b[1;31mNoSuchElementException\u001b[0m                    Traceback (most recent call last)",
      "Cell \u001b[1;32mIn[36], line 1\u001b[0m\n\u001b[1;32m----> 1\u001b[0m statsTeams \u001b[38;5;241m=\u001b[39m driver\u001b[38;5;241m.\u001b[39mfind_element(By\u001b[38;5;241m.\u001b[39mCLASS_NAME,\u001b[38;5;124m'\u001b[39m\u001b[38;5;124mstatsTeams\u001b[39m\u001b[38;5;124m'\u001b[39m)\n\u001b[0;32m      2\u001b[0m statsTeams\u001b[38;5;241m.\u001b[39mtext\n",
      "File \u001b[1;32mc:\\Users\\joshu\\anaconda3\\envs\\predictorEnv\\Lib\\site-packages\\selenium\\webdriver\\remote\\webdriver.py:741\u001b[0m, in \u001b[0;36mWebDriver.find_element\u001b[1;34m(self, by, value)\u001b[0m\n\u001b[0;32m    738\u001b[0m     by \u001b[38;5;241m=\u001b[39m By\u001b[38;5;241m.\u001b[39mCSS_SELECTOR\n\u001b[0;32m    739\u001b[0m     value \u001b[38;5;241m=\u001b[39m \u001b[38;5;124mf\u001b[39m\u001b[38;5;124m'\u001b[39m\u001b[38;5;124m[name=\u001b[39m\u001b[38;5;124m\"\u001b[39m\u001b[38;5;132;01m{\u001b[39;00mvalue\u001b[38;5;132;01m}\u001b[39;00m\u001b[38;5;124m\"\u001b[39m\u001b[38;5;124m]\u001b[39m\u001b[38;5;124m'\u001b[39m\n\u001b[1;32m--> 741\u001b[0m \u001b[38;5;28;01mreturn\u001b[39;00m \u001b[38;5;28mself\u001b[39m\u001b[38;5;241m.\u001b[39mexecute(Command\u001b[38;5;241m.\u001b[39mFIND_ELEMENT, {\u001b[38;5;124m\"\u001b[39m\u001b[38;5;124musing\u001b[39m\u001b[38;5;124m\"\u001b[39m: by, \u001b[38;5;124m\"\u001b[39m\u001b[38;5;124mvalue\u001b[39m\u001b[38;5;124m\"\u001b[39m: value})[\u001b[38;5;124m\"\u001b[39m\u001b[38;5;124mvalue\u001b[39m\u001b[38;5;124m\"\u001b[39m]\n",
      "File \u001b[1;32mc:\\Users\\joshu\\anaconda3\\envs\\predictorEnv\\Lib\\site-packages\\selenium\\webdriver\\remote\\webdriver.py:347\u001b[0m, in \u001b[0;36mWebDriver.execute\u001b[1;34m(self, driver_command, params)\u001b[0m\n\u001b[0;32m    345\u001b[0m response \u001b[38;5;241m=\u001b[39m \u001b[38;5;28mself\u001b[39m\u001b[38;5;241m.\u001b[39mcommand_executor\u001b[38;5;241m.\u001b[39mexecute(driver_command, params)\n\u001b[0;32m    346\u001b[0m \u001b[38;5;28;01mif\u001b[39;00m response:\n\u001b[1;32m--> 347\u001b[0m     \u001b[38;5;28mself\u001b[39m\u001b[38;5;241m.\u001b[39merror_handler\u001b[38;5;241m.\u001b[39mcheck_response(response)\n\u001b[0;32m    348\u001b[0m     response[\u001b[38;5;124m\"\u001b[39m\u001b[38;5;124mvalue\u001b[39m\u001b[38;5;124m\"\u001b[39m] \u001b[38;5;241m=\u001b[39m \u001b[38;5;28mself\u001b[39m\u001b[38;5;241m.\u001b[39m_unwrap_value(response\u001b[38;5;241m.\u001b[39mget(\u001b[38;5;124m\"\u001b[39m\u001b[38;5;124mvalue\u001b[39m\u001b[38;5;124m\"\u001b[39m, \u001b[38;5;28;01mNone\u001b[39;00m))\n\u001b[0;32m    349\u001b[0m     \u001b[38;5;28;01mreturn\u001b[39;00m response\n",
      "File \u001b[1;32mc:\\Users\\joshu\\anaconda3\\envs\\predictorEnv\\Lib\\site-packages\\selenium\\webdriver\\remote\\errorhandler.py:229\u001b[0m, in \u001b[0;36mErrorHandler.check_response\u001b[1;34m(self, response)\u001b[0m\n\u001b[0;32m    227\u001b[0m         alert_text \u001b[38;5;241m=\u001b[39m value[\u001b[38;5;124m\"\u001b[39m\u001b[38;5;124malert\u001b[39m\u001b[38;5;124m\"\u001b[39m]\u001b[38;5;241m.\u001b[39mget(\u001b[38;5;124m\"\u001b[39m\u001b[38;5;124mtext\u001b[39m\u001b[38;5;124m\"\u001b[39m)\n\u001b[0;32m    228\u001b[0m     \u001b[38;5;28;01mraise\u001b[39;00m exception_class(message, screen, stacktrace, alert_text)  \u001b[38;5;66;03m# type: ignore[call-arg]  # mypy is not smart enough here\u001b[39;00m\n\u001b[1;32m--> 229\u001b[0m \u001b[38;5;28;01mraise\u001b[39;00m exception_class(message, screen, stacktrace)\n",
      "\u001b[1;31mNoSuchElementException\u001b[0m: Message: no such element: Unable to locate element: {\"method\":\"css selector\",\"selector\":\".statsTeams\"}\n  (Session info: MicrosoftEdge=124.0.2478.51); For documentation on this error, please visit: https://www.selenium.dev/documentation/webdriver/troubleshooting/errors#no-such-element-exception\nStacktrace:\n\tGetHandleVerifier [0x00007FF60230E4E2+63026]\n\tMicrosoft::Applications::Events::ILogConfiguration::operator* [0x00007FF6022A0FA2+213730]\n\t(No symbol) [0x00007FF6020CE7A7]\n\t(No symbol) [0x00007FF6021155EE]\n\t(No symbol) [0x00007FF6021156D6]\n\t(No symbol) [0x00007FF602150717]\n\t(No symbol) [0x00007FF602134F1F]\n\t(No symbol) [0x00007FF60210AE17]\n\t(No symbol) [0x00007FF60214E313]\n\t(No symbol) [0x00007FF602134B43]\n\t(No symbol) [0x00007FF60210A33E]\n\t(No symbol) [0x00007FF6021094EC]\n\t(No symbol) [0x00007FF602109EF1]\n\tMicrosoft::Applications::Events::EventProperty::to_string [0x00007FF6024B5B94+1026500]\n\t(No symbol) [0x00007FF60217F29C]\n\tMicrosoft::Applications::Events::EventProperty::~EventProperty [0x00007FF60221BD3C+34028]\n\tMicrosoft::Applications::Events::EventProperty::~EventProperty [0x00007FF602214525+3285]\n\tMicrosoft::Applications::Events::EventProperty::to_string [0x00007FF6024B4B55+1022341]\n\tMicrosoft::Applications::Events::ILogConfiguration::operator* [0x00007FF6022A9A61+249249]\n\tMicrosoft::Applications::Events::ILogConfiguration::operator* [0x00007FF6022A54E4+231460]\n\tMicrosoft::Applications::Events::ILogConfiguration::operator* [0x00007FF6022A561B+231771]\n\tMicrosoft::Applications::Events::ILogConfiguration::operator* [0x00007FF60229B245+189829]\n\tBaseThreadInitThunk [0x00007FF9F2B7257D+29]\n\tRtlUserThreadStart [0x00007FF9F378AA48+40]\n"
     ]
    }
   ],
   "source": [
    "statsTeams = driver.find_element(By.CLASS_NAME,'statsTeams')\n",
    "statsTeams.text"
   ]
  },
  {
   "cell_type": "code",
   "execution_count": 33,
   "metadata": {},
   "outputs": [
    {
     "data": {
      "text/plain": [
       "<bound method WebElement.get_attribute of <selenium.webdriver.remote.webelement.WebElement (session=\"a3462474ac7a7c1dce0bbbf9c93fdc8b\", element=\"f.0CDAA4C6EF58FFDE90A86738ED1D80D0.d.EF4AE7A513855A6C89685DD647873D46.e.397\")>>"
      ]
     },
     "execution_count": 33,
     "metadata": {},
     "output_type": "execute_result"
    }
   ],
   "source": [
    "StatsTeamsSummary."
   ]
  },
  {
   "cell_type": "code",
   "execution_count": 19,
   "metadata": {},
   "outputs": [
    {
     "data": {
      "text/plain": [
       "'DRAGONS\\n0\\nGOLD\\n0\\n0\\n0\\n0\\n0\\n0\\n0\\n0\\n0\\nG2 BrokenBlade\\n1\\n0 / 0 / 0\\n0\\n0\\nG2 Yike\\n1\\n0 / 0 / 0\\n0\\n0\\nG2 Caps\\n1\\n0 / 0 / 0\\n0\\n0\\nG2 Hans Sama\\n1\\n0 / 0 / 0\\n0\\n0\\nG2 Mikyx\\n1\\n0 / 0 / 0\\n0\\n0\\nFNC Oscarinin\\n1\\n0 / 0 / 0\\n0\\n0\\nFNC Razork\\n1\\n0 / 0 / 0\\n0\\n0\\nFNC Humanoid\\n1\\n0 / 0 / 0\\n0\\n0\\nFNC Noah\\n1\\n0 / 0 / 0\\n0\\n0\\nFNC Jun\\n1\\n0 / 0 / 0\\n0\\n0'"
      ]
     },
     "execution_count": 19,
     "metadata": {},
     "output_type": "execute_result"
    }
   ],
   "source": [
    "StatsTeams = driver.find_element(By.CLASS_NAME,'StatsTeams')\n",
    "StatsTeams.text"
   ]
  },
  {
   "cell_type": "code",
   "execution_count": 31,
   "metadata": {},
   "outputs": [
    {
     "ename": "NoSuchElementException",
     "evalue": "Message: no such element: Unable to locate element: {\"method\":\"css selector\",\"selector\":\".stat inhibitors\"}\n  (Session info: MicrosoftEdge=124.0.2478.51); For documentation on this error, please visit: https://www.selenium.dev/documentation/webdriver/troubleshooting/errors#no-such-element-exception\nStacktrace:\n\tGetHandleVerifier [0x00007FF60230E4E2+63026]\n\tMicrosoft::Applications::Events::ILogConfiguration::operator* [0x00007FF6022A0FA2+213730]\n\t(No symbol) [0x00007FF6020CE7A7]\n\t(No symbol) [0x00007FF6021155EE]\n\t(No symbol) [0x00007FF6021156D6]\n\t(No symbol) [0x00007FF60210AE6C]\n\t(No symbol) [0x00007FF602134F1F]\n\t(No symbol) [0x00007FF60210AE17]\n\t(No symbol) [0x00007FF60210ACDD]\n\t(No symbol) [0x00007FF6021351C0]\n\t(No symbol) [0x00007FF60210AE17]\n\t(No symbol) [0x00007FF60214E313]\n\t(No symbol) [0x00007FF602134B43]\n\t(No symbol) [0x00007FF60210A33E]\n\t(No symbol) [0x00007FF6021094EC]\n\t(No symbol) [0x00007FF602109EF1]\n\tMicrosoft::Applications::Events::EventProperty::to_string [0x00007FF6024B5B94+1026500]\n\t(No symbol) [0x00007FF60217F29C]\n\tMicrosoft::Applications::Events::EventProperty::~EventProperty [0x00007FF60221BD3C+34028]\n\tMicrosoft::Applications::Events::EventProperty::~EventProperty [0x00007FF602214525+3285]\n\tMicrosoft::Applications::Events::EventProperty::to_string [0x00007FF6024B4B55+1022341]\n\tMicrosoft::Applications::Events::ILogConfiguration::operator* [0x00007FF6022A9A61+249249]\n\tMicrosoft::Applications::Events::ILogConfiguration::operator* [0x00007FF6022A54E4+231460]\n\tMicrosoft::Applications::Events::ILogConfiguration::operator* [0x00007FF6022A561B+231771]\n\tMicrosoft::Applications::Events::ILogConfiguration::operator* [0x00007FF60229B245+189829]\n\tBaseThreadInitThunk [0x00007FF9F2B7257D+29]\n\tRtlUserThreadStart [0x00007FF9F378AA48+40]\n",
     "output_type": "error",
     "traceback": [
      "\u001b[1;31m---------------------------------------------------------------------------\u001b[0m",
      "\u001b[1;31mNoSuchElementException\u001b[0m                    Traceback (most recent call last)",
      "Cell \u001b[1;32mIn[31], line 1\u001b[0m\n\u001b[1;32m----> 1\u001b[0m StatsTeams \u001b[38;5;241m=\u001b[39m StatsTeamsSummary\u001b[38;5;241m.\u001b[39mfind_element(By\u001b[38;5;241m.\u001b[39mCLASS_NAME,\u001b[38;5;124m'\u001b[39m\u001b[38;5;124mstat inhibitors\u001b[39m\u001b[38;5;124m'\u001b[39m)\n\u001b[0;32m      2\u001b[0m StatsTeams\u001b[38;5;241m.\u001b[39mtext\n",
      "File \u001b[1;32mc:\\Users\\joshu\\anaconda3\\envs\\predictorEnv\\Lib\\site-packages\\selenium\\webdriver\\remote\\webelement.py:417\u001b[0m, in \u001b[0;36mWebElement.find_element\u001b[1;34m(self, by, value)\u001b[0m\n\u001b[0;32m    414\u001b[0m     by \u001b[38;5;241m=\u001b[39m By\u001b[38;5;241m.\u001b[39mCSS_SELECTOR\n\u001b[0;32m    415\u001b[0m     value \u001b[38;5;241m=\u001b[39m \u001b[38;5;124mf\u001b[39m\u001b[38;5;124m'\u001b[39m\u001b[38;5;124m[name=\u001b[39m\u001b[38;5;124m\"\u001b[39m\u001b[38;5;132;01m{\u001b[39;00mvalue\u001b[38;5;132;01m}\u001b[39;00m\u001b[38;5;124m\"\u001b[39m\u001b[38;5;124m]\u001b[39m\u001b[38;5;124m'\u001b[39m\n\u001b[1;32m--> 417\u001b[0m \u001b[38;5;28;01mreturn\u001b[39;00m \u001b[38;5;28mself\u001b[39m\u001b[38;5;241m.\u001b[39m_execute(Command\u001b[38;5;241m.\u001b[39mFIND_CHILD_ELEMENT, {\u001b[38;5;124m\"\u001b[39m\u001b[38;5;124musing\u001b[39m\u001b[38;5;124m\"\u001b[39m: by, \u001b[38;5;124m\"\u001b[39m\u001b[38;5;124mvalue\u001b[39m\u001b[38;5;124m\"\u001b[39m: value})[\u001b[38;5;124m\"\u001b[39m\u001b[38;5;124mvalue\u001b[39m\u001b[38;5;124m\"\u001b[39m]\n",
      "File \u001b[1;32mc:\\Users\\joshu\\anaconda3\\envs\\predictorEnv\\Lib\\site-packages\\selenium\\webdriver\\remote\\webelement.py:395\u001b[0m, in \u001b[0;36mWebElement._execute\u001b[1;34m(self, command, params)\u001b[0m\n\u001b[0;32m    393\u001b[0m     params \u001b[38;5;241m=\u001b[39m {}\n\u001b[0;32m    394\u001b[0m params[\u001b[38;5;124m\"\u001b[39m\u001b[38;5;124mid\u001b[39m\u001b[38;5;124m\"\u001b[39m] \u001b[38;5;241m=\u001b[39m \u001b[38;5;28mself\u001b[39m\u001b[38;5;241m.\u001b[39m_id\n\u001b[1;32m--> 395\u001b[0m \u001b[38;5;28;01mreturn\u001b[39;00m \u001b[38;5;28mself\u001b[39m\u001b[38;5;241m.\u001b[39m_parent\u001b[38;5;241m.\u001b[39mexecute(command, params)\n",
      "File \u001b[1;32mc:\\Users\\joshu\\anaconda3\\envs\\predictorEnv\\Lib\\site-packages\\selenium\\webdriver\\remote\\webdriver.py:347\u001b[0m, in \u001b[0;36mWebDriver.execute\u001b[1;34m(self, driver_command, params)\u001b[0m\n\u001b[0;32m    345\u001b[0m response \u001b[38;5;241m=\u001b[39m \u001b[38;5;28mself\u001b[39m\u001b[38;5;241m.\u001b[39mcommand_executor\u001b[38;5;241m.\u001b[39mexecute(driver_command, params)\n\u001b[0;32m    346\u001b[0m \u001b[38;5;28;01mif\u001b[39;00m response:\n\u001b[1;32m--> 347\u001b[0m     \u001b[38;5;28mself\u001b[39m\u001b[38;5;241m.\u001b[39merror_handler\u001b[38;5;241m.\u001b[39mcheck_response(response)\n\u001b[0;32m    348\u001b[0m     response[\u001b[38;5;124m\"\u001b[39m\u001b[38;5;124mvalue\u001b[39m\u001b[38;5;124m\"\u001b[39m] \u001b[38;5;241m=\u001b[39m \u001b[38;5;28mself\u001b[39m\u001b[38;5;241m.\u001b[39m_unwrap_value(response\u001b[38;5;241m.\u001b[39mget(\u001b[38;5;124m\"\u001b[39m\u001b[38;5;124mvalue\u001b[39m\u001b[38;5;124m\"\u001b[39m, \u001b[38;5;28;01mNone\u001b[39;00m))\n\u001b[0;32m    349\u001b[0m     \u001b[38;5;28;01mreturn\u001b[39;00m response\n",
      "File \u001b[1;32mc:\\Users\\joshu\\anaconda3\\envs\\predictorEnv\\Lib\\site-packages\\selenium\\webdriver\\remote\\errorhandler.py:229\u001b[0m, in \u001b[0;36mErrorHandler.check_response\u001b[1;34m(self, response)\u001b[0m\n\u001b[0;32m    227\u001b[0m         alert_text \u001b[38;5;241m=\u001b[39m value[\u001b[38;5;124m\"\u001b[39m\u001b[38;5;124malert\u001b[39m\u001b[38;5;124m\"\u001b[39m]\u001b[38;5;241m.\u001b[39mget(\u001b[38;5;124m\"\u001b[39m\u001b[38;5;124mtext\u001b[39m\u001b[38;5;124m\"\u001b[39m)\n\u001b[0;32m    228\u001b[0m     \u001b[38;5;28;01mraise\u001b[39;00m exception_class(message, screen, stacktrace, alert_text)  \u001b[38;5;66;03m# type: ignore[call-arg]  # mypy is not smart enough here\u001b[39;00m\n\u001b[1;32m--> 229\u001b[0m \u001b[38;5;28;01mraise\u001b[39;00m exception_class(message, screen, stacktrace)\n",
      "\u001b[1;31mNoSuchElementException\u001b[0m: Message: no such element: Unable to locate element: {\"method\":\"css selector\",\"selector\":\".stat inhibitors\"}\n  (Session info: MicrosoftEdge=124.0.2478.51); For documentation on this error, please visit: https://www.selenium.dev/documentation/webdriver/troubleshooting/errors#no-such-element-exception\nStacktrace:\n\tGetHandleVerifier [0x00007FF60230E4E2+63026]\n\tMicrosoft::Applications::Events::ILogConfiguration::operator* [0x00007FF6022A0FA2+213730]\n\t(No symbol) [0x00007FF6020CE7A7]\n\t(No symbol) [0x00007FF6021155EE]\n\t(No symbol) [0x00007FF6021156D6]\n\t(No symbol) [0x00007FF60210AE6C]\n\t(No symbol) [0x00007FF602134F1F]\n\t(No symbol) [0x00007FF60210AE17]\n\t(No symbol) [0x00007FF60210ACDD]\n\t(No symbol) [0x00007FF6021351C0]\n\t(No symbol) [0x00007FF60210AE17]\n\t(No symbol) [0x00007FF60214E313]\n\t(No symbol) [0x00007FF602134B43]\n\t(No symbol) [0x00007FF60210A33E]\n\t(No symbol) [0x00007FF6021094EC]\n\t(No symbol) [0x00007FF602109EF1]\n\tMicrosoft::Applications::Events::EventProperty::to_string [0x00007FF6024B5B94+1026500]\n\t(No symbol) [0x00007FF60217F29C]\n\tMicrosoft::Applications::Events::EventProperty::~EventProperty [0x00007FF60221BD3C+34028]\n\tMicrosoft::Applications::Events::EventProperty::~EventProperty [0x00007FF602214525+3285]\n\tMicrosoft::Applications::Events::EventProperty::to_string [0x00007FF6024B4B55+1022341]\n\tMicrosoft::Applications::Events::ILogConfiguration::operator* [0x00007FF6022A9A61+249249]\n\tMicrosoft::Applications::Events::ILogConfiguration::operator* [0x00007FF6022A54E4+231460]\n\tMicrosoft::Applications::Events::ILogConfiguration::operator* [0x00007FF6022A561B+231771]\n\tMicrosoft::Applications::Events::ILogConfiguration::operator* [0x00007FF60229B245+189829]\n\tBaseThreadInitThunk [0x00007FF9F2B7257D+29]\n\tRtlUserThreadStart [0x00007FF9F378AA48+40]\n"
     ]
    }
   ],
   "source": [
    "StatsTeams = StatsTeamsSummary.find_element(By.CLASS_NAME,'stat inhibitors')\n",
    "StatsTeams.text"
   ]
  },
  {
   "cell_type": "code",
   "execution_count": 7,
   "metadata": {},
   "outputs": [
    {
     "name": "stdout",
     "output_type": "stream",
     "text": [
      "riotbar-present-targeted-element riotbar-present small\n",
      "osano-cm-window\n",
      "osano-visually-hidden\n",
      "osano-cm-window__dialog osano-cm-dialog osano-cm-dialog--position_bottom osano-cm-dialog--type_bar osano-cm-dialog--hidden\n",
      " osano-cm-dialog__close osano-cm-close \n",
      " osano-cm-dialog__content osano-cm-content \n",
      " osano-cm-content__message osano-cm-message \n",
      " osano-cm-storage-policy osano-cm-content__link osano-cm-link \n",
      " osano-cm-content__drawer-links osano-cm-drawer-links \n",
      " osano-cm-drawer-links__link osano-cm-link osano-cm-link--type_manage \n",
      "osano-cm-dialog__list osano-cm-list\n",
      " osano-cm-list__list-item osano-cm-list-item \n",
      " osano-cm-list-item__toggle osano-cm-toggle \n",
      " osano-cm-toggle__input osano-cm-input \n",
      " osano-cm-toggle__switch osano-cm-switch \n",
      " osano-cm-toggle__label osano-cm-label \n",
      " osano-cm-list__list-item osano-cm-list-item \n",
      " osano-cm-list-item__toggle osano-cm-toggle \n",
      " osano-cm-toggle__input osano-cm-input \n",
      " osano-cm-toggle__switch osano-cm-switch \n",
      " osano-cm-toggle__label osano-cm-label \n",
      " osano-cm-list__list-item osano-cm-list-item \n",
      " osano-cm-list-item__toggle osano-cm-toggle \n",
      " osano-cm-toggle__input osano-cm-input \n",
      " osano-cm-toggle__switch osano-cm-switch \n",
      " osano-cm-toggle__label osano-cm-label \n",
      "osano-cm-dialog__buttons osano-cm-buttons osano-cm-buttons--disabled\n",
      " osano-cm-save osano-cm-buttons__button osano-cm-button osano-cm-button--type_save \n",
      " osano-cm-accept-all osano-cm-buttons__button osano-cm-button osano-cm-button--type_accept \n",
      " osano-cm-denyAll osano-cm-buttons__button osano-cm-button osano-cm-button--type_denyAll \n",
      "osano-cm-window__widget osano-cm-widget osano-cm-widget--position_right\n",
      " osano-cm-widget__outline osano-cm-outline \n",
      " osano-cm-widget__outline osano-cm-outline \n",
      " osano-cm-widget__dot osano-cm-dot \n",
      " osano-cm-window__info-dialog osano-cm-info-dialog osano-cm-info-dialog--hidden \n",
      " osano-cm-info-dialog__info osano-cm-info osano-cm-info--position_right \n",
      " osano-cm-info__info-dialog-header osano-cm-info-dialog-header \n",
      " osano-cm-info-dialog-header__header osano-cm-header \n",
      " osano-cm-info-dialog-header__close osano-cm-close \n",
      " osano-cm-info__info-views osano-cm-info-views osano-cm-info-views--hidden osano-cm-info-views--position_0 \n",
      "en-GB\n",
      "TopMenu\n",
      "riotbar-root\n",
      "_3ABmHj7cDcj-eycoEvKDFc\n",
      "_13kdauBv1LuiyqRQxeyeuI riotbar-header-wrapper xg9xiFPhyNsZkRd0x1d8s\n",
      "_1HHPg3wFUKgbozh3A2CcVl riotbar-header \n",
      "_2aMlTPtMn1IHOjnBng7Xwk riotbar-left-content\n",
      "_2kifR8SgDiOjjbRMOZ1npZ riotbar-branding-switcher\n",
      "dBC4vWkZlmlgET3caZ4Sd riotbar-logo\n",
      "_35l7QijJYkB3Bc2F_7dM8u riotbar-fist-logo\n",
      "_32ANSIZormifc9Vc6VVwrx\n",
      "_3vp8M8e2gRtk5W-sZflwC riotbar-app-switcher-trigger-arrow\n",
      "\n",
      "_1V7LUoyPEiWxHvQtm5abTn riotbar-pip-container\n",
      "_1PoTmg7kPHXFgg1yV1go6k\n",
      "_14bsEO-bH8Y02MugIBBL-R\n",
      "_3KMPcRz4xtoN-a_9eXFvaC riotbar-center-content\n",
      "_2TEq--nzhVKfWiAYjLHjyN riotbar-desktop-logo-outer\n",
      "_5SUPH_T3LN-4gzme8e1ms\n",
      "icon\n",
      "shape\n",
      "_2Jx8cIlm63mjPBNcz3mjwO riotbar-desktop-navigation-wrapper\n",
      "_3ckGQp1O-rIdTLJTTVRFsB desktop-link-item\n",
      "_16evwnRjE9JvfFbOuuC-EF _1lBECl9xmO0n7vnCvf6_dD\n",
      "_32D3by5-at5MUNGLMQJ-0Z _1lBECl9xmO0n7vnCvf6_dD\n",
      "_1fZCif53gQjnhQJujlR_Cu submenu-wrapper\n",
      "submenu-underline\n",
      "_3OakWotpXNt4WJHyPTMsuK submenu-item\n",
      "_3YV3K9trIONr-7LOnl61G_ submenu-link\n",
      "_3OakWotpXNt4WJHyPTMsuK submenu-item\n",
      "_3YV3K9trIONr-7LOnl61G_ submenu-link\n",
      "_3OakWotpXNt4WJHyPTMsuK submenu-item\n",
      "_3YV3K9trIONr-7LOnl61G_ submenu-link\n",
      "_3OakWotpXNt4WJHyPTMsuK submenu-item\n",
      "_3YV3K9trIONr-7LOnl61G_ submenu-link\n",
      "_3OakWotpXNt4WJHyPTMsuK submenu-item\n",
      "_3YV3K9trIONr-7LOnl61G_ submenu-link\n",
      "_3OakWotpXNt4WJHyPTMsuK submenu-item\n",
      "_3YV3K9trIONr-7LOnl61G_ submenu-link\n",
      "\n",
      "_3OakWotpXNt4WJHyPTMsuK submenu-item\n",
      "_3YV3K9trIONr-7LOnl61G_ submenu-link\n",
      "desktop-link-item-underline\n",
      "v4_o_6IaG7ACiqykNpDzC riotbar-theme-logo-mobile\n",
      "icon\n",
      "shape\n",
      "_2roc0fJQJdLoUoaiUft34G riotbar-right-content\n",
      "_1K9T69nrXajaz_b4HNuhtI riotbar-locale-switcher \n",
      "_2Z-oImJ5Ug5HDtLu5YIL_m locale-switcher-icon\n",
      "_3TocCwuoWWls5ixMUdpgKm lang-switch-trigger\n",
      "\n",
      "undefined riotbar-mobile-nav-reset\n",
      "NdBeQYcLqU4Kk0TKCylFc riotbar-menu-icon\n",
      "\n",
      "bZSe4f5IXnZnE1acJPF40 riotbar-mobile-menu \n",
      "_3kq3sW91-uHHRURzQIOgmN riotbar-mobile-menu-header\n",
      "_2z-n8qukMpkIqRoMvh5a2G\n",
      "_2YendKEIlwfmKZhLBVw35x mobile-menu-header-logo\n",
      "icon\n",
      "shape\n",
      "dipr672zzOO6hbY9lZ1Mj mobile-menu-close top-mobile-menu-close\n",
      "\n",
      "_1WjKRC-uaHsepULMlBWu7J riotbar-mobile-menu-touchpoints\n",
      "_1V5uZtkCBE2ra6SoZmky1W riotbar-mobile-menu-touchpoint\n",
      "_1vhf_OtUJfsIKTxpIDGRjV riotbar-mobile-menu-link \n",
      "_1vhf_OtUJfsIKTxpIDGRjV riotbar-mobile-menu-link \n",
      "_1vhf_OtUJfsIKTxpIDGRjV riotbar-mobile-menu-link \n",
      "_1vhf_OtUJfsIKTxpIDGRjV riotbar-mobile-menu-link \n",
      "_1vhf_OtUJfsIKTxpIDGRjV riotbar-mobile-menu-link \n",
      "_1vhf_OtUJfsIKTxpIDGRjV riotbar-mobile-menu-link \n",
      "_8v_uMspqxWUL2S1N1kkYq mobile-menu-icon-link\n",
      "\n",
      "_1vhf_OtUJfsIKTxpIDGRjV riotbar-mobile-menu-link \n",
      "kNMPp71Ep6tArETV1tQzB riotbar-mobile-menu-anonymous-link-wrapper \n",
      "_26bBhFGGwFGHGVcu-FUyoN riotbar-mobile-menu-anonymous-link undefined riotbar-account-action _3DiUpr1eRDskF1pPKxKhRX theme-button\n",
      "_2Rkl1SaiyKVO9upEBU1cR- riotbar-mobile-menu-anonymous-link-text\n",
      "undefined riotbar-account-reset _2f9sdDMZUGg63xLkFmv-9O riotbar-account-container\n",
      "_2ufF-mwQT8vFKXiFr6RXs2 riotbar-account-anonymous-link-wrapper\n",
      "_2I66LI-wCuX47s2um7O7kh riotbar-anonymous-link _3qlG68WiAAf2HCeuzuwHXj riotbar-account-action _1SFUgr_Ul0xq7X3IdHVHrL theme-button\n",
      "WatchVod\n",
      "Watch small\n",
      "center-pane\n",
      "upper\n",
      "LogInReminder\n",
      "bar\n",
      "message\n",
      "link\n",
      "close\n",
      "icon\n",
      "shape\n",
      "VideoPlayer\n",
      "lower\n",
      "event-header\n",
      "EventMatchScore\n",
      "match\n",
      "teams\n",
      "team\n",
      "tricode\n",
      "logo\n",
      "image\n",
      "separator\n",
      "team\n",
      "tricode\n",
      "logo\n",
      "image\n",
      "icon\n",
      "shape\n",
      "stream-selector\n",
      "VodsGameSelector active-selection\n",
      "games\n",
      "label\n",
      "game game1 selected\n",
      "game game2\n",
      "game game3\n",
      "game game4\n",
      "game not-played\n",
      "WatchOptions\n",
      "options-button\n",
      "icon\n",
      "shape\n",
      "watch-options\n",
      "main-menu\n",
      "options-section stream-section\n",
      "title\n",
      "options-list\n",
      "option\n",
      "label\n",
      "icon\n",
      "shape\n",
      "options-section layout-section\n",
      "title\n",
      "options-list\n",
      "option\n",
      "label\n",
      "icon\n",
      "shape\n",
      "WatchMenu\n",
      "menu\n",
      "tab title stats selected\n",
      "RewardsStatusInformer\n",
      "status-items hide-status\n",
      "status\n",
      "status-icon\n",
      "icon\n",
      "title\n",
      "message\n",
      "link\n",
      "status-summary\n",
      "icon\n",
      "secondary-info\n",
      "small-stats-container\n",
      "StatsMatchup hidden\n",
      "player-info\n",
      "hide-matchup-button\n",
      "icon\n",
      "shape\n",
      "StatsMatchupPlayers\n",
      "player primary\n",
      "details\n",
      "name\n",
      "champion\n",
      "separator\n",
      "role\n",
      "portrait\n",
      "wrapper\n",
      "image\n",
      "level\n",
      "player secondary\n",
      "details\n",
      "name\n",
      "champion\n",
      "separator\n",
      "role\n",
      "portrait\n",
      "wrapper\n",
      "image\n",
      "level\n",
      "StatsMatchupSelector\n",
      "menu\n",
      "tab stats selected\n",
      "icon\n",
      "shape\n",
      "tab items\n",
      "icon\n",
      "shape\n",
      "tab abilities\n",
      "icon\n",
      "shape\n",
      "tab runes\n",
      "icon\n",
      "shape\n",
      "info\n",
      "stats\n",
      "StatsMatchupPerformance\n",
      "player primary\n",
      "stat kda\n",
      "value\n",
      "kills\n",
      "slash\n",
      "deaths\n",
      "slash\n",
      "assists\n",
      "title\n",
      "stat goldEarned\n",
      "value\n",
      "title\n",
      "stat minionKills\n",
      "value\n",
      "title\n",
      "stat killParticipation\n",
      "value\n",
      "percent\n",
      "title\n",
      "stat championDamageShare\n",
      "value\n",
      "percent\n",
      "title\n",
      "stat wardsPlaced\n",
      "value\n",
      "title\n",
      "stat wardsDestroyed\n",
      "value\n",
      "title\n",
      "player secondary\n",
      "stat kda\n",
      "value\n",
      "kills\n",
      "slash\n",
      "deaths\n",
      "slash\n",
      "assists\n",
      "title\n",
      "stat goldEarned\n",
      "value\n",
      "title\n",
      "stat minionKills\n",
      "value\n",
      "title\n",
      "stat killParticipation\n",
      "value\n",
      "percent\n",
      "title\n",
      "stat championDamageShare\n",
      "value\n",
      "percent\n",
      "title\n",
      "stat wardsPlaced\n",
      "value\n",
      "title\n",
      "stat wardsDestroyed\n",
      "value\n",
      "title\n",
      "StatsMatchupAttributes\n",
      "player primary\n",
      "stat attackDamage\n",
      "value\n",
      "title\n",
      "stat abilityPower\n",
      "value\n",
      "title\n",
      "stat attackSpeed\n",
      "value\n",
      "title\n",
      "stat lifeSteal\n",
      "value\n",
      "title\n",
      "stat armor\n",
      "value\n",
      "title\n",
      "stat magicResistance\n",
      "value\n",
      "title\n",
      "player secondary\n",
      "stat attackDamage\n",
      "value\n",
      "title\n",
      "stat abilityPower\n",
      "value\n",
      "title\n",
      "stat attackSpeed\n",
      "value\n",
      "title\n",
      "stat lifeSteal\n",
      "value\n",
      "title\n",
      "stat armor\n",
      "value\n",
      "title\n",
      "stat magicResistance\n",
      "value\n",
      "title\n",
      "StatsTeams\n",
      "StatsTeamsSummary\n",
      "dragons\n",
      "blue-team\n",
      "title\n",
      "red-team\n",
      "gold\n",
      "bar\n",
      "blue-team\n",
      "red-team\n",
      "totals\n",
      "blue-team\n",
      "title\n",
      "red-team\n",
      "details\n",
      "blue-team\n",
      "stat inhibitors\n",
      "icon\n",
      "shape\n",
      "stat barons\n",
      "icon\n",
      "shape\n",
      "stat towers\n",
      "icon\n",
      "shape\n",
      "stat kills\n",
      "icon\n",
      "shape\n",
      "red-team\n",
      "stat inhibitors\n",
      "icon\n",
      "shape\n",
      "stat barons\n",
      "icon\n",
      "shape\n",
      "stat towers\n",
      "icon\n",
      "shape\n",
      "stat kills\n",
      "icon\n",
      "shape\n",
      "StatsTeamsPlayers\n",
      "blue-team\n",
      "player top selected primary\n",
      "name\n",
      "portrait\n",
      "wrapper\n",
      "image\n",
      "level\n",
      "details\n",
      "stat kda\n",
      "icon\n",
      "shape\n",
      "kills\n",
      "deaths\n",
      "assists\n",
      "stat cs\n",
      "icon\n",
      "shape\n",
      "stat gold\n",
      "icon\n",
      "shape\n",
      "player jungle\n",
      "name\n",
      "portrait\n",
      "wrapper\n",
      "image\n",
      "level\n",
      "details\n",
      "stat kda\n",
      "icon\n",
      "shape\n",
      "kills\n",
      "deaths\n",
      "assists\n",
      "stat cs\n",
      "icon\n",
      "shape\n",
      "stat gold\n",
      "icon\n",
      "shape\n",
      "player mid\n",
      "name\n",
      "portrait\n",
      "wrapper\n",
      "image\n",
      "level\n",
      "details\n",
      "stat kda\n",
      "icon\n",
      "shape\n",
      "kills\n",
      "deaths\n",
      "assists\n",
      "stat cs\n",
      "icon\n",
      "shape\n",
      "stat gold\n",
      "icon\n",
      "shape\n",
      "player bottom\n",
      "name\n",
      "portrait\n",
      "wrapper\n",
      "image\n",
      "level\n",
      "details\n",
      "stat kda\n",
      "icon\n",
      "shape\n",
      "kills\n",
      "deaths\n",
      "assists\n",
      "stat cs\n",
      "icon\n",
      "shape\n",
      "stat gold\n",
      "icon\n",
      "shape\n",
      "player support\n",
      "name\n",
      "portrait\n",
      "wrapper\n",
      "image\n",
      "level\n",
      "details\n",
      "stat kda\n",
      "icon\n",
      "shape\n",
      "kills\n",
      "deaths\n",
      "assists\n",
      "stat cs\n",
      "icon\n",
      "shape\n",
      "stat gold\n",
      "icon\n",
      "shape\n",
      "gold-diffs\n",
      "wrapper\n",
      "diff top blue hidden\n",
      "wrapper\n",
      "diff jungle blue hidden\n",
      "wrapper\n",
      "diff mid blue hidden\n",
      "wrapper\n",
      "diff bottom blue hidden\n",
      "wrapper\n",
      "diff support blue hidden\n",
      "red-team\n",
      "player top selected secondary\n",
      "name\n",
      "portrait\n",
      "wrapper\n",
      "image\n",
      "level\n",
      "details\n",
      "stat kda\n",
      "icon\n",
      "shape\n",
      "kills\n",
      "deaths\n",
      "assists\n",
      "stat cs\n",
      "icon\n",
      "shape\n",
      "stat gold\n",
      "icon\n",
      "shape\n",
      "player jungle\n",
      "name\n",
      "portrait\n",
      "wrapper\n",
      "image\n",
      "level\n",
      "details\n",
      "stat kda\n",
      "icon\n",
      "shape\n",
      "kills\n",
      "deaths\n",
      "assists\n",
      "stat cs\n",
      "icon\n",
      "shape\n",
      "stat gold\n",
      "icon\n",
      "shape\n",
      "player mid\n",
      "name\n",
      "portrait\n",
      "wrapper\n",
      "image\n",
      "level\n",
      "details\n",
      "stat kda\n",
      "icon\n",
      "shape\n",
      "kills\n",
      "deaths\n",
      "assists\n",
      "stat cs\n",
      "icon\n",
      "shape\n",
      "stat gold\n",
      "icon\n",
      "shape\n",
      "player bottom\n",
      "name\n",
      "portrait\n",
      "wrapper\n",
      "image\n",
      "level\n",
      "details\n",
      "stat kda\n",
      "icon\n",
      "shape\n",
      "kills\n",
      "deaths\n",
      "assists\n",
      "stat cs\n",
      "icon\n",
      "shape\n",
      "stat gold\n",
      "icon\n",
      "shape\n",
      "player support\n",
      "name\n",
      "portrait\n",
      "wrapper\n",
      "image\n",
      "level\n",
      "details\n",
      "stat kda\n",
      "icon\n",
      "shape\n",
      "kills\n",
      "deaths\n",
      "assists\n",
      "stat cs\n",
      "icon\n",
      "shape\n",
      "stat gold\n",
      "icon\n",
      "shape\n",
      "Footer\n",
      "group-images-copyright\n",
      "images\n",
      "item riot\n",
      "image\n",
      "item lol\n",
      "image\n",
      "copyright\n",
      "links\n",
      "link\n",
      "link\n",
      "link\n",
      "link\n",
      "InformNotifications\n",
      "_2K0iztnN2PVcCF9x02NOAc riotbar-alerts-container\n",
      "animate attached\n",
      "paused\n",
      "control restore\n",
      "icon\n",
      "shape\n",
      "control play\n",
      "icon\n",
      "shape\n",
      "control close\n",
      "icon\n",
      "shape\n"
     ]
    }
   ],
   "source": [
    "ids = driver.find_elements(By.XPATH, '//*[@class]')\n",
    "\n",
    "for ii in ids:\n",
    "    #print ii.tag_name\n",
    "    print(ii.get_attribute('class')) "
   ]
  },
  {
   "cell_type": "code",
   "execution_count": null,
   "metadata": {},
   "outputs": [],
   "source": [
    "page = requests.get(LIVE_GAME_URL)\n"
   ]
  },
  {
   "cell_type": "code",
   "execution_count": null,
   "metadata": {},
   "outputs": [],
   "source": [
    "soup = BeautifulSoup(page.content, 'html.parser') \n"
   ]
  },
  {
   "cell_type": "code",
   "execution_count": null,
   "metadata": {},
   "outputs": [],
   "source": [
    "dir(soup)"
   ]
  },
  {
   "cell_type": "code",
   "execution_count": null,
   "metadata": {},
   "outputs": [],
   "source": [
    "soup"
   ]
  },
  {
   "cell_type": "code",
   "execution_count": null,
   "metadata": {},
   "outputs": [],
   "source": [
    "s = soup.find('div', class_='teams') "
   ]
  },
  {
   "cell_type": "code",
   "execution_count": null,
   "metadata": {},
   "outputs": [],
   "source": [
    "content = s.find_all('p') \n",
    "print(content)"
   ]
  }
 ],
 "metadata": {
  "kernelspec": {
   "display_name": "predictorEnv",
   "language": "python",
   "name": "python3"
  },
  "language_info": {
   "codemirror_mode": {
    "name": "ipython",
    "version": 3
   },
   "file_extension": ".py",
   "mimetype": "text/x-python",
   "name": "python",
   "nbconvert_exporter": "python",
   "pygments_lexer": "ipython3",
   "version": "3.11.9"
  }
 },
 "nbformat": 4,
 "nbformat_minor": 2
}
