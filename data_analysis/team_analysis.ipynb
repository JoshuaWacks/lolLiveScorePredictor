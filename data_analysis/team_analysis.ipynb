{
 "cells": [
  {
   "cell_type": "code",
   "execution_count": 37,
   "metadata": {},
   "outputs": [],
   "source": [
    "import pandas as pd\n",
    "import seaborn as sns\n",
    "import numpy as np"
   ]
  },
  {
   "cell_type": "markdown",
   "metadata": {},
   "source": [
    "Analysing FNCs games"
   ]
  },
  {
   "cell_type": "code",
   "execution_count": 3,
   "metadata": {},
   "outputs": [],
   "source": [
    "LEC_match_summary_df = pd.read_csv('../data/LEC/LEC_MATCH_SUMMARY_2024.csv')"
   ]
  },
  {
   "cell_type": "code",
   "execution_count": 4,
   "metadata": {},
   "outputs": [
    {
     "data": {
      "text/html": [
       "<div>\n",
       "<style scoped>\n",
       "    .dataframe tbody tr th:only-of-type {\n",
       "        vertical-align: middle;\n",
       "    }\n",
       "\n",
       "    .dataframe tbody tr th {\n",
       "        vertical-align: top;\n",
       "    }\n",
       "\n",
       "    .dataframe thead th {\n",
       "        text-align: right;\n",
       "    }\n",
       "</style>\n",
       "<table border=\"1\" class=\"dataframe\">\n",
       "  <thead>\n",
       "    <tr style=\"text-align: right;\">\n",
       "      <th></th>\n",
       "      <th>gol_game_num</th>\n",
       "      <th>league</th>\n",
       "      <th>season</th>\n",
       "      <th>year</th>\n",
       "      <th>date</th>\n",
       "      <th>week</th>\n",
       "      <th>patch</th>\n",
       "      <th>format</th>\n",
       "      <th>game_in_format</th>\n",
       "      <th>game_length(min)</th>\n",
       "      <th>game_length(s)</th>\n",
       "      <th>red_team</th>\n",
       "      <th>blue_team</th>\n",
       "      <th>red_team_outcome</th>\n",
       "      <th>blue_team_outcome</th>\n",
       "      <th>winner</th>\n",
       "      <th>mvp</th>\n",
       "      <th>season_format</th>\n",
       "      <th>loser</th>\n",
       "    </tr>\n",
       "  </thead>\n",
       "  <tbody>\n",
       "    <tr>\n",
       "      <th>0</th>\n",
       "      <td>55603</td>\n",
       "      <td>LEC</td>\n",
       "      <td>WINTER</td>\n",
       "      <td>2024</td>\n",
       "      <td>2024-02-18</td>\n",
       "      <td>FINALS</td>\n",
       "      <td>14.2</td>\n",
       "      <td>BO5</td>\n",
       "      <td>1</td>\n",
       "      <td>29:56</td>\n",
       "      <td>1796</td>\n",
       "      <td>MAD Lions KOI</td>\n",
       "      <td>G2 Esports</td>\n",
       "      <td>WIN</td>\n",
       "      <td>LOSS</td>\n",
       "      <td>MAD Lions KOI</td>\n",
       "      <td>NaN</td>\n",
       "      <td>PLAYOFFS</td>\n",
       "      <td>G2 Esports</td>\n",
       "    </tr>\n",
       "    <tr>\n",
       "      <th>1</th>\n",
       "      <td>55604</td>\n",
       "      <td>LEC</td>\n",
       "      <td>WINTER</td>\n",
       "      <td>2024</td>\n",
       "      <td>2024-02-18</td>\n",
       "      <td>FINALS</td>\n",
       "      <td>14.2</td>\n",
       "      <td>BO5</td>\n",
       "      <td>2</td>\n",
       "      <td>28:01</td>\n",
       "      <td>1681</td>\n",
       "      <td>MAD Lions KOI</td>\n",
       "      <td>G2 Esports</td>\n",
       "      <td>LOSS</td>\n",
       "      <td>WIN</td>\n",
       "      <td>G2 Esports</td>\n",
       "      <td>NaN</td>\n",
       "      <td>PLAYOFFS</td>\n",
       "      <td>MAD Lions KOI</td>\n",
       "    </tr>\n",
       "    <tr>\n",
       "      <th>2</th>\n",
       "      <td>55605</td>\n",
       "      <td>LEC</td>\n",
       "      <td>WINTER</td>\n",
       "      <td>2024</td>\n",
       "      <td>2024-02-18</td>\n",
       "      <td>FINALS</td>\n",
       "      <td>14.2</td>\n",
       "      <td>BO5</td>\n",
       "      <td>3</td>\n",
       "      <td>33:39</td>\n",
       "      <td>2019</td>\n",
       "      <td>G2 Esports</td>\n",
       "      <td>MAD Lions KOI</td>\n",
       "      <td>WIN</td>\n",
       "      <td>LOSS</td>\n",
       "      <td>G2 Esports</td>\n",
       "      <td>NaN</td>\n",
       "      <td>PLAYOFFS</td>\n",
       "      <td>MAD Lions KOI</td>\n",
       "    </tr>\n",
       "    <tr>\n",
       "      <th>3</th>\n",
       "      <td>55606</td>\n",
       "      <td>LEC</td>\n",
       "      <td>WINTER</td>\n",
       "      <td>2024</td>\n",
       "      <td>2024-02-18</td>\n",
       "      <td>FINALS</td>\n",
       "      <td>14.2</td>\n",
       "      <td>BO5</td>\n",
       "      <td>4</td>\n",
       "      <td>33:09</td>\n",
       "      <td>1989</td>\n",
       "      <td>G2 Esports</td>\n",
       "      <td>MAD Lions KOI</td>\n",
       "      <td>WIN</td>\n",
       "      <td>LOSS</td>\n",
       "      <td>G2 Esports</td>\n",
       "      <td>NaN</td>\n",
       "      <td>PLAYOFFS</td>\n",
       "      <td>MAD Lions KOI</td>\n",
       "    </tr>\n",
       "    <tr>\n",
       "      <th>4</th>\n",
       "      <td>55563</td>\n",
       "      <td>LEC</td>\n",
       "      <td>WINTER</td>\n",
       "      <td>2024</td>\n",
       "      <td>2024-02-17</td>\n",
       "      <td>ROUND4</td>\n",
       "      <td>14.2</td>\n",
       "      <td>BO5</td>\n",
       "      <td>1</td>\n",
       "      <td>31:56</td>\n",
       "      <td>1916</td>\n",
       "      <td>MAD Lions KOI</td>\n",
       "      <td>Team BDS</td>\n",
       "      <td>WIN</td>\n",
       "      <td>LOSS</td>\n",
       "      <td>MAD Lions KOI</td>\n",
       "      <td>NaN</td>\n",
       "      <td>PLAYOFFS</td>\n",
       "      <td>Team BDS</td>\n",
       "    </tr>\n",
       "  </tbody>\n",
       "</table>\n",
       "</div>"
      ],
      "text/plain": [
       "   gol_game_num league  season  year        date    week  patch format  \\\n",
       "0         55603    LEC  WINTER  2024  2024-02-18  FINALS   14.2    BO5   \n",
       "1         55604    LEC  WINTER  2024  2024-02-18  FINALS   14.2    BO5   \n",
       "2         55605    LEC  WINTER  2024  2024-02-18  FINALS   14.2    BO5   \n",
       "3         55606    LEC  WINTER  2024  2024-02-18  FINALS   14.2    BO5   \n",
       "4         55563    LEC  WINTER  2024  2024-02-17  ROUND4   14.2    BO5   \n",
       "\n",
       "   game_in_format game_length(min)  game_length(s)       red_team  \\\n",
       "0               1            29:56            1796  MAD Lions KOI   \n",
       "1               2            28:01            1681  MAD Lions KOI   \n",
       "2               3            33:39            2019     G2 Esports   \n",
       "3               4            33:09            1989     G2 Esports   \n",
       "4               1            31:56            1916  MAD Lions KOI   \n",
       "\n",
       "       blue_team red_team_outcome blue_team_outcome         winner  mvp  \\\n",
       "0     G2 Esports              WIN              LOSS  MAD Lions KOI  NaN   \n",
       "1     G2 Esports             LOSS               WIN     G2 Esports  NaN   \n",
       "2  MAD Lions KOI              WIN              LOSS     G2 Esports  NaN   \n",
       "3  MAD Lions KOI              WIN              LOSS     G2 Esports  NaN   \n",
       "4       Team BDS              WIN              LOSS  MAD Lions KOI  NaN   \n",
       "\n",
       "  season_format          loser  \n",
       "0      PLAYOFFS     G2 Esports  \n",
       "1      PLAYOFFS  MAD Lions KOI  \n",
       "2      PLAYOFFS  MAD Lions KOI  \n",
       "3      PLAYOFFS  MAD Lions KOI  \n",
       "4      PLAYOFFS       Team BDS  "
      ]
     },
     "execution_count": 4,
     "metadata": {},
     "output_type": "execute_result"
    }
   ],
   "source": [
    "LEC_match_summary_df.head()"
   ]
  },
  {
   "cell_type": "code",
   "execution_count": 8,
   "metadata": {},
   "outputs": [
    {
     "data": {
      "text/html": [
       "<div>\n",
       "<style scoped>\n",
       "    .dataframe tbody tr th:only-of-type {\n",
       "        vertical-align: middle;\n",
       "    }\n",
       "\n",
       "    .dataframe tbody tr th {\n",
       "        vertical-align: top;\n",
       "    }\n",
       "\n",
       "    .dataframe thead th {\n",
       "        text-align: right;\n",
       "    }\n",
       "</style>\n",
       "<table border=\"1\" class=\"dataframe\">\n",
       "  <thead>\n",
       "    <tr style=\"text-align: right;\">\n",
       "      <th></th>\n",
       "      <th>gol_game_num</th>\n",
       "      <th>league</th>\n",
       "      <th>season</th>\n",
       "      <th>year</th>\n",
       "      <th>date</th>\n",
       "      <th>week</th>\n",
       "      <th>patch</th>\n",
       "      <th>format</th>\n",
       "      <th>game_in_format</th>\n",
       "      <th>game_length(min)</th>\n",
       "      <th>game_length(s)</th>\n",
       "      <th>red_team</th>\n",
       "      <th>blue_team</th>\n",
       "      <th>red_team_outcome</th>\n",
       "      <th>blue_team_outcome</th>\n",
       "      <th>winner</th>\n",
       "      <th>mvp</th>\n",
       "      <th>season_format</th>\n",
       "      <th>loser</th>\n",
       "    </tr>\n",
       "  </thead>\n",
       "  <tbody>\n",
       "    <tr>\n",
       "      <th>9</th>\n",
       "      <td>55354</td>\n",
       "      <td>LEC</td>\n",
       "      <td>WINTER</td>\n",
       "      <td>2024</td>\n",
       "      <td>2024-02-16</td>\n",
       "      <td>ROUND3</td>\n",
       "      <td>14.2</td>\n",
       "      <td>BO5</td>\n",
       "      <td>1</td>\n",
       "      <td>31:33</td>\n",
       "      <td>1893</td>\n",
       "      <td>Fnatic</td>\n",
       "      <td>MAD Lions KOI</td>\n",
       "      <td>LOSS</td>\n",
       "      <td>WIN</td>\n",
       "      <td>MAD Lions KOI</td>\n",
       "      <td>NaN</td>\n",
       "      <td>PLAYOFFS</td>\n",
       "      <td>Fnatic</td>\n",
       "    </tr>\n",
       "    <tr>\n",
       "      <th>10</th>\n",
       "      <td>55355</td>\n",
       "      <td>LEC</td>\n",
       "      <td>WINTER</td>\n",
       "      <td>2024</td>\n",
       "      <td>2024-02-16</td>\n",
       "      <td>ROUND3</td>\n",
       "      <td>14.2</td>\n",
       "      <td>BO5</td>\n",
       "      <td>2</td>\n",
       "      <td>28:57</td>\n",
       "      <td>1737</td>\n",
       "      <td>MAD Lions KOI</td>\n",
       "      <td>Fnatic</td>\n",
       "      <td>LOSS</td>\n",
       "      <td>WIN</td>\n",
       "      <td>Fnatic</td>\n",
       "      <td>NaN</td>\n",
       "      <td>PLAYOFFS</td>\n",
       "      <td>MAD Lions KOI</td>\n",
       "    </tr>\n",
       "    <tr>\n",
       "      <th>11</th>\n",
       "      <td>55356</td>\n",
       "      <td>LEC</td>\n",
       "      <td>WINTER</td>\n",
       "      <td>2024</td>\n",
       "      <td>2024-02-16</td>\n",
       "      <td>ROUND3</td>\n",
       "      <td>14.2</td>\n",
       "      <td>BO5</td>\n",
       "      <td>3</td>\n",
       "      <td>37:13</td>\n",
       "      <td>2233</td>\n",
       "      <td>Fnatic</td>\n",
       "      <td>MAD Lions KOI</td>\n",
       "      <td>LOSS</td>\n",
       "      <td>WIN</td>\n",
       "      <td>MAD Lions KOI</td>\n",
       "      <td>NaN</td>\n",
       "      <td>PLAYOFFS</td>\n",
       "      <td>Fnatic</td>\n",
       "    </tr>\n",
       "    <tr>\n",
       "      <th>12</th>\n",
       "      <td>55357</td>\n",
       "      <td>LEC</td>\n",
       "      <td>WINTER</td>\n",
       "      <td>2024</td>\n",
       "      <td>2024-02-16</td>\n",
       "      <td>ROUND3</td>\n",
       "      <td>14.2</td>\n",
       "      <td>BO5</td>\n",
       "      <td>4</td>\n",
       "      <td>41:21</td>\n",
       "      <td>2481</td>\n",
       "      <td>MAD Lions KOI</td>\n",
       "      <td>Fnatic</td>\n",
       "      <td>LOSS</td>\n",
       "      <td>WIN</td>\n",
       "      <td>Fnatic</td>\n",
       "      <td>NaN</td>\n",
       "      <td>PLAYOFFS</td>\n",
       "      <td>MAD Lions KOI</td>\n",
       "    </tr>\n",
       "    <tr>\n",
       "      <th>13</th>\n",
       "      <td>55358</td>\n",
       "      <td>LEC</td>\n",
       "      <td>WINTER</td>\n",
       "      <td>2024</td>\n",
       "      <td>2024-02-16</td>\n",
       "      <td>ROUND3</td>\n",
       "      <td>14.2</td>\n",
       "      <td>BO5</td>\n",
       "      <td>5</td>\n",
       "      <td>33:27</td>\n",
       "      <td>2007</td>\n",
       "      <td>Fnatic</td>\n",
       "      <td>MAD Lions KOI</td>\n",
       "      <td>LOSS</td>\n",
       "      <td>WIN</td>\n",
       "      <td>MAD Lions KOI</td>\n",
       "      <td>NaN</td>\n",
       "      <td>PLAYOFFS</td>\n",
       "      <td>Fnatic</td>\n",
       "    </tr>\n",
       "  </tbody>\n",
       "</table>\n",
       "</div>"
      ],
      "text/plain": [
       "    gol_game_num league  season  year        date    week  patch format  \\\n",
       "9          55354    LEC  WINTER  2024  2024-02-16  ROUND3   14.2    BO5   \n",
       "10         55355    LEC  WINTER  2024  2024-02-16  ROUND3   14.2    BO5   \n",
       "11         55356    LEC  WINTER  2024  2024-02-16  ROUND3   14.2    BO5   \n",
       "12         55357    LEC  WINTER  2024  2024-02-16  ROUND3   14.2    BO5   \n",
       "13         55358    LEC  WINTER  2024  2024-02-16  ROUND3   14.2    BO5   \n",
       "\n",
       "    game_in_format game_length(min)  game_length(s)       red_team  \\\n",
       "9                1            31:33            1893         Fnatic   \n",
       "10               2            28:57            1737  MAD Lions KOI   \n",
       "11               3            37:13            2233         Fnatic   \n",
       "12               4            41:21            2481  MAD Lions KOI   \n",
       "13               5            33:27            2007         Fnatic   \n",
       "\n",
       "        blue_team red_team_outcome blue_team_outcome         winner  mvp  \\\n",
       "9   MAD Lions KOI             LOSS               WIN  MAD Lions KOI  NaN   \n",
       "10         Fnatic             LOSS               WIN         Fnatic  NaN   \n",
       "11  MAD Lions KOI             LOSS               WIN  MAD Lions KOI  NaN   \n",
       "12         Fnatic             LOSS               WIN         Fnatic  NaN   \n",
       "13  MAD Lions KOI             LOSS               WIN  MAD Lions KOI  NaN   \n",
       "\n",
       "   season_format          loser  \n",
       "9       PLAYOFFS         Fnatic  \n",
       "10      PLAYOFFS  MAD Lions KOI  \n",
       "11      PLAYOFFS         Fnatic  \n",
       "12      PLAYOFFS  MAD Lions KOI  \n",
       "13      PLAYOFFS         Fnatic  "
      ]
     },
     "execution_count": 8,
     "metadata": {},
     "output_type": "execute_result"
    }
   ],
   "source": [
    "FNC_match_summary_df = LEC_match_summary_df[(LEC_match_summary_df['red_team'] == 'Fnatic') | (LEC_match_summary_df['blue_team'] == 'Fnatic')]\n",
    "FNC_match_summary_df.head()"
   ]
  },
  {
   "cell_type": "markdown",
   "metadata": {},
   "source": [
    "Winter Season"
   ]
  },
  {
   "cell_type": "code",
   "execution_count": 20,
   "metadata": {},
   "outputs": [],
   "source": [
    "FNC_winter_season_match_summary_df = FNC_match_summary_df[(FNC_match_summary_df['season'] == 'WINTER') & (FNC_match_summary_df['season_format'] == 'SEASON')]"
   ]
  },
  {
   "cell_type": "code",
   "execution_count": 21,
   "metadata": {},
   "outputs": [
    {
     "data": {
      "text/plain": [
       "9"
      ]
     },
     "execution_count": 21,
     "metadata": {},
     "output_type": "execute_result"
    }
   ],
   "source": [
    "total_winter_games = len(FNC_winter_season_match_summary_df)\n",
    "total_winter_games"
   ]
  },
  {
   "cell_type": "code",
   "execution_count": 22,
   "metadata": {},
   "outputs": [
    {
     "data": {
      "text/plain": [
       "5"
      ]
     },
     "execution_count": 22,
     "metadata": {},
     "output_type": "execute_result"
    }
   ],
   "source": [
    "total_winter_games_won = len(FNC_winter_season_match_summary_df[(FNC_winter_season_match_summary_df['winner'] == 'Fnatic')])\n",
    "total_winter_games_won"
   ]
  },
  {
   "cell_type": "code",
   "execution_count": 23,
   "metadata": {},
   "outputs": [
    {
     "data": {
      "text/html": [
       "<div>\n",
       "<style scoped>\n",
       "    .dataframe tbody tr th:only-of-type {\n",
       "        vertical-align: middle;\n",
       "    }\n",
       "\n",
       "    .dataframe tbody tr th {\n",
       "        vertical-align: top;\n",
       "    }\n",
       "\n",
       "    .dataframe thead th {\n",
       "        text-align: right;\n",
       "    }\n",
       "</style>\n",
       "<table border=\"1\" class=\"dataframe\">\n",
       "  <thead>\n",
       "    <tr style=\"text-align: right;\">\n",
       "      <th></th>\n",
       "      <th>red_team</th>\n",
       "      <th>blue_team</th>\n",
       "      <th>winner</th>\n",
       "      <th>loser</th>\n",
       "    </tr>\n",
       "  </thead>\n",
       "  <tbody>\n",
       "    <tr>\n",
       "      <th>41</th>\n",
       "      <td>Team Heretics</td>\n",
       "      <td>Fnatic</td>\n",
       "      <td>Fnatic</td>\n",
       "      <td>Team Heretics</td>\n",
       "    </tr>\n",
       "    <tr>\n",
       "      <th>47</th>\n",
       "      <td>G2 Esports</td>\n",
       "      <td>Fnatic</td>\n",
       "      <td>G2 Esports</td>\n",
       "      <td>Fnatic</td>\n",
       "    </tr>\n",
       "    <tr>\n",
       "      <th>52</th>\n",
       "      <td>Fnatic</td>\n",
       "      <td>MAD Lions KOI</td>\n",
       "      <td>MAD Lions KOI</td>\n",
       "      <td>Fnatic</td>\n",
       "    </tr>\n",
       "    <tr>\n",
       "      <th>58</th>\n",
       "      <td>GIANTX</td>\n",
       "      <td>Fnatic</td>\n",
       "      <td>Fnatic</td>\n",
       "      <td>GIANTX</td>\n",
       "    </tr>\n",
       "    <tr>\n",
       "      <th>63</th>\n",
       "      <td>Fnatic</td>\n",
       "      <td>Rogue</td>\n",
       "      <td>Fnatic</td>\n",
       "      <td>Rogue</td>\n",
       "    </tr>\n",
       "    <tr>\n",
       "      <th>66</th>\n",
       "      <td>Fnatic</td>\n",
       "      <td>Team BDS</td>\n",
       "      <td>Team BDS</td>\n",
       "      <td>Fnatic</td>\n",
       "    </tr>\n",
       "    <tr>\n",
       "      <th>70</th>\n",
       "      <td>Fnatic</td>\n",
       "      <td>SK Gaming</td>\n",
       "      <td>SK Gaming</td>\n",
       "      <td>Fnatic</td>\n",
       "    </tr>\n",
       "    <tr>\n",
       "      <th>76</th>\n",
       "      <td>Team Vitality</td>\n",
       "      <td>Fnatic</td>\n",
       "      <td>Fnatic</td>\n",
       "      <td>Team Vitality</td>\n",
       "    </tr>\n",
       "    <tr>\n",
       "      <th>82</th>\n",
       "      <td>Fnatic</td>\n",
       "      <td>Karmine Corp</td>\n",
       "      <td>Fnatic</td>\n",
       "      <td>Karmine Corp</td>\n",
       "    </tr>\n",
       "  </tbody>\n",
       "</table>\n",
       "</div>"
      ],
      "text/plain": [
       "         red_team      blue_team         winner          loser\n",
       "41  Team Heretics         Fnatic         Fnatic  Team Heretics\n",
       "47     G2 Esports         Fnatic     G2 Esports         Fnatic\n",
       "52         Fnatic  MAD Lions KOI  MAD Lions KOI         Fnatic\n",
       "58         GIANTX         Fnatic         Fnatic         GIANTX\n",
       "63         Fnatic          Rogue         Fnatic          Rogue\n",
       "66         Fnatic       Team BDS       Team BDS         Fnatic\n",
       "70         Fnatic      SK Gaming      SK Gaming         Fnatic\n",
       "76  Team Vitality         Fnatic         Fnatic  Team Vitality\n",
       "82         Fnatic   Karmine Corp         Fnatic   Karmine Corp"
      ]
     },
     "execution_count": 23,
     "metadata": {},
     "output_type": "execute_result"
    }
   ],
   "source": [
    "FNC_winter_season_match_summary_df[['red_team','blue_team','winner','loser']]"
   ]
  },
  {
   "cell_type": "code",
   "execution_count": 24,
   "metadata": {},
   "outputs": [
    {
     "data": {
      "text/plain": [
       "3"
      ]
     },
     "execution_count": 24,
     "metadata": {},
     "output_type": "execute_result"
    }
   ],
   "source": [
    "total_winter_games_won_blue_side = len(FNC_winter_season_match_summary_df[(FNC_winter_season_match_summary_df['winner'] == 'Fnatic') & (FNC_winter_season_match_summary_df['blue_team'] == 'Fnatic')])\n",
    "total_winter_games_won_blue_side"
   ]
  },
  {
   "cell_type": "code",
   "execution_count": 25,
   "metadata": {},
   "outputs": [
    {
     "data": {
      "text/plain": [
       "2"
      ]
     },
     "execution_count": 25,
     "metadata": {},
     "output_type": "execute_result"
    }
   ],
   "source": [
    "total_winter_games_won_red_side = len(FNC_winter_season_match_summary_df[(FNC_winter_season_match_summary_df['winner'] == 'Fnatic') & (FNC_winter_season_match_summary_df['red_team'] == 'Fnatic')])\n",
    "total_winter_games_won_red_side"
   ]
  },
  {
   "cell_type": "markdown",
   "metadata": {},
   "source": [
    "Looking at FNC Games Winter and Spring"
   ]
  },
  {
   "cell_type": "code",
   "execution_count": 28,
   "metadata": {},
   "outputs": [
    {
     "data": {
      "text/plain": [
       "51"
      ]
     },
     "execution_count": 28,
     "metadata": {},
     "output_type": "execute_result"
    }
   ],
   "source": [
    "total_games = len(FNC_match_summary_df)\n",
    "total_games"
   ]
  },
  {
   "cell_type": "code",
   "execution_count": 27,
   "metadata": {},
   "outputs": [
    {
     "data": {
      "text/plain": [
       "17"
      ]
     },
     "execution_count": 27,
     "metadata": {},
     "output_type": "execute_result"
    }
   ],
   "source": [
    "total_winter_games_won_blue_side = len(FNC_match_summary_df[(FNC_match_summary_df['winner'] == 'Fnatic') & (FNC_match_summary_df['blue_team'] == 'Fnatic')])\n",
    "total_winter_games_won_blue_side"
   ]
  },
  {
   "cell_type": "code",
   "execution_count": 29,
   "metadata": {},
   "outputs": [
    {
     "data": {
      "text/plain": [
       "12"
      ]
     },
     "execution_count": 29,
     "metadata": {},
     "output_type": "execute_result"
    }
   ],
   "source": [
    "total_winter_games_won_red_side = len(FNC_match_summary_df[(FNC_match_summary_df['winner'] == 'Fnatic') & (FNC_match_summary_df['red_team'] == 'Fnatic')])\n",
    "total_winter_games_won_red_side"
   ]
  },
  {
   "cell_type": "code",
   "execution_count": 33,
   "metadata": {},
   "outputs": [
    {
     "data": {
      "text/html": [
       "<div>\n",
       "<style scoped>\n",
       "    .dataframe tbody tr th:only-of-type {\n",
       "        vertical-align: middle;\n",
       "    }\n",
       "\n",
       "    .dataframe tbody tr th {\n",
       "        vertical-align: top;\n",
       "    }\n",
       "\n",
       "    .dataframe thead th {\n",
       "        text-align: right;\n",
       "    }\n",
       "</style>\n",
       "<table border=\"1\" class=\"dataframe\">\n",
       "  <thead>\n",
       "    <tr style=\"text-align: right;\">\n",
       "      <th></th>\n",
       "      <th>gol_game_num</th>\n",
       "      <th>league</th>\n",
       "      <th>season</th>\n",
       "      <th>year</th>\n",
       "      <th>date</th>\n",
       "      <th>week</th>\n",
       "      <th>patch</th>\n",
       "      <th>format</th>\n",
       "      <th>game_in_format</th>\n",
       "      <th>game_length(min)</th>\n",
       "      <th>game_length(s)</th>\n",
       "      <th>red_team</th>\n",
       "      <th>blue_team</th>\n",
       "      <th>red_team_outcome</th>\n",
       "      <th>blue_team_outcome</th>\n",
       "      <th>winner</th>\n",
       "      <th>mvp</th>\n",
       "      <th>season_format</th>\n",
       "      <th>loser</th>\n",
       "    </tr>\n",
       "  </thead>\n",
       "  <tbody>\n",
       "    <tr>\n",
       "      <th>9</th>\n",
       "      <td>55354</td>\n",
       "      <td>LEC</td>\n",
       "      <td>WINTER</td>\n",
       "      <td>2024</td>\n",
       "      <td>2024-02-16</td>\n",
       "      <td>ROUND3</td>\n",
       "      <td>14.2</td>\n",
       "      <td>BO5</td>\n",
       "      <td>1</td>\n",
       "      <td>31:33</td>\n",
       "      <td>1893</td>\n",
       "      <td>Fnatic</td>\n",
       "      <td>MAD Lions KOI</td>\n",
       "      <td>LOSS</td>\n",
       "      <td>WIN</td>\n",
       "      <td>MAD Lions KOI</td>\n",
       "      <td>NaN</td>\n",
       "      <td>PLAYOFFS</td>\n",
       "      <td>Fnatic</td>\n",
       "    </tr>\n",
       "    <tr>\n",
       "      <th>10</th>\n",
       "      <td>55355</td>\n",
       "      <td>LEC</td>\n",
       "      <td>WINTER</td>\n",
       "      <td>2024</td>\n",
       "      <td>2024-02-16</td>\n",
       "      <td>ROUND3</td>\n",
       "      <td>14.2</td>\n",
       "      <td>BO5</td>\n",
       "      <td>2</td>\n",
       "      <td>28:57</td>\n",
       "      <td>1737</td>\n",
       "      <td>MAD Lions KOI</td>\n",
       "      <td>Fnatic</td>\n",
       "      <td>LOSS</td>\n",
       "      <td>WIN</td>\n",
       "      <td>Fnatic</td>\n",
       "      <td>NaN</td>\n",
       "      <td>PLAYOFFS</td>\n",
       "      <td>MAD Lions KOI</td>\n",
       "    </tr>\n",
       "  </tbody>\n",
       "</table>\n",
       "</div>"
      ],
      "text/plain": [
       "    gol_game_num league  season  year        date    week  patch format  \\\n",
       "9          55354    LEC  WINTER  2024  2024-02-16  ROUND3   14.2    BO5   \n",
       "10         55355    LEC  WINTER  2024  2024-02-16  ROUND3   14.2    BO5   \n",
       "\n",
       "    game_in_format game_length(min)  game_length(s)       red_team  \\\n",
       "9                1            31:33            1893         Fnatic   \n",
       "10               2            28:57            1737  MAD Lions KOI   \n",
       "\n",
       "        blue_team red_team_outcome blue_team_outcome         winner  mvp  \\\n",
       "9   MAD Lions KOI             LOSS               WIN  MAD Lions KOI  NaN   \n",
       "10         Fnatic             LOSS               WIN         Fnatic  NaN   \n",
       "\n",
       "   season_format          loser  \n",
       "9       PLAYOFFS         Fnatic  \n",
       "10      PLAYOFFS  MAD Lions KOI  "
      ]
     },
     "execution_count": 33,
     "metadata": {},
     "output_type": "execute_result"
    }
   ],
   "source": [
    "FNC_match_summary_df.head(2)"
   ]
  },
  {
   "cell_type": "code",
   "execution_count": 54,
   "metadata": {},
   "outputs": [],
   "source": [
    "FNC_match_summary_df['FNC_WIN'] = FNC_match_summary_df.winner.apply(lambda x: x == 'Fnatic')\n",
    "# FNC_match_summary_df = FNC_match_summary_df.assign(FNC_WIN=lambda x:True if (x['winner'] == 'Fnatic').bool() else False)\n",
    " "
   ]
  },
  {
   "cell_type": "code",
   "execution_count": 56,
   "metadata": {},
   "outputs": [
    {
     "data": {
      "text/html": [
       "<div>\n",
       "<style scoped>\n",
       "    .dataframe tbody tr th:only-of-type {\n",
       "        vertical-align: middle;\n",
       "    }\n",
       "\n",
       "    .dataframe tbody tr th {\n",
       "        vertical-align: top;\n",
       "    }\n",
       "\n",
       "    .dataframe thead th {\n",
       "        text-align: right;\n",
       "    }\n",
       "</style>\n",
       "<table border=\"1\" class=\"dataframe\">\n",
       "  <thead>\n",
       "    <tr style=\"text-align: right;\">\n",
       "      <th></th>\n",
       "      <th>gol_game_num</th>\n",
       "      <th>league</th>\n",
       "      <th>season</th>\n",
       "      <th>year</th>\n",
       "      <th>date</th>\n",
       "      <th>week</th>\n",
       "      <th>patch</th>\n",
       "      <th>format</th>\n",
       "      <th>game_in_format</th>\n",
       "      <th>game_length(min)</th>\n",
       "      <th>game_length(s)</th>\n",
       "      <th>red_team</th>\n",
       "      <th>blue_team</th>\n",
       "      <th>red_team_outcome</th>\n",
       "      <th>blue_team_outcome</th>\n",
       "      <th>winner</th>\n",
       "      <th>mvp</th>\n",
       "      <th>season_format</th>\n",
       "      <th>loser</th>\n",
       "      <th>FNC_WIN</th>\n",
       "    </tr>\n",
       "  </thead>\n",
       "  <tbody>\n",
       "    <tr>\n",
       "      <th>9</th>\n",
       "      <td>55354</td>\n",
       "      <td>LEC</td>\n",
       "      <td>WINTER</td>\n",
       "      <td>2024</td>\n",
       "      <td>2024-02-16</td>\n",
       "      <td>ROUND3</td>\n",
       "      <td>14.2</td>\n",
       "      <td>BO5</td>\n",
       "      <td>1</td>\n",
       "      <td>31:33</td>\n",
       "      <td>1893</td>\n",
       "      <td>Fnatic</td>\n",
       "      <td>MAD Lions KOI</td>\n",
       "      <td>LOSS</td>\n",
       "      <td>WIN</td>\n",
       "      <td>MAD Lions KOI</td>\n",
       "      <td>NaN</td>\n",
       "      <td>PLAYOFFS</td>\n",
       "      <td>Fnatic</td>\n",
       "      <td>False</td>\n",
       "    </tr>\n",
       "    <tr>\n",
       "      <th>10</th>\n",
       "      <td>55355</td>\n",
       "      <td>LEC</td>\n",
       "      <td>WINTER</td>\n",
       "      <td>2024</td>\n",
       "      <td>2024-02-16</td>\n",
       "      <td>ROUND3</td>\n",
       "      <td>14.2</td>\n",
       "      <td>BO5</td>\n",
       "      <td>2</td>\n",
       "      <td>28:57</td>\n",
       "      <td>1737</td>\n",
       "      <td>MAD Lions KOI</td>\n",
       "      <td>Fnatic</td>\n",
       "      <td>LOSS</td>\n",
       "      <td>WIN</td>\n",
       "      <td>Fnatic</td>\n",
       "      <td>NaN</td>\n",
       "      <td>PLAYOFFS</td>\n",
       "      <td>MAD Lions KOI</td>\n",
       "      <td>True</td>\n",
       "    </tr>\n",
       "  </tbody>\n",
       "</table>\n",
       "</div>"
      ],
      "text/plain": [
       "    gol_game_num league  season  year        date    week  patch format  \\\n",
       "9          55354    LEC  WINTER  2024  2024-02-16  ROUND3   14.2    BO5   \n",
       "10         55355    LEC  WINTER  2024  2024-02-16  ROUND3   14.2    BO5   \n",
       "\n",
       "    game_in_format game_length(min)  game_length(s)       red_team  \\\n",
       "9                1            31:33            1893         Fnatic   \n",
       "10               2            28:57            1737  MAD Lions KOI   \n",
       "\n",
       "        blue_team red_team_outcome blue_team_outcome         winner  mvp  \\\n",
       "9   MAD Lions KOI             LOSS               WIN  MAD Lions KOI  NaN   \n",
       "10         Fnatic             LOSS               WIN         Fnatic  NaN   \n",
       "\n",
       "   season_format          loser  FNC_WIN  \n",
       "9       PLAYOFFS         Fnatic    False  \n",
       "10      PLAYOFFS  MAD Lions KOI     True  "
      ]
     },
     "execution_count": 56,
     "metadata": {},
     "output_type": "execute_result"
    }
   ],
   "source": [
    "FNC_match_summary_df.head(2)"
   ]
  },
  {
   "cell_type": "code",
   "execution_count": 57,
   "metadata": {},
   "outputs": [
    {
     "data": {
      "text/plain": [
       "<Axes: ylabel='game_length(s)'>"
      ]
     },
     "execution_count": 57,
     "metadata": {},
     "output_type": "execute_result"
    },
    {
     "data": {
      "image/png": "[encoded data removed]",
      "text/plain": [
       "<Figure size 640x480 with 1 Axes>"
      ]
     },
     "metadata": {},
     "output_type": "display_data"
    }
   ],
   "source": [
    "sns.lineplot(data = FNC_match_summary_df, x = np.arange(len(FNC_match_summary_df)), y = 'game_length(s)',hue='FNC_WIN')"
   ]
  },
  {
   "cell_type": "code",
   "execution_count": 60,
   "metadata": {},
   "outputs": [
    {
     "data": {
      "text/plain": [
       "1908.1379310344828"
      ]
     },
     "execution_count": 60,
     "metadata": {},
     "output_type": "execute_result"
    }
   ],
   "source": [
    "avg_time_win = FNC_match_summary_df[FNC_match_summary_df['FNC_WIN'] == True]['game_length(s)'].mean(axis=0)\n",
    "avg_time_win"
   ]
  },
  {
   "cell_type": "code",
   "execution_count": 61,
   "metadata": {},
   "outputs": [
    {
     "data": {
      "text/plain": [
       "1931.2272727272727"
      ]
     },
     "execution_count": 61,
     "metadata": {},
     "output_type": "execute_result"
    }
   ],
   "source": [
    "avg_time_lose = FNC_match_summary_df[FNC_match_summary_df['FNC_WIN'] == False]['game_length(s)'].mean(axis=0)\n",
    "avg_time_lose"
   ]
  }
 ],
 "metadata": {
  "kernelspec": {
   "display_name": "predictorEnv",
   "language": "python",
   "name": "python3"
  },
  "language_info": {
   "codemirror_mode": {
    "name": "ipython",
    "version": 3
   },
   "file_extension": ".py",
   "mimetype": "text/x-python",
   "name": "python",
   "nbconvert_exporter": "python",
   "pygments_lexer": "ipython3",
   "version": "3.11.9"
  }
 },
 "nbformat": 4,
 "nbformat_minor": 2
}
