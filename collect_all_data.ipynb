{
 "cells": [
  {
   "cell_type": "code",
   "execution_count": 1,
   "metadata": {},
   "outputs": [],
   "source": [
    "# TODO\n",
    "# Keep track of stats for the entire team here https://gol.gg/teams/team-stats/2146/split-ALL/tournament-ALL/\n",
    "\n",
    "# There is a lot of overlap with the stats that are directly in the table\n",
    "\n",
    "# TODO\n",
    "# Implement the features on gol.gg premiums page as these are likely very valuable\n",
    "\n",
    "# TODO\n",
    "# Get all champs\n",
    "\n",
    "# TODO \n",
    "# Get all the items and index them"
   ]
  },
  {
   "cell_type": "code",
   "execution_count": 2,
   "metadata": {},
   "outputs": [],
   "source": [
    "import pandas as pd\n",
    "from scraper_scripts import scrape_all_game_info"
   ]
  },
  {
   "cell_type": "code",
   "execution_count": 3,
   "metadata": {},
   "outputs": [],
   "source": [
    "LEAGUES = ['LPL']\n",
    "GOL_YEAR_FORMAT = '202024'\n",
    "SEASONS = ['WINTER','SPRING']\n",
    "FORMATS = ['SEASON','PLAYOFFS']\n",
    "YEAR = '2024'\n",
    "\n",
    "ALL_MATCH_SUMMARY_DF = pd.DataFrame()\n",
    "ALL_CHAMP_SELECT_DF = pd.DataFrame()\n",
    "ALL_OVERALL_GAME_INFO_DF = pd.DataFrame()\n",
    "ALL_PLAYERS_STATS_DF = pd.DataFrame()"
   ]
  },
  {
   "cell_type": "code",
   "execution_count": 4,
   "metadata": {},
   "outputs": [
    {
     "name": "stdout",
     "output_type": "stream",
     "text": [
      "LPL WINTER SEASON\n",
      "0\n",
      "LPL WINTER PLAYOFFS\n",
      "0\n",
      "LPL SPRING SEASON\n",
      "324\n",
      "57414\n"
     ]
    },
    {
     "name": "stderr",
     "output_type": "stream",
     "text": [
      "c:\\Users\\joshu_rdnqgbx\\Documents\\lolLiveScorePredictor\\scraper_scripts\\scrape_all_game_info.py:356: FutureWarning: The behavior of DataFrame concatenation with empty or all-NA entries is deprecated. In a future version, this will no longer exclude empty or all-NA columns when determining the result dtypes. To retain the old behavior, exclude the relevant entries before the concat operation.\n",
      "  self.match_summary_df = pd.concat([self.match_summary_df,pd.DataFrame([new_record])],ignore_index=True)\n"
     ]
    },
    {
     "name": "stdout",
     "output_type": "stream",
     "text": [
      "LPL missing data\n",
      "LPL missing data\n"
     ]
    },
    {
     "ename": "ValueError",
     "evalue": "could not convert string to float: ''",
     "output_type": "error",
     "traceback": [
      "\u001b[1;31m---------------------------------------------------------------------------\u001b[0m",
      "\u001b[1;31mValueError\u001b[0m                                Traceback (most recent call last)",
      "Cell \u001b[1;32mIn[4], line 13\u001b[0m\n\u001b[0;32m      9\u001b[0m \u001b[38;5;28mprint\u001b[39m(league,season,\u001b[38;5;28mformat\u001b[39m)\n\u001b[0;32m     10\u001b[0m game_scraper \u001b[38;5;241m=\u001b[39m scrape_all_game_info\u001b[38;5;241m.\u001b[39mGameScraper(league,season,\u001b[38;5;28mformat\u001b[39m,YEAR,GOL_YEAR_FORMAT,\n\u001b[0;32m     11\u001b[0m                                                 scrape_game_info\u001b[38;5;241m=\u001b[39m\u001b[38;5;28;01mTrue\u001b[39;00m,scrape_champ_select\u001b[38;5;241m=\u001b[39m\u001b[38;5;28;01mTrue\u001b[39;00m,\n\u001b[0;32m     12\u001b[0m                                                 scrape_team_stats\u001b[38;5;241m=\u001b[39m\u001b[38;5;28;01mTrue\u001b[39;00m,scrape_player_stats\u001b[38;5;241m=\u001b[39m\u001b[38;5;28;01mTrue\u001b[39;00m)\n\u001b[1;32m---> 13\u001b[0m game_scraper\u001b[38;5;241m.\u001b[39mscrape_info()\n\u001b[0;32m     15\u001b[0m MATCH_SUMMARY_DF \u001b[38;5;241m=\u001b[39m pd\u001b[38;5;241m.\u001b[39mconcat([MATCH_SUMMARY_DF,game_scraper\u001b[38;5;241m.\u001b[39mmatch_summary_df], ignore_index\u001b[38;5;241m=\u001b[39m\u001b[38;5;28;01mTrue\u001b[39;00m, sort\u001b[38;5;241m=\u001b[39m\u001b[38;5;28;01mFalse\u001b[39;00m)\n\u001b[0;32m     16\u001b[0m CHAMP_SELECT_DF \u001b[38;5;241m=\u001b[39m pd\u001b[38;5;241m.\u001b[39mconcat([CHAMP_SELECT_DF,game_scraper\u001b[38;5;241m.\u001b[39mchamp_select_df], ignore_index\u001b[38;5;241m=\u001b[39m\u001b[38;5;28;01mTrue\u001b[39;00m, sort\u001b[38;5;241m=\u001b[39m\u001b[38;5;28;01mFalse\u001b[39;00m)\n",
      "File \u001b[1;32mc:\\Users\\joshu_rdnqgbx\\Documents\\lolLiveScorePredictor\\scraper_scripts\\scrape_all_game_info.py:373\u001b[0m, in \u001b[0;36mGameScraper.scrape_info\u001b[1;34m(self)\u001b[0m\n\u001b[0;32m    370\u001b[0m page \u001b[38;5;241m=\u001b[39m requests\u001b[38;5;241m.\u001b[39mget(game_info_url, headers\u001b[38;5;241m=\u001b[39m\u001b[38;5;28mself\u001b[39m\u001b[38;5;241m.\u001b[39mGAME_INFO_HEADERS)\n\u001b[0;32m    371\u001b[0m soup \u001b[38;5;241m=\u001b[39m BeautifulSoup(page\u001b[38;5;241m.\u001b[39mcontent, \u001b[38;5;124m'\u001b[39m\u001b[38;5;124mhtml.parser\u001b[39m\u001b[38;5;124m'\u001b[39m)\n\u001b[1;32m--> 373\u001b[0m player_stats \u001b[38;5;241m=\u001b[39m \u001b[38;5;28mself\u001b[39m\u001b[38;5;241m.\u001b[39mplayer_scraper\u001b[38;5;241m.\u001b[39mget_all_player_stats(soup,game_num)\n\u001b[0;32m    374\u001b[0m \u001b[38;5;28mself\u001b[39m\u001b[38;5;241m.\u001b[39mplayer_stats_df \u001b[38;5;241m=\u001b[39m pd\u001b[38;5;241m.\u001b[39mconcat([\u001b[38;5;28mself\u001b[39m\u001b[38;5;241m.\u001b[39mplayer_stats_df,player_stats],ignore_index\u001b[38;5;241m=\u001b[39m\u001b[38;5;28;01mTrue\u001b[39;00m)\n",
      "File \u001b[1;32mc:\\Users\\joshu_rdnqgbx\\Documents\\lolLiveScorePredictor\\scraper_scripts\\individual_player_scraper.py:46\u001b[0m, in \u001b[0;36mPlayerScraper.get_all_player_stats\u001b[1;34m(self, overall_soup, gol_game_num)\u001b[0m\n\u001b[0;32m     43\u001b[0m     \u001b[38;5;28;01mcontinue\u001b[39;00m\n\u001b[0;32m     45\u001b[0m \u001b[38;5;28;01mif\u001b[39;00m \u001b[38;5;124m'\u001b[39m\u001b[38;5;124m%\u001b[39m\u001b[38;5;124m'\u001b[39m \u001b[38;5;129;01min\u001b[39;00m key:\n\u001b[1;32m---> 46\u001b[0m     \u001b[38;5;28mself\u001b[39m\u001b[38;5;241m.\u001b[39mpayer_stats_df\u001b[38;5;241m.\u001b[39mloc[index,key] \u001b[38;5;241m=\u001b[39m \u001b[38;5;28mfloat\u001b[39m(info\u001b[38;5;241m.\u001b[39mtext\u001b[38;5;241m.\u001b[39mstrip()[:\u001b[38;5;241m-\u001b[39m\u001b[38;5;241m1\u001b[39m])\n\u001b[0;32m     47\u001b[0m     \u001b[38;5;28;01mcontinue\u001b[39;00m\n\u001b[0;32m     49\u001b[0m \u001b[38;5;28;01mif\u001b[39;00m info\u001b[38;5;241m.\u001b[39mtext\u001b[38;5;241m.\u001b[39mstrip() \u001b[38;5;241m==\u001b[39m \u001b[38;5;124m'\u001b[39m\u001b[38;5;124m'\u001b[39m:\n",
      "\u001b[1;31mValueError\u001b[0m: could not convert string to float: ''"
     ]
    }
   ],
   "source": [
    "for league in LEAGUES:\n",
    "\n",
    "    MATCH_SUMMARY_DF = pd.DataFrame()\n",
    "    CHAMP_SELECT_DF = pd.DataFrame()\n",
    "    OVERALL_GAME_INFO_DF = pd.DataFrame()\n",
    "    PLAYERS_STATS_DF = pd.DataFrame()\n",
    "    for season in SEASONS:\n",
    "        for format in FORMATS:\n",
    "            print(league,season,format)\n",
    "            game_scraper = scrape_all_game_info.GameScraper(league,season,format,YEAR,GOL_YEAR_FORMAT,\n",
    "                                                            scrape_game_info=True,scrape_champ_select=True,\n",
    "                                                            scrape_team_stats=True,scrape_player_stats=True)\n",
    "            game_scraper.scrape_info()\n",
    "\n",
    "            MATCH_SUMMARY_DF = pd.concat([MATCH_SUMMARY_DF,game_scraper.match_summary_df], ignore_index=True, sort=False)\n",
    "            CHAMP_SELECT_DF = pd.concat([CHAMP_SELECT_DF,game_scraper.champ_select_df], ignore_index=True, sort=False)\n",
    "            OVERALL_GAME_INFO_DF = pd.concat([OVERALL_GAME_INFO_DF,game_scraper.overall_game_info_df], ignore_index=True, sort=False)\n",
    "            PLAYERS_STATS_DF = pd.concat([PLAYERS_STATS_DF,game_scraper.player_stats_df], ignore_index=True, sort=False)\n",
    "\n",
    "    MATCH_SUMMARY_DF.to_csv(F'./data/{league}_MATCH_SUMMARY_{YEAR}.csv',index=False)\n",
    "    CHAMP_SELECT_DF.to_csv(F'./data/{league}_CHAMP_SELECT_{YEAR}.csv',index=False)\n",
    "    OVERALL_GAME_INFO_DF.to_csv(F'./data/{league}_OVERALL_GAME_INFO_{YEAR}.csv',index=False)\n",
    "    PLAYERS_STATS_DF.to_csv(F'./data/{league}_GAME_PLAYER_INFO_{YEAR}.csv',index=False)\n",
    "\n",
    "    ALL_MATCH_SUMMARY_DF = pd.concat([ALL_MATCH_SUMMARY_DF,MATCH_SUMMARY_DF],ignore_index=True, sort=False)\n",
    "    ALL_CHAMP_SELECT_DF = pd.concat([ALL_CHAMP_SELECT_DF,CHAMP_SELECT_DF],ignore_index=True, sort=False)\n",
    "    ALL_OVERALL_GAME_INFO_DF = pd.concat([ALL_OVERALL_GAME_INFO_DF,OVERALL_GAME_INFO_DF],ignore_index=True, sort=False)\n",
    "    ALL_PLAYERS_STATS_DF = pd.concat([ALL_PLAYERS_STATS_DF,PLAYERS_STATS_DF],ignore_index=True, sort=False)\n",
    "\n"
   ]
  },
  {
   "cell_type": "code",
   "execution_count": null,
   "metadata": {},
   "outputs": [],
   "source": [
    "ALL_MATCH_SUMMARY_DF.to_csv(F'./data/MATCH_SUMMARY_{YEAR}.csv',index=False)\n",
    "ALL_CHAMP_SELECT_DF.to_csv(F'./data/CHAMP_SELECT_{YEAR}.csv',index=False)\n",
    "ALL_OVERALL_GAME_INFO_DF.to_csv(F'./data/OVERALL_GAME_INFO_{YEAR}.csv',index=False)\n",
    "ALL_PLAYERS_STATS_DF.to_csv(F'./data/GAME_PLAYER_INFO_{YEAR}.csv',index=False)\n",
    "\n"
   ]
  }
 ],
 "metadata": {
  "kernelspec": {
   "display_name": "predictorEnv",
   "language": "python",
   "name": "python3"
  },
  "language_info": {
   "codemirror_mode": {
    "name": "ipython",
    "version": 3
   },
   "file_extension": ".py",
   "mimetype": "text/x-python",
   "name": "python",
   "nbconvert_exporter": "python",
   "pygments_lexer": "ipython3",
   "version": "3.11.9"
  }
 },
 "nbformat": 4,
 "nbformat_minor": 2
}
