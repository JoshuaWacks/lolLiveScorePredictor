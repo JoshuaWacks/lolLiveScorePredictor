{
 "cells": [
  {
   "cell_type": "code",
   "execution_count": 1,
   "metadata": {},
   "outputs": [],
   "source": [
    "import pandas as pd\n",
    "import datetime as datetime"
   ]
  },
  {
   "cell_type": "code",
   "execution_count": 2,
   "metadata": {},
   "outputs": [],
   "source": [
    "pd.set_option('display.max_rows', 500)"
   ]
  },
  {
   "cell_type": "code",
   "execution_count": 3,
   "metadata": {},
   "outputs": [
    {
     "data": {
      "text/html": [
       "<div>\n",
       "<style scoped>\n",
       "    .dataframe tbody tr th:only-of-type {\n",
       "        vertical-align: middle;\n",
       "    }\n",
       "\n",
       "    .dataframe tbody tr th {\n",
       "        vertical-align: top;\n",
       "    }\n",
       "\n",
       "    .dataframe thead th {\n",
       "        text-align: right;\n",
       "    }\n",
       "</style>\n",
       "<table border=\"1\" class=\"dataframe\">\n",
       "  <thead>\n",
       "    <tr style=\"text-align: right;\">\n",
       "      <th></th>\n",
       "      <th>gol_game_num</th>\n",
       "      <th>league</th>\n",
       "      <th>season</th>\n",
       "      <th>year</th>\n",
       "      <th>date</th>\n",
       "      <th>week</th>\n",
       "      <th>patch</th>\n",
       "      <th>format</th>\n",
       "      <th>game_in_format</th>\n",
       "      <th>game_length(min)</th>\n",
       "      <th>game_length(s)</th>\n",
       "      <th>red_team</th>\n",
       "      <th>blue_team</th>\n",
       "      <th>red_team_outcome</th>\n",
       "      <th>blue_team_outcome</th>\n",
       "      <th>winner</th>\n",
       "      <th>mvp</th>\n",
       "      <th>season_format</th>\n",
       "      <th>loser</th>\n",
       "    </tr>\n",
       "  </thead>\n",
       "  <tbody>\n",
       "    <tr>\n",
       "      <th>0</th>\n",
       "      <td>57867</td>\n",
       "      <td>LPL</td>\n",
       "      <td>SPRING</td>\n",
       "      <td>2024</td>\n",
       "      <td>2024-04-20</td>\n",
       "      <td>FINALS</td>\n",
       "      <td>14.6</td>\n",
       "      <td>BO5</td>\n",
       "      <td>1</td>\n",
       "      <td>43:17</td>\n",
       "      <td>2597</td>\n",
       "      <td>Top Esports</td>\n",
       "      <td>Bilibili Gaming</td>\n",
       "      <td>LOSS</td>\n",
       "      <td>WIN</td>\n",
       "      <td>Bilibili Gaming</td>\n",
       "      <td>NaN</td>\n",
       "      <td>PLAYOFFS</td>\n",
       "      <td>Top Esports</td>\n",
       "    </tr>\n",
       "    <tr>\n",
       "      <th>1</th>\n",
       "      <td>57868</td>\n",
       "      <td>LPL</td>\n",
       "      <td>SPRING</td>\n",
       "      <td>2024</td>\n",
       "      <td>2024-04-20</td>\n",
       "      <td>FINALS</td>\n",
       "      <td>14.6</td>\n",
       "      <td>BO5</td>\n",
       "      <td>2</td>\n",
       "      <td>23:12</td>\n",
       "      <td>1392</td>\n",
       "      <td>Bilibili Gaming</td>\n",
       "      <td>Top Esports</td>\n",
       "      <td>WIN</td>\n",
       "      <td>LOSS</td>\n",
       "      <td>Bilibili Gaming</td>\n",
       "      <td>NaN</td>\n",
       "      <td>PLAYOFFS</td>\n",
       "      <td>Top Esports</td>\n",
       "    </tr>\n",
       "    <tr>\n",
       "      <th>2</th>\n",
       "      <td>57869</td>\n",
       "      <td>LPL</td>\n",
       "      <td>SPRING</td>\n",
       "      <td>2024</td>\n",
       "      <td>2024-04-20</td>\n",
       "      <td>FINALS</td>\n",
       "      <td>14.6</td>\n",
       "      <td>BO5</td>\n",
       "      <td>3</td>\n",
       "      <td>36:43</td>\n",
       "      <td>2203</td>\n",
       "      <td>Bilibili Gaming</td>\n",
       "      <td>Top Esports</td>\n",
       "      <td>LOSS</td>\n",
       "      <td>WIN</td>\n",
       "      <td>Top Esports</td>\n",
       "      <td>NaN</td>\n",
       "      <td>PLAYOFFS</td>\n",
       "      <td>Bilibili Gaming</td>\n",
       "    </tr>\n",
       "    <tr>\n",
       "      <th>3</th>\n",
       "      <td>57870</td>\n",
       "      <td>LPL</td>\n",
       "      <td>SPRING</td>\n",
       "      <td>2024</td>\n",
       "      <td>2024-04-20</td>\n",
       "      <td>FINALS</td>\n",
       "      <td>14.6</td>\n",
       "      <td>BO5</td>\n",
       "      <td>4</td>\n",
       "      <td>32:40</td>\n",
       "      <td>1960</td>\n",
       "      <td>Top Esports</td>\n",
       "      <td>Bilibili Gaming</td>\n",
       "      <td>LOSS</td>\n",
       "      <td>WIN</td>\n",
       "      <td>Bilibili Gaming</td>\n",
       "      <td>NaN</td>\n",
       "      <td>PLAYOFFS</td>\n",
       "      <td>Top Esports</td>\n",
       "    </tr>\n",
       "    <tr>\n",
       "      <th>4</th>\n",
       "      <td>57844</td>\n",
       "      <td>LPL</td>\n",
       "      <td>SPRING</td>\n",
       "      <td>2024</td>\n",
       "      <td>2024-04-14</td>\n",
       "      <td>SEMIFINALS</td>\n",
       "      <td>14.6</td>\n",
       "      <td>BO5</td>\n",
       "      <td>1</td>\n",
       "      <td>29:34</td>\n",
       "      <td>1774</td>\n",
       "      <td>JD Gaming</td>\n",
       "      <td>Top Esports</td>\n",
       "      <td>LOSS</td>\n",
       "      <td>WIN</td>\n",
       "      <td>Top Esports</td>\n",
       "      <td>NaN</td>\n",
       "      <td>PLAYOFFS</td>\n",
       "      <td>JD Gaming</td>\n",
       "    </tr>\n",
       "  </tbody>\n",
       "</table>\n",
       "</div>"
      ],
      "text/plain": [
       "   gol_game_num league  season  year        date        week  patch format  \\\n",
       "0         57867    LPL  SPRING  2024  2024-04-20      FINALS   14.6    BO5   \n",
       "1         57868    LPL  SPRING  2024  2024-04-20      FINALS   14.6    BO5   \n",
       "2         57869    LPL  SPRING  2024  2024-04-20      FINALS   14.6    BO5   \n",
       "3         57870    LPL  SPRING  2024  2024-04-20      FINALS   14.6    BO5   \n",
       "4         57844    LPL  SPRING  2024  2024-04-14  SEMIFINALS   14.6    BO5   \n",
       "\n",
       "   game_in_format game_length(min)  game_length(s)         red_team  \\\n",
       "0               1            43:17            2597      Top Esports   \n",
       "1               2            23:12            1392  Bilibili Gaming   \n",
       "2               3            36:43            2203  Bilibili Gaming   \n",
       "3               4            32:40            1960      Top Esports   \n",
       "4               1            29:34            1774        JD Gaming   \n",
       "\n",
       "         blue_team red_team_outcome blue_team_outcome           winner  mvp  \\\n",
       "0  Bilibili Gaming             LOSS               WIN  Bilibili Gaming  NaN   \n",
       "1      Top Esports              WIN              LOSS  Bilibili Gaming  NaN   \n",
       "2      Top Esports             LOSS               WIN      Top Esports  NaN   \n",
       "3  Bilibili Gaming             LOSS               WIN  Bilibili Gaming  NaN   \n",
       "4      Top Esports             LOSS               WIN      Top Esports  NaN   \n",
       "\n",
       "  season_format            loser  \n",
       "0      PLAYOFFS      Top Esports  \n",
       "1      PLAYOFFS      Top Esports  \n",
       "2      PLAYOFFS  Bilibili Gaming  \n",
       "3      PLAYOFFS      Top Esports  \n",
       "4      PLAYOFFS        JD Gaming  "
      ]
     },
     "execution_count": 3,
     "metadata": {},
     "output_type": "execute_result"
    }
   ],
   "source": [
    "gol_games_df = pd.read_csv('../../post_champ_selection/data/MATCH_SUMMARY_2024.csv')\n",
    "gol_games_df.head()\n"
   ]
  },
  {
   "cell_type": "code",
   "execution_count": 4,
   "metadata": {},
   "outputs": [
    {
     "data": {
      "text/plain": [
       "array(['FINALS', 'SEMIFINALS', 'ROUND4', 'ROUND3', 'ROUND2', 'ROUND1',\n",
       "       'WEEK9', 'WEEK8', 'WEEK7', 'WEEK6', 'WEEK5', 'WEEK4', 'WEEK3',\n",
       "       'WEEK2', 'WEEK1', 'TIEBREAKERS'], dtype=object)"
      ]
     },
     "execution_count": 4,
     "metadata": {},
     "output_type": "execute_result"
    }
   ],
   "source": [
    "gol_games_df.week.unique()"
   ]
  },
  {
   "cell_type": "code",
   "execution_count": 5,
   "metadata": {},
   "outputs": [
    {
     "data": {
      "text/html": [
       "<div>\n",
       "<style scoped>\n",
       "    .dataframe tbody tr th:only-of-type {\n",
       "        vertical-align: middle;\n",
       "    }\n",
       "\n",
       "    .dataframe tbody tr th {\n",
       "        vertical-align: top;\n",
       "    }\n",
       "\n",
       "    .dataframe thead th {\n",
       "        text-align: right;\n",
       "    }\n",
       "</style>\n",
       "<table border=\"1\" class=\"dataframe\">\n",
       "  <thead>\n",
       "    <tr style=\"text-align: right;\">\n",
       "      <th></th>\n",
       "      <th>startTime</th>\n",
       "      <th>blockName</th>\n",
       "      <th>league</th>\n",
       "      <th>match_id</th>\n",
       "      <th>type</th>\n",
       "      <th>team_1_name</th>\n",
       "      <th>team_1_code</th>\n",
       "      <th>team_1_result</th>\n",
       "      <th>team_2_name</th>\n",
       "      <th>team_2_code</th>\n",
       "      <th>team_2_result</th>\n",
       "      <th>format</th>\n",
       "      <th>games</th>\n",
       "    </tr>\n",
       "  </thead>\n",
       "  <tbody>\n",
       "    <tr>\n",
       "      <th>0</th>\n",
       "      <td>2024-03-09T16:00:00Z</td>\n",
       "      <td>Week 1</td>\n",
       "      <td>LEC</td>\n",
       "      <td>111997906552170246</td>\n",
       "      <td>normal</td>\n",
       "      <td>Team Vitality</td>\n",
       "      <td>VIT</td>\n",
       "      <td>1</td>\n",
       "      <td>Team Heretics</td>\n",
       "      <td>TH</td>\n",
       "      <td>0</td>\n",
       "      <td>bestOf_1</td>\n",
       "      <td>[['111997906552170247', [{'parameter': 'JlLMX8...</td>\n",
       "    </tr>\n",
       "    <tr>\n",
       "      <th>1</th>\n",
       "      <td>2024-03-09T17:00:00Z</td>\n",
       "      <td>Week 1</td>\n",
       "      <td>LEC</td>\n",
       "      <td>111997906552104652</td>\n",
       "      <td>normal</td>\n",
       "      <td>Fnatic</td>\n",
       "      <td>FNC</td>\n",
       "      <td>1</td>\n",
       "      <td>Rogue</td>\n",
       "      <td>RGE</td>\n",
       "      <td>0</td>\n",
       "      <td>bestOf_1</td>\n",
       "      <td>[['111997906552104653', [{'parameter': 'u7u4P3...</td>\n",
       "    </tr>\n",
       "    <tr>\n",
       "      <th>2</th>\n",
       "      <td>2024-03-09T18:00:00Z</td>\n",
       "      <td>Week 1</td>\n",
       "      <td>LEC</td>\n",
       "      <td>111997906552104656</td>\n",
       "      <td>normal</td>\n",
       "      <td>Team BDS</td>\n",
       "      <td>BDS</td>\n",
       "      <td>0</td>\n",
       "      <td>G2 Esports</td>\n",
       "      <td>G2</td>\n",
       "      <td>1</td>\n",
       "      <td>bestOf_1</td>\n",
       "      <td>[['111997906552104657', [{'parameter': 'vA1IMd...</td>\n",
       "    </tr>\n",
       "    <tr>\n",
       "      <th>3</th>\n",
       "      <td>2024-03-09T19:00:00Z</td>\n",
       "      <td>Week 1</td>\n",
       "      <td>LEC</td>\n",
       "      <td>111997906552104672</td>\n",
       "      <td>normal</td>\n",
       "      <td>Karmine Corp</td>\n",
       "      <td>KC</td>\n",
       "      <td>1</td>\n",
       "      <td>GIANTX</td>\n",
       "      <td>GX</td>\n",
       "      <td>0</td>\n",
       "      <td>bestOf_1</td>\n",
       "      <td>[['111997906552104673', [{'parameter': '6P57zZ...</td>\n",
       "    </tr>\n",
       "    <tr>\n",
       "      <th>4</th>\n",
       "      <td>2024-03-09T20:00:00Z</td>\n",
       "      <td>Week 1</td>\n",
       "      <td>LEC</td>\n",
       "      <td>111997906552170250</td>\n",
       "      <td>normal</td>\n",
       "      <td>MAD Lions KOI</td>\n",
       "      <td>MDK</td>\n",
       "      <td>1</td>\n",
       "      <td>SK Gaming</td>\n",
       "      <td>SK</td>\n",
       "      <td>0</td>\n",
       "      <td>bestOf_1</td>\n",
       "      <td>[['111997906552170251', [{'parameter': 'qDNqLb...</td>\n",
       "    </tr>\n",
       "  </tbody>\n",
       "</table>\n",
       "</div>"
      ],
      "text/plain": [
       "              startTime blockName league            match_id    type  \\\n",
       "0  2024-03-09T16:00:00Z    Week 1    LEC  111997906552170246  normal   \n",
       "1  2024-03-09T17:00:00Z    Week 1    LEC  111997906552104652  normal   \n",
       "2  2024-03-09T18:00:00Z    Week 1    LEC  111997906552104656  normal   \n",
       "3  2024-03-09T19:00:00Z    Week 1    LEC  111997906552104672  normal   \n",
       "4  2024-03-09T20:00:00Z    Week 1    LEC  111997906552170250  normal   \n",
       "\n",
       "     team_1_name team_1_code  team_1_result    team_2_name team_2_code  \\\n",
       "0  Team Vitality         VIT              1  Team Heretics          TH   \n",
       "1         Fnatic         FNC              1          Rogue         RGE   \n",
       "2       Team BDS         BDS              0     G2 Esports          G2   \n",
       "3   Karmine Corp          KC              1         GIANTX          GX   \n",
       "4  MAD Lions KOI         MDK              1      SK Gaming          SK   \n",
       "\n",
       "   team_2_result    format                                              games  \n",
       "0              0  bestOf_1  [['111997906552170247', [{'parameter': 'JlLMX8...  \n",
       "1              0  bestOf_1  [['111997906552104653', [{'parameter': 'u7u4P3...  \n",
       "2              1  bestOf_1  [['111997906552104657', [{'parameter': 'vA1IMd...  \n",
       "3              0  bestOf_1  [['111997906552104673', [{'parameter': '6P57zZ...  \n",
       "4              0  bestOf_1  [['111997906552170251', [{'parameter': 'qDNqLb...  "
      ]
     },
     "execution_count": 5,
     "metadata": {},
     "output_type": "execute_result"
    }
   ],
   "source": [
    "lol_game_df = pd.read_csv('../data/event.csv')\n",
    "lol_game_df.head()"
   ]
  },
  {
   "cell_type": "code",
   "execution_count": 6,
   "metadata": {},
   "outputs": [
    {
     "data": {
      "text/plain": [
       "array(['normal', 'tiebreaker'], dtype=object)"
      ]
     },
     "execution_count": 6,
     "metadata": {},
     "output_type": "execute_result"
    }
   ],
   "source": [
    "lol_game_df.type.unique()"
   ]
  },
  {
   "cell_type": "code",
   "execution_count": 7,
   "metadata": {},
   "outputs": [],
   "source": [
    "gol_games_df = pd.DataFrame(gol_games_df[gol_games_df['league'] != 'LPL'].reset_index())\n",
    "_ = gol_games_df.pop('mvp')\n",
    "gol_games_df['date'] = pd.to_datetime(gol_games_df['date']).dt.date\n",
    "\n",
    "lol_game_df['startTime'] = pd.to_datetime(lol_game_df['startTime'])\n"
   ]
  },
  {
   "cell_type": "code",
   "execution_count": 8,
   "metadata": {},
   "outputs": [
    {
     "name": "stdout",
     "output_type": "stream",
     "text": [
      "28\n",
      "28\n"
     ]
    }
   ],
   "source": [
    "gol_games_df['red_team'].unique()\n",
    "print(len(gol_games_df['red_team'].unique()))\n",
    "\n",
    "lol_game_df['team_1_name'].unique()\n",
    "print(len(lol_game_df['team_1_name'].unique()))\n",
    "\n",
    "for team in lol_game_df['team_1_name'].unique():\n",
    "    if team not in set(gol_games_df['red_team'].unique()):\n",
    "        print(team)                       \n",
    "\n",
    "for team in gol_games_df['red_team'].unique():\n",
    "    if team not in set(lol_game_df['team_1_name'].unique()):\n",
    "        print(team)           "
   ]
  },
  {
   "cell_type": "code",
   "execution_count": 9,
   "metadata": {},
   "outputs": [
    {
     "data": {
      "text/plain": [
       "True"
      ]
     },
     "execution_count": 9,
     "metadata": {},
     "output_type": "execute_result"
    }
   ],
   "source": [
    "set(lol_game_df['team_1_name'].unique()).issubset(set(gol_games_df['red_team'].unique()))"
   ]
  },
  {
   "cell_type": "code",
   "execution_count": 10,
   "metadata": {},
   "outputs": [],
   "source": [
    "gol_games_df['riot_match_id'] = ''\n",
    "gol_games_df['min_start_time'] = ''\n"
   ]
  },
  {
   "cell_type": "code",
   "execution_count": 11,
   "metadata": {},
   "outputs": [
    {
     "data": {
      "text/plain": [
       "'LOSS'"
      ]
     },
     "execution_count": 11,
     "metadata": {},
     "output_type": "execute_result"
    }
   ],
   "source": [
    "t1_outcome = 'LOSS' if lol_game_df.iloc[2]['team_1_result'] == 0 else 'WIN'\n",
    "t1_outcome"
   ]
  },
  {
   "cell_type": "code",
   "execution_count": 12,
   "metadata": {},
   "outputs": [
    {
     "name": "stdout",
     "output_type": "stream",
     "text": [
      "456\n",
      "41\n",
      "460\n",
      "45\n"
     ]
    }
   ],
   "source": [
    "seen_mri = set()\n",
    "for index, row in lol_game_df.iterrows():\n",
    "    # if row['match_id'] != 111861082639032027:\n",
    "    #     continue\n",
    "    \n",
    "    match_indexes = []\n",
    "    base_match_id = row['match_id']\n",
    "    base_start_time = row['startTime']\n",
    "    riot_patch = row['startTime']\n",
    "\n",
    "\n",
    "    conv_date = row['startTime']\n",
    "    if conv_date.time() == datetime.time(0, 0):\n",
    "        conv_date = conv_date - pd.to_timedelta(1, unit='d')\n",
    "    conv_date = conv_date.date()\n",
    "\n",
    "    t1_outcome = 'LOSS' if row['team_1_result'] == 0 else 'WIN'\n",
    "    t2_outcome = 'LOSS' if row['team_2_result'] == 0 else 'WIN'\n",
    "    \n",
    "    matching_row = gol_games_df[((gol_games_df['red_team'] == row['team_1_name']) & (gol_games_df['blue_team'] == row['team_2_name'])\n",
    "                                  & (gol_games_df['date'] == conv_date))]\n",
    "                                #   & (gol_games_df['red_team_outcome'] == t1_outcome) & (gol_games_df['blue_team_outcome'] == t2_outcome) )]\n",
    "    match_indexes.extend(matching_row.index)\n",
    "    \n",
    "    matching_row = gol_games_df[((gol_games_df['blue_team'] == row['team_1_name']) & (gol_games_df['red_team'] == row['team_2_name'])\n",
    "                                  & (gol_games_df['date'] == conv_date))]\n",
    "                                #   & (gol_games_df['blue_team_outcome'] == t1_outcome) & (gol_games_df['red_team_outcome'] == t2_outcome) )]\n",
    "    match_indexes.extend(matching_row.index)\n",
    "    \n",
    "    match_indexes.sort()\n",
    "    time_played_s = 0\n",
    "    for mri in match_indexes:\n",
    "        found_row = gol_games_df.iloc[mri]\n",
    "        if (found_row['week'] == 'TIEBREAKERS' and row['type'] != 'tiebreaker') or (found_row['week'] != 'TIEBREAKERS' and row['type'] == 'tiebreaker'):\n",
    "            print(mri)\n",
    "            print(index)\n",
    "            continue\n",
    "        if mri in seen_mri:\n",
    "            print(mri)\n",
    "            print(index)\n",
    "        seen_mri.add(mri)\n",
    "\n",
    "        \n",
    "        gif = int(found_row['game_in_format'])\n",
    "        gol_games_df.at[mri,'riot_match_id'] = base_match_id + gif\n",
    "        if gif == 1:\n",
    "            gol_games_df.at[mri,'min_start_time'] = base_start_time\n",
    "        else:\n",
    "            gol_games_df.at[mri,'min_start_time'] = base_start_time + pd.to_timedelta(time_played_s, unit='s')\n",
    "                \n",
    "        time_played_s = time_played_s + found_row['game_length(s)']"
   ]
  },
  {
   "cell_type": "code",
   "execution_count": null,
   "metadata": {},
   "outputs": [],
   "source": [
    "gol_games_df.isnull().values.any()"
   ]
  },
  {
   "cell_type": "code",
   "execution_count": null,
   "metadata": {},
   "outputs": [],
   "source": [
    "gol_games_df"
   ]
  },
  {
   "cell_type": "code",
   "execution_count": 13,
   "metadata": {},
   "outputs": [
    {
     "data": {
      "text/html": [
       "<div>\n",
       "<style scoped>\n",
       "    .dataframe tbody tr th:only-of-type {\n",
       "        vertical-align: middle;\n",
       "    }\n",
       "\n",
       "    .dataframe tbody tr th {\n",
       "        vertical-align: top;\n",
       "    }\n",
       "\n",
       "    .dataframe thead th {\n",
       "        text-align: right;\n",
       "    }\n",
       "</style>\n",
       "<table border=\"1\" class=\"dataframe\">\n",
       "  <thead>\n",
       "    <tr style=\"text-align: right;\">\n",
       "      <th></th>\n",
       "      <th>index</th>\n",
       "      <th>gol_game_num</th>\n",
       "      <th>league</th>\n",
       "      <th>season</th>\n",
       "      <th>year</th>\n",
       "      <th>date</th>\n",
       "      <th>week</th>\n",
       "      <th>patch</th>\n",
       "      <th>format</th>\n",
       "      <th>game_in_format</th>\n",
       "      <th>...</th>\n",
       "      <th>game_length(s)</th>\n",
       "      <th>red_team</th>\n",
       "      <th>blue_team</th>\n",
       "      <th>red_team_outcome</th>\n",
       "      <th>blue_team_outcome</th>\n",
       "      <th>winner</th>\n",
       "      <th>season_format</th>\n",
       "      <th>loser</th>\n",
       "      <th>riot_match_id</th>\n",
       "      <th>min_start_time</th>\n",
       "    </tr>\n",
       "  </thead>\n",
       "  <tbody>\n",
       "  </tbody>\n",
       "</table>\n",
       "<p>0 rows × 21 columns</p>\n",
       "</div>"
      ],
      "text/plain": [
       "Empty DataFrame\n",
       "Columns: [index, gol_game_num, league, season, year, date, week, patch, format, game_in_format, game_length(min), game_length(s), red_team, blue_team, red_team_outcome, blue_team_outcome, winner, season_format, loser, riot_match_id, min_start_time]\n",
       "Index: []\n",
       "\n",
       "[0 rows x 21 columns]"
      ]
     },
     "execution_count": 13,
     "metadata": {},
     "output_type": "execute_result"
    }
   ],
   "source": [
    "gol_games_df[gol_games_df.duplicated(['riot_match_id'], keep=False)]"
   ]
  },
  {
   "cell_type": "code",
   "execution_count": 18,
   "metadata": {},
   "outputs": [],
   "source": [
    "gol_games_df.to_csv('../data/gol_with_match_ids.csv',index=False)"
   ]
  },
  {
   "cell_type": "code",
   "execution_count": null,
   "metadata": {},
   "outputs": [],
   "source": [
    "print(gol_games_df.iloc[270])"
   ]
  },
  {
   "cell_type": "code",
   "execution_count": null,
   "metadata": {},
   "outputs": [],
   "source": [
    "print(gol_games_df.iloc[271])"
   ]
  },
  {
   "cell_type": "code",
   "execution_count": null,
   "metadata": {},
   "outputs": [],
   "source": [
    "len(gol_games_df)"
   ]
  },
  {
   "cell_type": "code",
   "execution_count": null,
   "metadata": {},
   "outputs": [],
   "source": [
    "len(lol_game_df)"
   ]
  },
  {
   "cell_type": "code",
   "execution_count": null,
   "metadata": {},
   "outputs": [],
   "source": [
    "sum"
   ]
  }
 ],
 "metadata": {
  "kernelspec": {
   "display_name": "predictorEnv",
   "language": "python",
   "name": "python3"
  },
  "language_info": {
   "codemirror_mode": {
    "name": "ipython",
    "version": 3
   },
   "file_extension": ".py",
   "mimetype": "text/x-python",
   "name": "python",
   "nbconvert_exporter": "python",
   "pygments_lexer": "ipython3",
   "version": "3.11.9"
  }
 },
 "nbformat": 4,
 "nbformat_minor": 2
}
