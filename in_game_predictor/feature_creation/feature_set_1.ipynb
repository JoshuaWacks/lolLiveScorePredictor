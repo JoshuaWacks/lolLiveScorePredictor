{
 "cells": [
  {
   "cell_type": "code",
   "execution_count": 1,
   "metadata": {},
   "outputs": [],
   "source": [
    "import pandas as pd\n",
    "import os\n",
    "from sklearn import preprocessing \n"
   ]
  },
  {
   "cell_type": "code",
   "execution_count": 2,
   "metadata": {},
   "outputs": [],
   "source": [
    "# test_df = pd.read_csv('../data/in_game_data/match_time_data_LCK_0_50.csv')"
   ]
  },
  {
   "cell_type": "code",
   "execution_count": 3,
   "metadata": {},
   "outputs": [],
   "source": [
    "champ_df = pd.read_csv('../../post_champ_selection/data/gameData1451/champs.csv')\n",
    "champ_df['champ_index'] = champ_df.index\n",
    "champ_df = champ_df[['name','champ_index']]"
   ]
  },
  {
   "cell_type": "code",
   "execution_count": 4,
   "metadata": {},
   "outputs": [],
   "source": [
    "\n",
    "# folder = '../data/in_game_data'\n",
    "# for file in os.listdir(folder):\n",
    "#     test_df = pd.read_csv(os.path.join(folder,file))\n",
    "\n",
    "#     for clr in ['blue','red']:\n",
    "#         for i,pos in enumerate(['top','jungle','mid','bot','supp']):\n",
    "#             for c in test_df[F\"{clr}_{pos}_champ\"].unique():\n",
    "#                 print(c)\n",
    "#                 if len(champ_df[champ_df['name'] == c].champ_index) != 1:\n",
    "#                     print(c,len(champ_df[champ_df['name'] == c].champ_index))"
   ]
  },
  {
   "cell_type": "code",
   "execution_count": 5,
   "metadata": {},
   "outputs": [],
   "source": [
    "# test_df['red_supp_champ'] = test_df['red_supp_champ'].apply(lambda x: champ_df[champ_df['name'] == x].champ_index.index[0])\n"
   ]
  },
  {
   "cell_type": "code",
   "execution_count": 6,
   "metadata": {},
   "outputs": [],
   "source": [
    "# champ_df[champ_df['name'] == test_df.iloc[0]['red_supp_champ']].champ_index"
   ]
  },
  {
   "cell_type": "code",
   "execution_count": 7,
   "metadata": {},
   "outputs": [],
   "source": [
    "# test_df.iloc[0]['red_supp_champ']"
   ]
  },
  {
   "cell_type": "code",
   "execution_count": 8,
   "metadata": {},
   "outputs": [],
   "source": [
    "def get_unix_time(row):\n",
    "    try:\n",
    "        return (pd.to_datetime(row['rfc460Timestamp'],format='%Y-%m-%dT%H:%M:%S.%fZ')- pd.Timestamp(\"1970-01-01\")) // pd.Timedelta('1s')\n",
    "    except ValueError:\n",
    "        return (pd.to_datetime(row['rfc460Timestamp'],format='%Y-%m-%dT%H:%M:%SZ')- pd.Timestamp(\"1970-01-01\")) // pd.Timedelta('1s')\n",
    "\n",
    "    # return (pd.to_datetime(row['rfc460Timestamp'],format='ISO8601')- pd.Timestamp(\"1970-01-01\")) // pd.Timedelta('1s')\n"
   ]
  },
  {
   "cell_type": "code",
   "execution_count": 9,
   "metadata": {},
   "outputs": [],
   "source": [
    "\n",
    "\n",
    "def clean_df(df):\n",
    "    df = df.drop_duplicates()\n",
    "\n",
    "    curr_match_id = df.iloc[0]['riot_match_id']\n",
    "    curr_match_start_time = get_unix_time(df.iloc[0])\n",
    "    df.at[0,'time_in_game'] = 0\n",
    "\n",
    "    for index,row in df.iterrows():\n",
    "        if row['riot_match_id'] ==  curr_match_id:\n",
    "            df.at[index,'time_in_game'] = get_unix_time(row)-curr_match_start_time\n",
    "        else:\n",
    "            curr_match_id = row['riot_match_id']\n",
    "            curr_match_start_time = get_unix_time(row)\n",
    "            df.at[index,'time_in_game'] = 0\n",
    "\n",
    "    for clr in ['blue','red']:\n",
    "        for i,pos in enumerate(['top','jungle','mid','bot','supp']):\n",
    "            col = F\"{clr}_{pos}_champ\"\n",
    "\n",
    "            df[col] = df[col].apply(lambda x: champ_df[champ_df['name'] == x].champ_index.index[0])\n",
    "            # df.at[index,col] = champ_df[champ_df['name'] == row[col]].champ_index\n",
    " \n",
    "\n",
    "    return df\n"
   ]
  },
  {
   "cell_type": "code",
   "execution_count": 10,
   "metadata": {},
   "outputs": [
    {
     "name": "stderr",
     "output_type": "stream",
     "text": [
      "C:\\Users\\joshu_rdnqgbx\\AppData\\Local\\Temp\\ipykernel_14284\\1690390222.py:6: SettingWithCopyWarning: \n",
      "A value is trying to be set on a copy of a slice from a DataFrame.\n",
      "Try using .loc[row_indexer,col_indexer] = value instead\n",
      "\n",
      "See the caveats in the documentation: https://pandas.pydata.org/pandas-docs/stable/user_guide/indexing.html#returning-a-view-versus-a-copy\n",
      "  df.at[0,'time_in_game'] = 0\n",
      "C:\\Users\\joshu_rdnqgbx\\AppData\\Local\\Temp\\ipykernel_14284\\1690390222.py:20: SettingWithCopyWarning: \n",
      "A value is trying to be set on a copy of a slice from a DataFrame.\n",
      "Try using .loc[row_indexer,col_indexer] = value instead\n",
      "\n",
      "See the caveats in the documentation: https://pandas.pydata.org/pandas-docs/stable/user_guide/indexing.html#returning-a-view-versus-a-copy\n",
      "  df[col] = df[col].apply(lambda x: champ_df[champ_df['name'] == x].champ_index.index[0])\n",
      "C:\\Users\\joshu_rdnqgbx\\AppData\\Local\\Temp\\ipykernel_14284\\1690390222.py:6: SettingWithCopyWarning: \n",
      "A value is trying to be set on a copy of a slice from a DataFrame.\n",
      "Try using .loc[row_indexer,col_indexer] = value instead\n",
      "\n",
      "See the caveats in the documentation: https://pandas.pydata.org/pandas-docs/stable/user_guide/indexing.html#returning-a-view-versus-a-copy\n",
      "  df.at[0,'time_in_game'] = 0\n",
      "C:\\Users\\joshu_rdnqgbx\\AppData\\Local\\Temp\\ipykernel_14284\\1690390222.py:20: SettingWithCopyWarning: \n",
      "A value is trying to be set on a copy of a slice from a DataFrame.\n",
      "Try using .loc[row_indexer,col_indexer] = value instead\n",
      "\n",
      "See the caveats in the documentation: https://pandas.pydata.org/pandas-docs/stable/user_guide/indexing.html#returning-a-view-versus-a-copy\n",
      "  df[col] = df[col].apply(lambda x: champ_df[champ_df['name'] == x].champ_index.index[0])\n",
      "C:\\Users\\joshu_rdnqgbx\\AppData\\Local\\Temp\\ipykernel_14284\\1690390222.py:6: SettingWithCopyWarning: \n",
      "A value is trying to be set on a copy of a slice from a DataFrame.\n",
      "Try using .loc[row_indexer,col_indexer] = value instead\n",
      "\n",
      "See the caveats in the documentation: https://pandas.pydata.org/pandas-docs/stable/user_guide/indexing.html#returning-a-view-versus-a-copy\n",
      "  df.at[0,'time_in_game'] = 0\n",
      "C:\\Users\\joshu_rdnqgbx\\AppData\\Local\\Temp\\ipykernel_14284\\1690390222.py:20: SettingWithCopyWarning: \n",
      "A value is trying to be set on a copy of a slice from a DataFrame.\n",
      "Try using .loc[row_indexer,col_indexer] = value instead\n",
      "\n",
      "See the caveats in the documentation: https://pandas.pydata.org/pandas-docs/stable/user_guide/indexing.html#returning-a-view-versus-a-copy\n",
      "  df[col] = df[col].apply(lambda x: champ_df[champ_df['name'] == x].champ_index.index[0])\n",
      "C:\\Users\\joshu_rdnqgbx\\AppData\\Local\\Temp\\ipykernel_14284\\1690390222.py:6: SettingWithCopyWarning: \n",
      "A value is trying to be set on a copy of a slice from a DataFrame.\n",
      "Try using .loc[row_indexer,col_indexer] = value instead\n",
      "\n",
      "See the caveats in the documentation: https://pandas.pydata.org/pandas-docs/stable/user_guide/indexing.html#returning-a-view-versus-a-copy\n",
      "  df.at[0,'time_in_game'] = 0\n",
      "C:\\Users\\joshu_rdnqgbx\\AppData\\Local\\Temp\\ipykernel_14284\\1690390222.py:20: SettingWithCopyWarning: \n",
      "A value is trying to be set on a copy of a slice from a DataFrame.\n",
      "Try using .loc[row_indexer,col_indexer] = value instead\n",
      "\n",
      "See the caveats in the documentation: https://pandas.pydata.org/pandas-docs/stable/user_guide/indexing.html#returning-a-view-versus-a-copy\n",
      "  df[col] = df[col].apply(lambda x: champ_df[champ_df['name'] == x].champ_index.index[0])\n",
      "C:\\Users\\joshu_rdnqgbx\\AppData\\Local\\Temp\\ipykernel_14284\\1690390222.py:6: SettingWithCopyWarning: \n",
      "A value is trying to be set on a copy of a slice from a DataFrame.\n",
      "Try using .loc[row_indexer,col_indexer] = value instead\n",
      "\n",
      "See the caveats in the documentation: https://pandas.pydata.org/pandas-docs/stable/user_guide/indexing.html#returning-a-view-versus-a-copy\n",
      "  df.at[0,'time_in_game'] = 0\n",
      "C:\\Users\\joshu_rdnqgbx\\AppData\\Local\\Temp\\ipykernel_14284\\1690390222.py:20: SettingWithCopyWarning: \n",
      "A value is trying to be set on a copy of a slice from a DataFrame.\n",
      "Try using .loc[row_indexer,col_indexer] = value instead\n",
      "\n",
      "See the caveats in the documentation: https://pandas.pydata.org/pandas-docs/stable/user_guide/indexing.html#returning-a-view-versus-a-copy\n",
      "  df[col] = df[col].apply(lambda x: champ_df[champ_df['name'] == x].champ_index.index[0])\n",
      "C:\\Users\\joshu_rdnqgbx\\AppData\\Local\\Temp\\ipykernel_14284\\1690390222.py:6: SettingWithCopyWarning: \n",
      "A value is trying to be set on a copy of a slice from a DataFrame.\n",
      "Try using .loc[row_indexer,col_indexer] = value instead\n",
      "\n",
      "See the caveats in the documentation: https://pandas.pydata.org/pandas-docs/stable/user_guide/indexing.html#returning-a-view-versus-a-copy\n",
      "  df.at[0,'time_in_game'] = 0\n",
      "C:\\Users\\joshu_rdnqgbx\\AppData\\Local\\Temp\\ipykernel_14284\\1690390222.py:20: SettingWithCopyWarning: \n",
      "A value is trying to be set on a copy of a slice from a DataFrame.\n",
      "Try using .loc[row_indexer,col_indexer] = value instead\n",
      "\n",
      "See the caveats in the documentation: https://pandas.pydata.org/pandas-docs/stable/user_guide/indexing.html#returning-a-view-versus-a-copy\n",
      "  df[col] = df[col].apply(lambda x: champ_df[champ_df['name'] == x].champ_index.index[0])\n",
      "C:\\Users\\joshu_rdnqgbx\\AppData\\Local\\Temp\\ipykernel_14284\\1690390222.py:6: SettingWithCopyWarning: \n",
      "A value is trying to be set on a copy of a slice from a DataFrame.\n",
      "Try using .loc[row_indexer,col_indexer] = value instead\n",
      "\n",
      "See the caveats in the documentation: https://pandas.pydata.org/pandas-docs/stable/user_guide/indexing.html#returning-a-view-versus-a-copy\n",
      "  df.at[0,'time_in_game'] = 0\n",
      "C:\\Users\\joshu_rdnqgbx\\AppData\\Local\\Temp\\ipykernel_14284\\1690390222.py:20: SettingWithCopyWarning: \n",
      "A value is trying to be set on a copy of a slice from a DataFrame.\n",
      "Try using .loc[row_indexer,col_indexer] = value instead\n",
      "\n",
      "See the caveats in the documentation: https://pandas.pydata.org/pandas-docs/stable/user_guide/indexing.html#returning-a-view-versus-a-copy\n",
      "  df[col] = df[col].apply(lambda x: champ_df[champ_df['name'] == x].champ_index.index[0])\n",
      "C:\\Users\\joshu_rdnqgbx\\AppData\\Local\\Temp\\ipykernel_14284\\1690390222.py:6: SettingWithCopyWarning: \n",
      "A value is trying to be set on a copy of a slice from a DataFrame.\n",
      "Try using .loc[row_indexer,col_indexer] = value instead\n",
      "\n",
      "See the caveats in the documentation: https://pandas.pydata.org/pandas-docs/stable/user_guide/indexing.html#returning-a-view-versus-a-copy\n",
      "  df.at[0,'time_in_game'] = 0\n",
      "C:\\Users\\joshu_rdnqgbx\\AppData\\Local\\Temp\\ipykernel_14284\\1690390222.py:20: SettingWithCopyWarning: \n",
      "A value is trying to be set on a copy of a slice from a DataFrame.\n",
      "Try using .loc[row_indexer,col_indexer] = value instead\n",
      "\n",
      "See the caveats in the documentation: https://pandas.pydata.org/pandas-docs/stable/user_guide/indexing.html#returning-a-view-versus-a-copy\n",
      "  df[col] = df[col].apply(lambda x: champ_df[champ_df['name'] == x].champ_index.index[0])\n"
     ]
    }
   ],
   "source": [
    "overall_df = pd.DataFrame()\n",
    "folder = '../data/in_game_data'\n",
    "\n",
    "for file in os.listdir(folder):\n",
    "    \n",
    "    temp_df = pd.read_csv(os.path.join(folder,file))\n",
    "    cleaned_df = clean_df(temp_df)\n",
    "\n",
    "    overall_df = pd.concat([overall_df, cleaned_df], ignore_index=True, sort=False)"
   ]
  },
  {
   "cell_type": "code",
   "execution_count": 11,
   "metadata": {},
   "outputs": [
    {
     "data": {
      "text/html": [
       "<div>\n",
       "<style scoped>\n",
       "    .dataframe tbody tr th:only-of-type {\n",
       "        vertical-align: middle;\n",
       "    }\n",
       "\n",
       "    .dataframe tbody tr th {\n",
       "        vertical-align: top;\n",
       "    }\n",
       "\n",
       "    .dataframe thead th {\n",
       "        text-align: right;\n",
       "    }\n",
       "</style>\n",
       "<table border=\"1\" class=\"dataframe\">\n",
       "  <thead>\n",
       "    <tr style=\"text-align: right;\">\n",
       "      <th></th>\n",
       "      <th>blue_team_total_gold</th>\n",
       "      <th>blue_team_inhibitors</th>\n",
       "      <th>blue_team_towers</th>\n",
       "      <th>blue_team_barons</th>\n",
       "      <th>blue_team_total_kills</th>\n",
       "      <th>blue_team_ocean_drakes</th>\n",
       "      <th>blue_team_cloud_drakes</th>\n",
       "      <th>blue_team_mountain_drakes</th>\n",
       "      <th>blue_team_chemtech_drakes</th>\n",
       "      <th>blue_team_infernal_drakes</th>\n",
       "      <th>...</th>\n",
       "      <th>blue_team_outcome</th>\n",
       "      <th>season_format</th>\n",
       "      <th>riot_match_id</th>\n",
       "      <th>min_start_time</th>\n",
       "      <th>month</th>\n",
       "      <th>day</th>\n",
       "      <th>year</th>\n",
       "      <th>winner_id</th>\n",
       "      <th>loser_id</th>\n",
       "      <th>time_in_game</th>\n",
       "    </tr>\n",
       "  </thead>\n",
       "  <tbody>\n",
       "  </tbody>\n",
       "</table>\n",
       "<p>0 rows × 142 columns</p>\n",
       "</div>"
      ],
      "text/plain": [
       "Empty DataFrame\n",
       "Columns: [blue_team_total_gold, blue_team_inhibitors, blue_team_towers, blue_team_barons, blue_team_total_kills, blue_team_ocean_drakes, blue_team_cloud_drakes, blue_team_mountain_drakes, blue_team_chemtech_drakes, blue_team_infernal_drakes, blue_team_hextech_drakes, blue_team_elder_drakes, blue_top_total_gold, blue_top_level, blue_top_kills, blue_top_deaths, blue_top_assists, blue_top_creep_score, blue_top_current_health, blue_top_max_health, blue_jungle_total_gold, blue_jungle_level, blue_jungle_kills, blue_jungle_deaths, blue_jungle_assists, blue_jungle_creep_score, blue_jungle_current_health, blue_jungle_max_health, blue_mid_total_gold, blue_mid_level, blue_mid_kills, blue_mid_deaths, blue_mid_assists, blue_mid_creep_score, blue_mid_current_health, blue_mid_max_health, blue_bot_total_gold, blue_bot_level, blue_bot_kills, blue_bot_deaths, blue_bot_assists, blue_bot_creep_score, blue_bot_current_health, blue_bot_max_health, blue_supp_total_gold, blue_supp_level, blue_supp_kills, blue_supp_deaths, blue_supp_assists, blue_supp_creep_score, blue_supp_current_health, blue_supp_max_health, red_team_total_gold, red_team_inhibitors, red_team_towers, red_team_barons, red_team_total_kills, red_team_ocean_drakes, red_team_cloud_drakes, red_team_mountain_drakes, red_team_chemtech_drakes, red_team_infernal_drakes, red_team_hextech_drakes, red_team_elder_drakes, red_top_total_gold, red_top_level, red_top_kills, red_top_deaths, red_top_assists, red_top_creep_score, red_top_current_health, red_top_max_health, red_jungle_total_gold, red_jungle_level, red_jungle_kills, red_jungle_deaths, red_jungle_assists, red_jungle_creep_score, red_jungle_current_health, red_jungle_max_health, red_mid_total_gold, red_mid_level, red_mid_kills, red_mid_deaths, red_mid_assists, red_mid_creep_score, red_mid_current_health, red_mid_max_health, red_bot_total_gold, red_bot_level, red_bot_kills, red_bot_deaths, red_bot_assists, red_bot_creep_score, red_bot_current_health, red_bot_max_health, red_supp_total_gold, red_supp_level, red_supp_kills, red_supp_deaths, ...]\n",
       "Index: []\n",
       "\n",
       "[0 rows x 142 columns]"
      ]
     },
     "execution_count": 11,
     "metadata": {},
     "output_type": "execute_result"
    }
   ],
   "source": [
    "overall_df[overall_df.isnull().any(axis=1)]"
   ]
  },
  {
   "cell_type": "code",
   "execution_count": 12,
   "metadata": {},
   "outputs": [
    {
     "data": {
      "text/plain": [
       "457031"
      ]
     },
     "execution_count": 12,
     "metadata": {},
     "output_type": "execute_result"
    }
   ],
   "source": [
    "len(overall_df)"
   ]
  },
  {
   "cell_type": "code",
   "execution_count": 13,
   "metadata": {},
   "outputs": [
    {
     "data": {
      "text/plain": [
       "['blue_team_total_gold',\n",
       " 'blue_team_inhibitors',\n",
       " 'blue_team_towers',\n",
       " 'blue_team_barons',\n",
       " 'blue_team_total_kills',\n",
       " 'blue_team_ocean_drakes',\n",
       " 'blue_team_cloud_drakes',\n",
       " 'blue_team_mountain_drakes',\n",
       " 'blue_team_chemtech_drakes',\n",
       " 'blue_team_infernal_drakes',\n",
       " 'blue_team_hextech_drakes',\n",
       " 'blue_team_elder_drakes',\n",
       " 'blue_top_total_gold',\n",
       " 'blue_top_level',\n",
       " 'blue_top_kills',\n",
       " 'blue_top_deaths',\n",
       " 'blue_top_assists',\n",
       " 'blue_top_creep_score',\n",
       " 'blue_top_current_health',\n",
       " 'blue_top_max_health',\n",
       " 'blue_jungle_total_gold',\n",
       " 'blue_jungle_level',\n",
       " 'blue_jungle_kills',\n",
       " 'blue_jungle_deaths',\n",
       " 'blue_jungle_assists',\n",
       " 'blue_jungle_creep_score',\n",
       " 'blue_jungle_current_health',\n",
       " 'blue_jungle_max_health',\n",
       " 'blue_mid_total_gold',\n",
       " 'blue_mid_level',\n",
       " 'blue_mid_kills',\n",
       " 'blue_mid_deaths',\n",
       " 'blue_mid_assists',\n",
       " 'blue_mid_creep_score',\n",
       " 'blue_mid_current_health',\n",
       " 'blue_mid_max_health',\n",
       " 'blue_bot_total_gold',\n",
       " 'blue_bot_level',\n",
       " 'blue_bot_kills',\n",
       " 'blue_bot_deaths',\n",
       " 'blue_bot_assists',\n",
       " 'blue_bot_creep_score',\n",
       " 'blue_bot_current_health',\n",
       " 'blue_bot_max_health',\n",
       " 'blue_supp_total_gold',\n",
       " 'blue_supp_level',\n",
       " 'blue_supp_kills',\n",
       " 'blue_supp_deaths',\n",
       " 'blue_supp_assists',\n",
       " 'blue_supp_creep_score',\n",
       " 'blue_supp_current_health',\n",
       " 'blue_supp_max_health',\n",
       " 'red_team_total_gold',\n",
       " 'red_team_inhibitors',\n",
       " 'red_team_towers',\n",
       " 'red_team_barons',\n",
       " 'red_team_total_kills',\n",
       " 'red_team_ocean_drakes',\n",
       " 'red_team_cloud_drakes',\n",
       " 'red_team_mountain_drakes',\n",
       " 'red_team_chemtech_drakes',\n",
       " 'red_team_infernal_drakes',\n",
       " 'red_team_hextech_drakes',\n",
       " 'red_team_elder_drakes',\n",
       " 'red_top_total_gold',\n",
       " 'red_top_level',\n",
       " 'red_top_kills',\n",
       " 'red_top_deaths',\n",
       " 'red_top_assists',\n",
       " 'red_top_creep_score',\n",
       " 'red_top_current_health',\n",
       " 'red_top_max_health',\n",
       " 'red_jungle_total_gold',\n",
       " 'red_jungle_level',\n",
       " 'red_jungle_kills',\n",
       " 'red_jungle_deaths',\n",
       " 'red_jungle_assists',\n",
       " 'red_jungle_creep_score',\n",
       " 'red_jungle_current_health',\n",
       " 'red_jungle_max_health',\n",
       " 'red_mid_total_gold',\n",
       " 'red_mid_level',\n",
       " 'red_mid_kills',\n",
       " 'red_mid_deaths',\n",
       " 'red_mid_assists',\n",
       " 'red_mid_creep_score',\n",
       " 'red_mid_current_health',\n",
       " 'red_mid_max_health',\n",
       " 'red_bot_total_gold',\n",
       " 'red_bot_level',\n",
       " 'red_bot_kills',\n",
       " 'red_bot_deaths',\n",
       " 'red_bot_assists',\n",
       " 'red_bot_creep_score',\n",
       " 'red_bot_current_health',\n",
       " 'red_bot_max_health',\n",
       " 'red_supp_total_gold',\n",
       " 'red_supp_level',\n",
       " 'red_supp_kills',\n",
       " 'red_supp_deaths',\n",
       " 'red_supp_assists',\n",
       " 'red_supp_creep_score',\n",
       " 'red_supp_current_health',\n",
       " 'red_supp_max_health',\n",
       " 'patch_version',\n",
       " 'blue_team_id',\n",
       " 'blue_top_player',\n",
       " 'blue_top_champ',\n",
       " 'blue_jungle_player',\n",
       " 'blue_jungle_champ',\n",
       " 'blue_mid_player',\n",
       " 'blue_mid_champ',\n",
       " 'blue_bot_player',\n",
       " 'blue_bot_champ',\n",
       " 'blue_supp_player',\n",
       " 'blue_supp_champ',\n",
       " 'red_team_id',\n",
       " 'red_top_player',\n",
       " 'red_top_champ',\n",
       " 'red_jungle_player',\n",
       " 'red_jungle_champ',\n",
       " 'red_mid_player',\n",
       " 'red_mid_champ',\n",
       " 'red_bot_player',\n",
       " 'red_bot_champ',\n",
       " 'red_supp_player',\n",
       " 'red_supp_champ',\n",
       " 'rfc460Timestamp',\n",
       " 'league',\n",
       " 'format',\n",
       " 'game_in_format',\n",
       " 'red_team_outcome',\n",
       " 'blue_team_outcome',\n",
       " 'season_format',\n",
       " 'riot_match_id',\n",
       " 'min_start_time',\n",
       " 'month',\n",
       " 'day',\n",
       " 'year',\n",
       " 'winner_id',\n",
       " 'loser_id',\n",
       " 'time_in_game']"
      ]
     },
     "execution_count": 13,
     "metadata": {},
     "output_type": "execute_result"
    }
   ],
   "source": [
    "overall_df.columns.to_list()"
   ]
  },
  {
   "cell_type": "markdown",
   "metadata": {},
   "source": [
    "## Predicting red team outcome"
   ]
  },
  {
   "cell_type": "markdown",
   "metadata": {},
   "source": [
    "I wonder if I can enforce prob of red team win + prob of blue team win = 1"
   ]
  },
  {
   "cell_type": "code",
   "execution_count": 14,
   "metadata": {},
   "outputs": [],
   "source": [
    "overall_df.drop(columns=['rfc460Timestamp','blue_team_outcome','riot_match_id','min_start_time','winner_id','loser_id'],inplace=True)"
   ]
  },
  {
   "cell_type": "code",
   "execution_count": 15,
   "metadata": {},
   "outputs": [],
   "source": [
    "label_encoder = preprocessing.LabelEncoder()\n",
    "\n",
    "overall_df['patch_version']= label_encoder.fit_transform(overall_df['patch_version']) \n"
   ]
  },
  {
   "cell_type": "code",
   "execution_count": 16,
   "metadata": {},
   "outputs": [],
   "source": [
    "overall_df['patch_version']= overall_df['time_in_game'].astype('int64')\n"
   ]
  },
  {
   "cell_type": "code",
   "execution_count": 17,
   "metadata": {},
   "outputs": [
    {
     "name": "stdout",
     "output_type": "stream",
     "text": [
      "<class 'pandas.core.frame.DataFrame'>\n",
      "RangeIndex: 457031 entries, 0 to 457030\n",
      "Columns: 136 entries, blue_team_total_gold to time_in_game\n",
      "dtypes: float64(1), int64(135)\n",
      "memory usage: 474.2 MB\n"
     ]
    }
   ],
   "source": [
    "overall_df.info()"
   ]
  },
  {
   "cell_type": "code",
   "execution_count": 18,
   "metadata": {},
   "outputs": [
    {
     "name": "stdout",
     "output_type": "stream",
     "text": [
      "time_in_game float64\n"
     ]
    }
   ],
   "source": [
    "dtypes = overall_df.dtypes.to_dict()\n",
    "\n",
    "for col_name, typ in dtypes.items():\n",
    "    if typ == 'float64':\n",
    "        print(col_name,typ)"
   ]
  },
  {
   "cell_type": "code",
   "execution_count": 19,
   "metadata": {},
   "outputs": [
    {
     "data": {
      "text/plain": [
       "0            0.0\n",
       "1            0.0\n",
       "2            1.0\n",
       "3            1.0\n",
       "4            1.0\n",
       "           ...  \n",
       "457026    2115.0\n",
       "457027    2115.0\n",
       "457028    2116.0\n",
       "457029    2117.0\n",
       "457030    2117.0\n",
       "Name: time_in_game, Length: 457031, dtype: float64"
      ]
     },
     "execution_count": 19,
     "metadata": {},
     "output_type": "execute_result"
    }
   ],
   "source": [
    "overall_df['time_in_game']"
   ]
  },
  {
   "cell_type": "code",
   "execution_count": 20,
   "metadata": {},
   "outputs": [],
   "source": [
    "overall_df.to_csv('../data/feature_sets/v0.csv',index=False)\n"
   ]
  }
 ],
 "metadata": {
  "kernelspec": {
   "display_name": "predictorEnv",
   "language": "python",
   "name": "python3"
  },
  "language_info": {
   "codemirror_mode": {
    "name": "ipython",
    "version": 3
   },
   "file_extension": ".py",
   "mimetype": "text/x-python",
   "name": "python",
   "nbconvert_exporter": "python",
   "pygments_lexer": "ipython3",
   "version": "3.10.13"
  }
 },
 "nbformat": 4,
 "nbformat_minor": 2
}
