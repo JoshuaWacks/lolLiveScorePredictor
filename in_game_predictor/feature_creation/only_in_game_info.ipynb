{
 "cells": [
  {
   "cell_type": "code",
   "execution_count": 1,
   "metadata": {},
   "outputs": [],
   "source": [
    "import pandas as pd"
   ]
  },
  {
   "cell_type": "code",
   "execution_count": 2,
   "metadata": {},
   "outputs": [],
   "source": [
    "pd.set_option('display.max_rows', 500)"
   ]
  },
  {
   "cell_type": "code",
   "execution_count": 3,
   "metadata": {},
   "outputs": [],
   "source": [
    "df = pd.read_csv('../data/feature_sets/v0.csv')"
   ]
  },
  {
   "cell_type": "code",
   "execution_count": 4,
   "metadata": {},
   "outputs": [
    {
     "data": {
      "text/plain": [
       "136"
      ]
     },
     "execution_count": 4,
     "metadata": {},
     "output_type": "execute_result"
    }
   ],
   "source": [
    "len(df.columns)"
   ]
  },
  {
   "cell_type": "code",
   "execution_count": 5,
   "metadata": {},
   "outputs": [
    {
     "data": {
      "text/plain": [
       "['blue_team_total_gold',\n",
       " 'blue_team_inhibitors',\n",
       " 'blue_team_towers',\n",
       " 'blue_team_barons',\n",
       " 'blue_team_total_kills',\n",
       " 'blue_team_ocean_drakes',\n",
       " 'blue_team_cloud_drakes',\n",
       " 'blue_team_mountain_drakes',\n",
       " 'blue_team_chemtech_drakes',\n",
       " 'blue_team_infernal_drakes',\n",
       " 'blue_team_hextech_drakes',\n",
       " 'blue_team_elder_drakes',\n",
       " 'blue_top_total_gold',\n",
       " 'blue_top_level',\n",
       " 'blue_top_kills',\n",
       " 'blue_top_deaths',\n",
       " 'blue_top_assists',\n",
       " 'blue_top_creep_score',\n",
       " 'blue_top_current_health',\n",
       " 'blue_top_max_health',\n",
       " 'blue_jungle_total_gold',\n",
       " 'blue_jungle_level',\n",
       " 'blue_jungle_kills',\n",
       " 'blue_jungle_deaths',\n",
       " 'blue_jungle_assists',\n",
       " 'blue_jungle_creep_score',\n",
       " 'blue_jungle_current_health',\n",
       " 'blue_jungle_max_health',\n",
       " 'blue_mid_total_gold',\n",
       " 'blue_mid_level',\n",
       " 'blue_mid_kills',\n",
       " 'blue_mid_deaths',\n",
       " 'blue_mid_assists',\n",
       " 'blue_mid_creep_score',\n",
       " 'blue_mid_current_health',\n",
       " 'blue_mid_max_health',\n",
       " 'blue_bot_total_gold',\n",
       " 'blue_bot_level',\n",
       " 'blue_bot_kills',\n",
       " 'blue_bot_deaths',\n",
       " 'blue_bot_assists',\n",
       " 'blue_bot_creep_score',\n",
       " 'blue_bot_current_health',\n",
       " 'blue_bot_max_health',\n",
       " 'blue_supp_total_gold',\n",
       " 'blue_supp_level',\n",
       " 'blue_supp_kills',\n",
       " 'blue_supp_deaths',\n",
       " 'blue_supp_assists',\n",
       " 'blue_supp_creep_score',\n",
       " 'blue_supp_current_health',\n",
       " 'blue_supp_max_health',\n",
       " 'red_team_total_gold',\n",
       " 'red_team_inhibitors',\n",
       " 'red_team_towers',\n",
       " 'red_team_barons',\n",
       " 'red_team_total_kills',\n",
       " 'red_team_ocean_drakes',\n",
       " 'red_team_cloud_drakes',\n",
       " 'red_team_mountain_drakes',\n",
       " 'red_team_chemtech_drakes',\n",
       " 'red_team_infernal_drakes',\n",
       " 'red_team_hextech_drakes',\n",
       " 'red_team_elder_drakes',\n",
       " 'red_top_total_gold',\n",
       " 'red_top_level',\n",
       " 'red_top_kills',\n",
       " 'red_top_deaths',\n",
       " 'red_top_assists',\n",
       " 'red_top_creep_score',\n",
       " 'red_top_current_health',\n",
       " 'red_top_max_health',\n",
       " 'red_jungle_total_gold',\n",
       " 'red_jungle_level',\n",
       " 'red_jungle_kills',\n",
       " 'red_jungle_deaths',\n",
       " 'red_jungle_assists',\n",
       " 'red_jungle_creep_score',\n",
       " 'red_jungle_current_health',\n",
       " 'red_jungle_max_health',\n",
       " 'red_mid_total_gold',\n",
       " 'red_mid_level',\n",
       " 'red_mid_kills',\n",
       " 'red_mid_deaths',\n",
       " 'red_mid_assists',\n",
       " 'red_mid_creep_score',\n",
       " 'red_mid_current_health',\n",
       " 'red_mid_max_health',\n",
       " 'red_bot_total_gold',\n",
       " 'red_bot_level',\n",
       " 'red_bot_kills',\n",
       " 'red_bot_deaths',\n",
       " 'red_bot_assists',\n",
       " 'red_bot_creep_score',\n",
       " 'red_bot_current_health',\n",
       " 'red_bot_max_health',\n",
       " 'red_supp_total_gold',\n",
       " 'red_supp_level',\n",
       " 'red_supp_kills',\n",
       " 'red_supp_deaths',\n",
       " 'red_supp_assists',\n",
       " 'red_supp_creep_score',\n",
       " 'red_supp_current_health',\n",
       " 'red_supp_max_health',\n",
       " 'patch_version',\n",
       " 'blue_team_id',\n",
       " 'blue_top_player',\n",
       " 'blue_top_champ',\n",
       " 'blue_jungle_player',\n",
       " 'blue_jungle_champ',\n",
       " 'blue_mid_player',\n",
       " 'blue_mid_champ',\n",
       " 'blue_bot_player',\n",
       " 'blue_bot_champ',\n",
       " 'blue_supp_player',\n",
       " 'blue_supp_champ',\n",
       " 'red_team_id',\n",
       " 'red_top_player',\n",
       " 'red_top_champ',\n",
       " 'red_jungle_player',\n",
       " 'red_jungle_champ',\n",
       " 'red_mid_player',\n",
       " 'red_mid_champ',\n",
       " 'red_bot_player',\n",
       " 'red_bot_champ',\n",
       " 'red_supp_player',\n",
       " 'red_supp_champ',\n",
       " 'league',\n",
       " 'format',\n",
       " 'game_in_format',\n",
       " 'red_team_outcome',\n",
       " 'season_format',\n",
       " 'month',\n",
       " 'day',\n",
       " 'year',\n",
       " 'time_in_game']"
      ]
     },
     "execution_count": 5,
     "metadata": {},
     "output_type": "execute_result"
    }
   ],
   "source": [
    "list(df.columns)"
   ]
  },
  {
   "cell_type": "code",
   "execution_count": 6,
   "metadata": {},
   "outputs": [],
   "source": [
    "columns_to_drop = ['patch_version',\n",
    " 'blue_team_id',\n",
    " 'blue_top_player',\n",
    " 'blue_jungle_player',\n",
    " 'blue_mid_player',\n",
    " 'blue_bot_player',\n",
    " 'blue_supp_player',\n",
    " 'red_team_id',\n",
    " 'red_top_player',\n",
    " 'red_jungle_player',\n",
    " 'red_mid_player',\n",
    " 'red_bot_player',\n",
    " 'red_supp_player',\n",
    " 'league',\n",
    " 'format',\n",
    " 'game_in_format',\n",
    " 'season_format',\n",
    " 'month',\n",
    " 'day',\n",
    " 'year'\n",
    " ]"
   ]
  },
  {
   "cell_type": "code",
   "execution_count": 7,
   "metadata": {},
   "outputs": [],
   "source": [
    "df = df.drop(columns=columns_to_drop,axis =1 )"
   ]
  },
  {
   "cell_type": "code",
   "execution_count": 8,
   "metadata": {},
   "outputs": [
    {
     "data": {
      "text/plain": [
       "116"
      ]
     },
     "execution_count": 8,
     "metadata": {},
     "output_type": "execute_result"
    }
   ],
   "source": [
    "len(df.columns)"
   ]
  },
  {
   "cell_type": "code",
   "execution_count": 10,
   "metadata": {},
   "outputs": [
    {
     "data": {
      "text/plain": [
       "457031"
      ]
     },
     "execution_count": 10,
     "metadata": {},
     "output_type": "execute_result"
    }
   ],
   "source": [
    "len(df)"
   ]
  },
  {
   "cell_type": "code",
   "execution_count": 18,
   "metadata": {},
   "outputs": [
    {
     "data": {
      "text/plain": [
       "361468"
      ]
     },
     "execution_count": 18,
     "metadata": {},
     "output_type": "execute_result"
    }
   ],
   "source": [
    "non_duplicates = df[df.duplicated(keep=False)]\n",
    "len(non_duplicates)"
   ]
  },
  {
   "cell_type": "code",
   "execution_count": 20,
   "metadata": {},
   "outputs": [],
   "source": [
    "non_duplicates.to_csv('../data/feature_sets/only_in_game_data_v0.csv',index=False)"
   ]
  }
 ],
 "metadata": {
  "kernelspec": {
   "display_name": "predictorEnv",
   "language": "python",
   "name": "python3"
  },
  "language_info": {
   "codemirror_mode": {
    "name": "ipython",
    "version": 3
   },
   "file_extension": ".py",
   "mimetype": "text/x-python",
   "name": "python",
   "nbconvert_exporter": "python",
   "pygments_lexer": "ipython3",
   "version": "3.10.13"
  }
 },
 "nbformat": 4,
 "nbformat_minor": 2
}
