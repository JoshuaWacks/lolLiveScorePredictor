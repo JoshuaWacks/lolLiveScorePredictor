{
 "cells": [
  {
   "cell_type": "code",
   "execution_count": 1,
   "metadata": {},
   "outputs": [],
   "source": [
    "import pandas as pd\n",
    "from sklearn.model_selection import train_test_split\n",
    "from tensorflow.keras.models import Sequential\n",
    "from tensorflow.keras.layers import Dense,Dropout\n",
    "import keras\n",
    "import matplotlib.pyplot as plt\n",
    "from sklearn import metrics\n",
    "from sklearn.metrics import precision_recall_fscore_support"
   ]
  },
  {
   "cell_type": "code",
   "execution_count": 2,
   "metadata": {},
   "outputs": [
    {
     "name": "stdout",
     "output_type": "stream",
     "text": [
      "[PhysicalDevice(name='/physical_device:GPU:0', device_type='GPU')]\n"
     ]
    }
   ],
   "source": [
    "import tensorflow as tf\n",
    "print(tf.config.list_physical_devices('GPU'))"
   ]
  },
  {
   "cell_type": "code",
   "execution_count": 3,
   "metadata": {},
   "outputs": [],
   "source": [
    "test_size = 0.3\n",
    "val_size = 0.6\n",
    "train_size =0.7\n",
    "\n",
    "random_state = 42"
   ]
  },
  {
   "cell_type": "code",
   "execution_count": 4,
   "metadata": {},
   "outputs": [],
   "source": [
    "data = pd.read_csv('../../data/feature_sets/only_in_game_data_v1.csv')"
   ]
  },
  {
   "cell_type": "code",
   "execution_count": 5,
   "metadata": {},
   "outputs": [
    {
     "data": {
      "text/plain": [
       "457031"
      ]
     },
     "execution_count": 5,
     "metadata": {},
     "output_type": "execute_result"
    }
   ],
   "source": [
    "len(data)"
   ]
  },
  {
   "cell_type": "code",
   "execution_count": 6,
   "metadata": {},
   "outputs": [],
   "source": [
    "columns_to_drop = [\n",
    "'riot_match_id',\n",
    "'min_start_time',\n",
    "\n",
    "'patch_version',\n",
    " 'blue_team_id',\n",
    " 'blue_top_player',\n",
    " 'blue_jungle_player',\n",
    " 'blue_mid_player',\n",
    " 'blue_bot_player',\n",
    " 'blue_supp_player',\n",
    " 'red_team_id',\n",
    " 'red_top_player',\n",
    " 'red_jungle_player',\n",
    " 'red_mid_player',\n",
    " 'red_bot_player',\n",
    " 'red_supp_player',\n",
    " 'league',\n",
    " 'format',\n",
    " 'game_in_format',\n",
    " 'season_format',\n",
    " 'month',\n",
    " 'day',\n",
    " 'year'\n",
    " ]"
   ]
  },
  {
   "cell_type": "code",
   "execution_count": 7,
   "metadata": {},
   "outputs": [],
   "source": [
    "extar_info = data[columns_to_drop]\n",
    "data.drop(columns=columns_to_drop,inplace=True)\n"
   ]
  },
  {
   "cell_type": "code",
   "execution_count": 8,
   "metadata": {},
   "outputs": [],
   "source": [
    "pred = data.pop('red_team_outcome')"
   ]
  },
  {
   "cell_type": "code",
   "execution_count": 9,
   "metadata": {},
   "outputs": [],
   "source": [
    "x_train, x_temp, y_train, y_temp = train_test_split(data,pred,test_size=test_size,random_state = random_state,shuffle=True)\n",
    "x_val, x_test, y_val, y_test = train_test_split(x_temp,y_temp,test_size = val_size,random_state = random_state,shuffle=True)"
   ]
  },
  {
   "cell_type": "code",
   "execution_count": 10,
   "metadata": {},
   "outputs": [],
   "source": [
    "assert len(data) == len(x_train) + len(x_test) + len(x_val)\n",
    "assert len(data) == len(y_train) + len(y_val) + len(y_test)"
   ]
  },
  {
   "cell_type": "code",
   "execution_count": 11,
   "metadata": {},
   "outputs": [
    {
     "data": {
      "text/plain": [
       "115"
      ]
     },
     "execution_count": 11,
     "metadata": {},
     "output_type": "execute_result"
    }
   ],
   "source": [
    "num_input = len(data.columns)\n",
    "num_input"
   ]
  },
  {
   "cell_type": "code",
   "execution_count": 12,
   "metadata": {},
   "outputs": [],
   "source": [
    "model = Sequential()\n",
    "model.add(Dense(1024, input_shape=(num_input,), activation='relu'))\n",
    "model.add(Dropout(0.3))\n",
    "model.add(Dense(2048, activation='relu'))\n",
    "model.add(Dropout(0.3))\n",
    "model.add(Dense(4096, activation='relu'))\n",
    "model.add(Dropout(0.5))\n",
    "model.add(Dense(4096, activation='relu'))\n",
    "model.add(Dropout(0.3))\n",
    "model.add(Dense(2048, activation='relu'))\n",
    "model.add(Dropout(0.3))\n",
    "model.add(Dense(512, activation='relu'))\n",
    "model.add(Dropout(0.3))\n",
    "model.add(Dense(256, activation='relu'))\n",
    "\n",
    "model.add(Dense(1, activation='sigmoid'))"
   ]
  },
  {
   "cell_type": "code",
   "execution_count": 13,
   "metadata": {},
   "outputs": [],
   "source": [
    "patience = 10\n",
    "learning_rate = 1e-6\n",
    "epochs = 100\n",
    "batch_size= 512"
   ]
  },
  {
   "cell_type": "code",
   "execution_count": 14,
   "metadata": {},
   "outputs": [],
   "source": [
    "earlyStopping = keras.callbacks.EarlyStopping(monitor='val_loss', patience=patience, verbose=0, mode='min')\n",
    "mcp_save = keras.callbacks.ModelCheckpoint('mdl_wts.keras', save_best_only=True, monitor='val_loss', mode='min')\n",
    "model.compile(loss='binary_crossentropy', optimizer=keras.optimizers.Adam(learning_rate=learning_rate), metrics=['accuracy'])"
   ]
  },
  {
   "cell_type": "code",
   "execution_count": 15,
   "metadata": {},
   "outputs": [
    {
     "name": "stdout",
     "output_type": "stream",
     "text": [
      "Epoch 1/100\n",
      "625/625 [==============================] - 16s 23ms/step - loss: 184.9700 - accuracy: 0.5081 - val_loss: 49.6876 - val_accuracy: 0.4623\n",
      "Epoch 2/100\n",
      "625/625 [==============================] - 13s 21ms/step - loss: 106.3575 - accuracy: 0.5137 - val_loss: 15.9585 - val_accuracy: 0.4615\n",
      "Epoch 3/100\n",
      "625/625 [==============================] - 13s 22ms/step - loss: 76.5786 - accuracy: 0.5157 - val_loss: 10.8456 - val_accuracy: 0.4648\n",
      "Epoch 4/100\n",
      "625/625 [==============================] - 13s 22ms/step - loss: 59.8838 - accuracy: 0.5178 - val_loss: 8.6787 - val_accuracy: 0.4677\n",
      "Epoch 5/100\n",
      "625/625 [==============================] - 14s 22ms/step - loss: 48.3480 - accuracy: 0.5190 - val_loss: 5.8032 - val_accuracy: 0.4674\n",
      "Epoch 6/100\n",
      "625/625 [==============================] - 14s 22ms/step - loss: 40.5061 - accuracy: 0.5201 - val_loss: 2.5426 - val_accuracy: 0.4691\n",
      "Epoch 7/100\n",
      "625/625 [==============================] - 14s 22ms/step - loss: 34.0883 - accuracy: 0.5224 - val_loss: 1.0926 - val_accuracy: 0.4976\n",
      "Epoch 8/100\n",
      "625/625 [==============================] - 14s 22ms/step - loss: 29.3779 - accuracy: 0.5220 - val_loss: 0.9755 - val_accuracy: 0.5772\n",
      "Epoch 9/100\n",
      "625/625 [==============================] - 14s 22ms/step - loss: 25.2665 - accuracy: 0.5256 - val_loss: 1.3397 - val_accuracy: 0.5809\n",
      "Epoch 10/100\n",
      "625/625 [==============================] - 14s 22ms/step - loss: 22.1124 - accuracy: 0.5274 - val_loss: 1.2461 - val_accuracy: 0.6011\n",
      "Epoch 11/100\n",
      "625/625 [==============================] - 14s 22ms/step - loss: 19.3353 - accuracy: 0.5295 - val_loss: 0.9262 - val_accuracy: 0.6430\n",
      "Epoch 12/100\n",
      "625/625 [==============================] - 13s 21ms/step - loss: 17.1230 - accuracy: 0.5307 - val_loss: 0.8861 - val_accuracy: 0.6583\n",
      "Epoch 13/100\n",
      "625/625 [==============================] - 13s 22ms/step - loss: 15.2111 - accuracy: 0.5310 - val_loss: 0.9078 - val_accuracy: 0.6527\n",
      "Epoch 14/100\n",
      "625/625 [==============================] - 13s 22ms/step - loss: 13.4968 - accuracy: 0.5350 - val_loss: 0.8659 - val_accuracy: 0.6543\n",
      "Epoch 15/100\n",
      "625/625 [==============================] - 13s 21ms/step - loss: 12.0709 - accuracy: 0.5344 - val_loss: 0.7615 - val_accuracy: 0.6486\n",
      "Epoch 16/100\n",
      "625/625 [==============================] - 13s 21ms/step - loss: 10.7191 - accuracy: 0.5358 - val_loss: 0.7908 - val_accuracy: 0.6225\n",
      "Epoch 17/100\n",
      "625/625 [==============================] - 13s 21ms/step - loss: 9.6274 - accuracy: 0.5387 - val_loss: 0.6919 - val_accuracy: 0.6408\n",
      "Epoch 18/100\n",
      "625/625 [==============================] - 13s 21ms/step - loss: 8.6512 - accuracy: 0.5408 - val_loss: 0.6655 - val_accuracy: 0.6531\n",
      "Epoch 19/100\n",
      "625/625 [==============================] - 13s 22ms/step - loss: 7.7613 - accuracy: 0.5414 - val_loss: 0.6177 - val_accuracy: 0.6598\n",
      "Epoch 20/100\n",
      "625/625 [==============================] - 13s 22ms/step - loss: 7.0071 - accuracy: 0.5445 - val_loss: 0.6412 - val_accuracy: 0.6188\n",
      "Epoch 21/100\n",
      "625/625 [==============================] - 13s 22ms/step - loss: 6.3110 - accuracy: 0.5458 - val_loss: 0.6193 - val_accuracy: 0.6285\n",
      "Epoch 22/100\n",
      "625/625 [==============================] - 13s 21ms/step - loss: 5.6640 - accuracy: 0.5478 - val_loss: 0.6256 - val_accuracy: 0.6158\n",
      "Epoch 23/100\n",
      "625/625 [==============================] - 13s 22ms/step - loss: 5.1201 - accuracy: 0.5498 - val_loss: 0.6166 - val_accuracy: 0.6161\n",
      "Epoch 24/100\n",
      "625/625 [==============================] - 13s 22ms/step - loss: 4.6464 - accuracy: 0.5498 - val_loss: 0.6400 - val_accuracy: 0.5978\n",
      "Epoch 25/100\n",
      "625/625 [==============================] - 14s 22ms/step - loss: 4.1419 - accuracy: 0.5530 - val_loss: 0.6556 - val_accuracy: 0.5910\n",
      "Epoch 26/100\n",
      "625/625 [==============================] - 14s 22ms/step - loss: 3.7402 - accuracy: 0.5530 - val_loss: 0.6486 - val_accuracy: 0.5914\n",
      "Epoch 27/100\n",
      "625/625 [==============================] - 14s 22ms/step - loss: 3.3698 - accuracy: 0.5548 - val_loss: 0.6387 - val_accuracy: 0.5900\n",
      "Epoch 28/100\n",
      "625/625 [==============================] - 14s 22ms/step - loss: 3.0437 - accuracy: 0.5517 - val_loss: 0.6304 - val_accuracy: 0.5903\n",
      "Epoch 29/100\n",
      "625/625 [==============================] - 13s 22ms/step - loss: 2.7233 - accuracy: 0.5529 - val_loss: 0.6101 - val_accuracy: 0.6174\n",
      "Epoch 30/100\n",
      "625/625 [==============================] - 14s 22ms/step - loss: 2.4356 - accuracy: 0.5532 - val_loss: 0.6079 - val_accuracy: 0.6414\n",
      "Epoch 31/100\n",
      "625/625 [==============================] - 14s 22ms/step - loss: 2.1583 - accuracy: 0.5535 - val_loss: 0.6123 - val_accuracy: 0.6529\n",
      "Epoch 32/100\n",
      "625/625 [==============================] - 14s 22ms/step - loss: 1.8903 - accuracy: 0.5554 - val_loss: 0.6111 - val_accuracy: 0.6295\n",
      "Epoch 33/100\n",
      "625/625 [==============================] - 14s 22ms/step - loss: 1.6650 - accuracy: 0.5533 - val_loss: 0.6245 - val_accuracy: 0.6367\n",
      "Epoch 34/100\n",
      "625/625 [==============================] - 14s 22ms/step - loss: 1.4602 - accuracy: 0.5529 - val_loss: 0.6322 - val_accuracy: 0.6316\n",
      "Epoch 35/100\n",
      "625/625 [==============================] - 14s 22ms/step - loss: 1.2847 - accuracy: 0.5506 - val_loss: 0.6430 - val_accuracy: 0.6163\n",
      "Epoch 36/100\n",
      "625/625 [==============================] - 14s 22ms/step - loss: 1.1448 - accuracy: 0.5495 - val_loss: 0.6536 - val_accuracy: 0.5942\n",
      "Epoch 37/100\n",
      "625/625 [==============================] - 14s 22ms/step - loss: 1.0301 - accuracy: 0.5482 - val_loss: 0.6642 - val_accuracy: 0.5741\n",
      "Epoch 38/100\n",
      "625/625 [==============================] - 13s 22ms/step - loss: 0.9422 - accuracy: 0.5454 - val_loss: 0.6709 - val_accuracy: 0.5582\n",
      "Epoch 39/100\n",
      "625/625 [==============================] - 13s 21ms/step - loss: 0.8848 - accuracy: 0.5435 - val_loss: 0.6757 - val_accuracy: 0.5610\n",
      "Epoch 40/100\n",
      "625/625 [==============================] - 13s 21ms/step - loss: 0.8337 - accuracy: 0.5437 - val_loss: 0.6775 - val_accuracy: 0.5792\n",
      "Epoch 41/100\n",
      "625/625 [==============================] - 13s 21ms/step - loss: 0.8002 - accuracy: 0.5535 - val_loss: 0.6777 - val_accuracy: 0.6201\n",
      "Epoch 42/100\n",
      "625/625 [==============================] - 14s 22ms/step - loss: 0.7730 - accuracy: 0.5646 - val_loss: 0.6749 - val_accuracy: 0.6281\n",
      "Epoch 43/100\n",
      "625/625 [==============================] - 13s 21ms/step - loss: 0.7549 - accuracy: 0.5670 - val_loss: 0.6706 - val_accuracy: 0.6349\n",
      "Epoch 44/100\n",
      "625/625 [==============================] - 14s 22ms/step - loss: 0.7403 - accuracy: 0.5703 - val_loss: 0.6680 - val_accuracy: 0.6482\n",
      "Epoch 45/100\n",
      "625/625 [==============================] - 13s 22ms/step - loss: 0.7253 - accuracy: 0.5780 - val_loss: 0.6630 - val_accuracy: 0.6573\n",
      "Epoch 46/100\n",
      "625/625 [==============================] - 13s 22ms/step - loss: 0.7148 - accuracy: 0.5846 - val_loss: 0.6525 - val_accuracy: 0.6736\n",
      "Epoch 47/100\n",
      "625/625 [==============================] - 13s 22ms/step - loss: 0.7015 - accuracy: 0.5915 - val_loss: 0.6347 - val_accuracy: 0.6855\n",
      "Epoch 48/100\n",
      "625/625 [==============================] - 13s 22ms/step - loss: 0.6946 - accuracy: 0.5975 - val_loss: 0.6200 - val_accuracy: 0.6938\n",
      "Epoch 49/100\n",
      "625/625 [==============================] - 13s 22ms/step - loss: 0.6842 - accuracy: 0.6053 - val_loss: 0.5997 - val_accuracy: 0.7021\n",
      "Epoch 50/100\n",
      "625/625 [==============================] - 13s 21ms/step - loss: 0.6754 - accuracy: 0.6133 - val_loss: 0.5866 - val_accuracy: 0.7077\n",
      "Epoch 51/100\n",
      "625/625 [==============================] - 14s 22ms/step - loss: 0.6649 - accuracy: 0.6207 - val_loss: 0.5743 - val_accuracy: 0.7055\n",
      "Epoch 52/100\n",
      "625/625 [==============================] - 13s 21ms/step - loss: 0.6568 - accuracy: 0.6265 - val_loss: 0.5698 - val_accuracy: 0.7096\n",
      "Epoch 53/100\n",
      "625/625 [==============================] - 13s 21ms/step - loss: 0.6488 - accuracy: 0.6306 - val_loss: 0.5612 - val_accuracy: 0.7103\n",
      "Epoch 54/100\n",
      "625/625 [==============================] - 13s 21ms/step - loss: 0.6410 - accuracy: 0.6380 - val_loss: 0.5561 - val_accuracy: 0.7155\n",
      "Epoch 55/100\n",
      "625/625 [==============================] - 13s 21ms/step - loss: 0.6345 - accuracy: 0.6431 - val_loss: 0.5506 - val_accuracy: 0.7172\n",
      "Epoch 56/100\n",
      "625/625 [==============================] - 13s 22ms/step - loss: 0.6273 - accuracy: 0.6464 - val_loss: 0.5487 - val_accuracy: 0.7203\n",
      "Epoch 57/100\n",
      "625/625 [==============================] - 14s 22ms/step - loss: 0.6225 - accuracy: 0.6500 - val_loss: 0.5411 - val_accuracy: 0.7219\n",
      "Epoch 58/100\n",
      "625/625 [==============================] - 14s 22ms/step - loss: 0.6150 - accuracy: 0.6544 - val_loss: 0.5377 - val_accuracy: 0.7265\n",
      "Epoch 59/100\n",
      "625/625 [==============================] - 13s 22ms/step - loss: 0.6116 - accuracy: 0.6567 - val_loss: 0.5342 - val_accuracy: 0.7297\n",
      "Epoch 60/100\n",
      "625/625 [==============================] - 13s 21ms/step - loss: 0.6064 - accuracy: 0.6619 - val_loss: 0.5320 - val_accuracy: 0.7307\n",
      "Epoch 61/100\n",
      "625/625 [==============================] - 13s 21ms/step - loss: 0.6037 - accuracy: 0.6632 - val_loss: 0.5293 - val_accuracy: 0.7332\n",
      "Epoch 62/100\n",
      "625/625 [==============================] - 13s 21ms/step - loss: 0.5974 - accuracy: 0.6676 - val_loss: 0.5265 - val_accuracy: 0.7341\n",
      "Epoch 63/100\n",
      "625/625 [==============================] - 13s 21ms/step - loss: 0.5931 - accuracy: 0.6694 - val_loss: 0.5222 - val_accuracy: 0.7344\n",
      "Epoch 64/100\n",
      "625/625 [==============================] - 13s 21ms/step - loss: 0.5907 - accuracy: 0.6709 - val_loss: 0.5222 - val_accuracy: 0.7346\n",
      "Epoch 65/100\n",
      "625/625 [==============================] - 13s 21ms/step - loss: 0.5854 - accuracy: 0.6739 - val_loss: 0.5230 - val_accuracy: 0.7341\n",
      "Epoch 66/100\n",
      "625/625 [==============================] - 13s 21ms/step - loss: 0.5819 - accuracy: 0.6743 - val_loss: 0.5219 - val_accuracy: 0.7347\n",
      "Epoch 67/100\n",
      "625/625 [==============================] - 14s 22ms/step - loss: 0.5783 - accuracy: 0.6761 - val_loss: 0.5187 - val_accuracy: 0.7353\n",
      "Epoch 68/100\n",
      "625/625 [==============================] - 14s 22ms/step - loss: 0.5753 - accuracy: 0.6788 - val_loss: 0.5180 - val_accuracy: 0.7347\n",
      "Epoch 69/100\n",
      "625/625 [==============================] - 14s 22ms/step - loss: 0.5715 - accuracy: 0.6803 - val_loss: 0.5223 - val_accuracy: 0.7339\n",
      "Epoch 70/100\n",
      "625/625 [==============================] - 14s 22ms/step - loss: 0.5693 - accuracy: 0.6824 - val_loss: 0.5201 - val_accuracy: 0.7340\n",
      "Epoch 71/100\n",
      "625/625 [==============================] - 14s 22ms/step - loss: 0.5666 - accuracy: 0.6822 - val_loss: 0.5175 - val_accuracy: 0.7339\n",
      "Epoch 72/100\n",
      "625/625 [==============================] - 14s 22ms/step - loss: 0.5643 - accuracy: 0.6846 - val_loss: 0.5186 - val_accuracy: 0.7344\n",
      "Epoch 73/100\n",
      "625/625 [==============================] - 14s 22ms/step - loss: 0.5618 - accuracy: 0.6865 - val_loss: 0.5165 - val_accuracy: 0.7346\n",
      "Epoch 74/100\n",
      "625/625 [==============================] - 14s 22ms/step - loss: 0.5607 - accuracy: 0.6873 - val_loss: 0.5142 - val_accuracy: 0.7338\n",
      "Epoch 75/100\n",
      "625/625 [==============================] - 14s 22ms/step - loss: 0.5580 - accuracy: 0.6885 - val_loss: 0.5177 - val_accuracy: 0.7343\n",
      "Epoch 76/100\n",
      "625/625 [==============================] - 14s 22ms/step - loss: 0.5564 - accuracy: 0.6902 - val_loss: 0.5231 - val_accuracy: 0.7345\n",
      "Epoch 77/100\n",
      "625/625 [==============================] - 14s 22ms/step - loss: 0.5556 - accuracy: 0.6905 - val_loss: 0.5200 - val_accuracy: 0.7354\n",
      "Epoch 78/100\n",
      "625/625 [==============================] - 14s 22ms/step - loss: 0.5531 - accuracy: 0.6919 - val_loss: 0.5190 - val_accuracy: 0.7348\n",
      "Epoch 79/100\n",
      "625/625 [==============================] - 14s 22ms/step - loss: 0.5510 - accuracy: 0.6938 - val_loss: 0.5240 - val_accuracy: 0.7355\n",
      "Epoch 80/100\n",
      "625/625 [==============================] - 13s 22ms/step - loss: 0.5511 - accuracy: 0.6945 - val_loss: 0.5214 - val_accuracy: 0.7351\n",
      "Epoch 81/100\n",
      "625/625 [==============================] - 14s 22ms/step - loss: 0.5485 - accuracy: 0.6964 - val_loss: 0.5201 - val_accuracy: 0.7360\n",
      "Epoch 82/100\n",
      "625/625 [==============================] - 14s 22ms/step - loss: 0.5481 - accuracy: 0.6966 - val_loss: 0.5165 - val_accuracy: 0.7358\n",
      "Epoch 83/100\n",
      "625/625 [==============================] - 13s 21ms/step - loss: 0.5468 - accuracy: 0.6977 - val_loss: 0.5186 - val_accuracy: 0.7359\n",
      "Epoch 84/100\n",
      "625/625 [==============================] - 13s 21ms/step - loss: 0.5451 - accuracy: 0.6982 - val_loss: 0.5169 - val_accuracy: 0.7356\n",
      "Epoch 85/100\n",
      "625/625 [==============================] - 13s 21ms/step - loss: 0.5443 - accuracy: 0.6993 - val_loss: 0.5197 - val_accuracy: 0.7360\n",
      "Epoch 86/100\n",
      "625/625 [==============================] - 13s 21ms/step - loss: 0.5433 - accuracy: 0.6998 - val_loss: 0.5162 - val_accuracy: 0.7350\n",
      "Epoch 87/100\n",
      "625/625 [==============================] - 13s 21ms/step - loss: 0.5420 - accuracy: 0.7008 - val_loss: 0.5132 - val_accuracy: 0.7359\n",
      "Epoch 88/100\n",
      "625/625 [==============================] - 13s 21ms/step - loss: 0.5423 - accuracy: 0.7008 - val_loss: 0.5131 - val_accuracy: 0.7347\n",
      "Epoch 89/100\n",
      "625/625 [==============================] - 13s 22ms/step - loss: 0.5406 - accuracy: 0.7018 - val_loss: 0.5087 - val_accuracy: 0.7352\n",
      "Epoch 90/100\n",
      "625/625 [==============================] - 13s 21ms/step - loss: 0.5406 - accuracy: 0.7021 - val_loss: 0.5090 - val_accuracy: 0.7357\n",
      "Epoch 91/100\n",
      "625/625 [==============================] - 13s 21ms/step - loss: 0.5392 - accuracy: 0.7027 - val_loss: 0.5079 - val_accuracy: 0.7350\n",
      "Epoch 92/100\n",
      "625/625 [==============================] - 13s 21ms/step - loss: 0.5375 - accuracy: 0.7033 - val_loss: 0.5095 - val_accuracy: 0.7357\n",
      "Epoch 93/100\n",
      "625/625 [==============================] - 14s 22ms/step - loss: 0.5372 - accuracy: 0.7038 - val_loss: 0.5110 - val_accuracy: 0.7353\n",
      "Epoch 94/100\n",
      "625/625 [==============================] - 14s 22ms/step - loss: 0.5368 - accuracy: 0.7042 - val_loss: 0.5071 - val_accuracy: 0.7348\n",
      "Epoch 95/100\n",
      "625/625 [==============================] - 14s 22ms/step - loss: 0.5373 - accuracy: 0.7038 - val_loss: 0.5076 - val_accuracy: 0.7354\n",
      "Epoch 96/100\n",
      "625/625 [==============================] - 14s 22ms/step - loss: 0.5358 - accuracy: 0.7053 - val_loss: 0.5052 - val_accuracy: 0.7358\n",
      "Epoch 97/100\n",
      "625/625 [==============================] - 14s 22ms/step - loss: 0.5358 - accuracy: 0.7054 - val_loss: 0.5055 - val_accuracy: 0.7355\n",
      "Epoch 98/100\n",
      "625/625 [==============================] - 14s 22ms/step - loss: 0.5342 - accuracy: 0.7061 - val_loss: 0.5054 - val_accuracy: 0.7357\n",
      "Epoch 99/100\n",
      "625/625 [==============================] - 14s 22ms/step - loss: 0.5334 - accuracy: 0.7061 - val_loss: 0.5019 - val_accuracy: 0.7362\n",
      "Epoch 100/100\n",
      "625/625 [==============================] - 14s 22ms/step - loss: 0.5335 - accuracy: 0.7070 - val_loss: 0.5051 - val_accuracy: 0.7362\n"
     ]
    }
   ],
   "source": [
    "history = model.fit(x_train, y_train, epochs=epochs, batch_size=batch_size,verbose=True, validation_data=(x_val, y_val))"
   ]
  },
  {
   "cell_type": "code",
   "execution_count": 16,
   "metadata": {},
   "outputs": [
    {
     "name": "stdout",
     "output_type": "stream",
     "text": [
      "2571/2571 [==============================] - 6s 2ms/step - loss: 0.5066 - accuracy: 0.7354\n",
      "Accuracy: 73.54\n"
     ]
    }
   ],
   "source": [
    "loss, accuracy = model.evaluate(x_test, y_test)\n",
    "print('Accuracy: %.2f' % (accuracy*100))"
   ]
  },
  {
   "cell_type": "code",
   "execution_count": 17,
   "metadata": {},
   "outputs": [
    {
     "data": {
      "image/png": "[encoded data removed]",
      "text/plain": [
       "<Figure size 640x480 with 1 Axes>"
      ]
     },
     "metadata": {},
     "output_type": "display_data"
    },
    {
     "data": {
      "image/png": "[encoded data removed]",
      "text/plain": [
       "<Figure size 640x480 with 1 Axes>"
      ]
     },
     "metadata": {},
     "output_type": "display_data"
    }
   ],
   "source": [
    "plt.plot(history.history['accuracy'])\n",
    "plt.plot(history.history['val_accuracy'])\n",
    "plt.title('model accuracy')\n",
    "plt.ylabel('accuracy')\n",
    "plt.xlabel('epoch')\n",
    "plt.legend(['train', 'test'], loc='upper left')\n",
    "plt.show()\n",
    "# summarize history for loss\n",
    "plt.plot(history.history['loss'])\n",
    "plt.plot(history.history['val_loss'])\n",
    "plt.title('model loss')\n",
    "plt.ylabel('loss')\n",
    "plt.xlabel('epoch')\n",
    "plt.legend(['train', 'test'], loc='upper left')\n",
    "plt.show()"
   ]
  },
  {
   "cell_type": "code",
   "execution_count": 18,
   "metadata": {},
   "outputs": [],
   "source": [
    "test_data = pd.read_csv('../../data/feature_sets/only_in_game_data_v1.csv')\n"
   ]
  },
  {
   "cell_type": "code",
   "execution_count": 19,
   "metadata": {},
   "outputs": [],
   "source": [
    "test_pred = test_data.pop('red_team_outcome')\n"
   ]
  },
  {
   "cell_type": "code",
   "execution_count": 20,
   "metadata": {},
   "outputs": [],
   "source": [
    "test_extra_info = test_data[columns_to_drop]\n",
    "test_data.drop(columns=columns_to_drop,inplace=True)\n"
   ]
  },
  {
   "cell_type": "code",
   "execution_count": 21,
   "metadata": {},
   "outputs": [],
   "source": [
    "random_rows = test_data.sample(n=5)"
   ]
  },
  {
   "cell_type": "code",
   "execution_count": 22,
   "metadata": {},
   "outputs": [
    {
     "data": {
      "text/html": [
       "<div>\n",
       "<style scoped>\n",
       "    .dataframe tbody tr th:only-of-type {\n",
       "        vertical-align: middle;\n",
       "    }\n",
       "\n",
       "    .dataframe tbody tr th {\n",
       "        vertical-align: top;\n",
       "    }\n",
       "\n",
       "    .dataframe thead th {\n",
       "        text-align: right;\n",
       "    }\n",
       "</style>\n",
       "<table border=\"1\" class=\"dataframe\">\n",
       "  <thead>\n",
       "    <tr style=\"text-align: right;\">\n",
       "      <th></th>\n",
       "      <th>blue_team_total_gold</th>\n",
       "      <th>blue_team_inhibitors</th>\n",
       "      <th>blue_team_towers</th>\n",
       "      <th>blue_team_barons</th>\n",
       "      <th>blue_team_total_kills</th>\n",
       "      <th>blue_team_ocean_drakes</th>\n",
       "      <th>blue_team_cloud_drakes</th>\n",
       "      <th>blue_team_mountain_drakes</th>\n",
       "      <th>blue_team_chemtech_drakes</th>\n",
       "      <th>blue_team_infernal_drakes</th>\n",
       "      <th>...</th>\n",
       "      <th>blue_jungle_champ</th>\n",
       "      <th>blue_mid_champ</th>\n",
       "      <th>blue_bot_champ</th>\n",
       "      <th>blue_supp_champ</th>\n",
       "      <th>red_top_champ</th>\n",
       "      <th>red_jungle_champ</th>\n",
       "      <th>red_mid_champ</th>\n",
       "      <th>red_bot_champ</th>\n",
       "      <th>red_supp_champ</th>\n",
       "      <th>time_in_game</th>\n",
       "    </tr>\n",
       "  </thead>\n",
       "  <tbody>\n",
       "    <tr>\n",
       "      <th>56242</th>\n",
       "      <td>62906</td>\n",
       "      <td>0</td>\n",
       "      <td>2</td>\n",
       "      <td>0</td>\n",
       "      <td>3</td>\n",
       "      <td>0</td>\n",
       "      <td>0</td>\n",
       "      <td>0</td>\n",
       "      <td>1</td>\n",
       "      <td>0</td>\n",
       "      <td>...</td>\n",
       "      <td>83</td>\n",
       "      <td>23</td>\n",
       "      <td>78</td>\n",
       "      <td>93</td>\n",
       "      <td>151</td>\n",
       "      <td>74</td>\n",
       "      <td>140</td>\n",
       "      <td>174</td>\n",
       "      <td>79</td>\n",
       "      <td>2226.0</td>\n",
       "    </tr>\n",
       "    <tr>\n",
       "      <th>25113</th>\n",
       "      <td>47682</td>\n",
       "      <td>0</td>\n",
       "      <td>2</td>\n",
       "      <td>1</td>\n",
       "      <td>7</td>\n",
       "      <td>0</td>\n",
       "      <td>1</td>\n",
       "      <td>0</td>\n",
       "      <td>2</td>\n",
       "      <td>0</td>\n",
       "      <td>...</td>\n",
       "      <td>74</td>\n",
       "      <td>23</td>\n",
       "      <td>122</td>\n",
       "      <td>129</td>\n",
       "      <td>52</td>\n",
       "      <td>121</td>\n",
       "      <td>12</td>\n",
       "      <td>174</td>\n",
       "      <td>95</td>\n",
       "      <td>1622.0</td>\n",
       "    </tr>\n",
       "    <tr>\n",
       "      <th>294315</th>\n",
       "      <td>52117</td>\n",
       "      <td>0</td>\n",
       "      <td>3</td>\n",
       "      <td>0</td>\n",
       "      <td>9</td>\n",
       "      <td>0</td>\n",
       "      <td>0</td>\n",
       "      <td>0</td>\n",
       "      <td>0</td>\n",
       "      <td>0</td>\n",
       "      <td>...</td>\n",
       "      <td>158</td>\n",
       "      <td>2</td>\n",
       "      <td>54</td>\n",
       "      <td>9</td>\n",
       "      <td>70</td>\n",
       "      <td>146</td>\n",
       "      <td>12</td>\n",
       "      <td>153</td>\n",
       "      <td>122</td>\n",
       "      <td>1739.0</td>\n",
       "    </tr>\n",
       "    <tr>\n",
       "      <th>225125</th>\n",
       "      <td>45753</td>\n",
       "      <td>0</td>\n",
       "      <td>5</td>\n",
       "      <td>0</td>\n",
       "      <td>12</td>\n",
       "      <td>0</td>\n",
       "      <td>0</td>\n",
       "      <td>0</td>\n",
       "      <td>1</td>\n",
       "      <td>0</td>\n",
       "      <td>...</td>\n",
       "      <td>74</td>\n",
       "      <td>7</td>\n",
       "      <td>57</td>\n",
       "      <td>95</td>\n",
       "      <td>70</td>\n",
       "      <td>121</td>\n",
       "      <td>140</td>\n",
       "      <td>153</td>\n",
       "      <td>139</td>\n",
       "      <td>1501.0</td>\n",
       "    </tr>\n",
       "    <tr>\n",
       "      <th>408790</th>\n",
       "      <td>49377</td>\n",
       "      <td>0</td>\n",
       "      <td>7</td>\n",
       "      <td>1</td>\n",
       "      <td>10</td>\n",
       "      <td>0</td>\n",
       "      <td>0</td>\n",
       "      <td>0</td>\n",
       "      <td>0</td>\n",
       "      <td>0</td>\n",
       "      <td>...</td>\n",
       "      <td>48</td>\n",
       "      <td>12</td>\n",
       "      <td>164</td>\n",
       "      <td>109</td>\n",
       "      <td>149</td>\n",
       "      <td>162</td>\n",
       "      <td>140</td>\n",
       "      <td>55</td>\n",
       "      <td>95</td>\n",
       "      <td>184.0</td>\n",
       "    </tr>\n",
       "  </tbody>\n",
       "</table>\n",
       "<p>5 rows × 115 columns</p>\n",
       "</div>"
      ],
      "text/plain": [
       "        blue_team_total_gold  blue_team_inhibitors  blue_team_towers  \\\n",
       "56242                  62906                     0                 2   \n",
       "25113                  47682                     0                 2   \n",
       "294315                 52117                     0                 3   \n",
       "225125                 45753                     0                 5   \n",
       "408790                 49377                     0                 7   \n",
       "\n",
       "        blue_team_barons  blue_team_total_kills  blue_team_ocean_drakes  \\\n",
       "56242                  0                      3                       0   \n",
       "25113                  1                      7                       0   \n",
       "294315                 0                      9                       0   \n",
       "225125                 0                     12                       0   \n",
       "408790                 1                     10                       0   \n",
       "\n",
       "        blue_team_cloud_drakes  blue_team_mountain_drakes  \\\n",
       "56242                        0                          0   \n",
       "25113                        1                          0   \n",
       "294315                       0                          0   \n",
       "225125                       0                          0   \n",
       "408790                       0                          0   \n",
       "\n",
       "        blue_team_chemtech_drakes  blue_team_infernal_drakes  ...  \\\n",
       "56242                           1                          0  ...   \n",
       "25113                           2                          0  ...   \n",
       "294315                          0                          0  ...   \n",
       "225125                          1                          0  ...   \n",
       "408790                          0                          0  ...   \n",
       "\n",
       "        blue_jungle_champ  blue_mid_champ  blue_bot_champ  blue_supp_champ  \\\n",
       "56242                  83              23              78               93   \n",
       "25113                  74              23             122              129   \n",
       "294315                158               2              54                9   \n",
       "225125                 74               7              57               95   \n",
       "408790                 48              12             164              109   \n",
       "\n",
       "        red_top_champ  red_jungle_champ  red_mid_champ  red_bot_champ  \\\n",
       "56242             151                74            140            174   \n",
       "25113              52               121             12            174   \n",
       "294315             70               146             12            153   \n",
       "225125             70               121            140            153   \n",
       "408790            149               162            140             55   \n",
       "\n",
       "        red_supp_champ  time_in_game  \n",
       "56242               79        2226.0  \n",
       "25113               95        1622.0  \n",
       "294315             122        1739.0  \n",
       "225125             139        1501.0  \n",
       "408790              95         184.0  \n",
       "\n",
       "[5 rows x 115 columns]"
      ]
     },
     "execution_count": 22,
     "metadata": {},
     "output_type": "execute_result"
    }
   ],
   "source": [
    "random_rows"
   ]
  },
  {
   "cell_type": "code",
   "execution_count": 42,
   "metadata": {},
   "outputs": [
    {
     "name": "stdout",
     "output_type": "stream",
     "text": [
      "blue_team_total_gold          49377.0\n",
      "blue_team_inhibitors              0.0\n",
      "blue_team_towers                  7.0\n",
      "blue_team_barons                  1.0\n",
      "blue_team_total_kills            10.0\n",
      "blue_team_ocean_drakes            0.0\n",
      "blue_team_cloud_drakes            0.0\n",
      "blue_team_mountain_drakes         0.0\n",
      "blue_team_chemtech_drakes         0.0\n",
      "blue_team_infernal_drakes         0.0\n",
      "blue_team_hextech_drakes          0.0\n",
      "blue_team_elder_drakes            0.0\n",
      "blue_top_total_gold            8811.0\n",
      "blue_top_level                   13.0\n",
      "blue_top_kills                    1.0\n",
      "blue_top_deaths                   4.0\n",
      "blue_top_assists                  2.0\n",
      "blue_top_creep_score            174.0\n",
      "blue_top_current_health        2038.0\n",
      "blue_top_max_health            2038.0\n",
      "blue_jungle_total_gold         8509.0\n",
      "blue_jungle_level                13.0\n",
      "blue_jungle_kills                 0.0\n",
      "blue_jungle_deaths                1.0\n",
      "blue_jungle_assists               9.0\n",
      "blue_jungle_creep_score         129.0\n",
      "blue_jungle_current_health     2329.0\n",
      "blue_jungle_max_health         2329.0\n",
      "blue_mid_total_gold           11851.0\n",
      "blue_mid_level                   15.0\n",
      "blue_mid_kills                    3.0\n",
      "blue_mid_deaths                   0.0\n",
      "blue_mid_assists                  4.0\n",
      "blue_mid_creep_score            254.0\n",
      "blue_mid_current_health        2283.0\n",
      "blue_mid_max_health            2283.0\n",
      "blue_bot_total_gold           13157.0\n",
      "blue_bot_level                   15.0\n",
      "blue_bot_kills                    5.0\n",
      "blue_bot_deaths                   1.0\n",
      "blue_bot_assists                  2.0\n",
      "blue_bot_creep_score            302.0\n",
      "blue_bot_current_health        2143.0\n",
      "blue_bot_max_health            2199.0\n",
      "blue_supp_total_gold           7049.0\n",
      "blue_supp_level                  10.0\n",
      "blue_supp_kills                   1.0\n",
      "blue_supp_deaths                  1.0\n",
      "blue_supp_assists                 8.0\n",
      "blue_supp_creep_score            33.0\n",
      "blue_supp_current_health       2141.0\n",
      "blue_supp_max_health           2141.0\n",
      "red_team_total_gold           44439.0\n",
      "red_team_inhibitors               0.0\n",
      "red_team_towers                   4.0\n",
      "red_team_barons                   0.0\n",
      "red_team_total_kills              7.0\n",
      "red_team_ocean_drakes             0.0\n",
      "red_team_cloud_drakes             1.0\n",
      "red_team_mountain_drakes          0.0\n",
      "red_team_chemtech_drakes          1.0\n",
      "red_team_infernal_drakes          0.0\n",
      "red_team_hextech_drakes           1.0\n",
      "red_team_elder_drakes             0.0\n",
      "red_top_total_gold            10654.0\n",
      "red_top_level                    15.0\n",
      "red_top_kills                     1.0\n",
      "red_top_deaths                    0.0\n",
      "red_top_assists                   4.0\n",
      "red_top_creep_score             216.0\n",
      "red_top_current_health         2201.0\n",
      "red_top_max_health             2201.0\n",
      "red_jungle_total_gold          7499.0\n",
      "red_jungle_level                 11.0\n",
      "red_jungle_kills                  1.0\n",
      "red_jungle_deaths                 3.0\n",
      "red_jungle_assists                3.0\n",
      "red_jungle_creep_score          136.0\n",
      "red_jungle_current_health      2377.0\n",
      "red_jungle_max_health          2377.0\n",
      "red_mid_total_gold            11093.0\n",
      "red_mid_level                    15.0\n",
      "red_mid_kills                     3.0\n",
      "red_mid_deaths                    1.0\n",
      "red_mid_assists                   3.0\n",
      "red_mid_creep_score             253.0\n",
      "red_mid_current_health         2169.0\n",
      "red_mid_max_health             2169.0\n",
      "red_bot_total_gold             9671.0\n",
      "red_bot_level                    13.0\n",
      "red_bot_kills                     2.0\n",
      "red_bot_deaths                    1.0\n",
      "red_bot_assists                   1.0\n",
      "red_bot_creep_score             239.0\n",
      "red_bot_current_health         1916.0\n",
      "red_bot_max_health             1944.0\n",
      "red_supp_total_gold            5522.0\n",
      "red_supp_level                    8.0\n",
      "red_supp_kills                    0.0\n",
      "red_supp_deaths                   5.0\n",
      "red_supp_assists                  1.0\n",
      "red_supp_creep_score             28.0\n",
      "red_supp_current_health        1918.0\n",
      "red_supp_max_health            1918.0\n",
      "blue_top_champ                  153.0\n",
      "blue_jungle_champ                48.0\n",
      "blue_mid_champ                   12.0\n",
      "blue_bot_champ                  164.0\n",
      "blue_supp_champ                 109.0\n",
      "red_top_champ                   149.0\n",
      "red_jungle_champ                162.0\n",
      "red_mid_champ                   140.0\n",
      "red_bot_champ                    55.0\n",
      "red_supp_champ                   95.0\n",
      "time_in_game                    184.0\n",
      "Name: 408790, dtype: float64\n"
     ]
    }
   ],
   "source": [
    "print(test_data.iloc[408790])"
   ]
  },
  {
   "cell_type": "code",
   "execution_count": 23,
   "metadata": {},
   "outputs": [
    {
     "name": "stderr",
     "output_type": "stream",
     "text": [
      "C:\\Users\\joshu_rdnqgbx\\AppData\\Local\\Temp\\ipykernel_5336\\1653804312.py:1: PerformanceWarning: DataFrame is highly fragmented.  This is usually the result of calling `frame.insert` many times, which has poor performance.  Consider joining all columns at once using pd.concat(axis=1) instead. To get a de-fragmented frame, use `newframe = frame.copy()`\n",
      "  random_rows['index'] = random_rows.index\n"
     ]
    }
   ],
   "source": [
    "random_rows['index'] = random_rows.index"
   ]
  },
  {
   "cell_type": "code",
   "execution_count": 37,
   "metadata": {},
   "outputs": [
    {
     "data": {
      "text/plain": [
       "riot_match_id                111997906552170268\n",
       "min_start_time        2024-03-31 18:00:00+00:00\n",
       "patch_version                               184\n",
       "blue_team_id                               2170\n",
       "blue_top_player              110350224593953686\n",
       "blue_jungle_player           103877629120745120\n",
       "blue_mid_player              104711049101664016\n",
       "blue_bot_player              103536968833612789\n",
       "blue_supp_player             107564404490889053\n",
       "red_team_id                                2169\n",
       "red_top_player                99566406047571736\n",
       "red_jungle_player            105537190986692036\n",
       "red_mid_player                98767975968177297\n",
       "red_bot_player                98767975961872793\n",
       "red_supp_player               99322214629661297\n",
       "league                                        2\n",
       "format                                        1\n",
       "game_in_format                                2\n",
       "season_format                                 0\n",
       "month                                         3\n",
       "day                                          31\n",
       "year                                       2024\n",
       "Name: 408790, dtype: object"
      ]
     },
     "execution_count": 37,
     "metadata": {},
     "output_type": "execute_result"
    }
   ],
   "source": [
    "test_extra_info.iloc[408790]"
   ]
  },
  {
   "cell_type": "code",
   "execution_count": 25,
   "metadata": {},
   "outputs": [
    {
     "data": {
      "text/plain": [
       "1"
      ]
     },
     "execution_count": 25,
     "metadata": {},
     "output_type": "execute_result"
    }
   ],
   "source": [
    "test_pred.iloc[int(354393.0)]"
   ]
  },
  {
   "cell_type": "code",
   "execution_count": 26,
   "metadata": {},
   "outputs": [
    {
     "name": "stdout",
     "output_type": "stream",
     "text": [
      "1\n",
      "1\n",
      "1\n",
      "0\n",
      "1\n"
     ]
    }
   ],
   "source": [
    "random_rows_predictions = []\n",
    "for i in range(len(random_rows)):\n",
    "    print(test_pred.iloc[int(random_rows.iloc[i]['index'])])"
   ]
  },
  {
   "cell_type": "code",
   "execution_count": 27,
   "metadata": {},
   "outputs": [],
   "source": [
    "random_rows.drop(columns = 'index',inplace = True)"
   ]
  },
  {
   "cell_type": "code",
   "execution_count": 28,
   "metadata": {},
   "outputs": [
    {
     "name": "stdout",
     "output_type": "stream",
     "text": [
      "1/1 [==============================] - 0s 94ms/step\n"
     ]
    }
   ],
   "source": [
    "random_rows_results = model.predict(random_rows)"
   ]
  },
  {
   "cell_type": "code",
   "execution_count": 29,
   "metadata": {},
   "outputs": [
    {
     "data": {
      "text/plain": [
       "array([[0.92380065],\n",
       "       [0.38341016],\n",
       "       [0.42861503],\n",
       "       [0.2584831 ],\n",
       "       [0.15459871]], dtype=float32)"
      ]
     },
     "execution_count": 29,
     "metadata": {},
     "output_type": "execute_result"
    }
   ],
   "source": [
    "random_rows_results"
   ]
  },
  {
   "cell_type": "code",
   "execution_count": 30,
   "metadata": {},
   "outputs": [
    {
     "name": "stdout",
     "output_type": "stream",
     "text": [
      "14283/14283 [==============================] - 19s 1ms/step\n"
     ]
    }
   ],
   "source": [
    "all_results = model.predict(test_data)"
   ]
  },
  {
   "cell_type": "code",
   "execution_count": 31,
   "metadata": {},
   "outputs": [],
   "source": [
    "threshold_results = []\n",
    "for result in all_results:\n",
    "    if result > 0.5:\n",
    "        threshold_results.append(1)\n",
    "    else:\n",
    "        threshold_results.append(0)"
   ]
  },
  {
   "cell_type": "code",
   "execution_count": 32,
   "metadata": {},
   "outputs": [
    {
     "data": {
      "image/png": "[encoded data removed]",
      "text/plain": [
       "<Figure size 640x480 with 2 Axes>"
      ]
     },
     "metadata": {},
     "output_type": "display_data"
    }
   ],
   "source": [
    "confusion_matrix = metrics.confusion_matrix(test_pred, threshold_results)\n",
    "\n",
    "cm_display = metrics.ConfusionMatrixDisplay(confusion_matrix = confusion_matrix, display_labels = [0, 1])\n",
    "\n",
    "cm_display.plot()\n",
    "plt.show()"
   ]
  },
  {
   "cell_type": "code",
   "execution_count": 33,
   "metadata": {},
   "outputs": [
    {
     "data": {
      "image/png": "[encoded data removed]",
      "text/plain": [
       "<Figure size 640x480 with 1 Axes>"
      ]
     },
     "metadata": {},
     "output_type": "display_data"
    }
   ],
   "source": [
    "plt.hist(all_results)\n",
    "plt.show() "
   ]
  },
  {
   "cell_type": "code",
   "execution_count": 34,
   "metadata": {},
   "outputs": [
    {
     "data": {
      "text/plain": [
       "0.7584920021812233"
      ]
     },
     "execution_count": 34,
     "metadata": {},
     "output_type": "execute_result"
    }
   ],
   "source": [
    "metrics.precision_score(test_pred, threshold_results)\n"
   ]
  },
  {
   "cell_type": "code",
   "execution_count": 35,
   "metadata": {},
   "outputs": [
    {
     "data": {
      "text/plain": [
       "0.6298275569307398"
      ]
     },
     "execution_count": 35,
     "metadata": {},
     "output_type": "execute_result"
    }
   ],
   "source": [
    "metrics.recall_score(test_pred, threshold_results)\n"
   ]
  },
  {
   "cell_type": "code",
   "execution_count": 36,
   "metadata": {},
   "outputs": [],
   "source": [
    "model.save('../saved_models/only_in_game_data_v5.keras')"
   ]
  }
 ],
 "metadata": {
  "kernelspec": {
   "display_name": "predictorEnv",
   "language": "python",
   "name": "python3"
  },
  "language_info": {
   "codemirror_mode": {
    "name": "ipython",
    "version": 3
   },
   "file_extension": ".py",
   "mimetype": "text/x-python",
   "name": "python",
   "nbconvert_exporter": "python",
   "pygments_lexer": "ipython3",
   "version": "3.10.13"
  }
 },
 "nbformat": 4,
 "nbformat_minor": 2
}
