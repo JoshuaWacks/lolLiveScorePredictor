{
 "cells": [
  {
   "cell_type": "code",
   "execution_count": 1,
   "metadata": {},
   "outputs": [],
   "source": [
    "import pandas as pd\n",
    "from sklearn.model_selection import train_test_split\n",
    "from tensorflow.keras.models import Sequential\n",
    "from tensorflow.keras.layers import Dense,Dropout\n",
    "import keras\n",
    "import matplotlib.pyplot as plt\n",
    "from sklearn import metrics\n",
    "from sklearn.metrics import precision_recall_fscore_support"
   ]
  },
  {
   "cell_type": "code",
   "execution_count": 2,
   "metadata": {},
   "outputs": [
    {
     "name": "stdout",
     "output_type": "stream",
     "text": [
      "[PhysicalDevice(name='/physical_device:GPU:0', device_type='GPU')]\n"
     ]
    }
   ],
   "source": [
    "import tensorflow as tf\n",
    "print(tf.config.list_physical_devices('GPU'))"
   ]
  },
  {
   "cell_type": "code",
   "execution_count": 3,
   "metadata": {},
   "outputs": [],
   "source": [
    "test_size = 0.3\n",
    "val_size = 0.5\n",
    "train_size =0.7\n",
    "\n",
    "random_state = 42"
   ]
  },
  {
   "cell_type": "code",
   "execution_count": 4,
   "metadata": {},
   "outputs": [],
   "source": [
    "data = pd.read_csv('../../data/feature_sets/only_in_game_data_v1.csv')"
   ]
  },
  {
   "cell_type": "code",
   "execution_count": 5,
   "metadata": {},
   "outputs": [
    {
     "data": {
      "text/plain": [
       "457031"
      ]
     },
     "execution_count": 5,
     "metadata": {},
     "output_type": "execute_result"
    }
   ],
   "source": [
    "len(data)"
   ]
  },
  {
   "cell_type": "code",
   "execution_count": 6,
   "metadata": {},
   "outputs": [],
   "source": [
    "columns_to_drop = [\n",
    "'riot_match_id',\n",
    "'min_start_time',\n",
    "\n",
    "'patch_version',\n",
    " 'blue_team_id',\n",
    " 'blue_top_player',\n",
    " 'blue_jungle_player',\n",
    " 'blue_mid_player',\n",
    " 'blue_bot_player',\n",
    " 'blue_supp_player',\n",
    " 'red_team_id',\n",
    " 'red_top_player',\n",
    " 'red_jungle_player',\n",
    " 'red_mid_player',\n",
    " 'red_bot_player',\n",
    " 'red_supp_player',\n",
    " 'league',\n",
    " 'format',\n",
    " 'game_in_format',\n",
    " 'season_format',\n",
    " 'month',\n",
    " 'day',\n",
    " 'year'\n",
    " ]"
   ]
  },
  {
   "cell_type": "code",
   "execution_count": 7,
   "metadata": {},
   "outputs": [],
   "source": [
    "extar_info = data[columns_to_drop]\n",
    "data.drop(columns=columns_to_drop,inplace=True)\n"
   ]
  },
  {
   "cell_type": "code",
   "execution_count": 8,
   "metadata": {},
   "outputs": [],
   "source": [
    "pred = data.pop('red_team_outcome')"
   ]
  },
  {
   "cell_type": "code",
   "execution_count": 9,
   "metadata": {},
   "outputs": [],
   "source": [
    "x_train, x_temp, y_train, y_temp = train_test_split(data,pred,test_size=test_size,random_state = random_state,shuffle=True)\n",
    "x_val, x_test, y_val, y_test = train_test_split(x_temp,y_temp,test_size = val_size,random_state = random_state,shuffle=True)"
   ]
  },
  {
   "cell_type": "code",
   "execution_count": 10,
   "metadata": {},
   "outputs": [],
   "source": [
    "assert len(data) == len(x_train) + len(x_test) + len(x_val)\n",
    "assert len(data) == len(y_train) + len(y_val) + len(y_test)"
   ]
  },
  {
   "cell_type": "code",
   "execution_count": 11,
   "metadata": {},
   "outputs": [
    {
     "data": {
      "text/plain": [
       "115"
      ]
     },
     "execution_count": 11,
     "metadata": {},
     "output_type": "execute_result"
    }
   ],
   "source": [
    "num_input = len(data.columns)\n",
    "num_input"
   ]
  },
  {
   "cell_type": "code",
   "execution_count": 12,
   "metadata": {},
   "outputs": [],
   "source": [
    "model = Sequential()\n",
    "model.add(Dense(1024, input_shape=(num_input,), activation='relu'))\n",
    "model.add(Dense(2048, activation='relu'))\n",
    "model.add(Dropout(0.5))\n",
    "model.add(Dense(4096, activation='relu'))\n",
    "model.add(Dropout(0.5))\n",
    "model.add(Dense(2048, activation='relu'))\n",
    "model.add(Dropout(0.5))\n",
    "model.add(Dense(512, activation='relu'))\n",
    "model.add(Dense(256, activation='relu'))\n",
    "\n",
    "model.add(Dense(1, activation='sigmoid'))"
   ]
  },
  {
   "cell_type": "code",
   "execution_count": 13,
   "metadata": {},
   "outputs": [],
   "source": [
    "patience = 10\n",
    "learning_rate = 1e-6\n",
    "epochs = 42\n",
    "batch_size= 512"
   ]
  },
  {
   "cell_type": "code",
   "execution_count": 14,
   "metadata": {},
   "outputs": [],
   "source": [
    "earlyStopping = keras.callbacks.EarlyStopping(monitor='val_loss', patience=patience, verbose=0, mode='min')\n",
    "mcp_save = keras.callbacks.ModelCheckpoint('mdl_wts.keras', save_best_only=True, monitor='val_loss', mode='min')\n",
    "model.compile(loss='binary_crossentropy', optimizer=keras.optimizers.Adam(learning_rate=learning_rate), metrics=['accuracy'])"
   ]
  },
  {
   "cell_type": "code",
   "execution_count": 15,
   "metadata": {},
   "outputs": [
    {
     "name": "stdout",
     "output_type": "stream",
     "text": [
      "Epoch 1/42\n",
      "625/625 [==============================] - 9s 12ms/step - loss: 254.5214 - accuracy: 0.5200 - val_loss: 12.7681 - val_accuracy: 0.6717\n",
      "Epoch 2/42\n",
      "625/625 [==============================] - 7s 11ms/step - loss: 144.7720 - accuracy: 0.5516 - val_loss: 24.2814 - val_accuracy: 0.5547\n",
      "Epoch 3/42\n",
      "625/625 [==============================] - 7s 11ms/step - loss: 99.3218 - accuracy: 0.5718 - val_loss: 18.3581 - val_accuracy: 0.5625\n",
      "Epoch 4/42\n",
      "625/625 [==============================] - 7s 11ms/step - loss: 73.5493 - accuracy: 0.5890 - val_loss: 14.7671 - val_accuracy: 0.5776\n",
      "Epoch 5/42\n",
      "625/625 [==============================] - 7s 11ms/step - loss: 56.8041 - accuracy: 0.6062 - val_loss: 12.9166 - val_accuracy: 0.5937\n",
      "Epoch 6/42\n",
      "625/625 [==============================] - 7s 11ms/step - loss: 44.5773 - accuracy: 0.6204 - val_loss: 12.6612 - val_accuracy: 0.5994\n",
      "Epoch 7/42\n",
      "625/625 [==============================] - 7s 12ms/step - loss: 35.7620 - accuracy: 0.6327 - val_loss: 11.1322 - val_accuracy: 0.6113\n",
      "Epoch 8/42\n",
      "625/625 [==============================] - 7s 11ms/step - loss: 29.0293 - accuracy: 0.6399 - val_loss: 10.4501 - val_accuracy: 0.6033\n",
      "Epoch 9/42\n",
      "625/625 [==============================] - 7s 11ms/step - loss: 23.5330 - accuracy: 0.6485 - val_loss: 8.5981 - val_accuracy: 0.6153\n",
      "Epoch 10/42\n",
      "625/625 [==============================] - 7s 11ms/step - loss: 19.2467 - accuracy: 0.6539 - val_loss: 6.1740 - val_accuracy: 0.6292\n",
      "Epoch 11/42\n",
      "625/625 [==============================] - 7s 11ms/step - loss: 15.7224 - accuracy: 0.6584 - val_loss: 4.6448 - val_accuracy: 0.6274\n",
      "Epoch 12/42\n",
      "625/625 [==============================] - 7s 11ms/step - loss: 12.9344 - accuracy: 0.6604 - val_loss: 3.5831 - val_accuracy: 0.6189\n",
      "Epoch 13/42\n",
      "625/625 [==============================] - 7s 11ms/step - loss: 10.5088 - accuracy: 0.6628 - val_loss: 2.4409 - val_accuracy: 0.6415\n",
      "Epoch 14/42\n",
      "625/625 [==============================] - 7s 11ms/step - loss: 8.4624 - accuracy: 0.6645 - val_loss: 1.7273 - val_accuracy: 0.6344\n",
      "Epoch 15/42\n",
      "625/625 [==============================] - 7s 11ms/step - loss: 6.8306 - accuracy: 0.6670 - val_loss: 1.3263 - val_accuracy: 0.6469\n",
      "Epoch 16/42\n",
      "625/625 [==============================] - 7s 11ms/step - loss: 5.4645 - accuracy: 0.6689 - val_loss: 1.0818 - val_accuracy: 0.6574\n",
      "Epoch 17/42\n",
      "625/625 [==============================] - 7s 12ms/step - loss: 4.3971 - accuracy: 0.6694 - val_loss: 1.0542 - val_accuracy: 0.6381\n",
      "Epoch 18/42\n",
      "625/625 [==============================] - 7s 11ms/step - loss: 3.4935 - accuracy: 0.6686 - val_loss: 0.8406 - val_accuracy: 0.6514\n",
      "Epoch 19/42\n",
      "625/625 [==============================] - 7s 12ms/step - loss: 2.7336 - accuracy: 0.6700 - val_loss: 0.7749 - val_accuracy: 0.6510\n",
      "Epoch 20/42\n",
      "625/625 [==============================] - 7s 11ms/step - loss: 2.1275 - accuracy: 0.6714 - val_loss: 0.6420 - val_accuracy: 0.6772\n",
      "Epoch 21/42\n",
      "625/625 [==============================] - 7s 11ms/step - loss: 1.6317 - accuracy: 0.6726 - val_loss: 0.5603 - val_accuracy: 0.7036\n",
      "Epoch 22/42\n",
      "625/625 [==============================] - 7s 11ms/step - loss: 1.2565 - accuracy: 0.6730 - val_loss: 0.5344 - val_accuracy: 0.7071\n",
      "Epoch 23/42\n",
      "625/625 [==============================] - 7s 11ms/step - loss: 0.9962 - accuracy: 0.6731 - val_loss: 0.5265 - val_accuracy: 0.7090\n",
      "Epoch 24/42\n",
      "625/625 [==============================] - 7s 12ms/step - loss: 0.8280 - accuracy: 0.6769 - val_loss: 0.5179 - val_accuracy: 0.7147\n",
      "Epoch 25/42\n",
      "625/625 [==============================] - 7s 11ms/step - loss: 0.7321 - accuracy: 0.6787 - val_loss: 0.5113 - val_accuracy: 0.7182\n",
      "Epoch 26/42\n",
      "625/625 [==============================] - 7s 12ms/step - loss: 0.6675 - accuracy: 0.6849 - val_loss: 0.5056 - val_accuracy: 0.7259\n",
      "Epoch 27/42\n",
      "625/625 [==============================] - 7s 12ms/step - loss: 0.6265 - accuracy: 0.6917 - val_loss: 0.4979 - val_accuracy: 0.7311\n",
      "Epoch 28/42\n",
      "625/625 [==============================] - 7s 12ms/step - loss: 0.5961 - accuracy: 0.6970 - val_loss: 0.4922 - val_accuracy: 0.7322\n",
      "Epoch 29/42\n",
      "625/625 [==============================] - 7s 12ms/step - loss: 0.5725 - accuracy: 0.7025 - val_loss: 0.4878 - val_accuracy: 0.7389\n",
      "Epoch 30/42\n",
      "625/625 [==============================] - 7s 12ms/step - loss: 0.5568 - accuracy: 0.7093 - val_loss: 0.4829 - val_accuracy: 0.7450\n",
      "Epoch 31/42\n",
      "625/625 [==============================] - 7s 12ms/step - loss: 0.5403 - accuracy: 0.7166 - val_loss: 0.4776 - val_accuracy: 0.7486\n",
      "Epoch 32/42\n",
      "625/625 [==============================] - 7s 11ms/step - loss: 0.5323 - accuracy: 0.7201 - val_loss: 0.4739 - val_accuracy: 0.7459\n",
      "Epoch 33/42\n",
      "625/625 [==============================] - 7s 11ms/step - loss: 0.5231 - accuracy: 0.7232 - val_loss: 0.4720 - val_accuracy: 0.7495\n",
      "Epoch 34/42\n",
      "625/625 [==============================] - 7s 11ms/step - loss: 0.5147 - accuracy: 0.7270 - val_loss: 0.4669 - val_accuracy: 0.7536\n",
      "Epoch 35/42\n",
      "625/625 [==============================] - 7s 11ms/step - loss: 0.5094 - accuracy: 0.7318 - val_loss: 0.4652 - val_accuracy: 0.7572\n",
      "Epoch 36/42\n",
      "625/625 [==============================] - 7s 11ms/step - loss: 0.5037 - accuracy: 0.7343 - val_loss: 0.4628 - val_accuracy: 0.7583\n",
      "Epoch 37/42\n",
      "625/625 [==============================] - 7s 11ms/step - loss: 0.4992 - accuracy: 0.7384 - val_loss: 0.4587 - val_accuracy: 0.7611\n",
      "Epoch 38/42\n",
      "625/625 [==============================] - 7s 11ms/step - loss: 0.4956 - accuracy: 0.7391 - val_loss: 0.4560 - val_accuracy: 0.7664\n",
      "Epoch 39/42\n",
      "625/625 [==============================] - 7s 11ms/step - loss: 0.4900 - accuracy: 0.7410 - val_loss: 0.4538 - val_accuracy: 0.7676\n",
      "Epoch 40/42\n",
      "625/625 [==============================] - 7s 11ms/step - loss: 0.4863 - accuracy: 0.7453 - val_loss: 0.4509 - val_accuracy: 0.7715\n",
      "Epoch 41/42\n",
      "625/625 [==============================] - 7s 11ms/step - loss: 0.4827 - accuracy: 0.7465 - val_loss: 0.4484 - val_accuracy: 0.7732\n",
      "Epoch 42/42\n",
      "625/625 [==============================] - 7s 11ms/step - loss: 0.4799 - accuracy: 0.7491 - val_loss: 0.4458 - val_accuracy: 0.7731\n"
     ]
    }
   ],
   "source": [
    "history = model.fit(x_train, y_train, epochs=epochs, batch_size=batch_size,verbose=True, validation_data=(x_val, y_val))"
   ]
  },
  {
   "cell_type": "code",
   "execution_count": 16,
   "metadata": {},
   "outputs": [
    {
     "name": "stdout",
     "output_type": "stream",
     "text": [
      "2143/2143 [==============================] - 5s 2ms/step - loss: 0.4481 - accuracy: 0.7699\n",
      "Accuracy: 76.99\n"
     ]
    }
   ],
   "source": [
    "loss, accuracy = model.evaluate(x_test, y_test)\n",
    "print('Accuracy: %.2f' % (accuracy*100))"
   ]
  },
  {
   "cell_type": "code",
   "execution_count": 17,
   "metadata": {},
   "outputs": [
    {
     "data": {
      "image/png": "[encoded data removed]",
      "text/plain": [
       "<Figure size 640x480 with 1 Axes>"
      ]
     },
     "metadata": {},
     "output_type": "display_data"
    },
    {
     "data": {
      "image/png": "[encoded data removed]",
      "text/plain": [
       "<Figure size 640x480 with 1 Axes>"
      ]
     },
     "metadata": {},
     "output_type": "display_data"
    }
   ],
   "source": [
    "plt.plot(history.history['accuracy'])\n",
    "plt.plot(history.history['val_accuracy'])\n",
    "plt.title('model accuracy')\n",
    "plt.ylabel('accuracy')\n",
    "plt.xlabel('epoch')\n",
    "plt.legend(['train', 'test'], loc='upper left')\n",
    "plt.show()\n",
    "# summarize history for loss\n",
    "plt.plot(history.history['loss'])\n",
    "plt.plot(history.history['val_loss'])\n",
    "plt.title('model loss')\n",
    "plt.ylabel('loss')\n",
    "plt.xlabel('epoch')\n",
    "plt.legend(['train', 'test'], loc='upper left')\n",
    "plt.show()"
   ]
  },
  {
   "cell_type": "code",
   "execution_count": 18,
   "metadata": {},
   "outputs": [],
   "source": [
    "test_data = pd.read_csv('../../data/feature_sets/only_in_game_data_v1.csv')\n"
   ]
  },
  {
   "cell_type": "code",
   "execution_count": 19,
   "metadata": {},
   "outputs": [],
   "source": [
    "test_pred = test_data.pop('red_team_outcome')\n"
   ]
  },
  {
   "cell_type": "code",
   "execution_count": 20,
   "metadata": {},
   "outputs": [],
   "source": [
    "test_extra_info = test_data[columns_to_drop]\n",
    "test_data.drop(columns=columns_to_drop,inplace=True)\n"
   ]
  },
  {
   "cell_type": "code",
   "execution_count": 21,
   "metadata": {},
   "outputs": [],
   "source": [
    "random_rows = test_data.sample(n=5)"
   ]
  },
  {
   "cell_type": "code",
   "execution_count": 22,
   "metadata": {},
   "outputs": [
    {
     "data": {
      "text/html": [
       "<div>\n",
       "<style scoped>\n",
       "    .dataframe tbody tr th:only-of-type {\n",
       "        vertical-align: middle;\n",
       "    }\n",
       "\n",
       "    .dataframe tbody tr th {\n",
       "        vertical-align: top;\n",
       "    }\n",
       "\n",
       "    .dataframe thead th {\n",
       "        text-align: right;\n",
       "    }\n",
       "</style>\n",
       "<table border=\"1\" class=\"dataframe\">\n",
       "  <thead>\n",
       "    <tr style=\"text-align: right;\">\n",
       "      <th></th>\n",
       "      <th>blue_team_total_gold</th>\n",
       "      <th>blue_team_inhibitors</th>\n",
       "      <th>blue_team_towers</th>\n",
       "      <th>blue_team_barons</th>\n",
       "      <th>blue_team_total_kills</th>\n",
       "      <th>blue_team_ocean_drakes</th>\n",
       "      <th>blue_team_cloud_drakes</th>\n",
       "      <th>blue_team_mountain_drakes</th>\n",
       "      <th>blue_team_chemtech_drakes</th>\n",
       "      <th>blue_team_infernal_drakes</th>\n",
       "      <th>...</th>\n",
       "      <th>blue_jungle_champ</th>\n",
       "      <th>blue_mid_champ</th>\n",
       "      <th>blue_bot_champ</th>\n",
       "      <th>blue_supp_champ</th>\n",
       "      <th>red_top_champ</th>\n",
       "      <th>red_jungle_champ</th>\n",
       "      <th>red_mid_champ</th>\n",
       "      <th>red_bot_champ</th>\n",
       "      <th>red_supp_champ</th>\n",
       "      <th>time_in_game</th>\n",
       "    </tr>\n",
       "  </thead>\n",
       "  <tbody>\n",
       "    <tr>\n",
       "      <th>126966</th>\n",
       "      <td>15412</td>\n",
       "      <td>0</td>\n",
       "      <td>0</td>\n",
       "      <td>0</td>\n",
       "      <td>2</td>\n",
       "      <td>0</td>\n",
       "      <td>0</td>\n",
       "      <td>0</td>\n",
       "      <td>0</td>\n",
       "      <td>0</td>\n",
       "      <td>...</td>\n",
       "      <td>167</td>\n",
       "      <td>102</td>\n",
       "      <td>78</td>\n",
       "      <td>93</td>\n",
       "      <td>0</td>\n",
       "      <td>112</td>\n",
       "      <td>12</td>\n",
       "      <td>164</td>\n",
       "      <td>109</td>\n",
       "      <td>547.0</td>\n",
       "    </tr>\n",
       "    <tr>\n",
       "      <th>34866</th>\n",
       "      <td>54539</td>\n",
       "      <td>0</td>\n",
       "      <td>0</td>\n",
       "      <td>0</td>\n",
       "      <td>3</td>\n",
       "      <td>0</td>\n",
       "      <td>1</td>\n",
       "      <td>0</td>\n",
       "      <td>1</td>\n",
       "      <td>0</td>\n",
       "      <td>...</td>\n",
       "      <td>121</td>\n",
       "      <td>23</td>\n",
       "      <td>78</td>\n",
       "      <td>93</td>\n",
       "      <td>111</td>\n",
       "      <td>74</td>\n",
       "      <td>12</td>\n",
       "      <td>174</td>\n",
       "      <td>171</td>\n",
       "      <td>2038.0</td>\n",
       "    </tr>\n",
       "    <tr>\n",
       "      <th>189891</th>\n",
       "      <td>47067</td>\n",
       "      <td>0</td>\n",
       "      <td>4</td>\n",
       "      <td>0</td>\n",
       "      <td>9</td>\n",
       "      <td>1</td>\n",
       "      <td>0</td>\n",
       "      <td>1</td>\n",
       "      <td>0</td>\n",
       "      <td>0</td>\n",
       "      <td>...</td>\n",
       "      <td>83</td>\n",
       "      <td>145</td>\n",
       "      <td>19</td>\n",
       "      <td>9</td>\n",
       "      <td>70</td>\n",
       "      <td>112</td>\n",
       "      <td>102</td>\n",
       "      <td>78</td>\n",
       "      <td>93</td>\n",
       "      <td>1563.0</td>\n",
       "    </tr>\n",
       "    <tr>\n",
       "      <th>20988</th>\n",
       "      <td>53562</td>\n",
       "      <td>0</td>\n",
       "      <td>4</td>\n",
       "      <td>0</td>\n",
       "      <td>15</td>\n",
       "      <td>0</td>\n",
       "      <td>0</td>\n",
       "      <td>1</td>\n",
       "      <td>0</td>\n",
       "      <td>1</td>\n",
       "      <td>...</td>\n",
       "      <td>158</td>\n",
       "      <td>1</td>\n",
       "      <td>55</td>\n",
       "      <td>139</td>\n",
       "      <td>118</td>\n",
       "      <td>52</td>\n",
       "      <td>12</td>\n",
       "      <td>174</td>\n",
       "      <td>95</td>\n",
       "      <td>1686.0</td>\n",
       "    </tr>\n",
       "    <tr>\n",
       "      <th>77929</th>\n",
       "      <td>54621</td>\n",
       "      <td>0</td>\n",
       "      <td>1</td>\n",
       "      <td>0</td>\n",
       "      <td>9</td>\n",
       "      <td>0</td>\n",
       "      <td>0</td>\n",
       "      <td>0</td>\n",
       "      <td>1</td>\n",
       "      <td>0</td>\n",
       "      <td>...</td>\n",
       "      <td>121</td>\n",
       "      <td>102</td>\n",
       "      <td>132</td>\n",
       "      <td>95</td>\n",
       "      <td>70</td>\n",
       "      <td>83</td>\n",
       "      <td>140</td>\n",
       "      <td>31</td>\n",
       "      <td>58</td>\n",
       "      <td>1919.0</td>\n",
       "    </tr>\n",
       "  </tbody>\n",
       "</table>\n",
       "<p>5 rows × 115 columns</p>\n",
       "</div>"
      ],
      "text/plain": [
       "        blue_team_total_gold  blue_team_inhibitors  blue_team_towers  \\\n",
       "126966                 15412                     0                 0   \n",
       "34866                  54539                     0                 0   \n",
       "189891                 47067                     0                 4   \n",
       "20988                  53562                     0                 4   \n",
       "77929                  54621                     0                 1   \n",
       "\n",
       "        blue_team_barons  blue_team_total_kills  blue_team_ocean_drakes  \\\n",
       "126966                 0                      2                       0   \n",
       "34866                  0                      3                       0   \n",
       "189891                 0                      9                       1   \n",
       "20988                  0                     15                       0   \n",
       "77929                  0                      9                       0   \n",
       "\n",
       "        blue_team_cloud_drakes  blue_team_mountain_drakes  \\\n",
       "126966                       0                          0   \n",
       "34866                        1                          0   \n",
       "189891                       0                          1   \n",
       "20988                        0                          1   \n",
       "77929                        0                          0   \n",
       "\n",
       "        blue_team_chemtech_drakes  blue_team_infernal_drakes  ...  \\\n",
       "126966                          0                          0  ...   \n",
       "34866                           1                          0  ...   \n",
       "189891                          0                          0  ...   \n",
       "20988                           0                          1  ...   \n",
       "77929                           1                          0  ...   \n",
       "\n",
       "        blue_jungle_champ  blue_mid_champ  blue_bot_champ  blue_supp_champ  \\\n",
       "126966                167             102              78               93   \n",
       "34866                 121              23              78               93   \n",
       "189891                 83             145              19                9   \n",
       "20988                 158               1              55              139   \n",
       "77929                 121             102             132               95   \n",
       "\n",
       "        red_top_champ  red_jungle_champ  red_mid_champ  red_bot_champ  \\\n",
       "126966              0               112             12            164   \n",
       "34866             111                74             12            174   \n",
       "189891             70               112            102             78   \n",
       "20988             118                52             12            174   \n",
       "77929              70                83            140             31   \n",
       "\n",
       "        red_supp_champ  time_in_game  \n",
       "126966             109         547.0  \n",
       "34866              171        2038.0  \n",
       "189891              93        1563.0  \n",
       "20988               95        1686.0  \n",
       "77929               58        1919.0  \n",
       "\n",
       "[5 rows x 115 columns]"
      ]
     },
     "execution_count": 22,
     "metadata": {},
     "output_type": "execute_result"
    }
   ],
   "source": [
    "random_rows"
   ]
  },
  {
   "cell_type": "code",
   "execution_count": 23,
   "metadata": {},
   "outputs": [
    {
     "name": "stderr",
     "output_type": "stream",
     "text": [
      "C:\\Users\\joshu_rdnqgbx\\AppData\\Local\\Temp\\ipykernel_6320\\1653804312.py:1: PerformanceWarning: DataFrame is highly fragmented.  This is usually the result of calling `frame.insert` many times, which has poor performance.  Consider joining all columns at once using pd.concat(axis=1) instead. To get a de-fragmented frame, use `newframe = frame.copy()`\n",
      "  random_rows['index'] = random_rows.index\n"
     ]
    }
   ],
   "source": [
    "random_rows['index'] = random_rows.index"
   ]
  },
  {
   "cell_type": "code",
   "execution_count": 24,
   "metadata": {},
   "outputs": [
    {
     "data": {
      "text/plain": [
       "riot_match_id                111560983140247875\n",
       "min_start_time        2024-01-22 16:00:00+00:00\n",
       "patch_version                               545\n",
       "blue_team_id                               2173\n",
       "blue_top_player              105514974275992586\n",
       "blue_jungle_player           107464179845128878\n",
       "blue_mid_player               98926509846377469\n",
       "blue_bot_player              104737951126648199\n",
       "blue_supp_player             101389760981745081\n",
       "red_team_id                                2349\n",
       "red_top_player               105515229738531937\n",
       "red_jungle_player            105830645287286396\n",
       "red_mid_player               105554437688383476\n",
       "red_bot_player               105501834624360050\n",
       "red_supp_player              102787200059605684\n",
       "league                                        2\n",
       "format                                        0\n",
       "game_in_format                                1\n",
       "season_format                                 1\n",
       "month                                         1\n",
       "day                                          22\n",
       "year                                       2024\n",
       "Name: 354393, dtype: object"
      ]
     },
     "execution_count": 24,
     "metadata": {},
     "output_type": "execute_result"
    }
   ],
   "source": [
    "test_extra_info.iloc[354393]"
   ]
  },
  {
   "cell_type": "code",
   "execution_count": 25,
   "metadata": {},
   "outputs": [
    {
     "data": {
      "text/plain": [
       "1"
      ]
     },
     "execution_count": 25,
     "metadata": {},
     "output_type": "execute_result"
    }
   ],
   "source": [
    "test_pred.iloc[int(354393.0)]"
   ]
  },
  {
   "cell_type": "code",
   "execution_count": 26,
   "metadata": {},
   "outputs": [
    {
     "name": "stdout",
     "output_type": "stream",
     "text": [
      "0\n",
      "1\n",
      "1\n",
      "1\n",
      "0\n"
     ]
    }
   ],
   "source": [
    "random_rows_predictions = []\n",
    "for i in range(len(random_rows)):\n",
    "    print(test_pred.iloc[int(random_rows.iloc[i]['index'])])"
   ]
  },
  {
   "cell_type": "code",
   "execution_count": 27,
   "metadata": {},
   "outputs": [],
   "source": [
    "random_rows.drop(columns = 'index',inplace = True)"
   ]
  },
  {
   "cell_type": "code",
   "execution_count": 28,
   "metadata": {},
   "outputs": [
    {
     "name": "stdout",
     "output_type": "stream",
     "text": [
      "1/1 [==============================] - 0s 90ms/step\n"
     ]
    }
   ],
   "source": [
    "random_rows_results = model.predict(random_rows)"
   ]
  },
  {
   "cell_type": "code",
   "execution_count": 29,
   "metadata": {},
   "outputs": [
    {
     "data": {
      "text/plain": [
       "array([[0.5856761 ],\n",
       "       [0.82000065],\n",
       "       [0.83623546],\n",
       "       [0.6229736 ],\n",
       "       [0.56385076]], dtype=float32)"
      ]
     },
     "execution_count": 29,
     "metadata": {},
     "output_type": "execute_result"
    }
   ],
   "source": [
    "random_rows_results"
   ]
  },
  {
   "cell_type": "code",
   "execution_count": 30,
   "metadata": {},
   "outputs": [
    {
     "name": "stdout",
     "output_type": "stream",
     "text": [
      "14283/14283 [==============================] - 17s 1ms/step\n"
     ]
    }
   ],
   "source": [
    "all_results = model.predict(test_data)"
   ]
  },
  {
   "cell_type": "code",
   "execution_count": 31,
   "metadata": {},
   "outputs": [],
   "source": [
    "threshold_results = []\n",
    "for result in all_results:\n",
    "    if result > 0.5:\n",
    "        threshold_results.append(1)\n",
    "    else:\n",
    "        threshold_results.append(0)"
   ]
  },
  {
   "cell_type": "code",
   "execution_count": 32,
   "metadata": {},
   "outputs": [
    {
     "data": {
      "image/png": "[encoded data removed]",
      "text/plain": [
       "<Figure size 640x480 with 2 Axes>"
      ]
     },
     "metadata": {},
     "output_type": "display_data"
    }
   ],
   "source": [
    "confusion_matrix = metrics.confusion_matrix(test_pred, threshold_results)\n",
    "\n",
    "cm_display = metrics.ConfusionMatrixDisplay(confusion_matrix = confusion_matrix, display_labels = [0, 1])\n",
    "\n",
    "cm_display.plot()\n",
    "plt.show()"
   ]
  },
  {
   "cell_type": "code",
   "execution_count": 33,
   "metadata": {},
   "outputs": [
    {
     "data": {
      "image/png": "[encoded data removed]",
      "text/plain": [
       "<Figure size 640x480 with 1 Axes>"
      ]
     },
     "metadata": {},
     "output_type": "display_data"
    }
   ],
   "source": [
    "plt.hist(all_results)\n",
    "plt.show() "
   ]
  },
  {
   "cell_type": "code",
   "execution_count": 34,
   "metadata": {},
   "outputs": [
    {
     "data": {
      "text/plain": [
       "0.7472536997500046"
      ]
     },
     "execution_count": 34,
     "metadata": {},
     "output_type": "execute_result"
    }
   ],
   "source": [
    "metrics.precision_score(test_pred, threshold_results)\n"
   ]
  },
  {
   "cell_type": "code",
   "execution_count": 35,
   "metadata": {},
   "outputs": [
    {
     "data": {
      "text/plain": [
       "0.7726024941984416"
      ]
     },
     "execution_count": 35,
     "metadata": {},
     "output_type": "execute_result"
    }
   ],
   "source": [
    "metrics.recall_score(test_pred, threshold_results)\n"
   ]
  },
  {
   "cell_type": "code",
   "execution_count": 36,
   "metadata": {},
   "outputs": [],
   "source": [
    "model.save_weights('../saved_models/only_in_game_data_v4.keras')"
   ]
  }
 ],
 "metadata": {
  "kernelspec": {
   "display_name": "predictorEnv",
   "language": "python",
   "name": "python3"
  },
  "language_info": {
   "codemirror_mode": {
    "name": "ipython",
    "version": 3
   },
   "file_extension": ".py",
   "mimetype": "text/x-python",
   "name": "python",
   "nbconvert_exporter": "python",
   "pygments_lexer": "ipython3",
   "version": "3.10.13"
  }
 },
 "nbformat": 4,
 "nbformat_minor": 2
}
