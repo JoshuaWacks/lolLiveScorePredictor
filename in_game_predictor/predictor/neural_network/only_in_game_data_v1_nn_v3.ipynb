{
 "cells": [
  {
   "cell_type": "code",
   "execution_count": 1,
   "metadata": {},
   "outputs": [],
   "source": [
    "import pandas as pd\n",
    "from sklearn.model_selection import train_test_split\n",
    "from tensorflow.keras.models import Sequential\n",
    "from tensorflow.keras.layers import Dense,Dropout\n",
    "import keras\n",
    "import matplotlib.pyplot as plt\n",
    "from sklearn import metrics\n",
    "from sklearn.metrics import precision_recall_fscore_support"
   ]
  },
  {
   "cell_type": "code",
   "execution_count": 2,
   "metadata": {},
   "outputs": [
    {
     "name": "stdout",
     "output_type": "stream",
     "text": [
      "[PhysicalDevice(name='/physical_device:GPU:0', device_type='GPU')]\n"
     ]
    }
   ],
   "source": [
    "import tensorflow as tf\n",
    "print(tf.config.list_physical_devices('GPU'))"
   ]
  },
  {
   "cell_type": "code",
   "execution_count": 3,
   "metadata": {},
   "outputs": [],
   "source": [
    "test_size = 0.3\n",
    "val_size = 0.5\n",
    "train_size =0.7\n",
    "\n",
    "random_state = 42"
   ]
  },
  {
   "cell_type": "code",
   "execution_count": 4,
   "metadata": {},
   "outputs": [],
   "source": [
    "data = pd.read_csv('../../data/feature_sets/only_in_game_data_v1.csv')"
   ]
  },
  {
   "cell_type": "code",
   "execution_count": 5,
   "metadata": {},
   "outputs": [
    {
     "data": {
      "text/plain": [
       "457031"
      ]
     },
     "execution_count": 5,
     "metadata": {},
     "output_type": "execute_result"
    }
   ],
   "source": [
    "len(data)"
   ]
  },
  {
   "cell_type": "code",
   "execution_count": 6,
   "metadata": {},
   "outputs": [],
   "source": [
    "columns_to_drop = [\n",
    "'riot_match_id',\n",
    "'min_start_time',\n",
    "\n",
    "'patch_version',\n",
    " 'blue_team_id',\n",
    " 'blue_top_player',\n",
    " 'blue_jungle_player',\n",
    " 'blue_mid_player',\n",
    " 'blue_bot_player',\n",
    " 'blue_supp_player',\n",
    " 'red_team_id',\n",
    " 'red_top_player',\n",
    " 'red_jungle_player',\n",
    " 'red_mid_player',\n",
    " 'red_bot_player',\n",
    " 'red_supp_player',\n",
    " 'league',\n",
    " 'format',\n",
    " 'game_in_format',\n",
    " 'season_format',\n",
    " 'month',\n",
    " 'day',\n",
    " 'year'\n",
    " ]"
   ]
  },
  {
   "cell_type": "code",
   "execution_count": 7,
   "metadata": {},
   "outputs": [],
   "source": [
    "extar_info = data[columns_to_drop]\n",
    "data.drop(columns=columns_to_drop,inplace=True)\n"
   ]
  },
  {
   "cell_type": "code",
   "execution_count": 8,
   "metadata": {},
   "outputs": [],
   "source": [
    "pred = data.pop('red_team_outcome')"
   ]
  },
  {
   "cell_type": "code",
   "execution_count": 9,
   "metadata": {},
   "outputs": [],
   "source": [
    "x_train, x_temp, y_train, y_temp = train_test_split(data,pred,test_size=test_size,random_state = random_state,shuffle=True)\n",
    "x_val, x_test, y_val, y_test = train_test_split(x_temp,y_temp,test_size = val_size,random_state = random_state,shuffle=True)"
   ]
  },
  {
   "cell_type": "code",
   "execution_count": 10,
   "metadata": {},
   "outputs": [],
   "source": [
    "assert len(data) == len(x_train) + len(x_test) + len(x_val)\n",
    "assert len(data) == len(y_train) + len(y_val) + len(y_test)"
   ]
  },
  {
   "cell_type": "code",
   "execution_count": 11,
   "metadata": {},
   "outputs": [
    {
     "data": {
      "text/plain": [
       "115"
      ]
     },
     "execution_count": 11,
     "metadata": {},
     "output_type": "execute_result"
    }
   ],
   "source": [
    "num_input = len(data.columns)\n",
    "num_input"
   ]
  },
  {
   "cell_type": "code",
   "execution_count": 12,
   "metadata": {},
   "outputs": [],
   "source": [
    "model = Sequential()\n",
    "model.add(Dense(1024, input_shape=(num_input,), activation='relu'))\n",
    "model.add(Dense(2048, activation='relu'))\n",
    "model.add(Dropout(0.3))\n",
    "model.add(Dense(4096, activation='relu'))\n",
    "model.add(Dropout(0.5))\n",
    "model.add(Dense(4096, activation='leaky_relu'))\n",
    "model.add(Dropout(0.3))\n",
    "model.add(Dense(2048, activation='relu'))\n",
    "model.add(Dropout(0.3))\n",
    "model.add(Dense(512, activation='relu'))\n",
    "model.add(Dense(256, activation='relu'))\n",
    "\n",
    "model.add(Dense(1, activation='sigmoid'))"
   ]
  },
  {
   "cell_type": "code",
   "execution_count": 13,
   "metadata": {},
   "outputs": [],
   "source": [
    "patience = 10\n",
    "learning_rate = 1e-5\n",
    "epochs = 42\n",
    "batch_szie= 512"
   ]
  },
  {
   "cell_type": "code",
   "execution_count": 14,
   "metadata": {},
   "outputs": [],
   "source": [
    "earlyStopping = keras.callbacks.EarlyStopping(monitor='val_loss', patience=patience, verbose=0, mode='min')\n",
    "mcp_save = keras.callbacks.ModelCheckpoint('mdl_wts.keras', save_best_only=True, monitor='val_loss', mode='min')\n",
    "model.compile(loss='binary_crossentropy', optimizer=keras.optimizers.Adam(learning_rate=learning_rate), metrics=['accuracy'])"
   ]
  },
  {
   "cell_type": "code",
   "execution_count": 15,
   "metadata": {},
   "outputs": [
    {
     "name": "stdout",
     "output_type": "stream",
     "text": [
      "Epoch 1/42\n",
      "625/625 [==============================] - 21s 31ms/step - loss: 32.0503 - accuracy: 0.6108 - val_loss: 1.9557 - val_accuracy: 0.6978\n",
      "Epoch 2/42\n",
      "625/625 [==============================] - 18s 28ms/step - loss: 5.6213 - accuracy: 0.6553 - val_loss: 0.7644 - val_accuracy: 0.7384\n",
      "Epoch 3/42\n",
      "625/625 [==============================] - 15s 24ms/step - loss: 2.3260 - accuracy: 0.6647 - val_loss: 0.5715 - val_accuracy: 0.7029\n",
      "Epoch 4/42\n",
      "625/625 [==============================] - 14s 22ms/step - loss: 1.2011 - accuracy: 0.6725 - val_loss: 0.5096 - val_accuracy: 0.7311\n",
      "Epoch 5/42\n",
      "625/625 [==============================] - 14s 22ms/step - loss: 0.7581 - accuracy: 0.6817 - val_loss: 0.4997 - val_accuracy: 0.7376\n",
      "Epoch 6/42\n",
      "625/625 [==============================] - 14s 22ms/step - loss: 0.5688 - accuracy: 0.7045 - val_loss: 0.4823 - val_accuracy: 0.7542\n",
      "Epoch 7/42\n",
      "625/625 [==============================] - 14s 22ms/step - loss: 0.5136 - accuracy: 0.7223 - val_loss: 0.4692 - val_accuracy: 0.7536\n",
      "Epoch 8/42\n",
      "625/625 [==============================] - 14s 22ms/step - loss: 0.4965 - accuracy: 0.7318 - val_loss: 0.4632 - val_accuracy: 0.7600\n",
      "Epoch 9/42\n",
      "625/625 [==============================] - 14s 22ms/step - loss: 0.4828 - accuracy: 0.7405 - val_loss: 0.4560 - val_accuracy: 0.7650\n",
      "Epoch 10/42\n",
      "625/625 [==============================] - 14s 22ms/step - loss: 0.4715 - accuracy: 0.7485 - val_loss: 0.4453 - val_accuracy: 0.7709\n",
      "Epoch 11/42\n",
      "625/625 [==============================] - 14s 22ms/step - loss: 0.4596 - accuracy: 0.7572 - val_loss: 0.4322 - val_accuracy: 0.7787\n",
      "Epoch 12/42\n",
      "625/625 [==============================] - 14s 22ms/step - loss: 0.4460 - accuracy: 0.7676 - val_loss: 0.4161 - val_accuracy: 0.7911\n",
      "Epoch 13/42\n",
      "625/625 [==============================] - 14s 22ms/step - loss: 0.4302 - accuracy: 0.7785 - val_loss: 0.3954 - val_accuracy: 0.8078\n",
      "Epoch 14/42\n",
      "625/625 [==============================] - 14s 22ms/step - loss: 0.4139 - accuracy: 0.7897 - val_loss: 0.3739 - val_accuracy: 0.8191\n",
      "Epoch 15/42\n",
      "625/625 [==============================] - 14s 22ms/step - loss: 0.3953 - accuracy: 0.8010 - val_loss: 0.3567 - val_accuracy: 0.8248\n",
      "Epoch 16/42\n",
      "625/625 [==============================] - 14s 22ms/step - loss: 0.3785 - accuracy: 0.8113 - val_loss: 0.3259 - val_accuracy: 0.8443\n",
      "Epoch 17/42\n",
      "625/625 [==============================] - 14s 22ms/step - loss: 0.3627 - accuracy: 0.8206 - val_loss: 0.3118 - val_accuracy: 0.8544\n",
      "Epoch 18/42\n",
      "625/625 [==============================] - 14s 22ms/step - loss: 0.3432 - accuracy: 0.8321 - val_loss: 0.2976 - val_accuracy: 0.8611\n",
      "Epoch 19/42\n",
      "625/625 [==============================] - 14s 22ms/step - loss: 0.3287 - accuracy: 0.8404 - val_loss: 0.2761 - val_accuracy: 0.8739\n",
      "Epoch 20/42\n",
      "625/625 [==============================] - 14s 22ms/step - loss: 0.3140 - accuracy: 0.8484 - val_loss: 0.2575 - val_accuracy: 0.8854\n",
      "Epoch 21/42\n",
      "625/625 [==============================] - 14s 22ms/step - loss: 0.3004 - accuracy: 0.8560 - val_loss: 0.2415 - val_accuracy: 0.8968\n",
      "Epoch 22/42\n",
      "625/625 [==============================] - 14s 22ms/step - loss: 0.2859 - accuracy: 0.8639 - val_loss: 0.2248 - val_accuracy: 0.9029\n",
      "Epoch 23/42\n",
      "625/625 [==============================] - 14s 22ms/step - loss: 0.2742 - accuracy: 0.8704 - val_loss: 0.2129 - val_accuracy: 0.9135\n",
      "Epoch 24/42\n",
      "625/625 [==============================] - 14s 22ms/step - loss: 0.2617 - accuracy: 0.8773 - val_loss: 0.1985 - val_accuracy: 0.9144\n",
      "Epoch 25/42\n",
      "625/625 [==============================] - 14s 22ms/step - loss: 0.2515 - accuracy: 0.8828 - val_loss: 0.1894 - val_accuracy: 0.9221\n",
      "Epoch 26/42\n",
      "625/625 [==============================] - 14s 22ms/step - loss: 0.2409 - accuracy: 0.8889 - val_loss: 0.1730 - val_accuracy: 0.9294\n",
      "Epoch 27/42\n",
      "625/625 [==============================] - 14s 22ms/step - loss: 0.2309 - accuracy: 0.8945 - val_loss: 0.1682 - val_accuracy: 0.9353\n",
      "Epoch 28/42\n",
      "625/625 [==============================] - 14s 22ms/step - loss: 0.2217 - accuracy: 0.8988 - val_loss: 0.1522 - val_accuracy: 0.9421\n",
      "Epoch 29/42\n",
      "625/625 [==============================] - 14s 22ms/step - loss: 0.2136 - accuracy: 0.9028 - val_loss: 0.1434 - val_accuracy: 0.9446\n",
      "Epoch 30/42\n",
      "625/625 [==============================] - 14s 22ms/step - loss: 0.2048 - accuracy: 0.9079 - val_loss: 0.1390 - val_accuracy: 0.9486\n",
      "Epoch 31/42\n",
      "625/625 [==============================] - 14s 22ms/step - loss: 0.1969 - accuracy: 0.9119 - val_loss: 0.1296 - val_accuracy: 0.9520\n",
      "Epoch 32/42\n",
      "625/625 [==============================] - 14s 22ms/step - loss: 0.1888 - accuracy: 0.9164 - val_loss: 0.1249 - val_accuracy: 0.9569\n",
      "Epoch 33/42\n",
      "625/625 [==============================] - 14s 22ms/step - loss: 0.1825 - accuracy: 0.9193 - val_loss: 0.1210 - val_accuracy: 0.9589\n",
      "Epoch 34/42\n",
      "625/625 [==============================] - 14s 22ms/step - loss: 0.1763 - accuracy: 0.9225 - val_loss: 0.1104 - val_accuracy: 0.9621\n",
      "Epoch 35/42\n",
      "625/625 [==============================] - 14s 22ms/step - loss: 0.1702 - accuracy: 0.9258 - val_loss: 0.1011 - val_accuracy: 0.9643\n",
      "Epoch 36/42\n",
      "625/625 [==============================] - 14s 22ms/step - loss: 0.1622 - accuracy: 0.9297 - val_loss: 0.1000 - val_accuracy: 0.9676\n",
      "Epoch 37/42\n",
      "625/625 [==============================] - 14s 22ms/step - loss: 0.1592 - accuracy: 0.9313 - val_loss: 0.0939 - val_accuracy: 0.9709\n",
      "Epoch 38/42\n",
      "625/625 [==============================] - 14s 22ms/step - loss: 0.1569 - accuracy: 0.9320 - val_loss: 0.0896 - val_accuracy: 0.9733\n",
      "Epoch 39/42\n",
      "625/625 [==============================] - 14s 22ms/step - loss: 0.1499 - accuracy: 0.9358 - val_loss: 0.0855 - val_accuracy: 0.9751\n",
      "Epoch 40/42\n",
      "625/625 [==============================] - 14s 22ms/step - loss: 0.1443 - accuracy: 0.9385 - val_loss: 0.0863 - val_accuracy: 0.9712\n",
      "Epoch 41/42\n",
      "625/625 [==============================] - 14s 22ms/step - loss: 0.1427 - accuracy: 0.9396 - val_loss: 0.0750 - val_accuracy: 0.9776\n",
      "Epoch 42/42\n",
      "625/625 [==============================] - 14s 22ms/step - loss: 0.1371 - accuracy: 0.9425 - val_loss: 0.0830 - val_accuracy: 0.9752\n"
     ]
    }
   ],
   "source": [
    "history = model.fit(x_train, y_train, epochs=epochs, batch_size=batch_szie,verbose=True, validation_data=(x_val, y_val))"
   ]
  },
  {
   "cell_type": "code",
   "execution_count": 16,
   "metadata": {},
   "outputs": [
    {
     "name": "stdout",
     "output_type": "stream",
     "text": [
      "2143/2143 [==============================] - 5s 3ms/step - loss: 0.0843 - accuracy: 0.9741\n",
      "Accuracy: 97.41\n"
     ]
    }
   ],
   "source": [
    "loss, accuracy = model.evaluate(x_test, y_test)\n",
    "print('Accuracy: %.2f' % (accuracy*100))"
   ]
  },
  {
   "cell_type": "code",
   "execution_count": 17,
   "metadata": {},
   "outputs": [
    {
     "data": {
      "image/png": "[encoded data removed]",
      "text/plain": [
       "<Figure size 640x480 with 1 Axes>"
      ]
     },
     "metadata": {},
     "output_type": "display_data"
    },
    {
     "data": {
      "image/png": "[encoded data removed]",
      "text/plain": [
       "<Figure size 640x480 with 1 Axes>"
      ]
     },
     "metadata": {},
     "output_type": "display_data"
    }
   ],
   "source": [
    "plt.plot(history.history['accuracy'])\n",
    "plt.plot(history.history['val_accuracy'])\n",
    "plt.title('model accuracy')\n",
    "plt.ylabel('accuracy')\n",
    "plt.xlabel('epoch')\n",
    "plt.legend(['train', 'test'], loc='upper left')\n",
    "plt.show()\n",
    "# summarize history for loss\n",
    "plt.plot(history.history['loss'])\n",
    "plt.plot(history.history['val_loss'])\n",
    "plt.title('model loss')\n",
    "plt.ylabel('loss')\n",
    "plt.xlabel('epoch')\n",
    "plt.legend(['train', 'test'], loc='upper left')\n",
    "plt.show()"
   ]
  },
  {
   "cell_type": "code",
   "execution_count": 18,
   "metadata": {},
   "outputs": [],
   "source": [
    "test_data = pd.read_csv('../../data/feature_sets/only_in_game_data_v1.csv')\n"
   ]
  },
  {
   "cell_type": "code",
   "execution_count": 19,
   "metadata": {},
   "outputs": [],
   "source": [
    "test_pred = test_data.pop('red_team_outcome')\n"
   ]
  },
  {
   "cell_type": "code",
   "execution_count": 20,
   "metadata": {},
   "outputs": [],
   "source": [
    "test_extra_info = test_data[columns_to_drop]\n",
    "test_data.drop(columns=columns_to_drop,inplace=True)\n"
   ]
  },
  {
   "cell_type": "code",
   "execution_count": 21,
   "metadata": {},
   "outputs": [],
   "source": [
    "random_rows = test_data.sample(n=5)"
   ]
  },
  {
   "cell_type": "code",
   "execution_count": 22,
   "metadata": {},
   "outputs": [
    {
     "data": {
      "text/html": [
       "<div>\n",
       "<style scoped>\n",
       "    .dataframe tbody tr th:only-of-type {\n",
       "        vertical-align: middle;\n",
       "    }\n",
       "\n",
       "    .dataframe tbody tr th {\n",
       "        vertical-align: top;\n",
       "    }\n",
       "\n",
       "    .dataframe thead th {\n",
       "        text-align: right;\n",
       "    }\n",
       "</style>\n",
       "<table border=\"1\" class=\"dataframe\">\n",
       "  <thead>\n",
       "    <tr style=\"text-align: right;\">\n",
       "      <th></th>\n",
       "      <th>blue_team_total_gold</th>\n",
       "      <th>blue_team_inhibitors</th>\n",
       "      <th>blue_team_towers</th>\n",
       "      <th>blue_team_barons</th>\n",
       "      <th>blue_team_total_kills</th>\n",
       "      <th>blue_team_ocean_drakes</th>\n",
       "      <th>blue_team_cloud_drakes</th>\n",
       "      <th>blue_team_mountain_drakes</th>\n",
       "      <th>blue_team_chemtech_drakes</th>\n",
       "      <th>blue_team_infernal_drakes</th>\n",
       "      <th>...</th>\n",
       "      <th>blue_jungle_champ</th>\n",
       "      <th>blue_mid_champ</th>\n",
       "      <th>blue_bot_champ</th>\n",
       "      <th>blue_supp_champ</th>\n",
       "      <th>red_top_champ</th>\n",
       "      <th>red_jungle_champ</th>\n",
       "      <th>red_mid_champ</th>\n",
       "      <th>red_bot_champ</th>\n",
       "      <th>red_supp_champ</th>\n",
       "      <th>time_in_game</th>\n",
       "    </tr>\n",
       "  </thead>\n",
       "  <tbody>\n",
       "    <tr>\n",
       "      <th>71534</th>\n",
       "      <td>4937</td>\n",
       "      <td>0</td>\n",
       "      <td>0</td>\n",
       "      <td>0</td>\n",
       "      <td>0</td>\n",
       "      <td>0</td>\n",
       "      <td>0</td>\n",
       "      <td>0</td>\n",
       "      <td>0</td>\n",
       "      <td>0</td>\n",
       "      <td>...</td>\n",
       "      <td>89</td>\n",
       "      <td>12</td>\n",
       "      <td>153</td>\n",
       "      <td>95</td>\n",
       "      <td>70</td>\n",
       "      <td>158</td>\n",
       "      <td>102</td>\n",
       "      <td>132</td>\n",
       "      <td>4</td>\n",
       "      <td>185.0</td>\n",
       "    </tr>\n",
       "    <tr>\n",
       "      <th>261327</th>\n",
       "      <td>21394</td>\n",
       "      <td>0</td>\n",
       "      <td>0</td>\n",
       "      <td>0</td>\n",
       "      <td>1</td>\n",
       "      <td>0</td>\n",
       "      <td>0</td>\n",
       "      <td>0</td>\n",
       "      <td>0</td>\n",
       "      <td>0</td>\n",
       "      <td>...</td>\n",
       "      <td>89</td>\n",
       "      <td>140</td>\n",
       "      <td>8</td>\n",
       "      <td>95</td>\n",
       "      <td>39</td>\n",
       "      <td>112</td>\n",
       "      <td>1</td>\n",
       "      <td>164</td>\n",
       "      <td>109</td>\n",
       "      <td>668.0</td>\n",
       "    </tr>\n",
       "    <tr>\n",
       "      <th>347332</th>\n",
       "      <td>40169</td>\n",
       "      <td>0</td>\n",
       "      <td>2</td>\n",
       "      <td>0</td>\n",
       "      <td>6</td>\n",
       "      <td>0</td>\n",
       "      <td>0</td>\n",
       "      <td>0</td>\n",
       "      <td>0</td>\n",
       "      <td>0</td>\n",
       "      <td>...</td>\n",
       "      <td>83</td>\n",
       "      <td>72</td>\n",
       "      <td>57</td>\n",
       "      <td>96</td>\n",
       "      <td>42</td>\n",
       "      <td>121</td>\n",
       "      <td>12</td>\n",
       "      <td>164</td>\n",
       "      <td>109</td>\n",
       "      <td>1322.0</td>\n",
       "    </tr>\n",
       "    <tr>\n",
       "      <th>138295</th>\n",
       "      <td>49314</td>\n",
       "      <td>0</td>\n",
       "      <td>2</td>\n",
       "      <td>0</td>\n",
       "      <td>8</td>\n",
       "      <td>0</td>\n",
       "      <td>0</td>\n",
       "      <td>0</td>\n",
       "      <td>0</td>\n",
       "      <td>1</td>\n",
       "      <td>...</td>\n",
       "      <td>105</td>\n",
       "      <td>23</td>\n",
       "      <td>164</td>\n",
       "      <td>109</td>\n",
       "      <td>169</td>\n",
       "      <td>99</td>\n",
       "      <td>96</td>\n",
       "      <td>57</td>\n",
       "      <td>9</td>\n",
       "      <td>1803.0</td>\n",
       "    </tr>\n",
       "    <tr>\n",
       "      <th>72892</th>\n",
       "      <td>19756</td>\n",
       "      <td>0</td>\n",
       "      <td>0</td>\n",
       "      <td>0</td>\n",
       "      <td>0</td>\n",
       "      <td>0</td>\n",
       "      <td>0</td>\n",
       "      <td>0</td>\n",
       "      <td>0</td>\n",
       "      <td>0</td>\n",
       "      <td>...</td>\n",
       "      <td>83</td>\n",
       "      <td>145</td>\n",
       "      <td>132</td>\n",
       "      <td>4</td>\n",
       "      <td>151</td>\n",
       "      <td>158</td>\n",
       "      <td>140</td>\n",
       "      <td>57</td>\n",
       "      <td>112</td>\n",
       "      <td>780.0</td>\n",
       "    </tr>\n",
       "  </tbody>\n",
       "</table>\n",
       "<p>5 rows × 115 columns</p>\n",
       "</div>"
      ],
      "text/plain": [
       "        blue_team_total_gold  blue_team_inhibitors  blue_team_towers  \\\n",
       "71534                   4937                     0                 0   \n",
       "261327                 21394                     0                 0   \n",
       "347332                 40169                     0                 2   \n",
       "138295                 49314                     0                 2   \n",
       "72892                  19756                     0                 0   \n",
       "\n",
       "        blue_team_barons  blue_team_total_kills  blue_team_ocean_drakes  \\\n",
       "71534                  0                      0                       0   \n",
       "261327                 0                      1                       0   \n",
       "347332                 0                      6                       0   \n",
       "138295                 0                      8                       0   \n",
       "72892                  0                      0                       0   \n",
       "\n",
       "        blue_team_cloud_drakes  blue_team_mountain_drakes  \\\n",
       "71534                        0                          0   \n",
       "261327                       0                          0   \n",
       "347332                       0                          0   \n",
       "138295                       0                          0   \n",
       "72892                        0                          0   \n",
       "\n",
       "        blue_team_chemtech_drakes  blue_team_infernal_drakes  ...  \\\n",
       "71534                           0                          0  ...   \n",
       "261327                          0                          0  ...   \n",
       "347332                          0                          0  ...   \n",
       "138295                          0                          1  ...   \n",
       "72892                           0                          0  ...   \n",
       "\n",
       "        blue_jungle_champ  blue_mid_champ  blue_bot_champ  blue_supp_champ  \\\n",
       "71534                  89              12             153               95   \n",
       "261327                 89             140               8               95   \n",
       "347332                 83              72              57               96   \n",
       "138295                105              23             164              109   \n",
       "72892                  83             145             132                4   \n",
       "\n",
       "        red_top_champ  red_jungle_champ  red_mid_champ  red_bot_champ  \\\n",
       "71534              70               158            102            132   \n",
       "261327             39               112              1            164   \n",
       "347332             42               121             12            164   \n",
       "138295            169                99             96             57   \n",
       "72892             151               158            140             57   \n",
       "\n",
       "        red_supp_champ  time_in_game  \n",
       "71534                4         185.0  \n",
       "261327             109         668.0  \n",
       "347332             109        1322.0  \n",
       "138295               9        1803.0  \n",
       "72892              112         780.0  \n",
       "\n",
       "[5 rows x 115 columns]"
      ]
     },
     "execution_count": 22,
     "metadata": {},
     "output_type": "execute_result"
    }
   ],
   "source": [
    "random_rows"
   ]
  },
  {
   "cell_type": "code",
   "execution_count": 23,
   "metadata": {},
   "outputs": [
    {
     "name": "stderr",
     "output_type": "stream",
     "text": [
      "C:\\Users\\joshu_rdnqgbx\\AppData\\Local\\Temp\\ipykernel_1740\\1653804312.py:1: PerformanceWarning: DataFrame is highly fragmented.  This is usually the result of calling `frame.insert` many times, which has poor performance.  Consider joining all columns at once using pd.concat(axis=1) instead. To get a de-fragmented frame, use `newframe = frame.copy()`\n",
      "  random_rows['index'] = random_rows.index\n"
     ]
    }
   ],
   "source": [
    "random_rows['index'] = random_rows.index"
   ]
  },
  {
   "cell_type": "code",
   "execution_count": 24,
   "metadata": {},
   "outputs": [
    {
     "data": {
      "text/plain": [
       "riot_match_id                111560983140247875\n",
       "min_start_time        2024-01-22 16:00:00+00:00\n",
       "patch_version                               545\n",
       "blue_team_id                               2173\n",
       "blue_top_player              105514974275992586\n",
       "blue_jungle_player           107464179845128878\n",
       "blue_mid_player               98926509846377469\n",
       "blue_bot_player              104737951126648199\n",
       "blue_supp_player             101389760981745081\n",
       "red_team_id                                2349\n",
       "red_top_player               105515229738531937\n",
       "red_jungle_player            105830645287286396\n",
       "red_mid_player               105554437688383476\n",
       "red_bot_player               105501834624360050\n",
       "red_supp_player              102787200059605684\n",
       "league                                        2\n",
       "format                                        0\n",
       "game_in_format                                1\n",
       "season_format                                 1\n",
       "month                                         1\n",
       "day                                          22\n",
       "year                                       2024\n",
       "Name: 354393, dtype: object"
      ]
     },
     "execution_count": 24,
     "metadata": {},
     "output_type": "execute_result"
    }
   ],
   "source": [
    "test_extra_info.iloc[354393]"
   ]
  },
  {
   "cell_type": "code",
   "execution_count": 25,
   "metadata": {},
   "outputs": [
    {
     "data": {
      "text/plain": [
       "1"
      ]
     },
     "execution_count": 25,
     "metadata": {},
     "output_type": "execute_result"
    }
   ],
   "source": [
    "test_pred.iloc[int(354393.0)]"
   ]
  },
  {
   "cell_type": "code",
   "execution_count": 26,
   "metadata": {},
   "outputs": [
    {
     "name": "stdout",
     "output_type": "stream",
     "text": [
      "1\n",
      "1\n",
      "0\n",
      "1\n",
      "0\n"
     ]
    }
   ],
   "source": [
    "random_rows_predictions = []\n",
    "for i in range(len(random_rows)):\n",
    "    print(test_pred.iloc[int(random_rows.iloc[i]['index'])])"
   ]
  },
  {
   "cell_type": "code",
   "execution_count": 27,
   "metadata": {},
   "outputs": [],
   "source": [
    "random_rows.drop(columns = 'index',inplace = True)"
   ]
  },
  {
   "cell_type": "code",
   "execution_count": 28,
   "metadata": {},
   "outputs": [
    {
     "name": "stdout",
     "output_type": "stream",
     "text": [
      "1/1 [==============================] - 0s 109ms/step\n"
     ]
    }
   ],
   "source": [
    "random_rows_results = model.predict(random_rows)"
   ]
  },
  {
   "cell_type": "code",
   "execution_count": 29,
   "metadata": {},
   "outputs": [
    {
     "data": {
      "text/plain": [
       "array([[9.9858308e-01],\n",
       "       [7.7242321e-01],\n",
       "       [2.7663540e-04],\n",
       "       [9.9998355e-01],\n",
       "       [5.1732915e-03]], dtype=float32)"
      ]
     },
     "execution_count": 29,
     "metadata": {},
     "output_type": "execute_result"
    }
   ],
   "source": [
    "random_rows_results"
   ]
  },
  {
   "cell_type": "code",
   "execution_count": 30,
   "metadata": {},
   "outputs": [
    {
     "name": "stdout",
     "output_type": "stream",
     "text": [
      "14283/14283 [==============================] - 20s 1ms/step\n"
     ]
    }
   ],
   "source": [
    "all_results = model.predict(test_data)"
   ]
  },
  {
   "cell_type": "code",
   "execution_count": 31,
   "metadata": {},
   "outputs": [],
   "source": [
    "threshold_results = []\n",
    "for result in all_results:\n",
    "    if result > 0.5:\n",
    "        threshold_results.append(1)\n",
    "    else:\n",
    "        threshold_results.append(0)"
   ]
  },
  {
   "cell_type": "code",
   "execution_count": 32,
   "metadata": {},
   "outputs": [
    {
     "data": {
      "image/png": "[encoded data removed]",
      "text/plain": [
       "<Figure size 640x480 with 2 Axes>"
      ]
     },
     "metadata": {},
     "output_type": "display_data"
    }
   ],
   "source": [
    "confusion_matrix = metrics.confusion_matrix(test_pred, threshold_results)\n",
    "\n",
    "cm_display = metrics.ConfusionMatrixDisplay(confusion_matrix = confusion_matrix, display_labels = [0, 1])\n",
    "\n",
    "cm_display.plot()\n",
    "plt.show()"
   ]
  },
  {
   "cell_type": "code",
   "execution_count": 33,
   "metadata": {},
   "outputs": [
    {
     "data": {
      "image/png": "[encoded data removed]",
      "text/plain": [
       "<Figure size 640x480 with 1 Axes>"
      ]
     },
     "metadata": {},
     "output_type": "display_data"
    }
   ],
   "source": [
    "plt.hist(all_results)\n",
    "plt.show() "
   ]
  },
  {
   "cell_type": "code",
   "execution_count": 34,
   "metadata": {},
   "outputs": [
    {
     "data": {
      "text/plain": [
       "0.9825058465912092"
      ]
     },
     "execution_count": 34,
     "metadata": {},
     "output_type": "execute_result"
    }
   ],
   "source": [
    "metrics.precision_score(test_pred, threshold_results)\n"
   ]
  },
  {
   "cell_type": "code",
   "execution_count": 35,
   "metadata": {},
   "outputs": [
    {
     "data": {
      "text/plain": [
       "0.9650302813048318"
      ]
     },
     "execution_count": 35,
     "metadata": {},
     "output_type": "execute_result"
    }
   ],
   "source": [
    "metrics.recall_score(test_pred, threshold_results)\n"
   ]
  },
  {
   "cell_type": "code",
   "execution_count": 36,
   "metadata": {},
   "outputs": [],
   "source": [
    "model.save_weights('../saved_models/only_in_game_data_v3.keras')"
   ]
  }
 ],
 "metadata": {
  "kernelspec": {
   "display_name": "predictorEnv",
   "language": "python",
   "name": "python3"
  },
  "language_info": {
   "codemirror_mode": {
    "name": "ipython",
    "version": 3
   },
   "file_extension": ".py",
   "mimetype": "text/x-python",
   "name": "python",
   "nbconvert_exporter": "python",
   "pygments_lexer": "ipython3",
   "version": "3.10.13"
  }
 },
 "nbformat": 4,
 "nbformat_minor": 2
}
