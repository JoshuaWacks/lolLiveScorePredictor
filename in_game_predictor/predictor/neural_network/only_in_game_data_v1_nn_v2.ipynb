{
 "cells": [
  {
   "cell_type": "code",
   "execution_count": 1,
   "metadata": {},
   "outputs": [],
   "source": [
    "import pandas as pd\n",
    "from sklearn.model_selection import train_test_split\n",
    "from tensorflow.keras.models import Sequential\n",
    "from tensorflow.keras.layers import Dense,Dropout\n",
    "import keras\n",
    "import matplotlib.pyplot as plt\n",
    "from sklearn import metrics\n",
    "from sklearn.metrics import precision_recall_fscore_support"
   ]
  },
  {
   "cell_type": "code",
   "execution_count": 2,
   "metadata": {},
   "outputs": [
    {
     "name": "stdout",
     "output_type": "stream",
     "text": [
      "[PhysicalDevice(name='/physical_device:GPU:0', device_type='GPU')]\n"
     ]
    }
   ],
   "source": [
    "import tensorflow as tf\n",
    "print(tf.config.list_physical_devices('GPU'))"
   ]
  },
  {
   "cell_type": "code",
   "execution_count": 3,
   "metadata": {},
   "outputs": [],
   "source": [
    "test_size = 0.3\n",
    "val_size = 0.5\n",
    "train_size =0.7\n",
    "\n",
    "random_state = 42"
   ]
  },
  {
   "cell_type": "code",
   "execution_count": 4,
   "metadata": {},
   "outputs": [],
   "source": [
    "data = pd.read_csv('../../data/feature_sets/only_in_game_data_v1.csv')"
   ]
  },
  {
   "cell_type": "code",
   "execution_count": 5,
   "metadata": {},
   "outputs": [
    {
     "data": {
      "text/plain": [
       "457031"
      ]
     },
     "execution_count": 5,
     "metadata": {},
     "output_type": "execute_result"
    }
   ],
   "source": [
    "len(data)"
   ]
  },
  {
   "cell_type": "code",
   "execution_count": 6,
   "metadata": {},
   "outputs": [],
   "source": [
    "columns_to_drop = [\n",
    "'riot_match_id',\n",
    "'min_start_time',\n",
    "\n",
    "'patch_version',\n",
    " 'blue_team_id',\n",
    " 'blue_top_player',\n",
    " 'blue_jungle_player',\n",
    " 'blue_mid_player',\n",
    " 'blue_bot_player',\n",
    " 'blue_supp_player',\n",
    " 'red_team_id',\n",
    " 'red_top_player',\n",
    " 'red_jungle_player',\n",
    " 'red_mid_player',\n",
    " 'red_bot_player',\n",
    " 'red_supp_player',\n",
    " 'league',\n",
    " 'format',\n",
    " 'game_in_format',\n",
    " 'season_format',\n",
    " 'month',\n",
    " 'day',\n",
    " 'year'\n",
    " ]"
   ]
  },
  {
   "cell_type": "code",
   "execution_count": 7,
   "metadata": {},
   "outputs": [],
   "source": [
    "extar_info = data[columns_to_drop]\n",
    "data.drop(columns=columns_to_drop,inplace=True)\n"
   ]
  },
  {
   "cell_type": "code",
   "execution_count": 8,
   "metadata": {},
   "outputs": [],
   "source": [
    "pred = data.pop('red_team_outcome')"
   ]
  },
  {
   "cell_type": "code",
   "execution_count": 9,
   "metadata": {},
   "outputs": [],
   "source": [
    "x_train, x_temp, y_train, y_temp = train_test_split(data,pred,test_size=test_size,random_state = random_state,shuffle=True)\n",
    "x_val, x_test, y_val, y_test = train_test_split(x_temp,y_temp,test_size = val_size,random_state = random_state,shuffle=True)"
   ]
  },
  {
   "cell_type": "code",
   "execution_count": 10,
   "metadata": {},
   "outputs": [],
   "source": [
    "assert len(data) == len(x_train) + len(x_test) + len(x_val)\n",
    "assert len(data) == len(y_train) + len(y_val) + len(y_test)"
   ]
  },
  {
   "cell_type": "code",
   "execution_count": 11,
   "metadata": {},
   "outputs": [
    {
     "data": {
      "text/plain": [
       "115"
      ]
     },
     "execution_count": 11,
     "metadata": {},
     "output_type": "execute_result"
    }
   ],
   "source": [
    "num_input = len(data.columns)\n",
    "num_input"
   ]
  },
  {
   "cell_type": "code",
   "execution_count": 12,
   "metadata": {},
   "outputs": [],
   "source": [
    "model = Sequential()\n",
    "model.add(Dense(1024, input_shape=(num_input,), activation='relu'))\n",
    "model.add(Dense(2048, activation='relu'))\n",
    "model.add(Dropout(0.3))\n",
    "model.add(Dense(4096, activation='relu'))\n",
    "model.add(Dropout(0.3))\n",
    "model.add(Dense(8192, activation='relu'))\n",
    "model.add(Dropout(0.5))\n",
    "model.add(Dense(4096, activation='leaky_relu'))\n",
    "model.add(Dropout(0.3))\n",
    "model.add(Dense(2048, activation='relu'))\n",
    "model.add(Dropout(0.3))\n",
    "model.add(Dense(512, activation='relu'))\n",
    "model.add(Dense(256, activation='relu'))\n",
    "\n",
    "model.add(Dense(1, activation='sigmoid'))"
   ]
  },
  {
   "cell_type": "code",
   "execution_count": 13,
   "metadata": {},
   "outputs": [],
   "source": [
    "patience = 10\n",
    "learning_rate = 1e-6\n",
    "epochs = 42\n",
    "batch_szie= 512"
   ]
  },
  {
   "cell_type": "code",
   "execution_count": 14,
   "metadata": {},
   "outputs": [],
   "source": [
    "earlyStopping = keras.callbacks.EarlyStopping(monitor='val_loss', patience=patience, verbose=0, mode='min')\n",
    "mcp_save = keras.callbacks.ModelCheckpoint('mdl_wts.keras', save_best_only=True, monitor='val_loss', mode='min')\n",
    "model.compile(loss='binary_crossentropy', optimizer=keras.optimizers.Adam(learning_rate=learning_rate), metrics=['accuracy'])"
   ]
  },
  {
   "cell_type": "code",
   "execution_count": 15,
   "metadata": {},
   "outputs": [
    {
     "name": "stdout",
     "output_type": "stream",
     "text": [
      "Epoch 1/42\n",
      "625/625 [==============================] - 34s 52ms/step - loss: 84.8063 - accuracy: 0.5225 - val_loss: 2.1920 - val_accuracy: 0.7069\n",
      "Epoch 2/42\n",
      "625/625 [==============================] - 34s 55ms/step - loss: 39.9859 - accuracy: 0.5497 - val_loss: 10.4650 - val_accuracy: 0.5668\n",
      "Epoch 3/42\n",
      "625/625 [==============================] - 34s 54ms/step - loss: 26.0152 - accuracy: 0.5741 - val_loss: 5.4519 - val_accuracy: 0.6310\n",
      "Epoch 4/42\n",
      "625/625 [==============================] - 34s 55ms/step - loss: 18.5929 - accuracy: 0.5942 - val_loss: 2.9577 - val_accuracy: 0.6801\n",
      "Epoch 5/42\n",
      "625/625 [==============================] - 34s 55ms/step - loss: 14.1338 - accuracy: 0.6130 - val_loss: 2.1642 - val_accuracy: 0.6898\n",
      "Epoch 6/42\n",
      "625/625 [==============================] - 34s 55ms/step - loss: 10.9520 - accuracy: 0.6252 - val_loss: 1.8165 - val_accuracy: 0.7171\n",
      "Epoch 7/42\n",
      "625/625 [==============================] - 34s 55ms/step - loss: 8.7847 - accuracy: 0.6357 - val_loss: 1.4614 - val_accuracy: 0.7232\n",
      "Epoch 8/42\n",
      "625/625 [==============================] - 34s 55ms/step - loss: 7.1199 - accuracy: 0.6435 - val_loss: 1.3827 - val_accuracy: 0.7177\n",
      "Epoch 9/42\n",
      "625/625 [==============================] - 24s 39ms/step - loss: 5.8787 - accuracy: 0.6470 - val_loss: 1.1955 - val_accuracy: 0.7236\n",
      "Epoch 10/42\n",
      "625/625 [==============================] - 23s 36ms/step - loss: 4.8843 - accuracy: 0.6500 - val_loss: 0.9387 - val_accuracy: 0.7297\n",
      "Epoch 11/42\n",
      "625/625 [==============================] - 23s 36ms/step - loss: 4.0275 - accuracy: 0.6554 - val_loss: 0.8324 - val_accuracy: 0.7318\n",
      "Epoch 12/42\n",
      "625/625 [==============================] - 23s 36ms/step - loss: 3.3753 - accuracy: 0.6566 - val_loss: 0.7436 - val_accuracy: 0.7329\n",
      "Epoch 13/42\n",
      "625/625 [==============================] - 23s 36ms/step - loss: 2.8332 - accuracy: 0.6586 - val_loss: 0.6638 - val_accuracy: 0.7350\n",
      "Epoch 14/42\n",
      "625/625 [==============================] - 23s 36ms/step - loss: 2.4053 - accuracy: 0.6597 - val_loss: 0.6221 - val_accuracy: 0.7379\n",
      "Epoch 15/42\n",
      "625/625 [==============================] - 23s 36ms/step - loss: 2.0514 - accuracy: 0.6620 - val_loss: 0.5801 - val_accuracy: 0.7400\n",
      "Epoch 16/42\n",
      "625/625 [==============================] - 23s 36ms/step - loss: 1.7434 - accuracy: 0.6650 - val_loss: 0.5448 - val_accuracy: 0.7410\n",
      "Epoch 17/42\n",
      "625/625 [==============================] - 23s 36ms/step - loss: 1.4937 - accuracy: 0.6667 - val_loss: 0.5239 - val_accuracy: 0.7400\n",
      "Epoch 18/42\n",
      "625/625 [==============================] - 23s 36ms/step - loss: 1.2988 - accuracy: 0.6695 - val_loss: 0.5059 - val_accuracy: 0.7351\n",
      "Epoch 19/42\n",
      "625/625 [==============================] - 23s 36ms/step - loss: 1.1361 - accuracy: 0.6700 - val_loss: 0.4993 - val_accuracy: 0.7295\n",
      "Epoch 20/42\n",
      "625/625 [==============================] - 23s 36ms/step - loss: 0.9981 - accuracy: 0.6742 - val_loss: 0.4976 - val_accuracy: 0.7295\n",
      "Epoch 21/42\n",
      "625/625 [==============================] - 23s 36ms/step - loss: 0.9020 - accuracy: 0.6751 - val_loss: 0.4953 - val_accuracy: 0.7359\n",
      "Epoch 22/42\n",
      "625/625 [==============================] - 23s 36ms/step - loss: 0.8135 - accuracy: 0.6786 - val_loss: 0.4969 - val_accuracy: 0.7414\n",
      "Epoch 23/42\n",
      "625/625 [==============================] - 23s 36ms/step - loss: 0.7447 - accuracy: 0.6828 - val_loss: 0.4983 - val_accuracy: 0.7414\n",
      "Epoch 24/42\n",
      "625/625 [==============================] - 23s 36ms/step - loss: 0.6917 - accuracy: 0.6862 - val_loss: 0.4986 - val_accuracy: 0.7425\n",
      "Epoch 25/42\n",
      "625/625 [==============================] - 23s 36ms/step - loss: 0.6482 - accuracy: 0.6905 - val_loss: 0.5009 - val_accuracy: 0.7417\n",
      "Epoch 26/42\n",
      "625/625 [==============================] - 23s 36ms/step - loss: 0.6179 - accuracy: 0.6938 - val_loss: 0.5024 - val_accuracy: 0.7403\n",
      "Epoch 27/42\n",
      "625/625 [==============================] - 23s 36ms/step - loss: 0.5903 - accuracy: 0.6994 - val_loss: 0.5037 - val_accuracy: 0.7439\n",
      "Epoch 28/42\n",
      "625/625 [==============================] - 23s 36ms/step - loss: 0.5699 - accuracy: 0.7034 - val_loss: 0.5040 - val_accuracy: 0.7472\n",
      "Epoch 29/42\n",
      "625/625 [==============================] - 23s 36ms/step - loss: 0.5526 - accuracy: 0.7084 - val_loss: 0.5034 - val_accuracy: 0.7449\n",
      "Epoch 30/42\n",
      "625/625 [==============================] - 23s 36ms/step - loss: 0.5387 - accuracy: 0.7136 - val_loss: 0.5020 - val_accuracy: 0.7484\n",
      "Epoch 31/42\n",
      "625/625 [==============================] - 23s 36ms/step - loss: 0.5292 - accuracy: 0.7170 - val_loss: 0.5005 - val_accuracy: 0.7500\n",
      "Epoch 32/42\n",
      "625/625 [==============================] - 23s 36ms/step - loss: 0.5213 - accuracy: 0.7214 - val_loss: 0.4973 - val_accuracy: 0.7504\n",
      "Epoch 33/42\n",
      "625/625 [==============================] - 23s 36ms/step - loss: 0.5128 - accuracy: 0.7239 - val_loss: 0.4946 - val_accuracy: 0.7506\n",
      "Epoch 34/42\n",
      "625/625 [==============================] - 23s 36ms/step - loss: 0.5061 - accuracy: 0.7281 - val_loss: 0.4918 - val_accuracy: 0.7512\n",
      "Epoch 35/42\n",
      "625/625 [==============================] - 23s 36ms/step - loss: 0.5015 - accuracy: 0.7289 - val_loss: 0.4893 - val_accuracy: 0.7534\n",
      "Epoch 36/42\n",
      "625/625 [==============================] - 23s 36ms/step - loss: 0.4963 - accuracy: 0.7325 - val_loss: 0.4870 - val_accuracy: 0.7542\n",
      "Epoch 37/42\n",
      "625/625 [==============================] - 23s 36ms/step - loss: 0.4911 - accuracy: 0.7356 - val_loss: 0.4837 - val_accuracy: 0.7570\n",
      "Epoch 38/42\n",
      "625/625 [==============================] - 23s 36ms/step - loss: 0.4868 - accuracy: 0.7389 - val_loss: 0.4802 - val_accuracy: 0.7584\n",
      "Epoch 39/42\n",
      "625/625 [==============================] - 23s 36ms/step - loss: 0.4834 - accuracy: 0.7402 - val_loss: 0.4754 - val_accuracy: 0.7597\n",
      "Epoch 40/42\n",
      "625/625 [==============================] - 23s 36ms/step - loss: 0.4795 - accuracy: 0.7431 - val_loss: 0.4727 - val_accuracy: 0.7605\n",
      "Epoch 41/42\n",
      "625/625 [==============================] - 23s 36ms/step - loss: 0.4759 - accuracy: 0.7447 - val_loss: 0.4698 - val_accuracy: 0.7615\n",
      "Epoch 42/42\n",
      "625/625 [==============================] - 23s 36ms/step - loss: 0.4729 - accuracy: 0.7470 - val_loss: 0.4644 - val_accuracy: 0.7640\n"
     ]
    }
   ],
   "source": [
    "history = model.fit(x_train, y_train, epochs=epochs, batch_size=batch_szie,verbose=True, validation_data=(x_val, y_val))"
   ]
  },
  {
   "cell_type": "code",
   "execution_count": 16,
   "metadata": {},
   "outputs": [
    {
     "name": "stdout",
     "output_type": "stream",
     "text": [
      "2143/2143 [==============================] - 7s 3ms/step - loss: 0.4651 - accuracy: 0.7637\n",
      "Accuracy: 76.37\n"
     ]
    }
   ],
   "source": [
    "loss, accuracy = model.evaluate(x_test, y_test)\n",
    "print('Accuracy: %.2f' % (accuracy*100))"
   ]
  },
  {
   "cell_type": "code",
   "execution_count": 17,
   "metadata": {},
   "outputs": [
    {
     "data": {
      "image/png": "[encoded data removed]",
      "text/plain": [
       "<Figure size 640x480 with 1 Axes>"
      ]
     },
     "metadata": {},
     "output_type": "display_data"
    },
    {
     "data": {
      "image/png": "[encoded data removed]",
      "text/plain": [
       "<Figure size 640x480 with 1 Axes>"
      ]
     },
     "metadata": {},
     "output_type": "display_data"
    }
   ],
   "source": [
    "plt.plot(history.history['accuracy'])\n",
    "plt.plot(history.history['val_accuracy'])\n",
    "plt.title('model accuracy')\n",
    "plt.ylabel('accuracy')\n",
    "plt.xlabel('epoch')\n",
    "plt.legend(['train', 'test'], loc='upper left')\n",
    "plt.show()\n",
    "# summarize history for loss\n",
    "plt.plot(history.history['loss'])\n",
    "plt.plot(history.history['val_loss'])\n",
    "plt.title('model loss')\n",
    "plt.ylabel('loss')\n",
    "plt.xlabel('epoch')\n",
    "plt.legend(['train', 'test'], loc='upper left')\n",
    "plt.show()"
   ]
  },
  {
   "cell_type": "code",
   "execution_count": 18,
   "metadata": {},
   "outputs": [],
   "source": [
    "test_data = pd.read_csv('../../data/feature_sets/only_in_game_data_v1.csv')\n"
   ]
  },
  {
   "cell_type": "code",
   "execution_count": 19,
   "metadata": {},
   "outputs": [],
   "source": [
    "test_pred = test_data.pop('red_team_outcome')\n"
   ]
  },
  {
   "cell_type": "code",
   "execution_count": 20,
   "metadata": {},
   "outputs": [],
   "source": [
    "test_extra_info = test_data[columns_to_drop]\n",
    "test_data.drop(columns=columns_to_drop,inplace=True)\n"
   ]
  },
  {
   "cell_type": "code",
   "execution_count": 21,
   "metadata": {},
   "outputs": [],
   "source": [
    "random_rows = test_data.sample(n=5)"
   ]
  },
  {
   "cell_type": "code",
   "execution_count": 22,
   "metadata": {},
   "outputs": [
    {
     "data": {
      "text/html": [
       "<div>\n",
       "<style scoped>\n",
       "    .dataframe tbody tr th:only-of-type {\n",
       "        vertical-align: middle;\n",
       "    }\n",
       "\n",
       "    .dataframe tbody tr th {\n",
       "        vertical-align: top;\n",
       "    }\n",
       "\n",
       "    .dataframe thead th {\n",
       "        text-align: right;\n",
       "    }\n",
       "</style>\n",
       "<table border=\"1\" class=\"dataframe\">\n",
       "  <thead>\n",
       "    <tr style=\"text-align: right;\">\n",
       "      <th></th>\n",
       "      <th>blue_team_total_gold</th>\n",
       "      <th>blue_team_inhibitors</th>\n",
       "      <th>blue_team_towers</th>\n",
       "      <th>blue_team_barons</th>\n",
       "      <th>blue_team_total_kills</th>\n",
       "      <th>blue_team_ocean_drakes</th>\n",
       "      <th>blue_team_cloud_drakes</th>\n",
       "      <th>blue_team_mountain_drakes</th>\n",
       "      <th>blue_team_chemtech_drakes</th>\n",
       "      <th>blue_team_infernal_drakes</th>\n",
       "      <th>...</th>\n",
       "      <th>blue_jungle_champ</th>\n",
       "      <th>blue_mid_champ</th>\n",
       "      <th>blue_bot_champ</th>\n",
       "      <th>blue_supp_champ</th>\n",
       "      <th>red_top_champ</th>\n",
       "      <th>red_jungle_champ</th>\n",
       "      <th>red_mid_champ</th>\n",
       "      <th>red_bot_champ</th>\n",
       "      <th>red_supp_champ</th>\n",
       "      <th>time_in_game</th>\n",
       "    </tr>\n",
       "  </thead>\n",
       "  <tbody>\n",
       "    <tr>\n",
       "      <th>330244</th>\n",
       "      <td>51201</td>\n",
       "      <td>0</td>\n",
       "      <td>5</td>\n",
       "      <td>1</td>\n",
       "      <td>13</td>\n",
       "      <td>0</td>\n",
       "      <td>0</td>\n",
       "      <td>1</td>\n",
       "      <td>1</td>\n",
       "      <td>0</td>\n",
       "      <td>...</td>\n",
       "      <td>83</td>\n",
       "      <td>12</td>\n",
       "      <td>8</td>\n",
       "      <td>15</td>\n",
       "      <td>58</td>\n",
       "      <td>167</td>\n",
       "      <td>2</td>\n",
       "      <td>55</td>\n",
       "      <td>95</td>\n",
       "      <td>1620.0</td>\n",
       "    </tr>\n",
       "    <tr>\n",
       "      <th>373628</th>\n",
       "      <td>6106</td>\n",
       "      <td>0</td>\n",
       "      <td>0</td>\n",
       "      <td>0</td>\n",
       "      <td>0</td>\n",
       "      <td>0</td>\n",
       "      <td>0</td>\n",
       "      <td>0</td>\n",
       "      <td>0</td>\n",
       "      <td>0</td>\n",
       "      <td>...</td>\n",
       "      <td>112</td>\n",
       "      <td>12</td>\n",
       "      <td>57</td>\n",
       "      <td>114</td>\n",
       "      <td>0</td>\n",
       "      <td>167</td>\n",
       "      <td>96</td>\n",
       "      <td>26</td>\n",
       "      <td>15</td>\n",
       "      <td>242.0</td>\n",
       "    </tr>\n",
       "    <tr>\n",
       "      <th>130594</th>\n",
       "      <td>59981</td>\n",
       "      <td>0</td>\n",
       "      <td>6</td>\n",
       "      <td>2</td>\n",
       "      <td>9</td>\n",
       "      <td>0</td>\n",
       "      <td>1</td>\n",
       "      <td>0</td>\n",
       "      <td>1</td>\n",
       "      <td>0</td>\n",
       "      <td>...</td>\n",
       "      <td>83</td>\n",
       "      <td>12</td>\n",
       "      <td>153</td>\n",
       "      <td>139</td>\n",
       "      <td>169</td>\n",
       "      <td>159</td>\n",
       "      <td>102</td>\n",
       "      <td>164</td>\n",
       "      <td>109</td>\n",
       "      <td>1979.0</td>\n",
       "    </tr>\n",
       "    <tr>\n",
       "      <th>244229</th>\n",
       "      <td>57872</td>\n",
       "      <td>0</td>\n",
       "      <td>4</td>\n",
       "      <td>1</td>\n",
       "      <td>9</td>\n",
       "      <td>0</td>\n",
       "      <td>0</td>\n",
       "      <td>0</td>\n",
       "      <td>1</td>\n",
       "      <td>3</td>\n",
       "      <td>...</td>\n",
       "      <td>74</td>\n",
       "      <td>96</td>\n",
       "      <td>56</td>\n",
       "      <td>109</td>\n",
       "      <td>52</td>\n",
       "      <td>159</td>\n",
       "      <td>1</td>\n",
       "      <td>153</td>\n",
       "      <td>85</td>\n",
       "      <td>2042.0</td>\n",
       "    </tr>\n",
       "    <tr>\n",
       "      <th>86684</th>\n",
       "      <td>16408</td>\n",
       "      <td>0</td>\n",
       "      <td>0</td>\n",
       "      <td>0</td>\n",
       "      <td>3</td>\n",
       "      <td>0</td>\n",
       "      <td>0</td>\n",
       "      <td>0</td>\n",
       "      <td>0</td>\n",
       "      <td>0</td>\n",
       "      <td>...</td>\n",
       "      <td>158</td>\n",
       "      <td>140</td>\n",
       "      <td>132</td>\n",
       "      <td>109</td>\n",
       "      <td>169</td>\n",
       "      <td>112</td>\n",
       "      <td>58</td>\n",
       "      <td>149</td>\n",
       "      <td>85</td>\n",
       "      <td>603.0</td>\n",
       "    </tr>\n",
       "  </tbody>\n",
       "</table>\n",
       "<p>5 rows × 115 columns</p>\n",
       "</div>"
      ],
      "text/plain": [
       "        blue_team_total_gold  blue_team_inhibitors  blue_team_towers  \\\n",
       "330244                 51201                     0                 5   \n",
       "373628                  6106                     0                 0   \n",
       "130594                 59981                     0                 6   \n",
       "244229                 57872                     0                 4   \n",
       "86684                  16408                     0                 0   \n",
       "\n",
       "        blue_team_barons  blue_team_total_kills  blue_team_ocean_drakes  \\\n",
       "330244                 1                     13                       0   \n",
       "373628                 0                      0                       0   \n",
       "130594                 2                      9                       0   \n",
       "244229                 1                      9                       0   \n",
       "86684                  0                      3                       0   \n",
       "\n",
       "        blue_team_cloud_drakes  blue_team_mountain_drakes  \\\n",
       "330244                       0                          1   \n",
       "373628                       0                          0   \n",
       "130594                       1                          0   \n",
       "244229                       0                          0   \n",
       "86684                        0                          0   \n",
       "\n",
       "        blue_team_chemtech_drakes  blue_team_infernal_drakes  ...  \\\n",
       "330244                          1                          0  ...   \n",
       "373628                          0                          0  ...   \n",
       "130594                          1                          0  ...   \n",
       "244229                          1                          3  ...   \n",
       "86684                           0                          0  ...   \n",
       "\n",
       "        blue_jungle_champ  blue_mid_champ  blue_bot_champ  blue_supp_champ  \\\n",
       "330244                 83              12               8               15   \n",
       "373628                112              12              57              114   \n",
       "130594                 83              12             153              139   \n",
       "244229                 74              96              56              109   \n",
       "86684                 158             140             132              109   \n",
       "\n",
       "        red_top_champ  red_jungle_champ  red_mid_champ  red_bot_champ  \\\n",
       "330244             58               167              2             55   \n",
       "373628              0               167             96             26   \n",
       "130594            169               159            102            164   \n",
       "244229             52               159              1            153   \n",
       "86684             169               112             58            149   \n",
       "\n",
       "        red_supp_champ  time_in_game  \n",
       "330244              95        1620.0  \n",
       "373628              15         242.0  \n",
       "130594             109        1979.0  \n",
       "244229              85        2042.0  \n",
       "86684               85         603.0  \n",
       "\n",
       "[5 rows x 115 columns]"
      ]
     },
     "execution_count": 22,
     "metadata": {},
     "output_type": "execute_result"
    }
   ],
   "source": [
    "random_rows"
   ]
  },
  {
   "cell_type": "code",
   "execution_count": 23,
   "metadata": {},
   "outputs": [
    {
     "name": "stderr",
     "output_type": "stream",
     "text": [
      "C:\\Users\\joshu_rdnqgbx\\AppData\\Local\\Temp\\ipykernel_10264\\1653804312.py:1: PerformanceWarning: DataFrame is highly fragmented.  This is usually the result of calling `frame.insert` many times, which has poor performance.  Consider joining all columns at once using pd.concat(axis=1) instead. To get a de-fragmented frame, use `newframe = frame.copy()`\n",
      "  random_rows['index'] = random_rows.index\n"
     ]
    }
   ],
   "source": [
    "random_rows['index'] = random_rows.index"
   ]
  },
  {
   "cell_type": "code",
   "execution_count": 24,
   "metadata": {},
   "outputs": [
    {
     "data": {
      "text/plain": [
       "riot_match_id                111560983140247875\n",
       "min_start_time        2024-01-22 16:00:00+00:00\n",
       "patch_version                               545\n",
       "blue_team_id                               2173\n",
       "blue_top_player              105514974275992586\n",
       "blue_jungle_player           107464179845128878\n",
       "blue_mid_player               98926509846377469\n",
       "blue_bot_player              104737951126648199\n",
       "blue_supp_player             101389760981745081\n",
       "red_team_id                                2349\n",
       "red_top_player               105515229738531937\n",
       "red_jungle_player            105830645287286396\n",
       "red_mid_player               105554437688383476\n",
       "red_bot_player               105501834624360050\n",
       "red_supp_player              102787200059605684\n",
       "league                                        2\n",
       "format                                        0\n",
       "game_in_format                                1\n",
       "season_format                                 1\n",
       "month                                         1\n",
       "day                                          22\n",
       "year                                       2024\n",
       "Name: 354393, dtype: object"
      ]
     },
     "execution_count": 24,
     "metadata": {},
     "output_type": "execute_result"
    }
   ],
   "source": [
    "test_extra_info.iloc[354393]"
   ]
  },
  {
   "cell_type": "code",
   "execution_count": 25,
   "metadata": {},
   "outputs": [
    {
     "data": {
      "text/plain": [
       "1"
      ]
     },
     "execution_count": 25,
     "metadata": {},
     "output_type": "execute_result"
    }
   ],
   "source": [
    "test_pred.iloc[int(354393.0)]"
   ]
  },
  {
   "cell_type": "code",
   "execution_count": 26,
   "metadata": {},
   "outputs": [
    {
     "name": "stdout",
     "output_type": "stream",
     "text": [
      "0\n",
      "1\n",
      "0\n",
      "0\n",
      "0\n"
     ]
    }
   ],
   "source": [
    "random_rows_predictions = []\n",
    "for i in range(len(random_rows)):\n",
    "    print(test_pred.iloc[int(random_rows.iloc[i]['index'])])"
   ]
  },
  {
   "cell_type": "code",
   "execution_count": 27,
   "metadata": {},
   "outputs": [],
   "source": [
    "random_rows.drop(columns = 'index',inplace = True)"
   ]
  },
  {
   "cell_type": "code",
   "execution_count": 28,
   "metadata": {},
   "outputs": [
    {
     "name": "stdout",
     "output_type": "stream",
     "text": [
      "1/1 [==============================] - 0s 111ms/step\n"
     ]
    }
   ],
   "source": [
    "random_rows_results = model.predict(random_rows)"
   ]
  },
  {
   "cell_type": "code",
   "execution_count": 29,
   "metadata": {},
   "outputs": [
    {
     "data": {
      "text/plain": [
       "array([[0.16772915],\n",
       "       [0.58903676],\n",
       "       [0.07244616],\n",
       "       [0.6143922 ],\n",
       "       [0.35417202]], dtype=float32)"
      ]
     },
     "execution_count": 29,
     "metadata": {},
     "output_type": "execute_result"
    }
   ],
   "source": [
    "random_rows_results"
   ]
  },
  {
   "cell_type": "code",
   "execution_count": 30,
   "metadata": {},
   "outputs": [
    {
     "name": "stdout",
     "output_type": "stream",
     "text": [
      "14283/14283 [==============================] - 32s 2ms/step\n"
     ]
    }
   ],
   "source": [
    "all_results = model.predict(test_data)"
   ]
  },
  {
   "cell_type": "code",
   "execution_count": 37,
   "metadata": {},
   "outputs": [],
   "source": [
    "threshold_results = []\n",
    "for result in all_results:\n",
    "    if result > 0.5:\n",
    "        threshold_results.append(1)\n",
    "    else:\n",
    "        threshold_results.append(0)"
   ]
  },
  {
   "cell_type": "code",
   "execution_count": 38,
   "metadata": {},
   "outputs": [
    {
     "data": {
      "image/png": "[encoded data removed]",
      "text/plain": [
       "<Figure size 640x480 with 2 Axes>"
      ]
     },
     "metadata": {},
     "output_type": "display_data"
    }
   ],
   "source": [
    "confusion_matrix = metrics.confusion_matrix(test_pred, threshold_results)\n",
    "\n",
    "cm_display = metrics.ConfusionMatrixDisplay(confusion_matrix = confusion_matrix, display_labels = [0, 1])\n",
    "\n",
    "cm_display.plot()\n",
    "plt.show()"
   ]
  },
  {
   "cell_type": "code",
   "execution_count": 33,
   "metadata": {},
   "outputs": [
    {
     "data": {
      "image/png": "[encoded data removed]",
      "text/plain": [
       "<Figure size 640x480 with 1 Axes>"
      ]
     },
     "metadata": {},
     "output_type": "display_data"
    }
   ],
   "source": [
    "plt.hist(all_results)\n",
    "plt.show() "
   ]
  },
  {
   "cell_type": "code",
   "execution_count": 39,
   "metadata": {},
   "outputs": [
    {
     "data": {
      "text/plain": [
       "0.826164694663672"
      ]
     },
     "execution_count": 39,
     "metadata": {},
     "output_type": "execute_result"
    }
   ],
   "source": [
    "metrics.precision_score(test_pred, threshold_results)\n"
   ]
  },
  {
   "cell_type": "code",
   "execution_count": 40,
   "metadata": {},
   "outputs": [
    {
     "data": {
      "text/plain": [
       "0.6211393694696526"
      ]
     },
     "execution_count": 40,
     "metadata": {},
     "output_type": "execute_result"
    }
   ],
   "source": [
    "metrics.recall_score(test_pred, threshold_results)\n"
   ]
  },
  {
   "cell_type": "code",
   "execution_count": 41,
   "metadata": {},
   "outputs": [],
   "source": [
    "model.save_weights('../saved_models/only_in_game_data_v2.keras')"
   ]
  }
 ],
 "metadata": {
  "kernelspec": {
   "display_name": "predictorEnv",
   "language": "python",
   "name": "python3"
  },
  "language_info": {
   "codemirror_mode": {
    "name": "ipython",
    "version": 3
   },
   "file_extension": ".py",
   "mimetype": "text/x-python",
   "name": "python",
   "nbconvert_exporter": "python",
   "pygments_lexer": "ipython3",
   "version": "3.10.13"
  }
 },
 "nbformat": 4,
 "nbformat_minor": 2
}
