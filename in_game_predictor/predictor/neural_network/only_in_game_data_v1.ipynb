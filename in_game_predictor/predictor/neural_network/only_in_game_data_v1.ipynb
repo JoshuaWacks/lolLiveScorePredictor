{
 "cells": [
  {
   "cell_type": "code",
   "execution_count": 1,
   "metadata": {},
   "outputs": [],
   "source": [
    "import pandas as pd\n",
    "from sklearn.model_selection import train_test_split\n",
    "from tensorflow.keras.models import Sequential\n",
    "from tensorflow.keras.layers import Dense,Dropout\n",
    "import keras\n",
    "import matplotlib.pyplot as plt\n",
    "from sklearn import metrics\n",
    "from sklearn.metrics import precision_recall_fscore_support"
   ]
  },
  {
   "cell_type": "code",
   "execution_count": 2,
   "metadata": {},
   "outputs": [
    {
     "name": "stdout",
     "output_type": "stream",
     "text": [
      "[PhysicalDevice(name='/physical_device:GPU:0', device_type='GPU')]\n"
     ]
    }
   ],
   "source": [
    "import tensorflow as tf\n",
    "print(tf.config.list_physical_devices('GPU'))"
   ]
  },
  {
   "cell_type": "code",
   "execution_count": 3,
   "metadata": {},
   "outputs": [],
   "source": [
    "test_size = 0.3\n",
    "val_size = 0.5\n",
    "train_size =0.7\n",
    "\n",
    "random_state = 42"
   ]
  },
  {
   "cell_type": "code",
   "execution_count": 4,
   "metadata": {},
   "outputs": [
    {
     "data": {
      "text/html": [
       "<div>\n",
       "<style scoped>\n",
       "    .dataframe tbody tr th:only-of-type {\n",
       "        vertical-align: middle;\n",
       "    }\n",
       "\n",
       "    .dataframe tbody tr th {\n",
       "        vertical-align: top;\n",
       "    }\n",
       "\n",
       "    .dataframe thead th {\n",
       "        text-align: right;\n",
       "    }\n",
       "</style>\n",
       "<table border=\"1\" class=\"dataframe\">\n",
       "  <thead>\n",
       "    <tr style=\"text-align: right;\">\n",
       "      <th></th>\n",
       "      <th>blue_team_total_gold</th>\n",
       "      <th>blue_team_inhibitors</th>\n",
       "      <th>blue_team_towers</th>\n",
       "      <th>blue_team_barons</th>\n",
       "      <th>blue_team_total_kills</th>\n",
       "      <th>blue_team_ocean_drakes</th>\n",
       "      <th>blue_team_cloud_drakes</th>\n",
       "      <th>blue_team_mountain_drakes</th>\n",
       "      <th>blue_team_chemtech_drakes</th>\n",
       "      <th>blue_team_infernal_drakes</th>\n",
       "      <th>...</th>\n",
       "      <th>format</th>\n",
       "      <th>game_in_format</th>\n",
       "      <th>red_team_outcome</th>\n",
       "      <th>season_format</th>\n",
       "      <th>riot_match_id</th>\n",
       "      <th>min_start_time</th>\n",
       "      <th>month</th>\n",
       "      <th>day</th>\n",
       "      <th>year</th>\n",
       "      <th>time_in_game</th>\n",
       "    </tr>\n",
       "  </thead>\n",
       "  <tbody>\n",
       "    <tr>\n",
       "      <th>0</th>\n",
       "      <td>0</td>\n",
       "      <td>0</td>\n",
       "      <td>0</td>\n",
       "      <td>0</td>\n",
       "      <td>0</td>\n",
       "      <td>0</td>\n",
       "      <td>0</td>\n",
       "      <td>0</td>\n",
       "      <td>0</td>\n",
       "      <td>0</td>\n",
       "      <td>...</td>\n",
       "      <td>2</td>\n",
       "      <td>1</td>\n",
       "      <td>0</td>\n",
       "      <td>0</td>\n",
       "      <td>111561337007371296</td>\n",
       "      <td>2024-04-14 06:00:00+00:00</td>\n",
       "      <td>4</td>\n",
       "      <td>14</td>\n",
       "      <td>2024</td>\n",
       "      <td>0.0</td>\n",
       "    </tr>\n",
       "    <tr>\n",
       "      <th>1</th>\n",
       "      <td>2500</td>\n",
       "      <td>0</td>\n",
       "      <td>0</td>\n",
       "      <td>0</td>\n",
       "      <td>0</td>\n",
       "      <td>0</td>\n",
       "      <td>0</td>\n",
       "      <td>0</td>\n",
       "      <td>0</td>\n",
       "      <td>0</td>\n",
       "      <td>...</td>\n",
       "      <td>2</td>\n",
       "      <td>1</td>\n",
       "      <td>0</td>\n",
       "      <td>0</td>\n",
       "      <td>111561337007371296</td>\n",
       "      <td>2024-04-14 06:00:00+00:00</td>\n",
       "      <td>4</td>\n",
       "      <td>14</td>\n",
       "      <td>2024</td>\n",
       "      <td>0.0</td>\n",
       "    </tr>\n",
       "    <tr>\n",
       "      <th>2</th>\n",
       "      <td>2500</td>\n",
       "      <td>0</td>\n",
       "      <td>0</td>\n",
       "      <td>0</td>\n",
       "      <td>0</td>\n",
       "      <td>0</td>\n",
       "      <td>0</td>\n",
       "      <td>0</td>\n",
       "      <td>0</td>\n",
       "      <td>0</td>\n",
       "      <td>...</td>\n",
       "      <td>2</td>\n",
       "      <td>1</td>\n",
       "      <td>0</td>\n",
       "      <td>0</td>\n",
       "      <td>111561337007371296</td>\n",
       "      <td>2024-04-14 06:00:00+00:00</td>\n",
       "      <td>4</td>\n",
       "      <td>14</td>\n",
       "      <td>2024</td>\n",
       "      <td>1.0</td>\n",
       "    </tr>\n",
       "    <tr>\n",
       "      <th>3</th>\n",
       "      <td>2500</td>\n",
       "      <td>0</td>\n",
       "      <td>0</td>\n",
       "      <td>0</td>\n",
       "      <td>0</td>\n",
       "      <td>0</td>\n",
       "      <td>0</td>\n",
       "      <td>0</td>\n",
       "      <td>0</td>\n",
       "      <td>0</td>\n",
       "      <td>...</td>\n",
       "      <td>2</td>\n",
       "      <td>1</td>\n",
       "      <td>0</td>\n",
       "      <td>0</td>\n",
       "      <td>111561337007371296</td>\n",
       "      <td>2024-04-14 06:00:00+00:00</td>\n",
       "      <td>4</td>\n",
       "      <td>14</td>\n",
       "      <td>2024</td>\n",
       "      <td>1.0</td>\n",
       "    </tr>\n",
       "    <tr>\n",
       "      <th>4</th>\n",
       "      <td>2500</td>\n",
       "      <td>0</td>\n",
       "      <td>0</td>\n",
       "      <td>0</td>\n",
       "      <td>0</td>\n",
       "      <td>0</td>\n",
       "      <td>0</td>\n",
       "      <td>0</td>\n",
       "      <td>0</td>\n",
       "      <td>0</td>\n",
       "      <td>...</td>\n",
       "      <td>2</td>\n",
       "      <td>1</td>\n",
       "      <td>0</td>\n",
       "      <td>0</td>\n",
       "      <td>111561337007371296</td>\n",
       "      <td>2024-04-14 06:00:00+00:00</td>\n",
       "      <td>4</td>\n",
       "      <td>14</td>\n",
       "      <td>2024</td>\n",
       "      <td>1.0</td>\n",
       "    </tr>\n",
       "  </tbody>\n",
       "</table>\n",
       "<p>5 rows × 138 columns</p>\n",
       "</div>"
      ],
      "text/plain": [
       "   blue_team_total_gold  blue_team_inhibitors  blue_team_towers  \\\n",
       "0                     0                     0                 0   \n",
       "1                  2500                     0                 0   \n",
       "2                  2500                     0                 0   \n",
       "3                  2500                     0                 0   \n",
       "4                  2500                     0                 0   \n",
       "\n",
       "   blue_team_barons  blue_team_total_kills  blue_team_ocean_drakes  \\\n",
       "0                 0                      0                       0   \n",
       "1                 0                      0                       0   \n",
       "2                 0                      0                       0   \n",
       "3                 0                      0                       0   \n",
       "4                 0                      0                       0   \n",
       "\n",
       "   blue_team_cloud_drakes  blue_team_mountain_drakes  \\\n",
       "0                       0                          0   \n",
       "1                       0                          0   \n",
       "2                       0                          0   \n",
       "3                       0                          0   \n",
       "4                       0                          0   \n",
       "\n",
       "   blue_team_chemtech_drakes  blue_team_infernal_drakes  ...  format  \\\n",
       "0                          0                          0  ...       2   \n",
       "1                          0                          0  ...       2   \n",
       "2                          0                          0  ...       2   \n",
       "3                          0                          0  ...       2   \n",
       "4                          0                          0  ...       2   \n",
       "\n",
       "   game_in_format  red_team_outcome  season_format       riot_match_id  \\\n",
       "0               1                 0              0  111561337007371296   \n",
       "1               1                 0              0  111561337007371296   \n",
       "2               1                 0              0  111561337007371296   \n",
       "3               1                 0              0  111561337007371296   \n",
       "4               1                 0              0  111561337007371296   \n",
       "\n",
       "              min_start_time  month  day  year  time_in_game  \n",
       "0  2024-04-14 06:00:00+00:00      4   14  2024           0.0  \n",
       "1  2024-04-14 06:00:00+00:00      4   14  2024           0.0  \n",
       "2  2024-04-14 06:00:00+00:00      4   14  2024           1.0  \n",
       "3  2024-04-14 06:00:00+00:00      4   14  2024           1.0  \n",
       "4  2024-04-14 06:00:00+00:00      4   14  2024           1.0  \n",
       "\n",
       "[5 rows x 138 columns]"
      ]
     },
     "execution_count": 4,
     "metadata": {},
     "output_type": "execute_result"
    }
   ],
   "source": [
    "data = pd.read_csv('../../data/feature_sets/only_in_game_data_v1.csv')\n",
    "data.head()"
   ]
  },
  {
   "cell_type": "code",
   "execution_count": 5,
   "metadata": {},
   "outputs": [
    {
     "data": {
      "text/plain": [
       "457031"
      ]
     },
     "execution_count": 5,
     "metadata": {},
     "output_type": "execute_result"
    }
   ],
   "source": [
    "len(data)"
   ]
  },
  {
   "cell_type": "code",
   "execution_count": 6,
   "metadata": {},
   "outputs": [
    {
     "data": {
      "text/plain": [
       "['blue_team_total_gold',\n",
       " 'blue_team_inhibitors',\n",
       " 'blue_team_towers',\n",
       " 'blue_team_barons',\n",
       " 'blue_team_total_kills',\n",
       " 'blue_team_ocean_drakes',\n",
       " 'blue_team_cloud_drakes',\n",
       " 'blue_team_mountain_drakes',\n",
       " 'blue_team_chemtech_drakes',\n",
       " 'blue_team_infernal_drakes',\n",
       " 'blue_team_hextech_drakes',\n",
       " 'blue_team_elder_drakes',\n",
       " 'blue_top_total_gold',\n",
       " 'blue_top_level',\n",
       " 'blue_top_kills',\n",
       " 'blue_top_deaths',\n",
       " 'blue_top_assists',\n",
       " 'blue_top_creep_score',\n",
       " 'blue_top_current_health',\n",
       " 'blue_top_max_health',\n",
       " 'blue_jungle_total_gold',\n",
       " 'blue_jungle_level',\n",
       " 'blue_jungle_kills',\n",
       " 'blue_jungle_deaths',\n",
       " 'blue_jungle_assists',\n",
       " 'blue_jungle_creep_score',\n",
       " 'blue_jungle_current_health',\n",
       " 'blue_jungle_max_health',\n",
       " 'blue_mid_total_gold',\n",
       " 'blue_mid_level',\n",
       " 'blue_mid_kills',\n",
       " 'blue_mid_deaths',\n",
       " 'blue_mid_assists',\n",
       " 'blue_mid_creep_score',\n",
       " 'blue_mid_current_health',\n",
       " 'blue_mid_max_health',\n",
       " 'blue_bot_total_gold',\n",
       " 'blue_bot_level',\n",
       " 'blue_bot_kills',\n",
       " 'blue_bot_deaths',\n",
       " 'blue_bot_assists',\n",
       " 'blue_bot_creep_score',\n",
       " 'blue_bot_current_health',\n",
       " 'blue_bot_max_health',\n",
       " 'blue_supp_total_gold',\n",
       " 'blue_supp_level',\n",
       " 'blue_supp_kills',\n",
       " 'blue_supp_deaths',\n",
       " 'blue_supp_assists',\n",
       " 'blue_supp_creep_score',\n",
       " 'blue_supp_current_health',\n",
       " 'blue_supp_max_health',\n",
       " 'red_team_total_gold',\n",
       " 'red_team_inhibitors',\n",
       " 'red_team_towers',\n",
       " 'red_team_barons',\n",
       " 'red_team_total_kills',\n",
       " 'red_team_ocean_drakes',\n",
       " 'red_team_cloud_drakes',\n",
       " 'red_team_mountain_drakes',\n",
       " 'red_team_chemtech_drakes',\n",
       " 'red_team_infernal_drakes',\n",
       " 'red_team_hextech_drakes',\n",
       " 'red_team_elder_drakes',\n",
       " 'red_top_total_gold',\n",
       " 'red_top_level',\n",
       " 'red_top_kills',\n",
       " 'red_top_deaths',\n",
       " 'red_top_assists',\n",
       " 'red_top_creep_score',\n",
       " 'red_top_current_health',\n",
       " 'red_top_max_health',\n",
       " 'red_jungle_total_gold',\n",
       " 'red_jungle_level',\n",
       " 'red_jungle_kills',\n",
       " 'red_jungle_deaths',\n",
       " 'red_jungle_assists',\n",
       " 'red_jungle_creep_score',\n",
       " 'red_jungle_current_health',\n",
       " 'red_jungle_max_health',\n",
       " 'red_mid_total_gold',\n",
       " 'red_mid_level',\n",
       " 'red_mid_kills',\n",
       " 'red_mid_deaths',\n",
       " 'red_mid_assists',\n",
       " 'red_mid_creep_score',\n",
       " 'red_mid_current_health',\n",
       " 'red_mid_max_health',\n",
       " 'red_bot_total_gold',\n",
       " 'red_bot_level',\n",
       " 'red_bot_kills',\n",
       " 'red_bot_deaths',\n",
       " 'red_bot_assists',\n",
       " 'red_bot_creep_score',\n",
       " 'red_bot_current_health',\n",
       " 'red_bot_max_health',\n",
       " 'red_supp_total_gold',\n",
       " 'red_supp_level',\n",
       " 'red_supp_kills',\n",
       " 'red_supp_deaths',\n",
       " 'red_supp_assists',\n",
       " 'red_supp_creep_score',\n",
       " 'red_supp_current_health',\n",
       " 'red_supp_max_health',\n",
       " 'patch_version',\n",
       " 'blue_team_id',\n",
       " 'blue_top_player',\n",
       " 'blue_top_champ',\n",
       " 'blue_jungle_player',\n",
       " 'blue_jungle_champ',\n",
       " 'blue_mid_player',\n",
       " 'blue_mid_champ',\n",
       " 'blue_bot_player',\n",
       " 'blue_bot_champ',\n",
       " 'blue_supp_player',\n",
       " 'blue_supp_champ',\n",
       " 'red_team_id',\n",
       " 'red_top_player',\n",
       " 'red_top_champ',\n",
       " 'red_jungle_player',\n",
       " 'red_jungle_champ',\n",
       " 'red_mid_player',\n",
       " 'red_mid_champ',\n",
       " 'red_bot_player',\n",
       " 'red_bot_champ',\n",
       " 'red_supp_player',\n",
       " 'red_supp_champ',\n",
       " 'league',\n",
       " 'format',\n",
       " 'game_in_format',\n",
       " 'red_team_outcome',\n",
       " 'season_format',\n",
       " 'riot_match_id',\n",
       " 'min_start_time',\n",
       " 'month',\n",
       " 'day',\n",
       " 'year',\n",
       " 'time_in_game']"
      ]
     },
     "execution_count": 6,
     "metadata": {},
     "output_type": "execute_result"
    }
   ],
   "source": [
    "list(data.columns)"
   ]
  },
  {
   "cell_type": "code",
   "execution_count": 7,
   "metadata": {},
   "outputs": [],
   "source": [
    "columns_to_drop = [\n",
    "'riot_match_id',\n",
    "'min_start_time',\n",
    "\n",
    "'patch_version',\n",
    " 'blue_team_id',\n",
    " 'blue_top_player',\n",
    " 'blue_jungle_player',\n",
    " 'blue_mid_player',\n",
    " 'blue_bot_player',\n",
    " 'blue_supp_player',\n",
    " 'red_team_id',\n",
    " 'red_top_player',\n",
    " 'red_jungle_player',\n",
    " 'red_mid_player',\n",
    " 'red_bot_player',\n",
    " 'red_supp_player',\n",
    " 'league',\n",
    " 'format',\n",
    " 'game_in_format',\n",
    " 'season_format',\n",
    " 'month',\n",
    " 'day',\n",
    " 'year'\n",
    " ]"
   ]
  },
  {
   "cell_type": "code",
   "execution_count": 8,
   "metadata": {},
   "outputs": [],
   "source": [
    "extar_info = data[columns_to_drop]\n",
    "data.drop(columns=columns_to_drop,inplace=True)\n"
   ]
  },
  {
   "cell_type": "code",
   "execution_count": 9,
   "metadata": {},
   "outputs": [],
   "source": [
    "pred = data.pop('red_team_outcome')"
   ]
  },
  {
   "cell_type": "code",
   "execution_count": 10,
   "metadata": {},
   "outputs": [],
   "source": [
    "x_train, x_temp, y_train, y_temp = train_test_split(data,pred,test_size=test_size,random_state = random_state)\n",
    "x_val, x_test, y_val, y_test = train_test_split(x_temp,y_temp,test_size = val_size,random_state = random_state)"
   ]
  },
  {
   "cell_type": "code",
   "execution_count": 11,
   "metadata": {},
   "outputs": [],
   "source": [
    "assert len(data) == len(x_train) + len(x_test) + len(x_val)\n",
    "assert len(data) == len(y_train) + len(y_val) + len(y_test)"
   ]
  },
  {
   "cell_type": "code",
   "execution_count": 12,
   "metadata": {},
   "outputs": [
    {
     "data": {
      "text/plain": [
       "115"
      ]
     },
     "execution_count": 12,
     "metadata": {},
     "output_type": "execute_result"
    }
   ],
   "source": [
    "num_input = len(data.columns)\n",
    "num_input"
   ]
  },
  {
   "cell_type": "code",
   "execution_count": 13,
   "metadata": {},
   "outputs": [],
   "source": [
    "model = Sequential()\n",
    "model.add(Dense(1024, input_shape=(num_input,), activation='relu'))\n",
    "model.add(Dense(2048, activation='relu'))\n",
    "model.add(Dropout(0.1))\n",
    "model.add(Dense(4096, activation='relu'))\n",
    "model.add(Dropout(0.1))\n",
    "model.add(Dense(8192, activation='relu'))\n",
    "model.add(Dense(8192, activation='relu'))\n",
    "model.add(Dropout(0.1))\n",
    "model.add(Dense(4096, activation='leaky_relu'))\n",
    "model.add(Dropout(0.1))\n",
    "model.add(Dense(2048, activation='relu'))\n",
    "model.add(Dropout(0.1))\n",
    "model.add(Dense(512, activation='relu'))\n",
    "model.add(Dense(256, activation='relu'))\n",
    "\n",
    "model.add(Dense(1, activation='sigmoid'))"
   ]
  },
  {
   "cell_type": "code",
   "execution_count": 14,
   "metadata": {},
   "outputs": [],
   "source": [
    "patience = 10\n",
    "learning_rate = 1e-6\n",
    "epochs = 100\n",
    "batch_szie= 256"
   ]
  },
  {
   "cell_type": "code",
   "execution_count": 15,
   "metadata": {},
   "outputs": [],
   "source": [
    "earlyStopping = keras.callbacks.EarlyStopping(monitor='val_loss', patience=patience, verbose=0, mode='min')\n",
    "mcp_save = keras.callbacks.ModelCheckpoint('mdl_wts.keras', save_best_only=True, monitor='val_loss', mode='min')\n",
    "model.compile(loss='binary_crossentropy', optimizer=keras.optimizers.Adam(learning_rate=learning_rate), metrics=['accuracy'])"
   ]
  },
  {
   "cell_type": "code",
   "execution_count": 16,
   "metadata": {},
   "outputs": [
    {
     "name": "stdout",
     "output_type": "stream",
     "text": [
      "Epoch 1/100\n",
      "1250/1250 [==============================] - 70s 54ms/step - loss: 7.5223 - accuracy: 0.6253 - val_loss: 1.2311 - val_accuracy: 0.6980\n",
      "Epoch 2/100\n",
      "1250/1250 [==============================] - 68s 55ms/step - loss: 2.5728 - accuracy: 0.6518 - val_loss: 0.7288 - val_accuracy: 0.7300\n",
      "Epoch 3/100\n",
      "1250/1250 [==============================] - 69s 55ms/step - loss: 1.5672 - accuracy: 0.6617 - val_loss: 0.5677 - val_accuracy: 0.7268\n",
      "Epoch 4/100\n",
      "1250/1250 [==============================] - 69s 55ms/step - loss: 1.1097 - accuracy: 0.6689 - val_loss: 0.5411 - val_accuracy: 0.7440\n",
      "Epoch 5/100\n",
      "1250/1250 [==============================] - 69s 55ms/step - loss: 0.8738 - accuracy: 0.6765 - val_loss: 0.5210 - val_accuracy: 0.7384\n",
      "Epoch 6/100\n",
      "1250/1250 [==============================] - 69s 55ms/step - loss: 0.7269 - accuracy: 0.6854 - val_loss: 0.4988 - val_accuracy: 0.7453\n",
      "Epoch 7/100\n",
      "1250/1250 [==============================] - 69s 55ms/step - loss: 0.6414 - accuracy: 0.6940 - val_loss: 0.4925 - val_accuracy: 0.7418\n",
      "Epoch 8/100\n",
      "1250/1250 [==============================] - 69s 55ms/step - loss: 0.5866 - accuracy: 0.7032 - val_loss: 0.4974 - val_accuracy: 0.7400\n",
      "Epoch 9/100\n",
      "1250/1250 [==============================] - 69s 55ms/step - loss: 0.5524 - accuracy: 0.7124 - val_loss: 0.4853 - val_accuracy: 0.7487\n",
      "Epoch 10/100\n",
      "1250/1250 [==============================] - 69s 55ms/step - loss: 0.5327 - accuracy: 0.7182 - val_loss: 0.4853 - val_accuracy: 0.7476\n",
      "Epoch 11/100\n",
      "1250/1250 [==============================] - 69s 55ms/step - loss: 0.5177 - accuracy: 0.7255 - val_loss: 0.4823 - val_accuracy: 0.7506\n",
      "Epoch 12/100\n",
      "1250/1250 [==============================] - 69s 55ms/step - loss: 0.5082 - accuracy: 0.7296 - val_loss: 0.4836 - val_accuracy: 0.7501\n",
      "Epoch 13/100\n",
      "1250/1250 [==============================] - 69s 55ms/step - loss: 0.4996 - accuracy: 0.7338 - val_loss: 0.4807 - val_accuracy: 0.7544\n",
      "Epoch 14/100\n",
      "1250/1250 [==============================] - 69s 55ms/step - loss: 0.4935 - accuracy: 0.7374 - val_loss: 0.4809 - val_accuracy: 0.7529\n",
      "Epoch 15/100\n",
      "1250/1250 [==============================] - 69s 55ms/step - loss: 0.4884 - accuracy: 0.7396 - val_loss: 0.4741 - val_accuracy: 0.7574\n",
      "Epoch 16/100\n",
      "1250/1250 [==============================] - 69s 55ms/step - loss: 0.4837 - accuracy: 0.7428 - val_loss: 0.4738 - val_accuracy: 0.7562\n",
      "Epoch 17/100\n",
      "1250/1250 [==============================] - 68s 55ms/step - loss: 0.4787 - accuracy: 0.7461 - val_loss: 0.4682 - val_accuracy: 0.7618\n",
      "Epoch 18/100\n",
      "1250/1250 [==============================] - 67s 54ms/step - loss: 0.4750 - accuracy: 0.7485 - val_loss: 0.4653 - val_accuracy: 0.7606\n",
      "Epoch 19/100\n",
      "1250/1250 [==============================] - 67s 54ms/step - loss: 0.4716 - accuracy: 0.7513 - val_loss: 0.4623 - val_accuracy: 0.7646\n",
      "Epoch 20/100\n",
      "1250/1250 [==============================] - 67s 54ms/step - loss: 0.4672 - accuracy: 0.7532 - val_loss: 0.4623 - val_accuracy: 0.7587\n",
      "Epoch 21/100\n",
      "1250/1250 [==============================] - 67s 54ms/step - loss: 0.4640 - accuracy: 0.7567 - val_loss: 0.4536 - val_accuracy: 0.7673\n",
      "Epoch 22/100\n",
      "1250/1250 [==============================] - 67s 54ms/step - loss: 0.4596 - accuracy: 0.7595 - val_loss: 0.4490 - val_accuracy: 0.7718\n",
      "Epoch 23/100\n",
      "1250/1250 [==============================] - 67s 54ms/step - loss: 0.4559 - accuracy: 0.7618 - val_loss: 0.4431 - val_accuracy: 0.7730\n",
      "Epoch 24/100\n",
      "1250/1250 [==============================] - 67s 54ms/step - loss: 0.4511 - accuracy: 0.7644 - val_loss: 0.4347 - val_accuracy: 0.7787\n",
      "Epoch 25/100\n",
      "1250/1250 [==============================] - 67s 54ms/step - loss: 0.4467 - accuracy: 0.7680 - val_loss: 0.4336 - val_accuracy: 0.7772\n",
      "Epoch 26/100\n",
      "1250/1250 [==============================] - 67s 54ms/step - loss: 0.4422 - accuracy: 0.7711 - val_loss: 0.4207 - val_accuracy: 0.7850\n",
      "Epoch 27/100\n",
      "1250/1250 [==============================] - 67s 54ms/step - loss: 0.4375 - accuracy: 0.7742 - val_loss: 0.4171 - val_accuracy: 0.7879\n",
      "Epoch 28/100\n",
      "1250/1250 [==============================] - 67s 54ms/step - loss: 0.4315 - accuracy: 0.7778 - val_loss: 0.4100 - val_accuracy: 0.7884\n",
      "Epoch 29/100\n",
      "1250/1250 [==============================] - 67s 54ms/step - loss: 0.4239 - accuracy: 0.7830 - val_loss: 0.3956 - val_accuracy: 0.7987\n",
      "Epoch 30/100\n",
      "1250/1250 [==============================] - 67s 54ms/step - loss: 0.4160 - accuracy: 0.7877 - val_loss: 0.3825 - val_accuracy: 0.8118\n",
      "Epoch 31/100\n",
      "1250/1250 [==============================] - 67s 54ms/step - loss: 0.4057 - accuracy: 0.7930 - val_loss: 0.3692 - val_accuracy: 0.8165\n",
      "Epoch 32/100\n",
      "1250/1250 [==============================] - 67s 53ms/step - loss: 0.3943 - accuracy: 0.8002 - val_loss: 0.3612 - val_accuracy: 0.8231\n",
      "Epoch 33/100\n",
      "1250/1250 [==============================] - 67s 54ms/step - loss: 0.3791 - accuracy: 0.8091 - val_loss: 0.3352 - val_accuracy: 0.8378\n",
      "Epoch 34/100\n",
      "1250/1250 [==============================] - 67s 53ms/step - loss: 0.3619 - accuracy: 0.8195 - val_loss: 0.3167 - val_accuracy: 0.8468\n",
      "Epoch 35/100\n",
      "1250/1250 [==============================] - 67s 53ms/step - loss: 0.3423 - accuracy: 0.8300 - val_loss: 0.2852 - val_accuracy: 0.8652\n",
      "Epoch 36/100\n",
      "1250/1250 [==============================] - 67s 53ms/step - loss: 0.3186 - accuracy: 0.8436 - val_loss: 0.2583 - val_accuracy: 0.8809\n",
      "Epoch 37/100\n",
      "1250/1250 [==============================] - 67s 54ms/step - loss: 0.2932 - accuracy: 0.8578 - val_loss: 0.2246 - val_accuracy: 0.8975\n",
      "Epoch 38/100\n",
      "1250/1250 [==============================] - 67s 53ms/step - loss: 0.2662 - accuracy: 0.8728 - val_loss: 0.1966 - val_accuracy: 0.9144\n",
      "Epoch 39/100\n",
      "1250/1250 [==============================] - 67s 54ms/step - loss: 0.2380 - accuracy: 0.8870 - val_loss: 0.1619 - val_accuracy: 0.9291\n",
      "Epoch 40/100\n",
      "1250/1250 [==============================] - 67s 54ms/step - loss: 0.2110 - accuracy: 0.9012 - val_loss: 0.1398 - val_accuracy: 0.9400\n",
      "Epoch 41/100\n",
      "1250/1250 [==============================] - 54s 43ms/step - loss: 0.1872 - accuracy: 0.9131 - val_loss: 0.1174 - val_accuracy: 0.9509\n",
      "Epoch 42/100\n",
      "1250/1250 [==============================] - 51s 41ms/step - loss: 0.1675 - accuracy: 0.9224 - val_loss: 0.1009 - val_accuracy: 0.9574\n",
      "Epoch 43/100\n",
      "1250/1250 [==============================] - 51s 41ms/step - loss: 0.1501 - accuracy: 0.9311 - val_loss: 0.0903 - val_accuracy: 0.9625\n",
      "Epoch 44/100\n",
      "1250/1250 [==============================] - 51s 41ms/step - loss: 0.1345 - accuracy: 0.9386 - val_loss: 0.0775 - val_accuracy: 0.9668\n",
      "Epoch 45/100\n",
      "1250/1250 [==============================] - 51s 40ms/step - loss: 0.1231 - accuracy: 0.9438 - val_loss: 0.0748 - val_accuracy: 0.9686\n",
      "Epoch 46/100\n",
      "1250/1250 [==============================] - 51s 40ms/step - loss: 0.1129 - accuracy: 0.9486 - val_loss: 0.0657 - val_accuracy: 0.9722\n",
      "Epoch 47/100\n",
      "1250/1250 [==============================] - 51s 40ms/step - loss: 0.1031 - accuracy: 0.9529 - val_loss: 0.0590 - val_accuracy: 0.9755\n",
      "Epoch 48/100\n",
      "1250/1250 [==============================] - 51s 40ms/step - loss: 0.0948 - accuracy: 0.9570 - val_loss: 0.0552 - val_accuracy: 0.9764\n",
      "Epoch 49/100\n",
      "1250/1250 [==============================] - 51s 40ms/step - loss: 0.0876 - accuracy: 0.9603 - val_loss: 0.0505 - val_accuracy: 0.9798\n",
      "Epoch 50/100\n",
      "1250/1250 [==============================] - 51s 40ms/step - loss: 0.0809 - accuracy: 0.9637 - val_loss: 0.0465 - val_accuracy: 0.9800\n",
      "Epoch 51/100\n",
      "1250/1250 [==============================] - 51s 41ms/step - loss: 0.0758 - accuracy: 0.9659 - val_loss: 0.0430 - val_accuracy: 0.9824\n",
      "Epoch 52/100\n",
      "1250/1250 [==============================] - 51s 41ms/step - loss: 0.0698 - accuracy: 0.9684 - val_loss: 0.0400 - val_accuracy: 0.9829\n",
      "Epoch 53/100\n",
      "1250/1250 [==============================] - 51s 41ms/step - loss: 0.0651 - accuracy: 0.9710 - val_loss: 0.0374 - val_accuracy: 0.9842\n",
      "Epoch 54/100\n",
      "1250/1250 [==============================] - 51s 41ms/step - loss: 0.0611 - accuracy: 0.9726 - val_loss: 0.0355 - val_accuracy: 0.9852\n",
      "Epoch 55/100\n",
      "1250/1250 [==============================] - 51s 41ms/step - loss: 0.0573 - accuracy: 0.9745 - val_loss: 0.0337 - val_accuracy: 0.9858\n",
      "Epoch 56/100\n",
      "1250/1250 [==============================] - 51s 41ms/step - loss: 0.0536 - accuracy: 0.9761 - val_loss: 0.0310 - val_accuracy: 0.9871\n",
      "Epoch 57/100\n",
      "1250/1250 [==============================] - 51s 41ms/step - loss: 0.0507 - accuracy: 0.9775 - val_loss: 0.0293 - val_accuracy: 0.9878\n",
      "Epoch 58/100\n",
      "1250/1250 [==============================] - 51s 41ms/step - loss: 0.0469 - accuracy: 0.9792 - val_loss: 0.0278 - val_accuracy: 0.9884\n",
      "Epoch 59/100\n",
      "1250/1250 [==============================] - 65s 52ms/step - loss: 0.0447 - accuracy: 0.9802 - val_loss: 0.0259 - val_accuracy: 0.9897\n",
      "Epoch 60/100\n",
      "1250/1250 [==============================] - 67s 54ms/step - loss: 0.0423 - accuracy: 0.9811 - val_loss: 0.0248 - val_accuracy: 0.9902\n",
      "Epoch 61/100\n",
      "1250/1250 [==============================] - 67s 54ms/step - loss: 0.0403 - accuracy: 0.9823 - val_loss: 0.0238 - val_accuracy: 0.9899\n",
      "Epoch 62/100\n",
      "1250/1250 [==============================] - 67s 53ms/step - loss: 0.0384 - accuracy: 0.9831 - val_loss: 0.0230 - val_accuracy: 0.9900\n",
      "Epoch 63/100\n",
      "1250/1250 [==============================] - 67s 53ms/step - loss: 0.0364 - accuracy: 0.9840 - val_loss: 0.0225 - val_accuracy: 0.9907\n",
      "Epoch 64/100\n",
      "1250/1250 [==============================] - 67s 54ms/step - loss: 0.0339 - accuracy: 0.9852 - val_loss: 0.0199 - val_accuracy: 0.9921\n",
      "Epoch 65/100\n",
      "1250/1250 [==============================] - 67s 54ms/step - loss: 0.0325 - accuracy: 0.9857 - val_loss: 0.0193 - val_accuracy: 0.9931\n",
      "Epoch 66/100\n",
      "1250/1250 [==============================] - 67s 54ms/step - loss: 0.0308 - accuracy: 0.9866 - val_loss: 0.0182 - val_accuracy: 0.9928\n",
      "Epoch 67/100\n",
      "1250/1250 [==============================] - 67s 54ms/step - loss: 0.0294 - accuracy: 0.9872 - val_loss: 0.0183 - val_accuracy: 0.9927\n",
      "Epoch 68/100\n",
      "1250/1250 [==============================] - 67s 54ms/step - loss: 0.0285 - accuracy: 0.9877 - val_loss: 0.0179 - val_accuracy: 0.9924\n",
      "Epoch 69/100\n",
      "1250/1250 [==============================] - 67s 54ms/step - loss: 0.0266 - accuracy: 0.9884 - val_loss: 0.0154 - val_accuracy: 0.9942\n",
      "Epoch 70/100\n",
      "1250/1250 [==============================] - 67s 54ms/step - loss: 0.0252 - accuracy: 0.9890 - val_loss: 0.0145 - val_accuracy: 0.9948\n",
      "Epoch 71/100\n",
      "1250/1250 [==============================] - 67s 53ms/step - loss: 0.0246 - accuracy: 0.9894 - val_loss: 0.0133 - val_accuracy: 0.9952\n",
      "Epoch 72/100\n",
      "1250/1250 [==============================] - 67s 53ms/step - loss: 0.0237 - accuracy: 0.9898 - val_loss: 0.0140 - val_accuracy: 0.9950\n",
      "Epoch 73/100\n",
      "1250/1250 [==============================] - 67s 53ms/step - loss: 0.0222 - accuracy: 0.9903 - val_loss: 0.0127 - val_accuracy: 0.9950\n",
      "Epoch 74/100\n",
      "1250/1250 [==============================] - 67s 53ms/step - loss: 0.0212 - accuracy: 0.9909 - val_loss: 0.0109 - val_accuracy: 0.9961\n",
      "Epoch 75/100\n",
      "1250/1250 [==============================] - 67s 53ms/step - loss: 0.0204 - accuracy: 0.9915 - val_loss: 0.0107 - val_accuracy: 0.9961\n",
      "Epoch 76/100\n",
      "1250/1250 [==============================] - 67s 53ms/step - loss: 0.0194 - accuracy: 0.9919 - val_loss: 0.0098 - val_accuracy: 0.9964\n",
      "Epoch 77/100\n",
      "1250/1250 [==============================] - 67s 54ms/step - loss: 0.0183 - accuracy: 0.9925 - val_loss: 0.0095 - val_accuracy: 0.9965\n",
      "Epoch 78/100\n",
      "1250/1250 [==============================] - 67s 54ms/step - loss: 0.0174 - accuracy: 0.9929 - val_loss: 0.0092 - val_accuracy: 0.9967\n",
      "Epoch 79/100\n",
      "1250/1250 [==============================] - 67s 54ms/step - loss: 0.0165 - accuracy: 0.9933 - val_loss: 0.0081 - val_accuracy: 0.9972\n",
      "Epoch 80/100\n",
      "1250/1250 [==============================] - 67s 54ms/step - loss: 0.0159 - accuracy: 0.9935 - val_loss: 0.0081 - val_accuracy: 0.9973\n",
      "Epoch 81/100\n",
      "1250/1250 [==============================] - 67s 53ms/step - loss: 0.0147 - accuracy: 0.9941 - val_loss: 0.0080 - val_accuracy: 0.9968\n",
      "Epoch 82/100\n",
      "1250/1250 [==============================] - 67s 54ms/step - loss: 0.0140 - accuracy: 0.9942 - val_loss: 0.0073 - val_accuracy: 0.9971\n",
      "Epoch 83/100\n",
      "1250/1250 [==============================] - 67s 53ms/step - loss: 0.0133 - accuracy: 0.9947 - val_loss: 0.0070 - val_accuracy: 0.9975\n",
      "Epoch 84/100\n",
      "1250/1250 [==============================] - 67s 53ms/step - loss: 0.0132 - accuracy: 0.9948 - val_loss: 0.0060 - val_accuracy: 0.9978\n",
      "Epoch 85/100\n",
      "1250/1250 [==============================] - 67s 53ms/step - loss: 0.0120 - accuracy: 0.9954 - val_loss: 0.0058 - val_accuracy: 0.9979\n",
      "Epoch 86/100\n",
      "1250/1250 [==============================] - 67s 53ms/step - loss: 0.0113 - accuracy: 0.9956 - val_loss: 0.0059 - val_accuracy: 0.9979\n",
      "Epoch 87/100\n",
      "1250/1250 [==============================] - 67s 54ms/step - loss: 0.0109 - accuracy: 0.9958 - val_loss: 0.0047 - val_accuracy: 0.9984\n",
      "Epoch 88/100\n",
      "1250/1250 [==============================] - 67s 54ms/step - loss: 0.0103 - accuracy: 0.9961 - val_loss: 0.0048 - val_accuracy: 0.9983\n",
      "Epoch 89/100\n",
      "1250/1250 [==============================] - 67s 54ms/step - loss: 0.0098 - accuracy: 0.9965 - val_loss: 0.0045 - val_accuracy: 0.9984\n",
      "Epoch 90/100\n",
      "1250/1250 [==============================] - 67s 54ms/step - loss: 0.0091 - accuracy: 0.9966 - val_loss: 0.0042 - val_accuracy: 0.9985\n",
      "Epoch 91/100\n",
      "1250/1250 [==============================] - 67s 54ms/step - loss: 0.0086 - accuracy: 0.9969 - val_loss: 0.0039 - val_accuracy: 0.9986\n",
      "Epoch 92/100\n",
      "1250/1250 [==============================] - 67s 53ms/step - loss: 0.0081 - accuracy: 0.9972 - val_loss: 0.0035 - val_accuracy: 0.9988\n",
      "Epoch 93/100\n",
      "1250/1250 [==============================] - 67s 53ms/step - loss: 0.0072 - accuracy: 0.9974 - val_loss: 0.0035 - val_accuracy: 0.9988\n",
      "Epoch 94/100\n",
      "1250/1250 [==============================] - 67s 53ms/step - loss: 0.0070 - accuracy: 0.9976 - val_loss: 0.0028 - val_accuracy: 0.9992\n",
      "Epoch 95/100\n",
      "1250/1250 [==============================] - 67s 54ms/step - loss: 0.0067 - accuracy: 0.9975 - val_loss: 0.0027 - val_accuracy: 0.9994\n",
      "Epoch 96/100\n",
      "1250/1250 [==============================] - 67s 54ms/step - loss: 0.0065 - accuracy: 0.9977 - val_loss: 0.0023 - val_accuracy: 0.9994\n",
      "Epoch 97/100\n",
      "1250/1250 [==============================] - 67s 53ms/step - loss: 0.0057 - accuracy: 0.9981 - val_loss: 0.0018 - val_accuracy: 0.9996\n",
      "Epoch 98/100\n",
      "1250/1250 [==============================] - 67s 54ms/step - loss: 0.0056 - accuracy: 0.9981 - val_loss: 0.0017 - val_accuracy: 0.9996\n",
      "Epoch 99/100\n",
      "1250/1250 [==============================] - 67s 53ms/step - loss: 0.0056 - accuracy: 0.9981 - val_loss: 0.0015 - val_accuracy: 0.9997\n",
      "Epoch 100/100\n",
      "1250/1250 [==============================] - 67s 54ms/step - loss: 0.0047 - accuracy: 0.9984 - val_loss: 0.0017 - val_accuracy: 0.9996\n"
     ]
    }
   ],
   "source": [
    "history = model.fit(x_train, y_train, epochs=epochs, batch_size=batch_szie,verbose=True, validation_data=(x_val, y_val))"
   ]
  },
  {
   "cell_type": "code",
   "execution_count": 17,
   "metadata": {},
   "outputs": [
    {
     "name": "stdout",
     "output_type": "stream",
     "text": [
      "2143/2143 [==============================] - 11s 5ms/step - loss: 0.0013 - accuracy: 0.9997\n",
      "Accuracy: 99.97\n"
     ]
    }
   ],
   "source": [
    "loss, accuracy = model.evaluate(x_test, y_test)\n",
    "print('Accuracy: %.2f' % (accuracy*100))"
   ]
  },
  {
   "cell_type": "code",
   "execution_count": 18,
   "metadata": {},
   "outputs": [
    {
     "data": {
      "image/png": "[encoded data removed]",
      "text/plain": [
       "<Figure size 640x480 with 1 Axes>"
      ]
     },
     "metadata": {},
     "output_type": "display_data"
    },
    {
     "data": {
      "image/png": "[encoded data removed]",
      "text/plain": [
       "<Figure size 640x480 with 1 Axes>"
      ]
     },
     "metadata": {},
     "output_type": "display_data"
    }
   ],
   "source": [
    "plt.plot(history.history['accuracy'])\n",
    "plt.plot(history.history['val_accuracy'])\n",
    "plt.title('model accuracy')\n",
    "plt.ylabel('accuracy')\n",
    "plt.xlabel('epoch')\n",
    "plt.legend(['train', 'test'], loc='upper left')\n",
    "plt.show()\n",
    "# summarize history for loss\n",
    "plt.plot(history.history['loss'])\n",
    "plt.plot(history.history['val_loss'])\n",
    "plt.title('model loss')\n",
    "plt.ylabel('loss')\n",
    "plt.xlabel('epoch')\n",
    "plt.legend(['train', 'test'], loc='upper left')\n",
    "plt.show()"
   ]
  },
  {
   "cell_type": "code",
   "execution_count": 19,
   "metadata": {},
   "outputs": [],
   "source": [
    "test_data = pd.read_csv('../../data/feature_sets/only_in_game_data_v1.csv')\n"
   ]
  },
  {
   "cell_type": "code",
   "execution_count": 20,
   "metadata": {},
   "outputs": [],
   "source": [
    "test_pred = test_data.pop('red_team_outcome')\n"
   ]
  },
  {
   "cell_type": "code",
   "execution_count": 21,
   "metadata": {},
   "outputs": [],
   "source": [
    "test_extra_info = test_data[columns_to_drop]\n",
    "test_data.drop(columns=columns_to_drop,inplace=True)\n"
   ]
  },
  {
   "cell_type": "code",
   "execution_count": 22,
   "metadata": {},
   "outputs": [],
   "source": [
    "random_rows = test_data.sample(n=5)"
   ]
  },
  {
   "cell_type": "code",
   "execution_count": 23,
   "metadata": {},
   "outputs": [
    {
     "data": {
      "text/html": [
       "<div>\n",
       "<style scoped>\n",
       "    .dataframe tbody tr th:only-of-type {\n",
       "        vertical-align: middle;\n",
       "    }\n",
       "\n",
       "    .dataframe tbody tr th {\n",
       "        vertical-align: top;\n",
       "    }\n",
       "\n",
       "    .dataframe thead th {\n",
       "        text-align: right;\n",
       "    }\n",
       "</style>\n",
       "<table border=\"1\" class=\"dataframe\">\n",
       "  <thead>\n",
       "    <tr style=\"text-align: right;\">\n",
       "      <th></th>\n",
       "      <th>blue_team_total_gold</th>\n",
       "      <th>blue_team_inhibitors</th>\n",
       "      <th>blue_team_towers</th>\n",
       "      <th>blue_team_barons</th>\n",
       "      <th>blue_team_total_kills</th>\n",
       "      <th>blue_team_ocean_drakes</th>\n",
       "      <th>blue_team_cloud_drakes</th>\n",
       "      <th>blue_team_mountain_drakes</th>\n",
       "      <th>blue_team_chemtech_drakes</th>\n",
       "      <th>blue_team_infernal_drakes</th>\n",
       "      <th>...</th>\n",
       "      <th>blue_jungle_champ</th>\n",
       "      <th>blue_mid_champ</th>\n",
       "      <th>blue_bot_champ</th>\n",
       "      <th>blue_supp_champ</th>\n",
       "      <th>red_top_champ</th>\n",
       "      <th>red_jungle_champ</th>\n",
       "      <th>red_mid_champ</th>\n",
       "      <th>red_bot_champ</th>\n",
       "      <th>red_supp_champ</th>\n",
       "      <th>time_in_game</th>\n",
       "    </tr>\n",
       "  </thead>\n",
       "  <tbody>\n",
       "    <tr>\n",
       "      <th>273472</th>\n",
       "      <td>15863</td>\n",
       "      <td>0</td>\n",
       "      <td>0</td>\n",
       "      <td>0</td>\n",
       "      <td>0</td>\n",
       "      <td>0</td>\n",
       "      <td>0</td>\n",
       "      <td>0</td>\n",
       "      <td>0</td>\n",
       "      <td>0</td>\n",
       "      <td>...</td>\n",
       "      <td>146</td>\n",
       "      <td>45</td>\n",
       "      <td>122</td>\n",
       "      <td>139</td>\n",
       "      <td>70</td>\n",
       "      <td>74</td>\n",
       "      <td>140</td>\n",
       "      <td>132</td>\n",
       "      <td>95</td>\n",
       "      <td>604.0</td>\n",
       "    </tr>\n",
       "    <tr>\n",
       "      <th>456772</th>\n",
       "      <td>47907</td>\n",
       "      <td>0</td>\n",
       "      <td>4</td>\n",
       "      <td>0</td>\n",
       "      <td>8</td>\n",
       "      <td>0</td>\n",
       "      <td>0</td>\n",
       "      <td>0</td>\n",
       "      <td>0</td>\n",
       "      <td>0</td>\n",
       "      <td>...</td>\n",
       "      <td>112</td>\n",
       "      <td>140</td>\n",
       "      <td>132</td>\n",
       "      <td>17</td>\n",
       "      <td>89</td>\n",
       "      <td>121</td>\n",
       "      <td>58</td>\n",
       "      <td>153</td>\n",
       "      <td>95</td>\n",
       "      <td>1680.0</td>\n",
       "    </tr>\n",
       "    <tr>\n",
       "      <th>424911</th>\n",
       "      <td>16091</td>\n",
       "      <td>0</td>\n",
       "      <td>0</td>\n",
       "      <td>0</td>\n",
       "      <td>3</td>\n",
       "      <td>0</td>\n",
       "      <td>0</td>\n",
       "      <td>0</td>\n",
       "      <td>0</td>\n",
       "      <td>0</td>\n",
       "      <td>...</td>\n",
       "      <td>83</td>\n",
       "      <td>23</td>\n",
       "      <td>153</td>\n",
       "      <td>112</td>\n",
       "      <td>105</td>\n",
       "      <td>158</td>\n",
       "      <td>58</td>\n",
       "      <td>174</td>\n",
       "      <td>4</td>\n",
       "      <td>599.0</td>\n",
       "    </tr>\n",
       "    <tr>\n",
       "      <th>84674</th>\n",
       "      <td>24496</td>\n",
       "      <td>0</td>\n",
       "      <td>0</td>\n",
       "      <td>0</td>\n",
       "      <td>1</td>\n",
       "      <td>0</td>\n",
       "      <td>0</td>\n",
       "      <td>1</td>\n",
       "      <td>1</td>\n",
       "      <td>0</td>\n",
       "      <td>...</td>\n",
       "      <td>83</td>\n",
       "      <td>169</td>\n",
       "      <td>54</td>\n",
       "      <td>109</td>\n",
       "      <td>70</td>\n",
       "      <td>121</td>\n",
       "      <td>140</td>\n",
       "      <td>130</td>\n",
       "      <td>9</td>\n",
       "      <td>900.0</td>\n",
       "    </tr>\n",
       "    <tr>\n",
       "      <th>132675</th>\n",
       "      <td>35478</td>\n",
       "      <td>0</td>\n",
       "      <td>1</td>\n",
       "      <td>0</td>\n",
       "      <td>1</td>\n",
       "      <td>0</td>\n",
       "      <td>0</td>\n",
       "      <td>0</td>\n",
       "      <td>0</td>\n",
       "      <td>1</td>\n",
       "      <td>...</td>\n",
       "      <td>112</td>\n",
       "      <td>23</td>\n",
       "      <td>164</td>\n",
       "      <td>109</td>\n",
       "      <td>0</td>\n",
       "      <td>159</td>\n",
       "      <td>96</td>\n",
       "      <td>122</td>\n",
       "      <td>103</td>\n",
       "      <td>1384.0</td>\n",
       "    </tr>\n",
       "  </tbody>\n",
       "</table>\n",
       "<p>5 rows × 115 columns</p>\n",
       "</div>"
      ],
      "text/plain": [
       "        blue_team_total_gold  blue_team_inhibitors  blue_team_towers  \\\n",
       "273472                 15863                     0                 0   \n",
       "456772                 47907                     0                 4   \n",
       "424911                 16091                     0                 0   \n",
       "84674                  24496                     0                 0   \n",
       "132675                 35478                     0                 1   \n",
       "\n",
       "        blue_team_barons  blue_team_total_kills  blue_team_ocean_drakes  \\\n",
       "273472                 0                      0                       0   \n",
       "456772                 0                      8                       0   \n",
       "424911                 0                      3                       0   \n",
       "84674                  0                      1                       0   \n",
       "132675                 0                      1                       0   \n",
       "\n",
       "        blue_team_cloud_drakes  blue_team_mountain_drakes  \\\n",
       "273472                       0                          0   \n",
       "456772                       0                          0   \n",
       "424911                       0                          0   \n",
       "84674                        0                          1   \n",
       "132675                       0                          0   \n",
       "\n",
       "        blue_team_chemtech_drakes  blue_team_infernal_drakes  ...  \\\n",
       "273472                          0                          0  ...   \n",
       "456772                          0                          0  ...   \n",
       "424911                          0                          0  ...   \n",
       "84674                           1                          0  ...   \n",
       "132675                          0                          1  ...   \n",
       "\n",
       "        blue_jungle_champ  blue_mid_champ  blue_bot_champ  blue_supp_champ  \\\n",
       "273472                146              45             122              139   \n",
       "456772                112             140             132               17   \n",
       "424911                 83              23             153              112   \n",
       "84674                  83             169              54              109   \n",
       "132675                112              23             164              109   \n",
       "\n",
       "        red_top_champ  red_jungle_champ  red_mid_champ  red_bot_champ  \\\n",
       "273472             70                74            140            132   \n",
       "456772             89               121             58            153   \n",
       "424911            105               158             58            174   \n",
       "84674              70               121            140            130   \n",
       "132675              0               159             96            122   \n",
       "\n",
       "        red_supp_champ  time_in_game  \n",
       "273472              95         604.0  \n",
       "456772              95        1680.0  \n",
       "424911               4         599.0  \n",
       "84674                9         900.0  \n",
       "132675             103        1384.0  \n",
       "\n",
       "[5 rows x 115 columns]"
      ]
     },
     "execution_count": 23,
     "metadata": {},
     "output_type": "execute_result"
    }
   ],
   "source": [
    "random_rows"
   ]
  },
  {
   "cell_type": "code",
   "execution_count": 24,
   "metadata": {},
   "outputs": [
    {
     "name": "stderr",
     "output_type": "stream",
     "text": [
      "C:\\Users\\joshu_rdnqgbx\\AppData\\Local\\Temp\\ipykernel_2688\\1653804312.py:1: PerformanceWarning: DataFrame is highly fragmented.  This is usually the result of calling `frame.insert` many times, which has poor performance.  Consider joining all columns at once using pd.concat(axis=1) instead. To get a de-fragmented frame, use `newframe = frame.copy()`\n",
      "  random_rows['index'] = random_rows.index\n"
     ]
    }
   ],
   "source": [
    "random_rows['index'] = random_rows.index"
   ]
  },
  {
   "cell_type": "code",
   "execution_count": 25,
   "metadata": {},
   "outputs": [
    {
     "data": {
      "text/plain": [
       "riot_match_id                111560983140247875\n",
       "min_start_time        2024-01-22 16:00:00+00:00\n",
       "patch_version                               545\n",
       "blue_team_id                               2173\n",
       "blue_top_player              105514974275992586\n",
       "blue_jungle_player           107464179845128878\n",
       "blue_mid_player               98926509846377469\n",
       "blue_bot_player              104737951126648199\n",
       "blue_supp_player             101389760981745081\n",
       "red_team_id                                2349\n",
       "red_top_player               105515229738531937\n",
       "red_jungle_player            105830645287286396\n",
       "red_mid_player               105554437688383476\n",
       "red_bot_player               105501834624360050\n",
       "red_supp_player              102787200059605684\n",
       "league                                        2\n",
       "format                                        0\n",
       "game_in_format                                1\n",
       "season_format                                 1\n",
       "month                                         1\n",
       "day                                          22\n",
       "year                                       2024\n",
       "Name: 354393, dtype: object"
      ]
     },
     "execution_count": 25,
     "metadata": {},
     "output_type": "execute_result"
    }
   ],
   "source": [
    "test_extra_info.iloc[354393]"
   ]
  },
  {
   "cell_type": "code",
   "execution_count": 26,
   "metadata": {},
   "outputs": [
    {
     "data": {
      "text/plain": [
       "1"
      ]
     },
     "execution_count": 26,
     "metadata": {},
     "output_type": "execute_result"
    }
   ],
   "source": [
    "test_pred.iloc[int(354393.0)]"
   ]
  },
  {
   "cell_type": "code",
   "execution_count": 27,
   "metadata": {},
   "outputs": [
    {
     "name": "stdout",
     "output_type": "stream",
     "text": [
      "0\n",
      "0\n",
      "1\n",
      "0\n",
      "1\n"
     ]
    }
   ],
   "source": [
    "random_rows_predictions = []\n",
    "for i in range(len(random_rows)):\n",
    "    print(test_pred.iloc[int(random_rows.iloc[i]['index'])])"
   ]
  },
  {
   "cell_type": "code",
   "execution_count": 28,
   "metadata": {},
   "outputs": [],
   "source": [
    "random_rows.drop(columns = 'index',inplace = True)"
   ]
  },
  {
   "cell_type": "code",
   "execution_count": 29,
   "metadata": {},
   "outputs": [
    {
     "name": "stdout",
     "output_type": "stream",
     "text": [
      "1/1 [==============================] - 0s 100ms/step\n"
     ]
    }
   ],
   "source": [
    "random_rows_results = model.predict(random_rows)"
   ]
  },
  {
   "cell_type": "code",
   "execution_count": 30,
   "metadata": {},
   "outputs": [
    {
     "data": {
      "text/plain": [
       "array([[1.4219816e-10],\n",
       "       [6.2029602e-13],\n",
       "       [1.0000000e+00],\n",
       "       [4.9118215e-10],\n",
       "       [1.0000000e+00]], dtype=float32)"
      ]
     },
     "execution_count": 30,
     "metadata": {},
     "output_type": "execute_result"
    }
   ],
   "source": [
    "random_rows_results"
   ]
  },
  {
   "cell_type": "code",
   "execution_count": 31,
   "metadata": {},
   "outputs": [
    {
     "name": "stdout",
     "output_type": "stream",
     "text": [
      "14283/14283 [==============================] - 48s 3ms/step\n"
     ]
    }
   ],
   "source": [
    "all_results = model.predict(test_data)"
   ]
  },
  {
   "cell_type": "code",
   "execution_count": 32,
   "metadata": {},
   "outputs": [
    {
     "name": "stderr",
     "output_type": "stream",
     "text": [
      "C:\\Users\\joshu_rdnqgbx\\AppData\\Local\\Temp\\ipykernel_2688\\2213938060.py:3: DeprecationWarning: Conversion of an array with ndim > 0 to a scalar is deprecated, and will error in future. Ensure you extract a single element from your array before performing this operation. (Deprecated NumPy 1.25.)\n",
      "  threshold_results.append(int(result))\n"
     ]
    }
   ],
   "source": [
    "threshold_results = []\n",
    "for result in all_results:\n",
    "    threshold_results.append(int(result))"
   ]
  },
  {
   "cell_type": "code",
   "execution_count": 33,
   "metadata": {},
   "outputs": [
    {
     "data": {
      "image/png": "[encoded data removed]",
      "text/plain": [
       "<Figure size 640x480 with 2 Axes>"
      ]
     },
     "metadata": {},
     "output_type": "display_data"
    }
   ],
   "source": [
    "confusion_matrix = metrics.confusion_matrix(test_pred, threshold_results)\n",
    "\n",
    "cm_display = metrics.ConfusionMatrixDisplay(confusion_matrix = confusion_matrix, display_labels = [0, 1])\n",
    "\n",
    "cm_display.plot()\n",
    "plt.show()"
   ]
  },
  {
   "cell_type": "code",
   "execution_count": 34,
   "metadata": {},
   "outputs": [
    {
     "data": {
      "image/png": "[encoded data removed]",
      "text/plain": [
       "<Figure size 640x480 with 1 Axes>"
      ]
     },
     "metadata": {},
     "output_type": "display_data"
    }
   ],
   "source": [
    "plt.hist(all_results)\n",
    "plt.show() "
   ]
  },
  {
   "cell_type": "code",
   "execution_count": 35,
   "metadata": {},
   "outputs": [
    {
     "data": {
      "text/plain": [
       "1.0"
      ]
     },
     "execution_count": 35,
     "metadata": {},
     "output_type": "execute_result"
    }
   ],
   "source": [
    "metrics.precision_score(test_pred, threshold_results)\n"
   ]
  },
  {
   "cell_type": "code",
   "execution_count": 36,
   "metadata": {},
   "outputs": [
    {
     "data": {
      "text/plain": [
       "0.8215808539139294"
      ]
     },
     "execution_count": 36,
     "metadata": {},
     "output_type": "execute_result"
    }
   ],
   "source": [
    "metrics.recall_score(test_pred, threshold_results)\n"
   ]
  },
  {
   "cell_type": "code",
   "execution_count": 37,
   "metadata": {},
   "outputs": [],
   "source": [
    "model.save_weights('../saved_models/only_in_game_data_v1.keras')"
   ]
  }
 ],
 "metadata": {
  "kernelspec": {
   "display_name": "predictorEnv",
   "language": "python",
   "name": "python3"
  },
  "language_info": {
   "codemirror_mode": {
    "name": "ipython",
    "version": 3
   },
   "file_extension": ".py",
   "mimetype": "text/x-python",
   "name": "python",
   "nbconvert_exporter": "python",
   "pygments_lexer": "ipython3",
   "version": "3.10.13"
  }
 },
 "nbformat": 4,
 "nbformat_minor": 2
}
