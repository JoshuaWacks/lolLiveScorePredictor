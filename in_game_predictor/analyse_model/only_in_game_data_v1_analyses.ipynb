{
 "cells": [
  {
   "cell_type": "code",
   "execution_count": 1,
   "metadata": {},
   "outputs": [],
   "source": [
    "import pandas as pd\n",
    "import keras\n",
    "import matplotlib.pyplot as plt\n",
    "from sklearn import metrics\n",
    "from sklearn.metrics import precision_recall_fscore_support\n",
    "from tensorflow.keras.models import Sequential\n",
    "from tensorflow.keras.layers import Dense,Dropout"
   ]
  },
  {
   "cell_type": "code",
   "execution_count": 2,
   "metadata": {},
   "outputs": [
    {
     "name": "stdout",
     "output_type": "stream",
     "text": [
      "[PhysicalDevice(name='/physical_device:GPU:0', device_type='GPU')]\n"
     ]
    }
   ],
   "source": [
    "import tensorflow as tf\n",
    "print(tf.config.list_physical_devices('GPU'))"
   ]
  },
  {
   "cell_type": "code",
   "execution_count": 3,
   "metadata": {},
   "outputs": [
    {
     "data": {
      "text/html": [
       "<div>\n",
       "<style scoped>\n",
       "    .dataframe tbody tr th:only-of-type {\n",
       "        vertical-align: middle;\n",
       "    }\n",
       "\n",
       "    .dataframe tbody tr th {\n",
       "        vertical-align: top;\n",
       "    }\n",
       "\n",
       "    .dataframe thead th {\n",
       "        text-align: right;\n",
       "    }\n",
       "</style>\n",
       "<table border=\"1\" class=\"dataframe\">\n",
       "  <thead>\n",
       "    <tr style=\"text-align: right;\">\n",
       "      <th></th>\n",
       "      <th>blue_team_total_gold</th>\n",
       "      <th>blue_team_inhibitors</th>\n",
       "      <th>blue_team_towers</th>\n",
       "      <th>blue_team_barons</th>\n",
       "      <th>blue_team_total_kills</th>\n",
       "      <th>blue_team_ocean_drakes</th>\n",
       "      <th>blue_team_cloud_drakes</th>\n",
       "      <th>blue_team_mountain_drakes</th>\n",
       "      <th>blue_team_chemtech_drakes</th>\n",
       "      <th>blue_team_infernal_drakes</th>\n",
       "      <th>...</th>\n",
       "      <th>format</th>\n",
       "      <th>game_in_format</th>\n",
       "      <th>red_team_outcome</th>\n",
       "      <th>season_format</th>\n",
       "      <th>riot_match_id</th>\n",
       "      <th>min_start_time</th>\n",
       "      <th>month</th>\n",
       "      <th>day</th>\n",
       "      <th>year</th>\n",
       "      <th>time_in_game</th>\n",
       "    </tr>\n",
       "  </thead>\n",
       "  <tbody>\n",
       "    <tr>\n",
       "      <th>0</th>\n",
       "      <td>0</td>\n",
       "      <td>0</td>\n",
       "      <td>0</td>\n",
       "      <td>0</td>\n",
       "      <td>0</td>\n",
       "      <td>0</td>\n",
       "      <td>0</td>\n",
       "      <td>0</td>\n",
       "      <td>0</td>\n",
       "      <td>0</td>\n",
       "      <td>...</td>\n",
       "      <td>2</td>\n",
       "      <td>1</td>\n",
       "      <td>0</td>\n",
       "      <td>0</td>\n",
       "      <td>111561337007371296</td>\n",
       "      <td>2024-04-14 06:00:00+00:00</td>\n",
       "      <td>4</td>\n",
       "      <td>14</td>\n",
       "      <td>2024</td>\n",
       "      <td>0.0</td>\n",
       "    </tr>\n",
       "    <tr>\n",
       "      <th>1</th>\n",
       "      <td>2500</td>\n",
       "      <td>0</td>\n",
       "      <td>0</td>\n",
       "      <td>0</td>\n",
       "      <td>0</td>\n",
       "      <td>0</td>\n",
       "      <td>0</td>\n",
       "      <td>0</td>\n",
       "      <td>0</td>\n",
       "      <td>0</td>\n",
       "      <td>...</td>\n",
       "      <td>2</td>\n",
       "      <td>1</td>\n",
       "      <td>0</td>\n",
       "      <td>0</td>\n",
       "      <td>111561337007371296</td>\n",
       "      <td>2024-04-14 06:00:00+00:00</td>\n",
       "      <td>4</td>\n",
       "      <td>14</td>\n",
       "      <td>2024</td>\n",
       "      <td>0.0</td>\n",
       "    </tr>\n",
       "    <tr>\n",
       "      <th>2</th>\n",
       "      <td>2500</td>\n",
       "      <td>0</td>\n",
       "      <td>0</td>\n",
       "      <td>0</td>\n",
       "      <td>0</td>\n",
       "      <td>0</td>\n",
       "      <td>0</td>\n",
       "      <td>0</td>\n",
       "      <td>0</td>\n",
       "      <td>0</td>\n",
       "      <td>...</td>\n",
       "      <td>2</td>\n",
       "      <td>1</td>\n",
       "      <td>0</td>\n",
       "      <td>0</td>\n",
       "      <td>111561337007371296</td>\n",
       "      <td>2024-04-14 06:00:00+00:00</td>\n",
       "      <td>4</td>\n",
       "      <td>14</td>\n",
       "      <td>2024</td>\n",
       "      <td>1.0</td>\n",
       "    </tr>\n",
       "    <tr>\n",
       "      <th>3</th>\n",
       "      <td>2500</td>\n",
       "      <td>0</td>\n",
       "      <td>0</td>\n",
       "      <td>0</td>\n",
       "      <td>0</td>\n",
       "      <td>0</td>\n",
       "      <td>0</td>\n",
       "      <td>0</td>\n",
       "      <td>0</td>\n",
       "      <td>0</td>\n",
       "      <td>...</td>\n",
       "      <td>2</td>\n",
       "      <td>1</td>\n",
       "      <td>0</td>\n",
       "      <td>0</td>\n",
       "      <td>111561337007371296</td>\n",
       "      <td>2024-04-14 06:00:00+00:00</td>\n",
       "      <td>4</td>\n",
       "      <td>14</td>\n",
       "      <td>2024</td>\n",
       "      <td>1.0</td>\n",
       "    </tr>\n",
       "    <tr>\n",
       "      <th>4</th>\n",
       "      <td>2500</td>\n",
       "      <td>0</td>\n",
       "      <td>0</td>\n",
       "      <td>0</td>\n",
       "      <td>0</td>\n",
       "      <td>0</td>\n",
       "      <td>0</td>\n",
       "      <td>0</td>\n",
       "      <td>0</td>\n",
       "      <td>0</td>\n",
       "      <td>...</td>\n",
       "      <td>2</td>\n",
       "      <td>1</td>\n",
       "      <td>0</td>\n",
       "      <td>0</td>\n",
       "      <td>111561337007371296</td>\n",
       "      <td>2024-04-14 06:00:00+00:00</td>\n",
       "      <td>4</td>\n",
       "      <td>14</td>\n",
       "      <td>2024</td>\n",
       "      <td>1.0</td>\n",
       "    </tr>\n",
       "  </tbody>\n",
       "</table>\n",
       "<p>5 rows × 138 columns</p>\n",
       "</div>"
      ],
      "text/plain": [
       "   blue_team_total_gold  blue_team_inhibitors  blue_team_towers  \\\n",
       "0                     0                     0                 0   \n",
       "1                  2500                     0                 0   \n",
       "2                  2500                     0                 0   \n",
       "3                  2500                     0                 0   \n",
       "4                  2500                     0                 0   \n",
       "\n",
       "   blue_team_barons  blue_team_total_kills  blue_team_ocean_drakes  \\\n",
       "0                 0                      0                       0   \n",
       "1                 0                      0                       0   \n",
       "2                 0                      0                       0   \n",
       "3                 0                      0                       0   \n",
       "4                 0                      0                       0   \n",
       "\n",
       "   blue_team_cloud_drakes  blue_team_mountain_drakes  \\\n",
       "0                       0                          0   \n",
       "1                       0                          0   \n",
       "2                       0                          0   \n",
       "3                       0                          0   \n",
       "4                       0                          0   \n",
       "\n",
       "   blue_team_chemtech_drakes  blue_team_infernal_drakes  ...  format  \\\n",
       "0                          0                          0  ...       2   \n",
       "1                          0                          0  ...       2   \n",
       "2                          0                          0  ...       2   \n",
       "3                          0                          0  ...       2   \n",
       "4                          0                          0  ...       2   \n",
       "\n",
       "   game_in_format  red_team_outcome  season_format       riot_match_id  \\\n",
       "0               1                 0              0  111561337007371296   \n",
       "1               1                 0              0  111561337007371296   \n",
       "2               1                 0              0  111561337007371296   \n",
       "3               1                 0              0  111561337007371296   \n",
       "4               1                 0              0  111561337007371296   \n",
       "\n",
       "              min_start_time  month  day  year  time_in_game  \n",
       "0  2024-04-14 06:00:00+00:00      4   14  2024           0.0  \n",
       "1  2024-04-14 06:00:00+00:00      4   14  2024           0.0  \n",
       "2  2024-04-14 06:00:00+00:00      4   14  2024           1.0  \n",
       "3  2024-04-14 06:00:00+00:00      4   14  2024           1.0  \n",
       "4  2024-04-14 06:00:00+00:00      4   14  2024           1.0  \n",
       "\n",
       "[5 rows x 138 columns]"
      ]
     },
     "execution_count": 3,
     "metadata": {},
     "output_type": "execute_result"
    }
   ],
   "source": [
    "data = pd.read_csv('../data/feature_sets/only_in_game_data_v1.csv')\n",
    "data.head()"
   ]
  },
  {
   "cell_type": "code",
   "execution_count": 4,
   "metadata": {},
   "outputs": [],
   "source": [
    "columns_to_drop = [\n",
    "'riot_match_id',\n",
    "'min_start_time',\n",
    "\n",
    "'patch_version',\n",
    " 'blue_team_id',\n",
    " 'blue_top_player',\n",
    " 'blue_jungle_player',\n",
    " 'blue_mid_player',\n",
    " 'blue_bot_player',\n",
    " 'blue_supp_player',\n",
    " 'red_team_id',\n",
    " 'red_top_player',\n",
    " 'red_jungle_player',\n",
    " 'red_mid_player',\n",
    " 'red_bot_player',\n",
    " 'red_supp_player',\n",
    " 'league',\n",
    " 'format',\n",
    " 'game_in_format',\n",
    " 'season_format',\n",
    " 'month',\n",
    " 'day',\n",
    " 'year'\n",
    " ]"
   ]
  },
  {
   "cell_type": "code",
   "execution_count": 5,
   "metadata": {},
   "outputs": [],
   "source": [
    "extar_info = data[columns_to_drop]\n",
    "data.drop(columns=columns_to_drop,inplace=True)\n"
   ]
  },
  {
   "cell_type": "code",
   "execution_count": 6,
   "metadata": {},
   "outputs": [],
   "source": [
    "true_labels = data.pop('red_team_outcome')\n"
   ]
  },
  {
   "cell_type": "code",
   "execution_count": 7,
   "metadata": {},
   "outputs": [
    {
     "data": {
      "text/plain": [
       "115"
      ]
     },
     "execution_count": 7,
     "metadata": {},
     "output_type": "execute_result"
    }
   ],
   "source": [
    "num_input = len(data.columns)\n",
    "num_input"
   ]
  },
  {
   "cell_type": "code",
   "execution_count": 8,
   "metadata": {},
   "outputs": [],
   "source": [
    "model = Sequential()\n",
    "model.add(Dense(1024, input_shape=(num_input,), activation='relu'))\n",
    "model.add(Dense(2048, activation='relu'))\n",
    "model.add(Dropout(0.1))\n",
    "model.add(Dense(4096, activation='relu'))\n",
    "model.add(Dropout(0.1))\n",
    "model.add(Dense(8192, activation='relu'))\n",
    "model.add(Dense(8192, activation='relu'))\n",
    "model.add(Dropout(0.1))\n",
    "model.add(Dense(4096, activation='leaky_relu'))\n",
    "model.add(Dropout(0.1))\n",
    "model.add(Dense(2048, activation='relu'))\n",
    "model.add(Dropout(0.1))\n",
    "model.add(Dense(512, activation='relu'))\n",
    "model.add(Dense(256, activation='relu'))\n",
    "\n",
    "model.add(Dense(1, activation='sigmoid'))"
   ]
  },
  {
   "cell_type": "code",
   "execution_count": 9,
   "metadata": {},
   "outputs": [],
   "source": [
    "model.load_weights('../predictor/saved_models/only_in_game_data_v1.keras')"
   ]
  },
  {
   "cell_type": "code",
   "execution_count": 10,
   "metadata": {},
   "outputs": [
    {
     "name": "stdout",
     "output_type": "stream",
     "text": [
      "14283/14283 [==============================] - 41s 3ms/step\n"
     ]
    }
   ],
   "source": [
    "all_results = model.predict(data)"
   ]
  },
  {
   "cell_type": "code",
   "execution_count": 11,
   "metadata": {},
   "outputs": [],
   "source": [
    "fpr, tpr, threshold = metrics.roc_curve(true_labels, all_results)\n",
    "roc_auc = metrics.auc(fpr, tpr)"
   ]
  },
  {
   "cell_type": "code",
   "execution_count": 12,
   "metadata": {},
   "outputs": [
    {
     "data": {
      "image/png": "[encoded data removed]",
      "text/plain": [
       "<Figure size 640x480 with 1 Axes>"
      ]
     },
     "metadata": {},
     "output_type": "display_data"
    }
   ],
   "source": [
    "plt.title('Receiver Operating Characteristic')\n",
    "plt.plot(fpr, tpr, 'b', label = 'AUC = %0.2f' % roc_auc)\n",
    "plt.legend(loc = 'lower right')\n",
    "plt.plot([0, 1], [0, 1],'r--')\n",
    "plt.xlim([0, 1])\n",
    "plt.ylim([0, 1])\n",
    "plt.ylabel('True Positive Rate')\n",
    "plt.xlabel('False Positive Rate')\n",
    "plt.show()"
   ]
  },
  {
   "cell_type": "code",
   "execution_count": 15,
   "metadata": {},
   "outputs": [
    {
     "data": {
      "image/png": "[encoded data removed]",
      "text/plain": [
       "<Figure size 640x480 with 1 Axes>"
      ]
     },
     "metadata": {},
     "output_type": "display_data"
    }
   ],
   "source": [
    "auc = metrics.roc_auc_score(true_labels, all_results)\n",
    "plt.plot(fpr,tpr,label=\"data 1, auc=\"+str(auc))\n",
    "plt.legend(loc=4)\n",
    "plt.show()"
   ]
  },
  {
   "cell_type": "code",
   "execution_count": 17,
   "metadata": {},
   "outputs": [],
   "source": [
    "threshold_results = []\n",
    "for result in all_results:\n",
    "    if result > 0.5:\n",
    "        threshold_results.append(1)\n",
    "    else:\n",
    "        threshold_results.append(0)\n"
   ]
  },
  {
   "cell_type": "markdown",
   "metadata": {},
   "source": [
    "Good balance of classes"
   ]
  },
  {
   "cell_type": "code",
   "execution_count": 18,
   "metadata": {},
   "outputs": [
    {
     "data": {
      "image/png": "[encoded data removed]",
      "text/plain": [
       "<Figure size 640x480 with 1 Axes>"
      ]
     },
     "metadata": {},
     "output_type": "display_data"
    }
   ],
   "source": [
    "plt.hist(true_labels)\n",
    "plt.show() "
   ]
  },
  {
   "cell_type": "code",
   "execution_count": 19,
   "metadata": {},
   "outputs": [
    {
     "data": {
      "image/png": "[encoded data removed]",
      "text/plain": [
       "<Figure size 640x480 with 2 Axes>"
      ]
     },
     "metadata": {},
     "output_type": "display_data"
    }
   ],
   "source": [
    "confusion_matrix = metrics.confusion_matrix(true_labels, threshold_results)\n",
    "\n",
    "cm_display = metrics.ConfusionMatrixDisplay(confusion_matrix = confusion_matrix, display_labels = [0, 1])\n",
    "\n",
    "cm_display.plot()\n",
    "plt.show()"
   ]
  },
  {
   "cell_type": "code",
   "execution_count": 21,
   "metadata": {},
   "outputs": [
    {
     "data": {
      "text/plain": [
       "['blue_team_total_gold',\n",
       " 'blue_team_inhibitors',\n",
       " 'blue_team_towers',\n",
       " 'blue_team_barons',\n",
       " 'blue_team_total_kills',\n",
       " 'blue_team_ocean_drakes',\n",
       " 'blue_team_cloud_drakes',\n",
       " 'blue_team_mountain_drakes',\n",
       " 'blue_team_chemtech_drakes',\n",
       " 'blue_team_infernal_drakes',\n",
       " 'blue_team_hextech_drakes',\n",
       " 'blue_team_elder_drakes',\n",
       " 'blue_top_total_gold',\n",
       " 'blue_top_level',\n",
       " 'blue_top_kills',\n",
       " 'blue_top_deaths',\n",
       " 'blue_top_assists',\n",
       " 'blue_top_creep_score',\n",
       " 'blue_top_current_health',\n",
       " 'blue_top_max_health',\n",
       " 'blue_jungle_total_gold',\n",
       " 'blue_jungle_level',\n",
       " 'blue_jungle_kills',\n",
       " 'blue_jungle_deaths',\n",
       " 'blue_jungle_assists',\n",
       " 'blue_jungle_creep_score',\n",
       " 'blue_jungle_current_health',\n",
       " 'blue_jungle_max_health',\n",
       " 'blue_mid_total_gold',\n",
       " 'blue_mid_level',\n",
       " 'blue_mid_kills',\n",
       " 'blue_mid_deaths',\n",
       " 'blue_mid_assists',\n",
       " 'blue_mid_creep_score',\n",
       " 'blue_mid_current_health',\n",
       " 'blue_mid_max_health',\n",
       " 'blue_bot_total_gold',\n",
       " 'blue_bot_level',\n",
       " 'blue_bot_kills',\n",
       " 'blue_bot_deaths',\n",
       " 'blue_bot_assists',\n",
       " 'blue_bot_creep_score',\n",
       " 'blue_bot_current_health',\n",
       " 'blue_bot_max_health',\n",
       " 'blue_supp_total_gold',\n",
       " 'blue_supp_level',\n",
       " 'blue_supp_kills',\n",
       " 'blue_supp_deaths',\n",
       " 'blue_supp_assists',\n",
       " 'blue_supp_creep_score',\n",
       " 'blue_supp_current_health',\n",
       " 'blue_supp_max_health',\n",
       " 'red_team_total_gold',\n",
       " 'red_team_inhibitors',\n",
       " 'red_team_towers',\n",
       " 'red_team_barons',\n",
       " 'red_team_total_kills',\n",
       " 'red_team_ocean_drakes',\n",
       " 'red_team_cloud_drakes',\n",
       " 'red_team_mountain_drakes',\n",
       " 'red_team_chemtech_drakes',\n",
       " 'red_team_infernal_drakes',\n",
       " 'red_team_hextech_drakes',\n",
       " 'red_team_elder_drakes',\n",
       " 'red_top_total_gold',\n",
       " 'red_top_level',\n",
       " 'red_top_kills',\n",
       " 'red_top_deaths',\n",
       " 'red_top_assists',\n",
       " 'red_top_creep_score',\n",
       " 'red_top_current_health',\n",
       " 'red_top_max_health',\n",
       " 'red_jungle_total_gold',\n",
       " 'red_jungle_level',\n",
       " 'red_jungle_kills',\n",
       " 'red_jungle_deaths',\n",
       " 'red_jungle_assists',\n",
       " 'red_jungle_creep_score',\n",
       " 'red_jungle_current_health',\n",
       " 'red_jungle_max_health',\n",
       " 'red_mid_total_gold',\n",
       " 'red_mid_level',\n",
       " 'red_mid_kills',\n",
       " 'red_mid_deaths',\n",
       " 'red_mid_assists',\n",
       " 'red_mid_creep_score',\n",
       " 'red_mid_current_health',\n",
       " 'red_mid_max_health',\n",
       " 'red_bot_total_gold',\n",
       " 'red_bot_level',\n",
       " 'red_bot_kills',\n",
       " 'red_bot_deaths',\n",
       " 'red_bot_assists',\n",
       " 'red_bot_creep_score',\n",
       " 'red_bot_current_health',\n",
       " 'red_bot_max_health',\n",
       " 'red_supp_total_gold',\n",
       " 'red_supp_level',\n",
       " 'red_supp_kills',\n",
       " 'red_supp_deaths',\n",
       " 'red_supp_assists',\n",
       " 'red_supp_creep_score',\n",
       " 'red_supp_current_health',\n",
       " 'red_supp_max_health',\n",
       " 'blue_top_champ',\n",
       " 'blue_jungle_champ',\n",
       " 'blue_mid_champ',\n",
       " 'blue_bot_champ',\n",
       " 'blue_supp_champ',\n",
       " 'red_top_champ',\n",
       " 'red_jungle_champ',\n",
       " 'red_mid_champ',\n",
       " 'red_bot_champ',\n",
       " 'red_supp_champ',\n",
       " 'time_in_game']"
      ]
     },
     "execution_count": 21,
     "metadata": {},
     "output_type": "execute_result"
    }
   ],
   "source": [
    "list(data.columns)"
   ]
  }
 ],
 "metadata": {
  "kernelspec": {
   "display_name": "predictorEnv",
   "language": "python",
   "name": "python3"
  },
  "language_info": {
   "codemirror_mode": {
    "name": "ipython",
    "version": 3
   },
   "file_extension": ".py",
   "mimetype": "text/x-python",
   "name": "python",
   "nbconvert_exporter": "python",
   "pygments_lexer": "ipython3",
   "version": "3.10.13"
  }
 },
 "nbformat": 4,
 "nbformat_minor": 2
}
