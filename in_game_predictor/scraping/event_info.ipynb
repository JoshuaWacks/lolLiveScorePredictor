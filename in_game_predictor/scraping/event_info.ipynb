{
 "cells": [
  {
   "cell_type": "code",
   "execution_count": 1,
   "metadata": {},
   "outputs": [],
   "source": [
    "import pandas as pd\n",
    "import requests"
   ]
  },
  {
   "cell_type": "code",
   "execution_count": 2,
   "metadata": {},
   "outputs": [],
   "source": [
    "base_event_url = 'https://esports-api.lolesports.com/persisted/gw/getCompletedEvents?hl=en-GB&tournamentId={tournament_id}'\n",
    "auth_token = '0TvQnueqKa5mxJntVWt0w4LpLfEkrV1Ta8rQBb9Z'"
   ]
  },
  {
   "cell_type": "code",
   "execution_count": 3,
   "metadata": {},
   "outputs": [],
   "source": [
    "tournament_df = pd.read_csv('../data/tournament_codes.csv')"
   ]
  },
  {
   "cell_type": "code",
   "execution_count": 4,
   "metadata": {},
   "outputs": [
    {
     "data": {
      "text/html": [
       "<div>\n",
       "<style scoped>\n",
       "    .dataframe tbody tr th:only-of-type {\n",
       "        vertical-align: middle;\n",
       "    }\n",
       "\n",
       "    .dataframe tbody tr th {\n",
       "        vertical-align: top;\n",
       "    }\n",
       "\n",
       "    .dataframe thead th {\n",
       "        text-align: right;\n",
       "    }\n",
       "</style>\n",
       "<table border=\"1\" class=\"dataframe\">\n",
       "  <thead>\n",
       "    <tr style=\"text-align: right;\">\n",
       "      <th></th>\n",
       "      <th>league</th>\n",
       "      <th>id</th>\n",
       "      <th>slug</th>\n",
       "      <th>startDate</th>\n",
       "      <th>endDate</th>\n",
       "      <th>year</th>\n",
       "      <th>season</th>\n",
       "    </tr>\n",
       "  </thead>\n",
       "  <tbody>\n",
       "    <tr>\n",
       "      <th>104</th>\n",
       "      <td>lpl</td>\n",
       "      <td>111561319409710508</td>\n",
       "      <td>lpl_spring_2024</td>\n",
       "      <td>2024-01-21</td>\n",
       "      <td>2024-04-21</td>\n",
       "      <td>2024</td>\n",
       "      <td>spring</td>\n",
       "    </tr>\n",
       "    <tr>\n",
       "      <th>105</th>\n",
       "      <td>lpl</td>\n",
       "      <td>110825936250664572</td>\n",
       "      <td>lpl_regional_finals_2023</td>\n",
       "      <td>2023-08-03</td>\n",
       "      <td>2023-08-10</td>\n",
       "      <td>2023</td>\n",
       "      <td>regional</td>\n",
       "    </tr>\n",
       "    <tr>\n",
       "      <th>106</th>\n",
       "      <td>lpl</td>\n",
       "      <td>110428848766564346</td>\n",
       "      <td>lpl_summer_2023</td>\n",
       "      <td>2023-05-28</td>\n",
       "      <td>2023-08-19</td>\n",
       "      <td>2023</td>\n",
       "      <td>summer</td>\n",
       "    </tr>\n",
       "    <tr>\n",
       "      <th>107</th>\n",
       "      <td>lpl</td>\n",
       "      <td>109669600527985422</td>\n",
       "      <td>lpl_spring_2023</td>\n",
       "      <td>2023-01-12</td>\n",
       "      <td>2023-04-16</td>\n",
       "      <td>2023</td>\n",
       "      <td>spring</td>\n",
       "    </tr>\n",
       "    <tr>\n",
       "      <th>108</th>\n",
       "      <td>lpl</td>\n",
       "      <td>108888310291632913</td>\n",
       "      <td>lpl_regional_finals_2022</td>\n",
       "      <td>2022-09-01</td>\n",
       "      <td>2022-09-05</td>\n",
       "      <td>2022</td>\n",
       "      <td>regional</td>\n",
       "    </tr>\n",
       "    <tr>\n",
       "      <th>109</th>\n",
       "      <td>lpl</td>\n",
       "      <td>108431300950695970</td>\n",
       "      <td>lpl_summer_2022</td>\n",
       "      <td>2022-06-09</td>\n",
       "      <td>2022-09-01</td>\n",
       "      <td>2022</td>\n",
       "      <td>summer</td>\n",
       "    </tr>\n",
       "    <tr>\n",
       "      <th>110</th>\n",
       "      <td>lpl</td>\n",
       "      <td>107417779630700437</td>\n",
       "      <td>lpl_spring_2022</td>\n",
       "      <td>2022-01-10</td>\n",
       "      <td>2022-05-01</td>\n",
       "      <td>2022</td>\n",
       "      <td>spring</td>\n",
       "    </tr>\n",
       "    <tr>\n",
       "      <th>111</th>\n",
       "      <td>lpl</td>\n",
       "      <td>106860829994219982</td>\n",
       "      <td>lpl_regional_finals_2021</td>\n",
       "      <td>2021-08-29</td>\n",
       "      <td>2021-09-06</td>\n",
       "      <td>2021</td>\n",
       "      <td>regional</td>\n",
       "    </tr>\n",
       "    <tr>\n",
       "      <th>112</th>\n",
       "      <td>lpl</td>\n",
       "      <td>106269484328946755</td>\n",
       "      <td>lpl_summer_2021</td>\n",
       "      <td>2021-06-05</td>\n",
       "      <td>2021-09-06</td>\n",
       "      <td>2021</td>\n",
       "      <td>summer</td>\n",
       "    </tr>\n",
       "    <tr>\n",
       "      <th>113</th>\n",
       "      <td>lpl</td>\n",
       "      <td>105516880821527383</td>\n",
       "      <td>lpl_spring_2021</td>\n",
       "      <td>2021-01-09</td>\n",
       "      <td>2021-04-18</td>\n",
       "      <td>2021</td>\n",
       "      <td>spring</td>\n",
       "    </tr>\n",
       "    <tr>\n",
       "      <th>114</th>\n",
       "      <td>lpl</td>\n",
       "      <td>104282610668475466</td>\n",
       "      <td>lpl_summer_2020</td>\n",
       "      <td>2020-06-05</td>\n",
       "      <td>2020-08-10</td>\n",
       "      <td>2020</td>\n",
       "      <td>summer</td>\n",
       "    </tr>\n",
       "    <tr>\n",
       "      <th>115</th>\n",
       "      <td>lpl</td>\n",
       "      <td>103462420723438502</td>\n",
       "      <td>lpl_spring_2020</td>\n",
       "      <td>2020-01-13</td>\n",
       "      <td>2020-04-26</td>\n",
       "      <td>2020</td>\n",
       "      <td>spring</td>\n",
       "    </tr>\n",
       "  </tbody>\n",
       "</table>\n",
       "</div>"
      ],
      "text/plain": [
       "    league                  id                      slug   startDate  \\\n",
       "104    lpl  111561319409710508           lpl_spring_2024  2024-01-21   \n",
       "105    lpl  110825936250664572  lpl_regional_finals_2023  2023-08-03   \n",
       "106    lpl  110428848766564346           lpl_summer_2023  2023-05-28   \n",
       "107    lpl  109669600527985422           lpl_spring_2023  2023-01-12   \n",
       "108    lpl  108888310291632913  lpl_regional_finals_2022  2022-09-01   \n",
       "109    lpl  108431300950695970           lpl_summer_2022  2022-06-09   \n",
       "110    lpl  107417779630700437           lpl_spring_2022  2022-01-10   \n",
       "111    lpl  106860829994219982  lpl_regional_finals_2021  2021-08-29   \n",
       "112    lpl  106269484328946755           lpl_summer_2021  2021-06-05   \n",
       "113    lpl  105516880821527383           lpl_spring_2021  2021-01-09   \n",
       "114    lpl  104282610668475466           lpl_summer_2020  2020-06-05   \n",
       "115    lpl  103462420723438502           lpl_spring_2020  2020-01-13   \n",
       "\n",
       "        endDate  year    season  \n",
       "104  2024-04-21  2024    spring  \n",
       "105  2023-08-10  2023  regional  \n",
       "106  2023-08-19  2023    summer  \n",
       "107  2023-04-16  2023    spring  \n",
       "108  2022-09-05  2022  regional  \n",
       "109  2022-09-01  2022    summer  \n",
       "110  2022-05-01  2022    spring  \n",
       "111  2021-09-06  2021  regional  \n",
       "112  2021-09-06  2021    summer  \n",
       "113  2021-04-18  2021    spring  \n",
       "114  2020-08-10  2020    summer  \n",
       "115  2020-04-26  2020    spring  "
      ]
     },
     "execution_count": 4,
     "metadata": {},
     "output_type": "execute_result"
    }
   ],
   "source": [
    "tournament_df[tournament_df['league'] == 'lpl']"
   ]
  },
  {
   "cell_type": "code",
   "execution_count": null,
   "metadata": {},
   "outputs": [],
   "source": [
    "tournament_df= tournament_df[(tournament_df['league'].isin(['lec','lcs','lpl','lck'])) & (tournament_df['year'] == '2024' ) & (tournament_df['season'] != 'challengers' )]"
   ]
  },
  {
   "cell_type": "code",
   "execution_count": null,
   "metadata": {},
   "outputs": [],
   "source": [
    "tournament_df"
   ]
  },
  {
   "cell_type": "code",
   "execution_count": null,
   "metadata": {},
   "outputs": [],
   "source": [
    "def process_match_data(json_data):\n",
    "    new_record = dict()\n",
    "    new_record['startTime'] = json_data['startTime']\n",
    "    new_record['blockName'] = json_data['blockName']\n",
    "    new_record['league'] = json_data['league']['name']\n",
    "    new_record['match_id'] = json_data['match']['id']\n",
    "    new_record['type'] = json_data['match']['type']\n",
    "    new_record['team_1_name'] = json_data['match']['teams'][0]['name']\n",
    "    new_record['team_1_code'] = json_data['match']['teams'][0]['code']\n",
    "    new_record['team_1_result'] = json_data['match']['teams'][0]['result']['gameWins']\n",
    "    new_record['team_2_name'] = json_data['match']['teams'][1]['name']\n",
    "    new_record['team_2_code'] = json_data['match']['teams'][1]['code']\n",
    "    new_record['team_2_result'] = json_data['match']['teams'][1]['result']['gameWins']\n",
    "\n",
    "    new_record['format'] = json_data['match']['strategy']['type'] +'_'+ str(json_data['match']['strategy']['count'])\n",
    "    games_list = []\n",
    "    for g in json_data['games']:\n",
    "        games_list.append([g['id'],g['vods']])\n",
    "\n",
    "    new_record['games'] = games_list\n",
    "\n",
    "    return new_record"
   ]
  },
  {
   "cell_type": "code",
   "execution_count": null,
   "metadata": {},
   "outputs": [],
   "source": [
    "temp_list = []\n",
    "for league in tournament_df['id']:\n",
    "    url = base_event_url.format(tournament_id = league)\n",
    "    json_data = requests.get(url,headers={'x-api-key': auth_token}).json()\n",
    "    if len(json_data['data']['schedule']['events']) == 0:\n",
    "        continue\n",
    "    \n",
    "    for event in json_data['data']['schedule']['events']:\n",
    "        new_record = process_match_data(event)\n",
    "        temp_list.append(new_record)"
   ]
  },
  {
   "cell_type": "code",
   "execution_count": null,
   "metadata": {},
   "outputs": [],
   "source": [
    "\n",
    "event_df = pd.DataFrame.from_dict(temp_list)"
   ]
  },
  {
   "cell_type": "code",
   "execution_count": null,
   "metadata": {},
   "outputs": [],
   "source": [
    "event_df.to_csv('../data/event.csv',index=False)"
   ]
  },
  {
   "cell_type": "code",
   "execution_count": null,
   "metadata": {},
   "outputs": [],
   "source": [
    "tournament_df.query(\"league == 'lck'\")"
   ]
  },
  {
   "cell_type": "code",
   "execution_count": null,
   "metadata": {},
   "outputs": [],
   "source": [
    "tournament_df.query(\"league == 'lpl'\")"
   ]
  }
 ],
 "metadata": {
  "kernelspec": {
   "display_name": "predictorEnv",
   "language": "python",
   "name": "python3"
  },
  "language_info": {
   "codemirror_mode": {
    "name": "ipython",
    "version": 3
   },
   "file_extension": ".py",
   "mimetype": "text/x-python",
   "name": "python",
   "nbconvert_exporter": "python",
   "pygments_lexer": "ipython3",
   "version": "3.11.9"
  }
 },
 "nbformat": 4,
 "nbformat_minor": 2
}
