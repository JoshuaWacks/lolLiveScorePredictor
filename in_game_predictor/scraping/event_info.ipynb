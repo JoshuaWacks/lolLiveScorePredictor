{
 "cells": [
  {
   "cell_type": "code",
   "execution_count": 1,
   "metadata": {},
   "outputs": [],
   "source": [
    "import pandas as pd\n",
    "import requests"
   ]
  },
  {
   "cell_type": "code",
   "execution_count": 2,
   "metadata": {},
   "outputs": [],
   "source": [
    "base_event_url = 'https://esports-api.lolesports.com/persisted/gw/getCompletedEvents?hl=en-GB&tournamentId={tournament_id}'\n",
    "auth_token = '0TvQnueqKa5mxJntVWt0w4LpLfEkrV1Ta8rQBb9Z'"
   ]
  },
  {
   "cell_type": "code",
   "execution_count": 25,
   "metadata": {},
   "outputs": [],
   "source": [
    "tournament_df = pd.read_csv('../data/tournament_codes.csv')"
   ]
  },
  {
   "cell_type": "code",
   "execution_count": 26,
   "metadata": {},
   "outputs": [],
   "source": [
    "tournament_df= tournament_df[(tournament_df['league'].isin(['lec','lcs','lcl','lck'])) & (tournament_df['year'] == '2024' ) & (tournament_df['season'] != 'challengers' )]"
   ]
  },
  {
   "cell_type": "code",
   "execution_count": 27,
   "metadata": {},
   "outputs": [
    {
     "data": {
      "text/html": [
       "<div>\n",
       "<style scoped>\n",
       "    .dataframe tbody tr th:only-of-type {\n",
       "        vertical-align: middle;\n",
       "    }\n",
       "\n",
       "    .dataframe tbody tr th {\n",
       "        vertical-align: top;\n",
       "    }\n",
       "\n",
       "    .dataframe thead th {\n",
       "        text-align: right;\n",
       "    }\n",
       "</style>\n",
       "<table border=\"1\" class=\"dataframe\">\n",
       "  <thead>\n",
       "    <tr style=\"text-align: right;\">\n",
       "      <th></th>\n",
       "      <th>league</th>\n",
       "      <th>id</th>\n",
       "      <th>slug</th>\n",
       "      <th>startDate</th>\n",
       "      <th>endDate</th>\n",
       "      <th>year</th>\n",
       "      <th>season</th>\n",
       "    </tr>\n",
       "  </thead>\n",
       "  <tbody>\n",
       "    <tr>\n",
       "      <th>0</th>\n",
       "      <td>lec</td>\n",
       "      <td>112352881163915249</td>\n",
       "      <td>lec_summer_2024</td>\n",
       "      <td>2024-06-08</td>\n",
       "      <td>2024-07-28</td>\n",
       "      <td>2024</td>\n",
       "      <td>summer</td>\n",
       "    </tr>\n",
       "    <tr>\n",
       "      <th>1</th>\n",
       "      <td>lec</td>\n",
       "      <td>111997906550466231</td>\n",
       "      <td>lec_spring_2024</td>\n",
       "      <td>2024-03-08</td>\n",
       "      <td>2024-04-15</td>\n",
       "      <td>2024</td>\n",
       "      <td>spring</td>\n",
       "    </tr>\n",
       "    <tr>\n",
       "      <th>2</th>\n",
       "      <td>lec</td>\n",
       "      <td>111560983131400452</td>\n",
       "      <td>lec_winter_2024</td>\n",
       "      <td>2024-01-12</td>\n",
       "      <td>2024-02-19</td>\n",
       "      <td>2024</td>\n",
       "      <td>winter</td>\n",
       "    </tr>\n",
       "    <tr>\n",
       "      <th>27</th>\n",
       "      <td>lcs</td>\n",
       "      <td>111504625283627681</td>\n",
       "      <td>lcs_spring_2024</td>\n",
       "      <td>2024-01-19</td>\n",
       "      <td>2024-04-01</td>\n",
       "      <td>2024</td>\n",
       "      <td>spring</td>\n",
       "    </tr>\n",
       "    <tr>\n",
       "      <th>74</th>\n",
       "      <td>lck</td>\n",
       "      <td>112435564213994193</td>\n",
       "      <td>lck_summer_2024</td>\n",
       "      <td>2024-06-12</td>\n",
       "      <td>2024-09-08</td>\n",
       "      <td>2024</td>\n",
       "      <td>summer</td>\n",
       "    </tr>\n",
       "    <tr>\n",
       "      <th>75</th>\n",
       "      <td>lck</td>\n",
       "      <td>111561337005798024</td>\n",
       "      <td>lck_spring_2024</td>\n",
       "      <td>2024-01-16</td>\n",
       "      <td>2024-04-15</td>\n",
       "      <td>2024</td>\n",
       "      <td>spring</td>\n",
       "    </tr>\n",
       "  </tbody>\n",
       "</table>\n",
       "</div>"
      ],
      "text/plain": [
       "   league                  id             slug   startDate     endDate  year  \\\n",
       "0     lec  112352881163915249  lec_summer_2024  2024-06-08  2024-07-28  2024   \n",
       "1     lec  111997906550466231  lec_spring_2024  2024-03-08  2024-04-15  2024   \n",
       "2     lec  111560983131400452  lec_winter_2024  2024-01-12  2024-02-19  2024   \n",
       "27    lcs  111504625283627681  lcs_spring_2024  2024-01-19  2024-04-01  2024   \n",
       "74    lck  112435564213994193  lck_summer_2024  2024-06-12  2024-09-08  2024   \n",
       "75    lck  111561337005798024  lck_spring_2024  2024-01-16  2024-04-15  2024   \n",
       "\n",
       "    season  \n",
       "0   summer  \n",
       "1   spring  \n",
       "2   winter  \n",
       "27  spring  \n",
       "74  summer  \n",
       "75  spring  "
      ]
     },
     "execution_count": 27,
     "metadata": {},
     "output_type": "execute_result"
    }
   ],
   "source": [
    "tournament_df"
   ]
  },
  {
   "cell_type": "code",
   "execution_count": 77,
   "metadata": {},
   "outputs": [],
   "source": [
    "def process_match_data(json_data):\n",
    "    new_record = dict()\n",
    "    new_record['startTime'] = json_data['startTime']\n",
    "    new_record['blockName'] = json_data['blockName']\n",
    "    new_record['league'] = json_data['league']['name']\n",
    "    new_record['match_id'] = json_data['match']['id']\n",
    "    new_record['type'] = json_data['match']['type']\n",
    "    new_record['team_1_name'] = json_data['match']['teams'][0]['name']\n",
    "    new_record['team_1_code'] = json_data['match']['teams'][0]['code']\n",
    "    new_record['team_1_result'] = json_data['match']['teams'][0]['result']['gameWins']\n",
    "    new_record['team_2_name'] = json_data['match']['teams'][1]['name']\n",
    "    new_record['team_2_code'] = json_data['match']['teams'][1]['code']\n",
    "    new_record['team_2_result'] = json_data['match']['teams'][1]['result']['gameWins']\n",
    "\n",
    "    new_record['format'] = json_data['match']['strategy']['type'] +'_'+ str(json_data['match']['strategy']['count'])\n",
    "    games_list = []\n",
    "    for g in json_data['games']:\n",
    "        games_list.append([g['id'],g['vods']])\n",
    "\n",
    "    new_record['games'] = games_list\n",
    "\n",
    "    return new_record"
   ]
  },
  {
   "cell_type": "code",
   "execution_count": 81,
   "metadata": {},
   "outputs": [],
   "source": [
    "temp_list = []\n",
    "for league in tournament_df['id']:\n",
    "    url = base_event_url.format(tournament_id = league)\n",
    "    json_data = requests.get(url,headers={'x-api-key': auth_token}).json()\n",
    "    if len(json_data['data']['schedule']['events']) == 0:\n",
    "        continue\n",
    "    \n",
    "    for event in json_data['data']['schedule']['events']:\n",
    "        new_record = process_match_data(event)\n",
    "        temp_list.append(new_record)"
   ]
  },
  {
   "cell_type": "code",
   "execution_count": 83,
   "metadata": {},
   "outputs": [],
   "source": [
    "\n",
    "event_df = pd.DataFrame.from_dict(temp_list)"
   ]
  },
  {
   "cell_type": "code",
   "execution_count": 86,
   "metadata": {},
   "outputs": [],
   "source": [
    "event_df.to_csv('../data/event.csv',index=False)"
   ]
  }
 ],
 "metadata": {
  "kernelspec": {
   "display_name": "predictorEnv",
   "language": "python",
   "name": "python3"
  },
  "language_info": {
   "codemirror_mode": {
    "name": "ipython",
    "version": 3
   },
   "file_extension": ".py",
   "mimetype": "text/x-python",
   "name": "python",
   "nbconvert_exporter": "python",
   "pygments_lexer": "ipython3",
   "version": "3.11.9"
  }
 },
 "nbformat": 4,
 "nbformat_minor": 2
}
