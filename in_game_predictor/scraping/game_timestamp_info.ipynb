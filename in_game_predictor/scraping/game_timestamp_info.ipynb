{
 "cells": [
  {
   "cell_type": "code",
   "execution_count": 2,
   "metadata": {},
   "outputs": [],
   "source": [
    "import pandas as pd\n",
    "import requests\n",
    "import json"
   ]
  },
  {
   "cell_type": "code",
   "execution_count": null,
   "metadata": {},
   "outputs": [],
   "source": [
    "url = 'https://feed.lolesports.com/livestats/v1/window/111997906552170251?startingTime=2024-03-09T19:45:50.000Z'"
   ]
  },
  {
   "cell_type": "code",
   "execution_count": null,
   "metadata": {},
   "outputs": [],
   "source": [
    "url2 = \"https://feed.lolesports.com/livestats/v1/window/111997906552170251?startingTime=2024-03-09T20:02:50.000Z\""
   ]
  },
  {
   "cell_type": "code",
   "execution_count": null,
   "metadata": {},
   "outputs": [],
   "source": [
    "data = requests.get(url)\n",
    "json_data2 = requests.get('https://feed.lolesports.com/livestats/v1/window/111997906552170251?startingTime=2024-03-09T20:02:50.000Z').json()"
   ]
  },
  {
   "cell_type": "code",
   "execution_count": 11,
   "metadata": {},
   "outputs": [
    {
     "name": "stdout",
     "output_type": "stream",
     "text": [
      "10\n",
      "[{'rfc460Timestamp': '2024-03-09T19:49:15.319Z', 'gameState': 'in_game', 'blueTeam': {'totalGold': 4785, 'inhibitors': 0, 'towers': 0, 'barons': 0, 'totalKills': 0, 'dragons': [], 'participants': [{'participantId': 1, 'totalGold': 1002, 'level': 3, 'kills': 0, 'deaths': 0, 'assists': 0, 'creepScore': 13, 'currentHealth': 621, 'maxHealth': 928}, {'participantId': 2, 'totalGold': 961, 'level': 3, 'kills': 0, 'deaths': 0, 'assists': 0, 'creepScore': 12, 'currentHealth': 741, 'maxHealth': 866}, {'participantId': 3, 'totalGold': 1043, 'level': 3, 'kills': 0, 'deaths': 0, 'assists': 0, 'creepScore': 19, 'currentHealth': 610, 'maxHealth': 858}, {'participantId': 4, 'totalGold': 980, 'level': 2, 'kills': 0, 'deaths': 0, 'assists': 0, 'creepScore': 16, 'currentHealth': 391, 'maxHealth': 840}, {'participantId': 5, 'totalGold': 799, 'level': 2, 'kills': 0, 'deaths': 0, 'assists': 0, 'creepScore': 3, 'currentHealth': 590, 'maxHealth': 805}]}, 'redTeam': {'totalGold': 4585, 'inhibitors': 0, 'towers': 0, 'barons': 0, 'totalKills': 0, 'dragons': [], 'participants': [{'participantId': 6, 'totalGold': 1022, 'level': 3, 'kills': 0, 'deaths': 0, 'assists': 0, 'creepScore': 18, 'currentHealth': 689, 'maxHealth': 915}, {'participantId': 7, 'totalGold': 1011, 'level': 3, 'kills': 0, 'deaths': 0, 'assists': 0, 'creepScore': 15, 'currentHealth': 686, 'maxHealth': 826}, {'participantId': 8, 'totalGold': 994, 'level': 3, 'kills': 0, 'deaths': 0, 'assists': 0, 'creepScore': 16, 'currentHealth': 402, 'maxHealth': 833}, {'participantId': 9, 'totalGold': 794, 'level': 2, 'kills': 0, 'deaths': 0, 'assists': 0, 'creepScore': 7, 'currentHealth': 779, 'maxHealth': 877}, {'participantId': 10, 'totalGold': 764, 'level': 3, 'kills': 0, 'deaths': 0, 'assists': 0, 'creepScore': 2, 'currentHealth': 753, 'maxHealth': 918}]}}, {'rfc460Timestamp': '2024-03-09T19:49:15.470Z', 'gameState': 'in_game', 'blueTeam': {'totalGold': 4785, 'inhibitors': 0, 'towers': 0, 'barons': 0, 'totalKills': 0, 'dragons': [], 'participants': [{'participantId': 1, 'totalGold': 1002, 'level': 3, 'kills': 0, 'deaths': 0, 'assists': 0, 'creepScore': 13, 'currentHealth': 621, 'maxHealth': 928}, {'participantId': 2, 'totalGold': 961, 'level': 3, 'kills': 0, 'deaths': 0, 'assists': 0, 'creepScore': 12, 'currentHealth': 741, 'maxHealth': 866}, {'participantId': 3, 'totalGold': 1043, 'level': 3, 'kills': 0, 'deaths': 0, 'assists': 0, 'creepScore': 19, 'currentHealth': 610, 'maxHealth': 858}, {'participantId': 4, 'totalGold': 980, 'level': 2, 'kills': 0, 'deaths': 0, 'assists': 0, 'creepScore': 16, 'currentHealth': 391, 'maxHealth': 840}, {'participantId': 5, 'totalGold': 799, 'level': 2, 'kills': 0, 'deaths': 0, 'assists': 0, 'creepScore': 3, 'currentHealth': 590, 'maxHealth': 805}]}, 'redTeam': {'totalGold': 4585, 'inhibitors': 0, 'towers': 0, 'barons': 0, 'totalKills': 0, 'dragons': [], 'participants': [{'participantId': 6, 'totalGold': 1022, 'level': 3, 'kills': 0, 'deaths': 0, 'assists': 0, 'creepScore': 18, 'currentHealth': 689, 'maxHealth': 915}, {'participantId': 7, 'totalGold': 1011, 'level': 3, 'kills': 0, 'deaths': 0, 'assists': 0, 'creepScore': 15, 'currentHealth': 686, 'maxHealth': 826}, {'participantId': 8, 'totalGold': 994, 'level': 3, 'kills': 0, 'deaths': 0, 'assists': 0, 'creepScore': 16, 'currentHealth': 402, 'maxHealth': 833}, {'participantId': 9, 'totalGold': 794, 'level': 2, 'kills': 0, 'deaths': 0, 'assists': 0, 'creepScore': 7, 'currentHealth': 779, 'maxHealth': 877}, {'participantId': 10, 'totalGold': 764, 'level': 3, 'kills': 0, 'deaths': 0, 'assists': 0, 'creepScore': 2, 'currentHealth': 753, 'maxHealth': 918}]}}, {'rfc460Timestamp': '2024-03-09T19:49:16.018Z', 'gameState': 'in_game', 'blueTeam': {'totalGold': 4796, 'inhibitors': 0, 'towers': 0, 'barons': 0, 'totalKills': 0, 'dragons': [], 'participants': [{'participantId': 1, 'totalGold': 1004, 'level': 3, 'kills': 0, 'deaths': 0, 'assists': 0, 'creepScore': 13, 'currentHealth': 622, 'maxHealth': 928}, {'participantId': 2, 'totalGold': 963, 'level': 3, 'kills': 0, 'deaths': 0, 'assists': 0, 'creepScore': 12, 'currentHealth': 744, 'maxHealth': 866}, {'participantId': 3, 'totalGold': 1045, 'level': 3, 'kills': 0, 'deaths': 0, 'assists': 0, 'creepScore': 19, 'currentHealth': 612, 'maxHealth': 858}, {'participantId': 4, 'totalGold': 982, 'level': 2, 'kills': 0, 'deaths': 0, 'assists': 0, 'creepScore': 16, 'currentHealth': 392, 'maxHealth': 840}, {'participantId': 5, 'totalGold': 802, 'level': 2, 'kills': 0, 'deaths': 0, 'assists': 0, 'creepScore': 3, 'currentHealth': 593, 'maxHealth': 805}]}, 'redTeam': {'totalGold': 4637, 'inhibitors': 0, 'towers': 0, 'barons': 0, 'totalKills': 0, 'dragons': [], 'participants': [{'participantId': 6, 'totalGold': 1024, 'level': 3, 'kills': 0, 'deaths': 0, 'assists': 0, 'creepScore': 18, 'currentHealth': 681, 'maxHealth': 915}, {'participantId': 7, 'totalGold': 1013, 'level': 3, 'kills': 0, 'deaths': 0, 'assists': 0, 'creepScore': 15, 'currentHealth': 688, 'maxHealth': 826}, {'participantId': 8, 'totalGold': 996, 'level': 3, 'kills': 0, 'deaths': 0, 'assists': 0, 'creepScore': 16, 'currentHealth': 402, 'maxHealth': 833}, {'participantId': 9, 'totalGold': 817, 'level': 2, 'kills': 0, 'deaths': 0, 'assists': 0, 'creepScore': 8, 'currentHealth': 783, 'maxHealth': 877}, {'participantId': 10, 'totalGold': 787, 'level': 3, 'kills': 0, 'deaths': 0, 'assists': 0, 'creepScore': 3, 'currentHealth': 755, 'maxHealth': 918}]}}, {'rfc460Timestamp': '2024-03-09T19:49:17.014Z', 'gameState': 'in_game', 'blueTeam': {'totalGold': 4806, 'inhibitors': 0, 'towers': 0, 'barons': 0, 'totalKills': 0, 'dragons': [], 'participants': [{'participantId': 1, 'totalGold': 1006, 'level': 3, 'kills': 0, 'deaths': 0, 'assists': 0, 'creepScore': 13, 'currentHealth': 624, 'maxHealth': 928}, {'participantId': 2, 'totalGold': 965, 'level': 3, 'kills': 0, 'deaths': 0, 'assists': 0, 'creepScore': 12, 'currentHealth': 748, 'maxHealth': 866}, {'participantId': 3, 'totalGold': 1047, 'level': 3, 'kills': 0, 'deaths': 0, 'assists': 0, 'creepScore': 19, 'currentHealth': 613, 'maxHealth': 858}, {'participantId': 4, 'totalGold': 984, 'level': 2, 'kills': 0, 'deaths': 0, 'assists': 0, 'creepScore': 16, 'currentHealth': 392, 'maxHealth': 840}, {'participantId': 5, 'totalGold': 804, 'level': 2, 'kills': 0, 'deaths': 0, 'assists': 0, 'creepScore': 3, 'currentHealth': 595, 'maxHealth': 805}]}, 'redTeam': {'totalGold': 4696, 'inhibitors': 0, 'towers': 0, 'barons': 0, 'totalKills': 0, 'dragons': [], 'participants': [{'participantId': 6, 'totalGold': 1047, 'level': 3, 'kills': 0, 'deaths': 0, 'assists': 0, 'creepScore': 19, 'currentHealth': 686, 'maxHealth': 915}, {'participantId': 7, 'totalGold': 1015, 'level': 3, 'kills': 0, 'deaths': 0, 'assists': 0, 'creepScore': 15, 'currentHealth': 689, 'maxHealth': 826}, {'participantId': 8, 'totalGold': 1026, 'level': 3, 'kills': 0, 'deaths': 0, 'assists': 0, 'creepScore': 18, 'currentHealth': 450, 'maxHealth': 833}, {'participantId': 9, 'totalGold': 819, 'level': 2, 'kills': 0, 'deaths': 0, 'assists': 0, 'creepScore': 8, 'currentHealth': 783, 'maxHealth': 877}, {'participantId': 10, 'totalGold': 789, 'level': 3, 'kills': 0, 'deaths': 0, 'assists': 0, 'creepScore': 3, 'currentHealth': 757, 'maxHealth': 918}]}}, {'rfc460Timestamp': '2024-03-09T19:49:17.049Z', 'gameState': 'in_game', 'blueTeam': {'totalGold': 4806, 'inhibitors': 0, 'towers': 0, 'barons': 0, 'totalKills': 0, 'dragons': [], 'participants': [{'participantId': 1, 'totalGold': 1006, 'level': 3, 'kills': 0, 'deaths': 0, 'assists': 0, 'creepScore': 13, 'currentHealth': 624, 'maxHealth': 928}, {'participantId': 2, 'totalGold': 965, 'level': 3, 'kills': 0, 'deaths': 0, 'assists': 0, 'creepScore': 12, 'currentHealth': 748, 'maxHealth': 866}, {'participantId': 3, 'totalGold': 1047, 'level': 4, 'kills': 0, 'deaths': 0, 'assists': 0, 'creepScore': 19, 'currentHealth': 613, 'maxHealth': 858}, {'participantId': 4, 'totalGold': 984, 'level': 2, 'kills': 0, 'deaths': 0, 'assists': 0, 'creepScore': 16, 'currentHealth': 392, 'maxHealth': 840}, {'participantId': 5, 'totalGold': 804, 'level': 2, 'kills': 0, 'deaths': 0, 'assists': 0, 'creepScore': 3, 'currentHealth': 595, 'maxHealth': 805}]}, 'redTeam': {'totalGold': 4696, 'inhibitors': 0, 'towers': 0, 'barons': 0, 'totalKills': 0, 'dragons': [], 'participants': [{'participantId': 6, 'totalGold': 1047, 'level': 3, 'kills': 0, 'deaths': 0, 'assists': 0, 'creepScore': 19, 'currentHealth': 686, 'maxHealth': 915}, {'participantId': 7, 'totalGold': 1015, 'level': 3, 'kills': 0, 'deaths': 0, 'assists': 0, 'creepScore': 15, 'currentHealth': 689, 'maxHealth': 826}, {'participantId': 8, 'totalGold': 1026, 'level': 3, 'kills': 0, 'deaths': 0, 'assists': 0, 'creepScore': 18, 'currentHealth': 450, 'maxHealth': 833}, {'participantId': 9, 'totalGold': 819, 'level': 2, 'kills': 0, 'deaths': 0, 'assists': 0, 'creepScore': 8, 'currentHealth': 783, 'maxHealth': 877}, {'participantId': 10, 'totalGold': 789, 'level': 3, 'kills': 0, 'deaths': 0, 'assists': 0, 'creepScore': 3, 'currentHealth': 757, 'maxHealth': 918}]}}, {'rfc460Timestamp': '2024-03-09T19:49:17.452Z', 'gameState': 'in_game', 'blueTeam': {'totalGold': 4806, 'inhibitors': 0, 'towers': 0, 'barons': 0, 'totalKills': 0, 'dragons': [], 'participants': [{'participantId': 1, 'totalGold': 1006, 'level': 3, 'kills': 0, 'deaths': 0, 'assists': 0, 'creepScore': 13, 'currentHealth': 624, 'maxHealth': 928}, {'participantId': 2, 'totalGold': 965, 'level': 3, 'kills': 0, 'deaths': 0, 'assists': 0, 'creepScore': 12, 'currentHealth': 748, 'maxHealth': 866}, {'participantId': 3, 'totalGold': 1047, 'level': 4, 'kills': 0, 'deaths': 0, 'assists': 0, 'creepScore': 19, 'currentHealth': 613, 'maxHealth': 858}, {'participantId': 4, 'totalGold': 984, 'level': 2, 'kills': 0, 'deaths': 0, 'assists': 0, 'creepScore': 16, 'currentHealth': 392, 'maxHealth': 840}, {'participantId': 5, 'totalGold': 804, 'level': 2, 'kills': 0, 'deaths': 0, 'assists': 0, 'creepScore': 3, 'currentHealth': 595, 'maxHealth': 805}]}, 'redTeam': {'totalGold': 4696, 'inhibitors': 0, 'towers': 0, 'barons': 0, 'totalKills': 0, 'dragons': [], 'participants': [{'participantId': 6, 'totalGold': 1047, 'level': 3, 'kills': 0, 'deaths': 0, 'assists': 0, 'creepScore': 19, 'currentHealth': 686, 'maxHealth': 915}, {'participantId': 7, 'totalGold': 1015, 'level': 3, 'kills': 0, 'deaths': 0, 'assists': 0, 'creepScore': 15, 'currentHealth': 689, 'maxHealth': 826}, {'participantId': 8, 'totalGold': 1026, 'level': 3, 'kills': 0, 'deaths': 0, 'assists': 0, 'creepScore': 18, 'currentHealth': 450, 'maxHealth': 833}, {'participantId': 9, 'totalGold': 819, 'level': 2, 'kills': 0, 'deaths': 0, 'assists': 0, 'creepScore': 8, 'currentHealth': 783, 'maxHealth': 877}, {'participantId': 10, 'totalGold': 789, 'level': 3, 'kills': 0, 'deaths': 0, 'assists': 0, 'creepScore': 3, 'currentHealth': 757, 'maxHealth': 918}]}}, {'rfc460Timestamp': '2024-03-09T19:49:17.483Z', 'gameState': 'in_game', 'blueTeam': {'totalGold': 4806, 'inhibitors': 0, 'towers': 0, 'barons': 0, 'totalKills': 0, 'dragons': [], 'participants': [{'participantId': 1, 'totalGold': 1006, 'level': 3, 'kills': 0, 'deaths': 0, 'assists': 0, 'creepScore': 13, 'currentHealth': 624, 'maxHealth': 928}, {'participantId': 2, 'totalGold': 965, 'level': 3, 'kills': 0, 'deaths': 0, 'assists': 0, 'creepScore': 12, 'currentHealth': 748, 'maxHealth': 866}, {'participantId': 3, 'totalGold': 1047, 'level': 4, 'kills': 0, 'deaths': 0, 'assists': 0, 'creepScore': 19, 'currentHealth': 613, 'maxHealth': 858}, {'participantId': 4, 'totalGold': 984, 'level': 2, 'kills': 0, 'deaths': 0, 'assists': 0, 'creepScore': 16, 'currentHealth': 392, 'maxHealth': 840}, {'participantId': 5, 'totalGold': 804, 'level': 2, 'kills': 0, 'deaths': 0, 'assists': 0, 'creepScore': 3, 'currentHealth': 595, 'maxHealth': 805}]}, 'redTeam': {'totalGold': 4696, 'inhibitors': 0, 'towers': 0, 'barons': 0, 'totalKills': 0, 'dragons': [], 'participants': [{'participantId': 6, 'totalGold': 1047, 'level': 3, 'kills': 0, 'deaths': 0, 'assists': 0, 'creepScore': 19, 'currentHealth': 686, 'maxHealth': 915}, {'participantId': 7, 'totalGold': 1015, 'level': 3, 'kills': 0, 'deaths': 0, 'assists': 0, 'creepScore': 15, 'currentHealth': 689, 'maxHealth': 826}, {'participantId': 8, 'totalGold': 1026, 'level': 3, 'kills': 0, 'deaths': 0, 'assists': 0, 'creepScore': 18, 'currentHealth': 450, 'maxHealth': 833}, {'participantId': 9, 'totalGold': 819, 'level': 2, 'kills': 0, 'deaths': 0, 'assists': 0, 'creepScore': 8, 'currentHealth': 783, 'maxHealth': 877}, {'participantId': 10, 'totalGold': 789, 'level': 3, 'kills': 0, 'deaths': 0, 'assists': 0, 'creepScore': 3, 'currentHealth': 757, 'maxHealth': 918}]}}, {'rfc460Timestamp': '2024-03-09T19:49:18.020Z', 'gameState': 'in_game', 'blueTeam': {'totalGold': 4830, 'inhibitors': 0, 'towers': 0, 'barons': 0, 'totalKills': 0, 'dragons': [], 'participants': [{'participantId': 1, 'totalGold': 1008, 'level': 3, 'kills': 0, 'deaths': 0, 'assists': 0, 'creepScore': 13, 'currentHealth': 625, 'maxHealth': 928}, {'participantId': 2, 'totalGold': 967, 'level': 3, 'kills': 0, 'deaths': 0, 'assists': 0, 'creepScore': 12, 'currentHealth': 751, 'maxHealth': 866}, {'participantId': 3, 'totalGold': 1063, 'level': 4, 'kills': 0, 'deaths': 0, 'assists': 0, 'creepScore': 20, 'currentHealth': 697, 'maxHealth': 940}, {'participantId': 4, 'totalGold': 986, 'level': 2, 'kills': 0, 'deaths': 0, 'assists': 0, 'creepScore': 16, 'currentHealth': 393, 'maxHealth': 840}, {'participantId': 5, 'totalGold': 806, 'level': 2, 'kills': 0, 'deaths': 0, 'assists': 0, 'creepScore': 3, 'currentHealth': 597, 'maxHealth': 805}]}, 'redTeam': {'totalGold': 4706, 'inhibitors': 0, 'towers': 0, 'barons': 0, 'totalKills': 0, 'dragons': [], 'participants': [{'participantId': 6, 'totalGold': 1049, 'level': 3, 'kills': 0, 'deaths': 0, 'assists': 0, 'creepScore': 19, 'currentHealth': 690, 'maxHealth': 915}, {'participantId': 7, 'totalGold': 1017, 'level': 3, 'kills': 0, 'deaths': 0, 'assists': 0, 'creepScore': 15, 'currentHealth': 691, 'maxHealth': 826}, {'participantId': 8, 'totalGold': 1028, 'level': 3, 'kills': 0, 'deaths': 0, 'assists': 0, 'creepScore': 18, 'currentHealth': 451, 'maxHealth': 833}, {'participantId': 9, 'totalGold': 821, 'level': 2, 'kills': 0, 'deaths': 0, 'assists': 0, 'creepScore': 8, 'currentHealth': 787, 'maxHealth': 877}, {'participantId': 10, 'totalGold': 791, 'level': 3, 'kills': 0, 'deaths': 0, 'assists': 0, 'creepScore': 3, 'currentHealth': 760, 'maxHealth': 918}]}}, {'rfc460Timestamp': '2024-03-09T19:49:18.452Z', 'gameState': 'paused', 'blueTeam': {'totalGold': 4830, 'inhibitors': 0, 'towers': 0, 'barons': 0, 'totalKills': 0, 'dragons': [], 'participants': [{'participantId': 1, 'totalGold': 1008, 'level': 3, 'kills': 0, 'deaths': 0, 'assists': 0, 'creepScore': 13, 'currentHealth': 625, 'maxHealth': 928}, {'participantId': 2, 'totalGold': 967, 'level': 3, 'kills': 0, 'deaths': 0, 'assists': 0, 'creepScore': 12, 'currentHealth': 751, 'maxHealth': 866}, {'participantId': 3, 'totalGold': 1063, 'level': 4, 'kills': 0, 'deaths': 0, 'assists': 0, 'creepScore': 20, 'currentHealth': 697, 'maxHealth': 940}, {'participantId': 4, 'totalGold': 986, 'level': 2, 'kills': 0, 'deaths': 0, 'assists': 0, 'creepScore': 16, 'currentHealth': 393, 'maxHealth': 840}, {'participantId': 5, 'totalGold': 806, 'level': 2, 'kills': 0, 'deaths': 0, 'assists': 0, 'creepScore': 3, 'currentHealth': 597, 'maxHealth': 805}]}, 'redTeam': {'totalGold': 4706, 'inhibitors': 0, 'towers': 0, 'barons': 0, 'totalKills': 0, 'dragons': [], 'participants': [{'participantId': 6, 'totalGold': 1049, 'level': 3, 'kills': 0, 'deaths': 0, 'assists': 0, 'creepScore': 19, 'currentHealth': 690, 'maxHealth': 915}, {'participantId': 7, 'totalGold': 1017, 'level': 3, 'kills': 0, 'deaths': 0, 'assists': 0, 'creepScore': 15, 'currentHealth': 691, 'maxHealth': 826}, {'participantId': 8, 'totalGold': 1028, 'level': 3, 'kills': 0, 'deaths': 0, 'assists': 0, 'creepScore': 18, 'currentHealth': 451, 'maxHealth': 833}, {'participantId': 9, 'totalGold': 821, 'level': 2, 'kills': 0, 'deaths': 0, 'assists': 0, 'creepScore': 8, 'currentHealth': 787, 'maxHealth': 877}, {'participantId': 10, 'totalGold': 791, 'level': 3, 'kills': 0, 'deaths': 0, 'assists': 0, 'creepScore': 3, 'currentHealth': 760, 'maxHealth': 918}]}}, {'rfc460Timestamp': '2024-03-09T19:49:18.550Z', 'gameState': 'paused', 'blueTeam': {'totalGold': 4830, 'inhibitors': 0, 'towers': 0, 'barons': 0, 'totalKills': 0, 'dragons': [], 'participants': [{'participantId': 1, 'totalGold': 1008, 'level': 3, 'kills': 0, 'deaths': 0, 'assists': 0, 'creepScore': 13, 'currentHealth': 625, 'maxHealth': 928}, {'participantId': 2, 'totalGold': 967, 'level': 3, 'kills': 0, 'deaths': 0, 'assists': 0, 'creepScore': 12, 'currentHealth': 751, 'maxHealth': 866}, {'participantId': 3, 'totalGold': 1063, 'level': 4, 'kills': 0, 'deaths': 0, 'assists': 0, 'creepScore': 20, 'currentHealth': 697, 'maxHealth': 940}, {'participantId': 4, 'totalGold': 986, 'level': 2, 'kills': 0, 'deaths': 0, 'assists': 0, 'creepScore': 16, 'currentHealth': 393, 'maxHealth': 840}, {'participantId': 5, 'totalGold': 806, 'level': 2, 'kills': 0, 'deaths': 0, 'assists': 0, 'creepScore': 3, 'currentHealth': 597, 'maxHealth': 805}]}, 'redTeam': {'totalGold': 4706, 'inhibitors': 0, 'towers': 0, 'barons': 0, 'totalKills': 0, 'dragons': [], 'participants': [{'participantId': 6, 'totalGold': 1049, 'level': 3, 'kills': 0, 'deaths': 0, 'assists': 0, 'creepScore': 19, 'currentHealth': 690, 'maxHealth': 915}, {'participantId': 7, 'totalGold': 1017, 'level': 3, 'kills': 0, 'deaths': 0, 'assists': 0, 'creepScore': 15, 'currentHealth': 691, 'maxHealth': 826}, {'participantId': 8, 'totalGold': 1028, 'level': 3, 'kills': 0, 'deaths': 0, 'assists': 0, 'creepScore': 18, 'currentHealth': 451, 'maxHealth': 833}, {'participantId': 9, 'totalGold': 821, 'level': 2, 'kills': 0, 'deaths': 0, 'assists': 0, 'creepScore': 8, 'currentHealth': 787, 'maxHealth': 877}, {'participantId': 10, 'totalGold': 791, 'level': 3, 'kills': 0, 'deaths': 0, 'assists': 0, 'creepScore': 3, 'currentHealth': 760, 'maxHealth': 918}]}}]\n"
     ]
    }
   ],
   "source": [
    "frames = requests.get('https://feed.lolesports.com/livestats/v1/window/111997906552170251?startingTime=2024-03-09T19:50:50.000Z').json()['frames']\n",
    "print(len(frames))\n",
    "print(frames)"
   ]
  },
  {
   "cell_type": "code",
   "execution_count": null,
   "metadata": {},
   "outputs": [],
   "source": [
    "import torch\n",
    "torch.cuda.is_available()"
   ]
  },
  {
   "cell_type": "code",
   "execution_count": null,
   "metadata": {},
   "outputs": [],
   "source": [
    "json_data = data.json()\n",
    "json_data.keys()"
   ]
  },
  {
   "cell_type": "code",
   "execution_count": null,
   "metadata": {},
   "outputs": [],
   "source": [
    "len(json_data['frames'])"
   ]
  },
  {
   "cell_type": "code",
   "execution_count": null,
   "metadata": {},
   "outputs": [],
   "source": [
    "len(json_data2['frames'])"
   ]
  }
 ],
 "metadata": {
  "kernelspec": {
   "display_name": "predictorEnv",
   "language": "python",
   "name": "python3"
  },
  "language_info": {
   "codemirror_mode": {
    "name": "ipython",
    "version": 3
   },
   "file_extension": ".py",
   "mimetype": "text/x-python",
   "name": "python",
   "nbconvert_exporter": "python",
   "pygments_lexer": "ipython3",
   "version": "3.11.9"
  }
 },
 "nbformat": 4,
 "nbformat_minor": 2
}
