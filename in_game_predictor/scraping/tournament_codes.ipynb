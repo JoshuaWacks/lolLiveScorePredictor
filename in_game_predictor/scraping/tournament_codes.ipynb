{
 "cells": [
  {
   "cell_type": "code",
   "execution_count": 1,
   "metadata": {},
   "outputs": [],
   "source": [
    "import pandas as pd\n",
    "import requests"
   ]
  },
  {
   "cell_type": "code",
   "execution_count": 2,
   "metadata": {},
   "outputs": [],
   "source": [
    "get_leagues_url = 'https://esports-api.lolesports.com/persisted/gw/getTournamentsForLeague?hl=en-GB'\n",
    "auth_token = '0TvQnueqKa5mxJntVWt0w4LpLfEkrV1Ta8rQBb9Z'"
   ]
  },
  {
   "cell_type": "code",
   "execution_count": 3,
   "metadata": {},
   "outputs": [],
   "source": [
    "json_data = requests.get(get_leagues_url,headers={'x-api-key': auth_token}).json()"
   ]
  },
  {
   "cell_type": "code",
   "execution_count": 20,
   "metadata": {},
   "outputs": [
    {
     "data": {
      "text/plain": [
       "2024"
      ]
     },
     "execution_count": 20,
     "metadata": {},
     "output_type": "execute_result"
    }
   ],
   "source": [
    "d = pd.Timestamp('2024-06-08')\n",
    "d.year"
   ]
  },
  {
   "cell_type": "code",
   "execution_count": 21,
   "metadata": {},
   "outputs": [],
   "source": [
    "temp_list = []\n",
    "for tour in json_data['data']['leagues']:\n",
    "    info = tour['tournaments']\n",
    "    for season in info:\n",
    "        split_info = season['slug'].split('_')\n",
    "        league = split_info[0]\n",
    "\n",
    "        if len(split_info) > 1:\n",
    "            season_spe = split_info[1]\n",
    "            year = split_info[-1]\n",
    "\n",
    "        else:\n",
    "            season_spe = ''\n",
    "            year = 0\n",
    "\n",
    "        start_date = pd.Timestamp(season['startDate'])\n",
    "        end_date = pd.Timestamp(season['endDate'])\n",
    "        new_row = {'league':league,'id': season['id'],'slug': season['slug'],'startDate':start_date,'endDate':end_date,'year':year,'season':season_spe}\n",
    "        temp_list.append(new_row)\n",
    "\n",
    "tournament_df = pd.DataFrame.from_dict(temp_list)"
   ]
  },
  {
   "cell_type": "code",
   "execution_count": 28,
   "metadata": {},
   "outputs": [],
   "source": [
    "tournament_df.to_csv('../data/tournament_codes.csv',index=False)"
   ]
  }
 ],
 "metadata": {
  "kernelspec": {
   "display_name": "predictorEnv",
   "language": "python",
   "name": "python3"
  },
  "language_info": {
   "codemirror_mode": {
    "name": "ipython",
    "version": 3
   },
   "file_extension": ".py",
   "mimetype": "text/x-python",
   "name": "python",
   "nbconvert_exporter": "python",
   "pygments_lexer": "ipython3",
   "version": "3.11.9"
  }
 },
 "nbformat": 4,
 "nbformat_minor": 2
}
